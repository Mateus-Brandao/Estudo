{
  "nbformat": 4,
  "nbformat_minor": 0,
  "metadata": {
    "colab": {
      "name": "Word2Vec - Word Embedding.ipynb",
      "provenance": [],
      "collapsed_sections": [],
      "mount_file_id": "1CnJM9VzBnaMuADYJROH6VEnTC7zFsqUy",
      "authorship_tag": "ABX9TyPYoYko1I90UKlnmExNQNLM",
      "include_colab_link": true
    },
    "kernelspec": {
      "name": "python3",
      "display_name": "Python 3"
    },
    "language_info": {
      "name": "python"
    }
  },
  "cells": [
    {
      "cell_type": "markdown",
      "metadata": {
        "id": "view-in-github",
        "colab_type": "text"
      },
      "source": [
        "<a href=\"https://colab.research.google.com/github/Mateus-Brandao/Estudo/blob/main/Word2Vec_Word_Embedding.ipynb\" target=\"_parent\"><img src=\"https://colab.research.google.com/assets/colab-badge.svg\" alt=\"Open In Colab\"/></a>"
      ]
    },
    {
      "cell_type": "code",
      "execution_count": null,
      "metadata": {
        "id": "z6lb_CTzezFh"
      },
      "outputs": [],
      "source": [
        "import pandas as pd\n",
        "import numpy as np\n",
        "import spacy"
      ]
    },
    {
      "cell_type": "code",
      "source": [
        "!unzip /content/drive/MyDrive/AulasAlura/Word2VecWordEmbedding/treino.zip\n",
        "!unzip /content/drive/MyDrive/AulasAlura/Word2VecWordEmbedding/teste.zip"
      ],
      "metadata": {
        "colab": {
          "base_uri": "https://localhost:8080/"
        },
        "id": "nVHnEOyeN7kG",
        "outputId": "081a9ab7-f490-401f-afe5-0486445491e3"
      },
      "execution_count": null,
      "outputs": [
        {
          "output_type": "stream",
          "name": "stdout",
          "text": [
            "Archive:  /content/drive/MyDrive/AulasAlura/Word2VecWordEmbedding/treino.zip\n",
            "  inflating: treino.csv              \n",
            "Archive:  /content/drive/MyDrive/AulasAlura/Word2VecWordEmbedding/teste.zip\n",
            "  inflating: teste.csv               \n"
          ]
        }
      ]
    },
    {
      "cell_type": "code",
      "source": [
        "dados_teste = pd.read_csv('teste.csv')\n",
        "dados_treino = pd.read_csv('treino.csv')"
      ],
      "metadata": {
        "id": "_QMCE0fmIVLv"
      },
      "execution_count": null,
      "outputs": []
    },
    {
      "cell_type": "code",
      "source": [
        "\"\"\"\n",
        "!pip install -U pip setuptools wheel\n",
        "!pip install -U spacy\n",
        "!python -m spacy download pt_core_news_sm\n",
        "\"\"\""
      ],
      "metadata": {
        "colab": {
          "base_uri": "https://localhost:8080/",
          "height": 35
        },
        "id": "mB03I80dJ-YI",
        "outputId": "09516f5d-9b98-48df-f181-a1b12bb5d49a"
      },
      "execution_count": null,
      "outputs": [
        {
          "output_type": "execute_result",
          "data": {
            "text/plain": [
              "'\\n!pip install -U pip setuptools wheel\\n!pip install -U spacy\\n!python -m spacy download pt_core_news_sm\\n!python -m spacy download pt_core_news_lg\\n'"
            ],
            "application/vnd.google.colaboratory.intrinsic+json": {
              "type": "string"
            }
          },
          "metadata": {},
          "execution_count": 3
        }
      ]
    },
    {
      "cell_type": "code",
      "source": [
        "!python -m spacy download pt_core_news_sm"
      ],
      "metadata": {
        "colab": {
          "base_uri": "https://localhost:8080/"
        },
        "id": "ZVPaMEzLQQc0",
        "outputId": "653c9e25-871e-48cd-c7fb-f0d6a13cb91a"
      },
      "execution_count": null,
      "outputs": [
        {
          "output_type": "stream",
          "name": "stdout",
          "text": [
            "Looking in indexes: https://pypi.org/simple, https://us-python.pkg.dev/colab-wheels/public/simple/\n",
            "Collecting pt-core-news-sm==3.3.0\n",
            "  Downloading https://github.com/explosion/spacy-models/releases/download/pt_core_news_sm-3.3.0/pt_core_news_sm-3.3.0-py3-none-any.whl (13.0 MB)\n",
            "\u001b[K     |████████████████████████████████| 13.0 MB 27.3 MB/s \n",
            "\u001b[?25hRequirement already satisfied: spacy<3.4.0,>=3.3.0.dev0 in /usr/local/lib/python3.7/dist-packages (from pt-core-news-sm==3.3.0) (3.3.1)\n",
            "Requirement already satisfied: packaging>=20.0 in /usr/local/lib/python3.7/dist-packages (from spacy<3.4.0,>=3.3.0.dev0->pt-core-news-sm==3.3.0) (21.3)\n",
            "Requirement already satisfied: pydantic!=1.8,!=1.8.1,<1.9.0,>=1.7.4 in /usr/local/lib/python3.7/dist-packages (from spacy<3.4.0,>=3.3.0.dev0->pt-core-news-sm==3.3.0) (1.8.2)\n",
            "Requirement already satisfied: numpy>=1.15.0 in /usr/local/lib/python3.7/dist-packages (from spacy<3.4.0,>=3.3.0.dev0->pt-core-news-sm==3.3.0) (1.21.6)\n",
            "Requirement already satisfied: cymem<2.1.0,>=2.0.2 in /usr/local/lib/python3.7/dist-packages (from spacy<3.4.0,>=3.3.0.dev0->pt-core-news-sm==3.3.0) (2.0.6)\n",
            "Requirement already satisfied: wasabi<1.1.0,>=0.9.1 in /usr/local/lib/python3.7/dist-packages (from spacy<3.4.0,>=3.3.0.dev0->pt-core-news-sm==3.3.0) (0.9.1)\n",
            "Requirement already satisfied: thinc<8.1.0,>=8.0.14 in /usr/local/lib/python3.7/dist-packages (from spacy<3.4.0,>=3.3.0.dev0->pt-core-news-sm==3.3.0) (8.0.17)\n",
            "Requirement already satisfied: blis<0.8.0,>=0.4.0 in /usr/local/lib/python3.7/dist-packages (from spacy<3.4.0,>=3.3.0.dev0->pt-core-news-sm==3.3.0) (0.7.8)\n",
            "Requirement already satisfied: tqdm<5.0.0,>=4.38.0 in /usr/local/lib/python3.7/dist-packages (from spacy<3.4.0,>=3.3.0.dev0->pt-core-news-sm==3.3.0) (4.64.0)\n",
            "Requirement already satisfied: srsly<3.0.0,>=2.4.3 in /usr/local/lib/python3.7/dist-packages (from spacy<3.4.0,>=3.3.0.dev0->pt-core-news-sm==3.3.0) (2.4.3)\n",
            "Requirement already satisfied: setuptools in /usr/local/lib/python3.7/dist-packages (from spacy<3.4.0,>=3.3.0.dev0->pt-core-news-sm==3.3.0) (57.4.0)\n",
            "Requirement already satisfied: preshed<3.1.0,>=3.0.2 in /usr/local/lib/python3.7/dist-packages (from spacy<3.4.0,>=3.3.0.dev0->pt-core-news-sm==3.3.0) (3.0.6)\n",
            "Requirement already satisfied: typer<0.5.0,>=0.3.0 in /usr/local/lib/python3.7/dist-packages (from spacy<3.4.0,>=3.3.0.dev0->pt-core-news-sm==3.3.0) (0.4.2)\n",
            "Requirement already satisfied: jinja2 in /usr/local/lib/python3.7/dist-packages (from spacy<3.4.0,>=3.3.0.dev0->pt-core-news-sm==3.3.0) (2.11.3)\n",
            "Requirement already satisfied: langcodes<4.0.0,>=3.2.0 in /usr/local/lib/python3.7/dist-packages (from spacy<3.4.0,>=3.3.0.dev0->pt-core-news-sm==3.3.0) (3.3.0)\n",
            "Requirement already satisfied: murmurhash<1.1.0,>=0.28.0 in /usr/local/lib/python3.7/dist-packages (from spacy<3.4.0,>=3.3.0.dev0->pt-core-news-sm==3.3.0) (1.0.7)\n",
            "Requirement already satisfied: spacy-loggers<2.0.0,>=1.0.0 in /usr/local/lib/python3.7/dist-packages (from spacy<3.4.0,>=3.3.0.dev0->pt-core-news-sm==3.3.0) (1.0.2)\n",
            "Requirement already satisfied: requests<3.0.0,>=2.13.0 in /usr/local/lib/python3.7/dist-packages (from spacy<3.4.0,>=3.3.0.dev0->pt-core-news-sm==3.3.0) (2.23.0)\n",
            "Requirement already satisfied: pathy>=0.3.5 in /usr/local/lib/python3.7/dist-packages (from spacy<3.4.0,>=3.3.0.dev0->pt-core-news-sm==3.3.0) (0.6.2)\n",
            "Requirement already satisfied: typing-extensions<4.2.0,>=3.7.4 in /usr/local/lib/python3.7/dist-packages (from spacy<3.4.0,>=3.3.0.dev0->pt-core-news-sm==3.3.0) (4.1.1)\n",
            "Requirement already satisfied: catalogue<2.1.0,>=2.0.6 in /usr/local/lib/python3.7/dist-packages (from spacy<3.4.0,>=3.3.0.dev0->pt-core-news-sm==3.3.0) (2.0.7)\n",
            "Requirement already satisfied: spacy-legacy<3.1.0,>=3.0.9 in /usr/local/lib/python3.7/dist-packages (from spacy<3.4.0,>=3.3.0.dev0->pt-core-news-sm==3.3.0) (3.0.9)\n",
            "Requirement already satisfied: zipp>=0.5 in /usr/local/lib/python3.7/dist-packages (from catalogue<2.1.0,>=2.0.6->spacy<3.4.0,>=3.3.0.dev0->pt-core-news-sm==3.3.0) (3.8.0)\n",
            "Requirement already satisfied: pyparsing!=3.0.5,>=2.0.2 in /usr/local/lib/python3.7/dist-packages (from packaging>=20.0->spacy<3.4.0,>=3.3.0.dev0->pt-core-news-sm==3.3.0) (3.0.9)\n",
            "Requirement already satisfied: smart-open<6.0.0,>=5.2.1 in /usr/local/lib/python3.7/dist-packages (from pathy>=0.3.5->spacy<3.4.0,>=3.3.0.dev0->pt-core-news-sm==3.3.0) (5.2.1)\n",
            "Requirement already satisfied: idna<3,>=2.5 in /usr/local/lib/python3.7/dist-packages (from requests<3.0.0,>=2.13.0->spacy<3.4.0,>=3.3.0.dev0->pt-core-news-sm==3.3.0) (2.10)\n",
            "Requirement already satisfied: urllib3!=1.25.0,!=1.25.1,<1.26,>=1.21.1 in /usr/local/lib/python3.7/dist-packages (from requests<3.0.0,>=2.13.0->spacy<3.4.0,>=3.3.0.dev0->pt-core-news-sm==3.3.0) (1.24.3)\n",
            "Requirement already satisfied: certifi>=2017.4.17 in /usr/local/lib/python3.7/dist-packages (from requests<3.0.0,>=2.13.0->spacy<3.4.0,>=3.3.0.dev0->pt-core-news-sm==3.3.0) (2022.6.15)\n",
            "Requirement already satisfied: chardet<4,>=3.0.2 in /usr/local/lib/python3.7/dist-packages (from requests<3.0.0,>=2.13.0->spacy<3.4.0,>=3.3.0.dev0->pt-core-news-sm==3.3.0) (3.0.4)\n",
            "Requirement already satisfied: click<9.0.0,>=7.1.1 in /usr/local/lib/python3.7/dist-packages (from typer<0.5.0,>=0.3.0->spacy<3.4.0,>=3.3.0.dev0->pt-core-news-sm==3.3.0) (7.1.2)\n",
            "Requirement already satisfied: MarkupSafe>=0.23 in /usr/local/lib/python3.7/dist-packages (from jinja2->spacy<3.4.0,>=3.3.0.dev0->pt-core-news-sm==3.3.0) (2.0.1)\n",
            "\u001b[38;5;2m✔ Download and installation successful\u001b[0m\n",
            "You can now load the package via spacy.load('pt_core_news_sm')\n"
          ]
        }
      ]
    },
    {
      "cell_type": "code",
      "source": [
        "nlp = spacy.load(\"pt_core_news_sm\")"
      ],
      "metadata": {
        "id": "RqpAGidlJ_bl"
      },
      "execution_count": null,
      "outputs": []
    },
    {
      "cell_type": "code",
      "source": [
        "nlp"
      ],
      "metadata": {
        "colab": {
          "base_uri": "https://localhost:8080/"
        },
        "id": "7Zzh9fq_NMHG",
        "outputId": "edc774ef-f3c6-4016-a241-f8c96c9d3c0b"
      },
      "execution_count": null,
      "outputs": [
        {
          "output_type": "execute_result",
          "data": {
            "text/plain": [
              "<spacy.lang.pt.Portuguese at 0x7f968e7d6c50>"
            ]
          },
          "metadata": {},
          "execution_count": 6
        }
      ]
    },
    {
      "cell_type": "code",
      "source": [
        "texto = 'Rio de Janeiro é uma cidade maravilhosa dddd112  331sdaas'\n",
        "doc = nlp(texto)"
      ],
      "metadata": {
        "id": "gXyMnGCgNmsM"
      },
      "execution_count": null,
      "outputs": []
    },
    {
      "cell_type": "code",
      "source": [
        "doc.ents"
      ],
      "metadata": {
        "colab": {
          "base_uri": "https://localhost:8080/"
        },
        "id": "zsGtYkByQKnb",
        "outputId": "cd3c9a96-e90b-41cf-9ae6-9be4267c845e"
      },
      "execution_count": null,
      "outputs": [
        {
          "output_type": "execute_result",
          "data": {
            "text/plain": [
              "(Rio de Janeiro, dddd112  )"
            ]
          },
          "metadata": {},
          "execution_count": 8
        }
      ]
    },
    {
      "cell_type": "code",
      "source": [
        "doc[0].is_stop"
      ],
      "metadata": {
        "colab": {
          "base_uri": "https://localhost:8080/"
        },
        "id": "q5qv_S0kQryk",
        "outputId": "9b3993b2-3d11-478e-af61-714d9cc9c086"
      },
      "execution_count": null,
      "outputs": [
        {
          "output_type": "execute_result",
          "data": {
            "text/plain": [
              "False"
            ]
          },
          "metadata": {},
          "execution_count": 9
        }
      ]
    },
    {
      "cell_type": "code",
      "source": [
        "doc[1].is_stop"
      ],
      "metadata": {
        "colab": {
          "base_uri": "https://localhost:8080/"
        },
        "id": "dQ4GXhmwQ5Ix",
        "outputId": "f18907d1-343a-429d-b87e-deedd944d55d"
      },
      "execution_count": null,
      "outputs": [
        {
          "output_type": "execute_result",
          "data": {
            "text/plain": [
              "True"
            ]
          },
          "metadata": {},
          "execution_count": 10
        }
      ]
    },
    {
      "cell_type": "code",
      "source": [
        "dados_treino.head()"
      ],
      "metadata": {
        "colab": {
          "base_uri": "https://localhost:8080/",
          "height": 206
        },
        "id": "a2mtcAfiS4m9",
        "outputId": "bf767e9a-5c52-47f3-f092-f9ab40f7460f"
      },
      "execution_count": null,
      "outputs": [
        {
          "output_type": "execute_result",
          "data": {
            "text/plain": [
              "                                               title  \\\n",
              "0  Após polêmica, Marine Le Pen diz que abomina n...   \n",
              "1  Macron e Le Pen vão ao 2º turno na França, em ...   \n",
              "2  Apesar de larga vitória nas legislativas, Macr...   \n",
              "3  Governo antecipa balanço, e Alckmin anuncia qu...   \n",
              "4  Após queda em maio, a atividade econômica sobe...   \n",
              "\n",
              "                                                text        date   category  \\\n",
              "0  A candidata da direita nacionalista à Presidên...  2017-04-28      mundo   \n",
              "1  O centrista independente Emmanuel Macron e a d...  2017-04-23      mundo   \n",
              "2  As eleições legislativas deste domingo (19) na...  2017-06-19      mundo   \n",
              "3  O número de ocorrências de homicídios dolosos ...  2015-07-24  cotidiano   \n",
              "4  A economia cresceu 0,25% no segundo trimestre,...  2017-08-17    mercado   \n",
              "\n",
              "  subcategory                                               link  \n",
              "0         NaN  http://www1.folha.uol.com.br/mundo/2017/04/187...  \n",
              "1         NaN  http://www1.folha.uol.com.br/mundo/2017/04/187...  \n",
              "2         NaN  http://www1.folha.uol.com.br/mundo/2017/06/189...  \n",
              "3         NaN  http://www1.folha.uol.com.br/cotidiano/2015/07...  \n",
              "4         NaN  http://www1.folha.uol.com.br/mercado/2017/08/1...  "
            ],
            "text/html": [
              "\n",
              "  <div id=\"df-6bb9d25f-efbd-4208-a974-d252bb59a84c\">\n",
              "    <div class=\"colab-df-container\">\n",
              "      <div>\n",
              "<style scoped>\n",
              "    .dataframe tbody tr th:only-of-type {\n",
              "        vertical-align: middle;\n",
              "    }\n",
              "\n",
              "    .dataframe tbody tr th {\n",
              "        vertical-align: top;\n",
              "    }\n",
              "\n",
              "    .dataframe thead th {\n",
              "        text-align: right;\n",
              "    }\n",
              "</style>\n",
              "<table border=\"1\" class=\"dataframe\">\n",
              "  <thead>\n",
              "    <tr style=\"text-align: right;\">\n",
              "      <th></th>\n",
              "      <th>title</th>\n",
              "      <th>text</th>\n",
              "      <th>date</th>\n",
              "      <th>category</th>\n",
              "      <th>subcategory</th>\n",
              "      <th>link</th>\n",
              "    </tr>\n",
              "  </thead>\n",
              "  <tbody>\n",
              "    <tr>\n",
              "      <th>0</th>\n",
              "      <td>Após polêmica, Marine Le Pen diz que abomina n...</td>\n",
              "      <td>A candidata da direita nacionalista à Presidên...</td>\n",
              "      <td>2017-04-28</td>\n",
              "      <td>mundo</td>\n",
              "      <td>NaN</td>\n",
              "      <td>http://www1.folha.uol.com.br/mundo/2017/04/187...</td>\n",
              "    </tr>\n",
              "    <tr>\n",
              "      <th>1</th>\n",
              "      <td>Macron e Le Pen vão ao 2º turno na França, em ...</td>\n",
              "      <td>O centrista independente Emmanuel Macron e a d...</td>\n",
              "      <td>2017-04-23</td>\n",
              "      <td>mundo</td>\n",
              "      <td>NaN</td>\n",
              "      <td>http://www1.folha.uol.com.br/mundo/2017/04/187...</td>\n",
              "    </tr>\n",
              "    <tr>\n",
              "      <th>2</th>\n",
              "      <td>Apesar de larga vitória nas legislativas, Macr...</td>\n",
              "      <td>As eleições legislativas deste domingo (19) na...</td>\n",
              "      <td>2017-06-19</td>\n",
              "      <td>mundo</td>\n",
              "      <td>NaN</td>\n",
              "      <td>http://www1.folha.uol.com.br/mundo/2017/06/189...</td>\n",
              "    </tr>\n",
              "    <tr>\n",
              "      <th>3</th>\n",
              "      <td>Governo antecipa balanço, e Alckmin anuncia qu...</td>\n",
              "      <td>O número de ocorrências de homicídios dolosos ...</td>\n",
              "      <td>2015-07-24</td>\n",
              "      <td>cotidiano</td>\n",
              "      <td>NaN</td>\n",
              "      <td>http://www1.folha.uol.com.br/cotidiano/2015/07...</td>\n",
              "    </tr>\n",
              "    <tr>\n",
              "      <th>4</th>\n",
              "      <td>Após queda em maio, a atividade econômica sobe...</td>\n",
              "      <td>A economia cresceu 0,25% no segundo trimestre,...</td>\n",
              "      <td>2017-08-17</td>\n",
              "      <td>mercado</td>\n",
              "      <td>NaN</td>\n",
              "      <td>http://www1.folha.uol.com.br/mercado/2017/08/1...</td>\n",
              "    </tr>\n",
              "  </tbody>\n",
              "</table>\n",
              "</div>\n",
              "      <button class=\"colab-df-convert\" onclick=\"convertToInteractive('df-6bb9d25f-efbd-4208-a974-d252bb59a84c')\"\n",
              "              title=\"Convert this dataframe to an interactive table.\"\n",
              "              style=\"display:none;\">\n",
              "        \n",
              "  <svg xmlns=\"http://www.w3.org/2000/svg\" height=\"24px\"viewBox=\"0 0 24 24\"\n",
              "       width=\"24px\">\n",
              "    <path d=\"M0 0h24v24H0V0z\" fill=\"none\"/>\n",
              "    <path d=\"M18.56 5.44l.94 2.06.94-2.06 2.06-.94-2.06-.94-.94-2.06-.94 2.06-2.06.94zm-11 1L8.5 8.5l.94-2.06 2.06-.94-2.06-.94L8.5 2.5l-.94 2.06-2.06.94zm10 10l.94 2.06.94-2.06 2.06-.94-2.06-.94-.94-2.06-.94 2.06-2.06.94z\"/><path d=\"M17.41 7.96l-1.37-1.37c-.4-.4-.92-.59-1.43-.59-.52 0-1.04.2-1.43.59L10.3 9.45l-7.72 7.72c-.78.78-.78 2.05 0 2.83L4 21.41c.39.39.9.59 1.41.59.51 0 1.02-.2 1.41-.59l7.78-7.78 2.81-2.81c.8-.78.8-2.07 0-2.86zM5.41 20L4 18.59l7.72-7.72 1.47 1.35L5.41 20z\"/>\n",
              "  </svg>\n",
              "      </button>\n",
              "      \n",
              "  <style>\n",
              "    .colab-df-container {\n",
              "      display:flex;\n",
              "      flex-wrap:wrap;\n",
              "      gap: 12px;\n",
              "    }\n",
              "\n",
              "    .colab-df-convert {\n",
              "      background-color: #E8F0FE;\n",
              "      border: none;\n",
              "      border-radius: 50%;\n",
              "      cursor: pointer;\n",
              "      display: none;\n",
              "      fill: #1967D2;\n",
              "      height: 32px;\n",
              "      padding: 0 0 0 0;\n",
              "      width: 32px;\n",
              "    }\n",
              "\n",
              "    .colab-df-convert:hover {\n",
              "      background-color: #E2EBFA;\n",
              "      box-shadow: 0px 1px 2px rgba(60, 64, 67, 0.3), 0px 1px 3px 1px rgba(60, 64, 67, 0.15);\n",
              "      fill: #174EA6;\n",
              "    }\n",
              "\n",
              "    [theme=dark] .colab-df-convert {\n",
              "      background-color: #3B4455;\n",
              "      fill: #D2E3FC;\n",
              "    }\n",
              "\n",
              "    [theme=dark] .colab-df-convert:hover {\n",
              "      background-color: #434B5C;\n",
              "      box-shadow: 0px 1px 3px 1px rgba(0, 0, 0, 0.15);\n",
              "      filter: drop-shadow(0px 1px 2px rgba(0, 0, 0, 0.3));\n",
              "      fill: #FFFFFF;\n",
              "    }\n",
              "  </style>\n",
              "\n",
              "      <script>\n",
              "        const buttonEl =\n",
              "          document.querySelector('#df-6bb9d25f-efbd-4208-a974-d252bb59a84c button.colab-df-convert');\n",
              "        buttonEl.style.display =\n",
              "          google.colab.kernel.accessAllowed ? 'block' : 'none';\n",
              "\n",
              "        async function convertToInteractive(key) {\n",
              "          const element = document.querySelector('#df-6bb9d25f-efbd-4208-a974-d252bb59a84c');\n",
              "          const dataTable =\n",
              "            await google.colab.kernel.invokeFunction('convertToInteractive',\n",
              "                                                     [key], {});\n",
              "          if (!dataTable) return;\n",
              "\n",
              "          const docLinkHtml = 'Like what you see? Visit the ' +\n",
              "            '<a target=\"_blank\" href=https://colab.research.google.com/notebooks/data_table.ipynb>data table notebook</a>'\n",
              "            + ' to learn more about interactive tables.';\n",
              "          element.innerHTML = '';\n",
              "          dataTable['output_type'] = 'display_data';\n",
              "          await google.colab.output.renderOutput(dataTable, element);\n",
              "          const docLink = document.createElement('div');\n",
              "          docLink.innerHTML = docLinkHtml;\n",
              "          element.appendChild(docLink);\n",
              "        }\n",
              "      </script>\n",
              "    </div>\n",
              "  </div>\n",
              "  "
            ]
          },
          "metadata": {},
          "execution_count": 11
        }
      ]
    },
    {
      "cell_type": "code",
      "source": [
        "textos_para_tratamento = (titulos.lower() for titulos in dados_treino['title'])"
      ],
      "metadata": {
        "id": "rVsR7itoQ6Wk"
      },
      "execution_count": null,
      "outputs": []
    },
    {
      "cell_type": "code",
      "source": [
        "textos_para_tratamento"
      ],
      "metadata": {
        "colab": {
          "base_uri": "https://localhost:8080/"
        },
        "id": "OpqDyuTtSzNS",
        "outputId": "4b6b65d8-5161-4c0b-a904-96ccbd4552ab"
      },
      "execution_count": null,
      "outputs": [
        {
          "output_type": "execute_result",
          "data": {
            "text/plain": [
              "<generator object <genexpr> at 0x7f968ee74350>"
            ]
          },
          "metadata": {},
          "execution_count": 13
        }
      ]
    },
    {
      "cell_type": "code",
      "source": [
        "def trata_textos(doc):\n",
        "  tokens_validos = []\n",
        "  for token in doc:\n",
        "    e_valido = not token.is_stop and token.is_alpha\n",
        "    if e_valido:\n",
        "      tokens_validos.append(token.text)\n",
        "  \n",
        "  if len(tokens_validos) > 2:\n",
        "    return ' '.join(tokens_validos)"
      ],
      "metadata": {
        "id": "kWdSve7LTQ7J"
      },
      "execution_count": null,
      "outputs": []
    },
    {
      "cell_type": "code",
      "source": [
        "trata_textos(doc)"
      ],
      "metadata": {
        "colab": {
          "base_uri": "https://localhost:8080/",
          "height": 35
        },
        "id": "MrP6td7kUnue",
        "outputId": "e688f6c5-47cc-4234-84ba-63929e24a252"
      },
      "execution_count": null,
      "outputs": [
        {
          "output_type": "execute_result",
          "data": {
            "text/plain": [
              "'Rio Janeiro cidade maravilhosa'"
            ],
            "application/vnd.google.colaboratory.intrinsic+json": {
              "type": "string"
            }
          },
          "metadata": {},
          "execution_count": 15
        }
      ]
    },
    {
      "cell_type": "code",
      "source": [
        "from time import time\n",
        "\n",
        "t0 = time()\n",
        "\n",
        "textos_tratados = [trata_textos(doc) for doc in nlp.pipe(textos_para_tratamento, batch_size = 1000, n_process = -1)]\n",
        "\n",
        "tf = time() - t0\n",
        "print(tf/60)"
      ],
      "metadata": {
        "colab": {
          "base_uri": "https://localhost:8080/"
        },
        "id": "KkOQ-xQ2Uqko",
        "outputId": "aacc2071-5c73-4d9d-cdf5-88af9ea81414"
      },
      "execution_count": null,
      "outputs": [
        {
          "output_type": "stream",
          "name": "stdout",
          "text": [
            "3.28491294781367\n"
          ]
        }
      ]
    },
    {
      "cell_type": "code",
      "source": [
        "titulos_tratados = pd.DataFrame({'titulo':textos_tratados})"
      ],
      "metadata": {
        "id": "vmi_V7Woc0u4"
      },
      "execution_count": null,
      "outputs": []
    },
    {
      "cell_type": "code",
      "source": [
        "from gensim.models import Word2Vec\n",
        "\n",
        "w2v_modelo = Word2Vec(sg = 0, window = 2, size = 300, min_count = 5,\n",
        "                      alpha = 0.03, min_alpha = 0.007)\n"
      ],
      "metadata": {
        "id": "V8rRO4mgWn_K"
      },
      "execution_count": null,
      "outputs": []
    },
    {
      "cell_type": "code",
      "source": [
        "print(len(titulos_tratados))\n",
        "\n",
        "titulos_tratados = titulos_tratados.dropna().drop_duplicates()\n",
        "\n",
        "print(len(titulos_tratados))"
      ],
      "metadata": {
        "colab": {
          "base_uri": "https://localhost:8080/"
        },
        "id": "PZ7C_oxLdxEY",
        "outputId": "5225b24e-23fc-4f9b-b197-b4128eafe1b7"
      },
      "execution_count": null,
      "outputs": [
        {
          "output_type": "stream",
          "name": "stdout",
          "text": [
            "90000\n",
            "84466\n"
          ]
        }
      ]
    },
    {
      "cell_type": "code",
      "source": [
        "lista_lista_tokens = [titulo.split(' ') for titulo in titulos_tratados['titulo']]"
      ],
      "metadata": {
        "id": "eFwGOjjVc6O9"
      },
      "execution_count": null,
      "outputs": []
    },
    {
      "cell_type": "code",
      "source": [
        "import logging \n",
        "\n",
        "logging.basicConfig(format='%(asctime)s : - %(message)s', level = logging.INFO)\n",
        "\n",
        "w2v_modelo = Word2Vec(sg = 0, window = 2, size = 300, min_count = 5,\n",
        "                      alpha = 0.03, min_alpha = 0.007)\n",
        "\n",
        "w2v_modelo.build_vocab(lista_lista_tokens, progress_per = 5000)"
      ],
      "metadata": {
        "colab": {
          "base_uri": "https://localhost:8080/"
        },
        "id": "YLai2tWBcHZy",
        "outputId": "2beb149e-b931-437d-dedc-a94519506b30"
      },
      "execution_count": null,
      "outputs": [
        {
          "output_type": "stream",
          "name": "stderr",
          "text": [
            "2022-07-18 18:12:45,725 : - collecting all words and their counts\n",
            "2022-07-18 18:12:45,731 : - PROGRESS: at sentence #0, processed 0 words, keeping 0 word types\n",
            "2022-07-18 18:12:45,756 : - PROGRESS: at sentence #5000, processed 31930 words, keeping 10193 word types\n",
            "2022-07-18 18:12:45,778 : - PROGRESS: at sentence #10000, processed 63848 words, keeping 14989 word types\n",
            "2022-07-18 18:12:45,795 : - PROGRESS: at sentence #15000, processed 95753 words, keeping 18279 word types\n",
            "2022-07-18 18:12:45,814 : - PROGRESS: at sentence #20000, processed 127689 words, keeping 21033 word types\n",
            "2022-07-18 18:12:45,835 : - PROGRESS: at sentence #25000, processed 159589 words, keeping 23491 word types\n",
            "2022-07-18 18:12:45,855 : - PROGRESS: at sentence #30000, processed 191554 words, keeping 25494 word types\n",
            "2022-07-18 18:12:45,875 : - PROGRESS: at sentence #35000, processed 223412 words, keeping 27330 word types\n",
            "2022-07-18 18:12:45,895 : - PROGRESS: at sentence #40000, processed 255282 words, keeping 29053 word types\n",
            "2022-07-18 18:12:45,916 : - PROGRESS: at sentence #45000, processed 287297 words, keeping 30606 word types\n",
            "2022-07-18 18:12:45,936 : - PROGRESS: at sentence #50000, processed 319258 words, keeping 31964 word types\n",
            "2022-07-18 18:12:45,959 : - PROGRESS: at sentence #55000, processed 351437 words, keeping 33270 word types\n",
            "2022-07-18 18:12:45,980 : - PROGRESS: at sentence #60000, processed 383579 words, keeping 34520 word types\n",
            "2022-07-18 18:12:45,999 : - PROGRESS: at sentence #65000, processed 415565 words, keeping 35643 word types\n",
            "2022-07-18 18:12:46,018 : - PROGRESS: at sentence #70000, processed 447646 words, keeping 36719 word types\n",
            "2022-07-18 18:12:46,037 : - PROGRESS: at sentence #75000, processed 479568 words, keeping 37802 word types\n",
            "2022-07-18 18:12:46,057 : - PROGRESS: at sentence #80000, processed 511645 words, keeping 38814 word types\n",
            "2022-07-18 18:12:46,073 : - collected 39693 word types from a corpus of 540242 raw words and 84466 sentences\n",
            "2022-07-18 18:12:46,075 : - Loading a fresh vocabulary\n",
            "2022-07-18 18:12:46,129 : - effective_min_count=5 retains 12924 unique words (32% of original 39693, drops 26769)\n",
            "2022-07-18 18:12:46,135 : - effective_min_count=5 leaves 495223 word corpus (91% of original 540242, drops 45019)\n",
            "2022-07-18 18:12:46,182 : - deleting the raw counts dictionary of 39693 items\n",
            "2022-07-18 18:12:46,194 : - sample=0.001 downsamples 8 most-common words\n",
            "2022-07-18 18:12:46,196 : - downsampling leaves estimated 486147 word corpus (98.2% of prior 495223)\n",
            "2022-07-18 18:12:46,257 : - estimated required memory for 12924 words and 300 dimensions: 37479600 bytes\n",
            "2022-07-18 18:12:46,259 : - resetting layer weights\n"
          ]
        }
      ]
    },
    {
      "cell_type": "code",
      "source": [
        "dir(w2v_modelo)"
      ],
      "metadata": {
        "colab": {
          "base_uri": "https://localhost:8080/"
        },
        "id": "V51SP0jYeBm3",
        "outputId": "fcf1a488-f7cc-458f-f6c5-5778136a5135"
      },
      "execution_count": null,
      "outputs": [
        {
          "output_type": "execute_result",
          "data": {
            "text/plain": [
              "['__class__',\n",
              " '__contains__',\n",
              " '__delattr__',\n",
              " '__dict__',\n",
              " '__dir__',\n",
              " '__doc__',\n",
              " '__eq__',\n",
              " '__format__',\n",
              " '__ge__',\n",
              " '__getattribute__',\n",
              " '__getitem__',\n",
              " '__gt__',\n",
              " '__hash__',\n",
              " '__init__',\n",
              " '__init_subclass__',\n",
              " '__le__',\n",
              " '__lt__',\n",
              " '__module__',\n",
              " '__ne__',\n",
              " '__new__',\n",
              " '__reduce__',\n",
              " '__reduce_ex__',\n",
              " '__repr__',\n",
              " '__setattr__',\n",
              " '__sizeof__',\n",
              " '__str__',\n",
              " '__subclasshook__',\n",
              " '__weakref__',\n",
              " '_adapt_by_suffix',\n",
              " '_check_input_data_sanity',\n",
              " '_check_training_sanity',\n",
              " '_clear_post_train',\n",
              " '_do_train_epoch',\n",
              " '_do_train_job',\n",
              " '_get_job_params',\n",
              " '_get_thread_working_mem',\n",
              " '_job_producer',\n",
              " '_load_specials',\n",
              " '_log_epoch_end',\n",
              " '_log_epoch_progress',\n",
              " '_log_progress',\n",
              " '_log_train_end',\n",
              " '_minimize_model',\n",
              " '_raw_word_count',\n",
              " '_save_specials',\n",
              " '_set_train_params',\n",
              " '_smart_save',\n",
              " '_train_epoch',\n",
              " '_train_epoch_corpusfile',\n",
              " '_update_job_params',\n",
              " '_worker_loop',\n",
              " '_worker_loop_corpusfile',\n",
              " 'accuracy',\n",
              " 'alpha',\n",
              " 'batch_words',\n",
              " 'build_vocab',\n",
              " 'build_vocab_from_freq',\n",
              " 'callbacks',\n",
              " 'cbow_mean',\n",
              " 'clear_sims',\n",
              " 'compute_loss',\n",
              " 'corpus_count',\n",
              " 'corpus_total_words',\n",
              " 'cum_table',\n",
              " 'delete_temporary_training_data',\n",
              " 'doesnt_match',\n",
              " 'epochs',\n",
              " 'estimate_memory',\n",
              " 'evaluate_word_pairs',\n",
              " 'get_latest_training_loss',\n",
              " 'hashfxn',\n",
              " 'hs',\n",
              " 'init_sims',\n",
              " 'intersect_word2vec_format',\n",
              " 'iter',\n",
              " 'layer1_size',\n",
              " 'load',\n",
              " 'load_word2vec_format',\n",
              " 'log_accuracy',\n",
              " 'max_final_vocab',\n",
              " 'min_alpha',\n",
              " 'min_alpha_yet_reached',\n",
              " 'min_count',\n",
              " 'model_trimmed_post_training',\n",
              " 'most_similar',\n",
              " 'most_similar_cosmul',\n",
              " 'n_similarity',\n",
              " 'negative',\n",
              " 'ns_exponent',\n",
              " 'predict_output_word',\n",
              " 'random',\n",
              " 'reset_from',\n",
              " 'running_training_loss',\n",
              " 'sample',\n",
              " 'save',\n",
              " 'save_word2vec_format',\n",
              " 'score',\n",
              " 'sg',\n",
              " 'similar_by_vector',\n",
              " 'similar_by_word',\n",
              " 'similarity',\n",
              " 'syn0_lockf',\n",
              " 'syn1',\n",
              " 'syn1neg',\n",
              " 'total_train_time',\n",
              " 'train',\n",
              " 'train_count',\n",
              " 'trainables',\n",
              " 'vector_size',\n",
              " 'vocabulary',\n",
              " 'window',\n",
              " 'wmdistance',\n",
              " 'workers',\n",
              " 'wv']"
            ]
          },
          "metadata": {},
          "execution_count": 23
        }
      ]
    },
    {
      "cell_type": "code",
      "source": [
        "w2v_modelo.train(lista_lista_tokens, total_examples = w2v_modelo.corpus_count,\n",
        "                 epochs = 30)"
      ],
      "metadata": {
        "colab": {
          "base_uri": "https://localhost:8080/"
        },
        "id": "LlY1Iqh1jUnz",
        "outputId": "093b6240-545c-4d0a-de7d-0f18c2164925"
      },
      "execution_count": null,
      "outputs": [
        {
          "output_type": "stream",
          "name": "stderr",
          "text": [
            "2022-07-18 18:28:03,600 : - training model with 3 workers on 12924 vocabulary and 300 features, using sg=0 hs=0 sample=0.001 negative=5 window=2\n",
            "2022-07-18 18:28:04,762 : - EPOCH 1 - PROGRESS: at 37.08% examples, 160077 words/s, in_qsize 3, out_qsize 2\n",
            "2022-07-18 18:28:05,871 : - EPOCH 1 - PROGRESS: at 75.91% examples, 165102 words/s, in_qsize 3, out_qsize 2\n",
            "2022-07-18 18:28:06,298 : - worker thread finished; awaiting finish of 2 more threads\n",
            "2022-07-18 18:28:06,304 : - worker thread finished; awaiting finish of 1 more threads\n",
            "2022-07-18 18:28:06,364 : - worker thread finished; awaiting finish of 0 more threads\n",
            "2022-07-18 18:28:06,372 : - EPOCH - 1 : training on 540242 raw words (486043 effective words) took 2.7s, 177719 effective words/s\n",
            "2022-07-18 18:28:07,528 : - EPOCH 2 - PROGRESS: at 38.94% examples, 169289 words/s, in_qsize 4, out_qsize 1\n",
            "2022-07-18 18:28:08,581 : - EPOCH 2 - PROGRESS: at 72.20% examples, 161750 words/s, in_qsize 5, out_qsize 0\n",
            "2022-07-18 18:28:09,309 : - worker thread finished; awaiting finish of 2 more threads\n",
            "2022-07-18 18:28:09,331 : - worker thread finished; awaiting finish of 1 more threads\n",
            "2022-07-18 18:28:09,373 : - worker thread finished; awaiting finish of 0 more threads\n",
            "2022-07-18 18:28:09,378 : - EPOCH - 2 : training on 540242 raw words (486086 effective words) took 3.0s, 163876 effective words/s\n",
            "2022-07-18 18:28:10,443 : - EPOCH 3 - PROGRESS: at 33.36% examples, 161135 words/s, in_qsize 5, out_qsize 2\n",
            "2022-07-18 18:28:11,422 : - EPOCH 3 - PROGRESS: at 77.75% examples, 187360 words/s, in_qsize 5, out_qsize 0\n",
            "2022-07-18 18:28:11,857 : - worker thread finished; awaiting finish of 2 more threads\n",
            "2022-07-18 18:28:11,875 : - worker thread finished; awaiting finish of 1 more threads\n",
            "2022-07-18 18:28:11,885 : - worker thread finished; awaiting finish of 0 more threads\n",
            "2022-07-18 18:28:11,886 : - EPOCH - 3 : training on 540242 raw words (486373 effective words) took 2.5s, 195968 effective words/s\n",
            "2022-07-18 18:28:12,928 : - EPOCH 4 - PROGRESS: at 61.16% examples, 288644 words/s, in_qsize 5, out_qsize 0\n",
            "2022-07-18 18:28:13,496 : - worker thread finished; awaiting finish of 2 more threads\n",
            "2022-07-18 18:28:13,531 : - worker thread finished; awaiting finish of 1 more threads\n",
            "2022-07-18 18:28:13,546 : - worker thread finished; awaiting finish of 0 more threads\n",
            "2022-07-18 18:28:13,549 : - EPOCH - 4 : training on 540242 raw words (486137 effective words) took 1.7s, 294588 effective words/s\n",
            "2022-07-18 18:28:14,569 : - EPOCH 5 - PROGRESS: at 57.46% examples, 276925 words/s, in_qsize 5, out_qsize 0\n",
            "2022-07-18 18:28:15,214 : - worker thread finished; awaiting finish of 2 more threads\n",
            "2022-07-18 18:28:15,222 : - worker thread finished; awaiting finish of 1 more threads\n",
            "2022-07-18 18:28:15,250 : - worker thread finished; awaiting finish of 0 more threads\n",
            "2022-07-18 18:28:15,252 : - EPOCH - 5 : training on 540242 raw words (486198 effective words) took 1.7s, 287767 effective words/s\n",
            "2022-07-18 18:28:16,315 : - EPOCH 6 - PROGRESS: at 68.53% examples, 318523 words/s, in_qsize 5, out_qsize 0\n",
            "2022-07-18 18:28:16,776 : - worker thread finished; awaiting finish of 2 more threads\n",
            "2022-07-18 18:28:16,801 : - worker thread finished; awaiting finish of 1 more threads\n",
            "2022-07-18 18:28:16,815 : - worker thread finished; awaiting finish of 0 more threads\n",
            "2022-07-18 18:28:16,817 : - EPOCH - 6 : training on 540242 raw words (486083 effective words) took 1.5s, 314351 effective words/s\n",
            "2022-07-18 18:28:17,843 : - EPOCH 7 - PROGRESS: at 66.69% examples, 319957 words/s, in_qsize 5, out_qsize 0\n",
            "2022-07-18 18:28:18,230 : - worker thread finished; awaiting finish of 2 more threads\n",
            "2022-07-18 18:28:18,272 : - worker thread finished; awaiting finish of 1 more threads\n",
            "2022-07-18 18:28:18,288 : - worker thread finished; awaiting finish of 0 more threads\n",
            "2022-07-18 18:28:18,289 : - EPOCH - 7 : training on 540242 raw words (486083 effective words) took 1.5s, 333344 effective words/s\n",
            "2022-07-18 18:28:19,335 : - EPOCH 8 - PROGRESS: at 59.32% examples, 280306 words/s, in_qsize 5, out_qsize 0\n",
            "2022-07-18 18:28:19,938 : - worker thread finished; awaiting finish of 2 more threads\n",
            "2022-07-18 18:28:19,985 : - worker thread finished; awaiting finish of 1 more threads\n",
            "2022-07-18 18:28:19,993 : - worker thread finished; awaiting finish of 0 more threads\n",
            "2022-07-18 18:28:19,994 : - EPOCH - 8 : training on 540242 raw words (486079 effective words) took 1.7s, 288309 effective words/s\n",
            "2022-07-18 18:28:21,042 : - EPOCH 9 - PROGRESS: at 57.46% examples, 270293 words/s, in_qsize 5, out_qsize 0\n",
            "2022-07-18 18:28:21,659 : - worker thread finished; awaiting finish of 2 more threads\n",
            "2022-07-18 18:28:21,690 : - worker thread finished; awaiting finish of 1 more threads\n",
            "2022-07-18 18:28:21,700 : - worker thread finished; awaiting finish of 0 more threads\n",
            "2022-07-18 18:28:21,702 : - EPOCH - 9 : training on 540242 raw words (486084 effective words) took 1.7s, 287321 effective words/s\n",
            "2022-07-18 18:28:22,763 : - EPOCH 10 - PROGRESS: at 59.32% examples, 276114 words/s, in_qsize 6, out_qsize 0\n",
            "2022-07-18 18:28:23,362 : - worker thread finished; awaiting finish of 2 more threads\n",
            "2022-07-18 18:28:23,375 : - worker thread finished; awaiting finish of 1 more threads\n",
            "2022-07-18 18:28:23,398 : - worker thread finished; awaiting finish of 0 more threads\n",
            "2022-07-18 18:28:23,399 : - EPOCH - 10 : training on 540242 raw words (486223 effective words) took 1.7s, 289474 effective words/s\n",
            "2022-07-18 18:28:24,461 : - EPOCH 11 - PROGRESS: at 70.35% examples, 327969 words/s, in_qsize 6, out_qsize 1\n",
            "2022-07-18 18:28:24,849 : - worker thread finished; awaiting finish of 2 more threads\n",
            "2022-07-18 18:28:24,871 : - worker thread finished; awaiting finish of 1 more threads\n",
            "2022-07-18 18:28:24,874 : - worker thread finished; awaiting finish of 0 more threads\n",
            "2022-07-18 18:28:24,876 : - EPOCH - 11 : training on 540242 raw words (486117 effective words) took 1.5s, 333665 effective words/s\n",
            "2022-07-18 18:28:25,913 : - EPOCH 12 - PROGRESS: at 57.46% examples, 272496 words/s, in_qsize 5, out_qsize 0\n",
            "2022-07-18 18:28:26,558 : - worker thread finished; awaiting finish of 2 more threads\n",
            "2022-07-18 18:28:26,586 : - worker thread finished; awaiting finish of 1 more threads\n",
            "2022-07-18 18:28:26,603 : - worker thread finished; awaiting finish of 0 more threads\n",
            "2022-07-18 18:28:26,604 : - EPOCH - 12 : training on 540242 raw words (486130 effective words) took 1.7s, 283575 effective words/s\n",
            "2022-07-18 18:28:27,654 : - EPOCH 13 - PROGRESS: at 57.46% examples, 269989 words/s, in_qsize 3, out_qsize 2\n",
            "2022-07-18 18:28:28,291 : - worker thread finished; awaiting finish of 2 more threads\n",
            "2022-07-18 18:28:28,312 : - worker thread finished; awaiting finish of 1 more threads\n",
            "2022-07-18 18:28:28,315 : - worker thread finished; awaiting finish of 0 more threads\n",
            "2022-07-18 18:28:28,317 : - EPOCH - 13 : training on 540242 raw words (486192 effective words) took 1.7s, 286592 effective words/s\n",
            "2022-07-18 18:28:29,412 : - EPOCH 14 - PROGRESS: at 48.21% examples, 216478 words/s, in_qsize 4, out_qsize 1\n",
            "2022-07-18 18:28:30,472 : - EPOCH 14 - PROGRESS: at 81.45% examples, 184887 words/s, in_qsize 6, out_qsize 0\n",
            "2022-07-18 18:28:30,906 : - worker thread finished; awaiting finish of 2 more threads\n",
            "2022-07-18 18:28:30,912 : - worker thread finished; awaiting finish of 1 more threads\n",
            "2022-07-18 18:28:30,918 : - worker thread finished; awaiting finish of 0 more threads\n",
            "2022-07-18 18:28:30,920 : - EPOCH - 14 : training on 540242 raw words (486056 effective words) took 2.6s, 187773 effective words/s\n",
            "2022-07-18 18:28:32,009 : - EPOCH 15 - PROGRESS: at 35.22% examples, 164959 words/s, in_qsize 5, out_qsize 0\n",
            "2022-07-18 18:28:33,024 : - EPOCH 15 - PROGRESS: at 70.37% examples, 164423 words/s, in_qsize 6, out_qsize 1\n",
            "2022-07-18 18:28:33,707 : - worker thread finished; awaiting finish of 2 more threads\n",
            "2022-07-18 18:28:33,738 : - worker thread finished; awaiting finish of 1 more threads\n",
            "2022-07-18 18:28:33,760 : - worker thread finished; awaiting finish of 0 more threads\n",
            "2022-07-18 18:28:33,762 : - EPOCH - 15 : training on 540242 raw words (486140 effective words) took 2.8s, 172643 effective words/s\n",
            "2022-07-18 18:28:34,793 : - EPOCH 16 - PROGRESS: at 59.32% examples, 284763 words/s, in_qsize 4, out_qsize 1\n",
            "2022-07-18 18:28:35,263 : - worker thread finished; awaiting finish of 2 more threads\n",
            "2022-07-18 18:28:35,283 : - worker thread finished; awaiting finish of 1 more threads\n",
            "2022-07-18 18:28:35,308 : - worker thread finished; awaiting finish of 0 more threads\n",
            "2022-07-18 18:28:35,310 : - EPOCH - 16 : training on 540242 raw words (486148 effective words) took 1.5s, 318155 effective words/s\n",
            "2022-07-18 18:28:36,338 : - EPOCH 17 - PROGRESS: at 70.37% examples, 336876 words/s, in_qsize 5, out_qsize 0\n",
            "2022-07-18 18:28:36,702 : - worker thread finished; awaiting finish of 2 more threads\n",
            "2022-07-18 18:28:36,730 : - worker thread finished; awaiting finish of 1 more threads\n",
            "2022-07-18 18:28:36,735 : - worker thread finished; awaiting finish of 0 more threads\n",
            "2022-07-18 18:28:36,737 : - EPOCH - 17 : training on 540242 raw words (486155 effective words) took 1.4s, 343847 effective words/s\n",
            "2022-07-18 18:28:37,761 : - EPOCH 18 - PROGRESS: at 53.75% examples, 260513 words/s, in_qsize 3, out_qsize 2\n",
            "2022-07-18 18:28:38,402 : - worker thread finished; awaiting finish of 2 more threads\n",
            "2022-07-18 18:28:38,426 : - worker thread finished; awaiting finish of 1 more threads\n",
            "2022-07-18 18:28:38,452 : - worker thread finished; awaiting finish of 0 more threads\n",
            "2022-07-18 18:28:38,453 : - EPOCH - 18 : training on 540242 raw words (486052 effective words) took 1.7s, 286950 effective words/s\n",
            "2022-07-18 18:28:39,487 : - EPOCH 19 - PROGRESS: at 57.46% examples, 274965 words/s, in_qsize 4, out_qsize 1\n",
            "2022-07-18 18:28:40,092 : - worker thread finished; awaiting finish of 2 more threads\n",
            "2022-07-18 18:28:40,133 : - worker thread finished; awaiting finish of 1 more threads\n",
            "2022-07-18 18:28:40,139 : - worker thread finished; awaiting finish of 0 more threads\n",
            "2022-07-18 18:28:40,142 : - EPOCH - 19 : training on 540242 raw words (486247 effective words) took 1.7s, 291176 effective words/s\n",
            "2022-07-18 18:28:41,184 : - EPOCH 20 - PROGRESS: at 59.32% examples, 280803 words/s, in_qsize 4, out_qsize 1\n",
            "2022-07-18 18:28:41,779 : - worker thread finished; awaiting finish of 2 more threads\n",
            "2022-07-18 18:28:41,783 : - worker thread finished; awaiting finish of 1 more threads\n",
            "2022-07-18 18:28:41,821 : - worker thread finished; awaiting finish of 0 more threads\n",
            "2022-07-18 18:28:41,823 : - EPOCH - 20 : training on 540242 raw words (486205 effective words) took 1.7s, 292072 effective words/s\n",
            "2022-07-18 18:28:42,862 : - EPOCH 21 - PROGRESS: at 55.60% examples, 264375 words/s, in_qsize 5, out_qsize 0\n",
            "2022-07-18 18:28:43,491 : - worker thread finished; awaiting finish of 2 more threads\n",
            "2022-07-18 18:28:43,502 : - worker thread finished; awaiting finish of 1 more threads\n",
            "2022-07-18 18:28:43,517 : - worker thread finished; awaiting finish of 0 more threads\n",
            "2022-07-18 18:28:43,519 : - EPOCH - 21 : training on 540242 raw words (486116 effective words) took 1.7s, 289856 effective words/s\n",
            "2022-07-18 18:28:44,541 : - EPOCH 22 - PROGRESS: at 66.69% examples, 321037 words/s, in_qsize 5, out_qsize 0\n",
            "2022-07-18 18:28:44,947 : - worker thread finished; awaiting finish of 2 more threads\n",
            "2022-07-18 18:28:44,950 : - worker thread finished; awaiting finish of 1 more threads\n",
            "2022-07-18 18:28:44,981 : - worker thread finished; awaiting finish of 0 more threads\n",
            "2022-07-18 18:28:44,982 : - EPOCH - 22 : training on 540242 raw words (486168 effective words) took 1.4s, 335346 effective words/s\n",
            "2022-07-18 18:28:46,025 : - EPOCH 23 - PROGRESS: at 70.35% examples, 332567 words/s, in_qsize 4, out_qsize 1\n",
            "2022-07-18 18:28:46,401 : - worker thread finished; awaiting finish of 2 more threads\n",
            "2022-07-18 18:28:46,423 : - worker thread finished; awaiting finish of 1 more threads\n",
            "2022-07-18 18:28:46,450 : - worker thread finished; awaiting finish of 0 more threads\n",
            "2022-07-18 18:28:46,451 : - EPOCH - 23 : training on 540242 raw words (486106 effective words) took 1.5s, 334194 effective words/s\n",
            "2022-07-18 18:28:47,519 : - EPOCH 24 - PROGRESS: at 61.16% examples, 283807 words/s, in_qsize 5, out_qsize 0\n",
            "2022-07-18 18:28:48,070 : - worker thread finished; awaiting finish of 2 more threads\n",
            "2022-07-18 18:28:48,076 : - worker thread finished; awaiting finish of 1 more threads\n",
            "2022-07-18 18:28:48,106 : - worker thread finished; awaiting finish of 0 more threads\n",
            "2022-07-18 18:28:48,108 : - EPOCH - 24 : training on 540242 raw words (486086 effective words) took 1.6s, 297236 effective words/s\n",
            "2022-07-18 18:28:49,160 : - EPOCH 25 - PROGRESS: at 59.32% examples, 278103 words/s, in_qsize 5, out_qsize 0\n",
            "2022-07-18 18:28:49,738 : - worker thread finished; awaiting finish of 2 more threads\n",
            "2022-07-18 18:28:49,768 : - worker thread finished; awaiting finish of 1 more threads\n",
            "2022-07-18 18:28:49,786 : - worker thread finished; awaiting finish of 0 more threads\n",
            "2022-07-18 18:28:49,787 : - EPOCH - 25 : training on 540242 raw words (486055 effective words) took 1.7s, 292346 effective words/s\n",
            "2022-07-18 18:28:50,855 : - EPOCH 26 - PROGRESS: at 63.02% examples, 291711 words/s, in_qsize 5, out_qsize 0\n",
            "2022-07-18 18:28:51,368 : - worker thread finished; awaiting finish of 2 more threads\n",
            "2022-07-18 18:28:51,398 : - worker thread finished; awaiting finish of 1 more threads\n",
            "2022-07-18 18:28:51,419 : - worker thread finished; awaiting finish of 0 more threads\n",
            "2022-07-18 18:28:51,421 : - EPOCH - 26 : training on 540242 raw words (486101 effective words) took 1.6s, 300983 effective words/s\n",
            "2022-07-18 18:28:52,482 : - EPOCH 27 - PROGRESS: at 53.76% examples, 253677 words/s, in_qsize 5, out_qsize 2\n",
            "2022-07-18 18:28:53,123 : - worker thread finished; awaiting finish of 2 more threads\n",
            "2022-07-18 18:28:53,142 : - worker thread finished; awaiting finish of 1 more threads\n",
            "2022-07-18 18:28:53,155 : - worker thread finished; awaiting finish of 0 more threads\n",
            "2022-07-18 18:28:53,157 : - EPOCH - 27 : training on 540242 raw words (486149 effective words) took 1.7s, 282713 effective words/s\n",
            "2022-07-18 18:28:54,175 : - EPOCH 28 - PROGRESS: at 59.32% examples, 287417 words/s, in_qsize 5, out_qsize 0\n",
            "2022-07-18 18:28:54,730 : - worker thread finished; awaiting finish of 2 more threads\n",
            "2022-07-18 18:28:54,745 : - worker thread finished; awaiting finish of 1 more threads\n",
            "2022-07-18 18:28:54,768 : - worker thread finished; awaiting finish of 0 more threads\n",
            "2022-07-18 18:28:54,772 : - EPOCH - 28 : training on 540242 raw words (486198 effective words) took 1.6s, 304136 effective words/s\n",
            "2022-07-18 18:28:55,810 : - EPOCH 29 - PROGRESS: at 59.28% examples, 282100 words/s, in_qsize 4, out_qsize 1\n",
            "2022-07-18 18:28:56,368 : - worker thread finished; awaiting finish of 2 more threads\n",
            "2022-07-18 18:28:56,372 : - worker thread finished; awaiting finish of 1 more threads\n",
            "2022-07-18 18:28:56,410 : - worker thread finished; awaiting finish of 0 more threads\n",
            "2022-07-18 18:28:56,411 : - EPOCH - 29 : training on 540242 raw words (486302 effective words) took 1.6s, 299801 effective words/s\n",
            "2022-07-18 18:28:57,442 : - EPOCH 30 - PROGRESS: at 61.16% examples, 292640 words/s, in_qsize 5, out_qsize 0\n",
            "2022-07-18 18:28:57,883 : - worker thread finished; awaiting finish of 2 more threads\n",
            "2022-07-18 18:28:57,908 : - worker thread finished; awaiting finish of 1 more threads\n",
            "2022-07-18 18:28:57,931 : - worker thread finished; awaiting finish of 0 more threads\n",
            "2022-07-18 18:28:57,932 : - EPOCH - 30 : training on 540242 raw words (486156 effective words) took 1.5s, 323160 effective words/s\n",
            "2022-07-18 18:28:57,934 : - training on a 16207260 raw words (14584268 effective words) took 54.3s, 268471 effective words/s\n"
          ]
        },
        {
          "output_type": "execute_result",
          "data": {
            "text/plain": [
              "(14584268, 16207260)"
            ]
          },
          "metadata": {},
          "execution_count": 25
        }
      ]
    },
    {
      "cell_type": "code",
      "source": [
        "w2v_modelo.wv.most_similar('google')"
      ],
      "metadata": {
        "colab": {
          "base_uri": "https://localhost:8080/"
        },
        "id": "si_0y1b3j3fK",
        "outputId": "d422658d-90f1-4ed1-cc85-55c034dea314"
      },
      "execution_count": null,
      "outputs": [
        {
          "output_type": "stream",
          "name": "stderr",
          "text": [
            "2022-07-18 18:30:35,638 : - precomputing L2-norms of word weight vectors\n"
          ]
        },
        {
          "output_type": "execute_result",
          "data": {
            "text/plain": [
              "[('apple', 0.6044677495956421),\n",
              " ('facebook', 0.5637120008468628),\n",
              " ('amazon', 0.5299876928329468),\n",
              " ('airbnb', 0.503768265247345),\n",
              " ('uber', 0.4953097701072693),\n",
              " ('yahoo', 0.48489999771118164),\n",
              " ('tesla', 0.4713868498802185),\n",
              " ('software', 0.4664422273635864),\n",
              " ('volkswagen', 0.46550387144088745),\n",
              " ('waze', 0.46312078833580017)]"
            ]
          },
          "metadata": {},
          "execution_count": 26
        }
      ]
    },
    {
      "cell_type": "code",
      "source": [
        "w2v_modelo.wv.most_similar('microsoft')"
      ],
      "metadata": {
        "colab": {
          "base_uri": "https://localhost:8080/"
        },
        "id": "qjiuKac9kfWw",
        "outputId": "f1ab5096-bb37-4bc9-fb29-44bc807b2a25"
      },
      "execution_count": null,
      "outputs": [
        {
          "output_type": "execute_result",
          "data": {
            "text/plain": [
              "[('amazon', 0.5604841709136963),\n",
              " ('unilever', 0.549654483795166),\n",
              " ('sky', 0.5477105379104614),\n",
              " ('spotify', 0.5383620858192444),\n",
              " ('walmart', 0.531922459602356),\n",
              " ('linkedin', 0.5120449066162109),\n",
              " ('canais', 0.5102347135543823),\n",
              " ('lego', 0.5070550441741943),\n",
              " ('tesla', 0.5066229104995728),\n",
              " ('braskem', 0.5035922527313232)]"
            ]
          },
          "metadata": {},
          "execution_count": 27
        }
      ]
    },
    {
      "cell_type": "code",
      "source": [
        "w2v_modelo.wv.most_similar('barcelona')"
      ],
      "metadata": {
        "colab": {
          "base_uri": "https://localhost:8080/"
        },
        "id": "9M5OwX2Mks70",
        "outputId": "3ad4c6de-1140-4f05-f7b5-160defc301c7"
      },
      "execution_count": null,
      "outputs": [
        {
          "output_type": "execute_result",
          "data": {
            "text/plain": [
              "[('barça', 0.5763355493545532),\n",
              " ('bayern', 0.574711263179779),\n",
              " ('madrid', 0.5668283700942993),\n",
              " ('psg', 0.5613793730735779),\n",
              " ('munique', 0.5544523000717163),\n",
              " ('lazio', 0.5514475107192993),\n",
              " ('juventus', 0.5487446784973145),\n",
              " ('atlético', 0.5408505201339722),\n",
              " ('chelsea', 0.536598265171051),\n",
              " ('united', 0.5313850045204163)]"
            ]
          },
          "metadata": {},
          "execution_count": 28
        }
      ]
    },
    {
      "cell_type": "code",
      "source": [
        "w2v_modelo.wv.most_similar('messi')"
      ],
      "metadata": {
        "colab": {
          "base_uri": "https://localhost:8080/"
        },
        "id": "hziTMR0Ok6VB",
        "outputId": "7ffd3b78-844e-4da5-9844-4f8f10bd7f61"
      },
      "execution_count": null,
      "outputs": [
        {
          "output_type": "execute_result",
          "data": {
            "text/plain": [
              "[('suárez', 0.5869654417037964),\n",
              " ('cristiano', 0.5732539892196655),\n",
              " ('benzema', 0.536141037940979),\n",
              " ('tevez', 0.5237647294998169),\n",
              " ('ronaldo', 0.5219373106956482),\n",
              " ('psg', 0.5043196082115173),\n",
              " ('cavani', 0.49729764461517334),\n",
              " ('neymar', 0.49600374698638916),\n",
              " ('barça', 0.4932226538658142),\n",
              " ('mourinho', 0.4827943444252014)]"
            ]
          },
          "metadata": {},
          "execution_count": 29
        }
      ]
    },
    {
      "cell_type": "code",
      "source": [
        "w2v_modelo.wv.most_similar('gm')"
      ],
      "metadata": {
        "colab": {
          "base_uri": "https://localhost:8080/"
        },
        "id": "6tgYYuF2k_Go",
        "outputId": "698737d4-6294-4a3c-c93a-9886039c4b80"
      },
      "execution_count": null,
      "outputs": [
        {
          "output_type": "execute_result",
          "data": {
            "text/plain": [
              "[('embraer', 0.6763542294502258),\n",
              " ('volks', 0.6649438142776489),\n",
              " ('braskem', 0.6597031354904175),\n",
              " ('honda', 0.651060163974762),\n",
              " ('chrysler', 0.647871732711792),\n",
              " ('toyota', 0.6208133697509766),\n",
              " ('csn', 0.5903852581977844),\n",
              " ('itaipu', 0.5757691264152527),\n",
              " ('volkswagen', 0.5755221247673035),\n",
              " ('metalúrgicos', 0.5752568244934082)]"
            ]
          },
          "metadata": {},
          "execution_count": 30
        }
      ]
    },
    {
      "cell_type": "code",
      "source": [
        "# Treinamento em skipgram\n",
        "\n",
        "w2v_modelo_sg = Word2Vec(sg = 1, window = 5, size = 300, min_count = 5,\n",
        "                      alpha = 0.03, min_alpha = 0.007)\n",
        "\n",
        "w2v_modelo_sg.build_vocab(lista_lista_tokens, progress_per = 5000)\n",
        "\n",
        "w2v_modelo_sg.train(lista_lista_tokens, total_examples = w2v_modelo_sg.corpus_count,\n",
        "                 epochs = 30)"
      ],
      "metadata": {
        "colab": {
          "base_uri": "https://localhost:8080/"
        },
        "id": "9hSeUzQxlFOM",
        "outputId": "370ffd69-8035-471a-8a08-11c10f540d5c"
      },
      "execution_count": null,
      "outputs": [
        {
          "output_type": "stream",
          "name": "stderr",
          "text": [
            "2022-07-18 18:36:41,244 : - collecting all words and their counts\n",
            "2022-07-18 18:36:41,248 : - PROGRESS: at sentence #0, processed 0 words, keeping 0 word types\n",
            "2022-07-18 18:36:41,271 : - PROGRESS: at sentence #5000, processed 31930 words, keeping 10193 word types\n",
            "2022-07-18 18:36:41,297 : - PROGRESS: at sentence #10000, processed 63848 words, keeping 14989 word types\n",
            "2022-07-18 18:36:41,325 : - PROGRESS: at sentence #15000, processed 95753 words, keeping 18279 word types\n",
            "2022-07-18 18:36:41,366 : - PROGRESS: at sentence #20000, processed 127689 words, keeping 21033 word types\n",
            "2022-07-18 18:36:41,402 : - PROGRESS: at sentence #25000, processed 159589 words, keeping 23491 word types\n",
            "2022-07-18 18:36:41,469 : - PROGRESS: at sentence #30000, processed 191554 words, keeping 25494 word types\n",
            "2022-07-18 18:36:41,522 : - PROGRESS: at sentence #35000, processed 223412 words, keeping 27330 word types\n",
            "2022-07-18 18:36:41,556 : - PROGRESS: at sentence #40000, processed 255282 words, keeping 29053 word types\n",
            "2022-07-18 18:36:41,621 : - PROGRESS: at sentence #45000, processed 287297 words, keeping 30606 word types\n",
            "2022-07-18 18:36:41,652 : - PROGRESS: at sentence #50000, processed 319258 words, keeping 31964 word types\n",
            "2022-07-18 18:36:41,686 : - PROGRESS: at sentence #55000, processed 351437 words, keeping 33270 word types\n",
            "2022-07-18 18:36:41,733 : - PROGRESS: at sentence #60000, processed 383579 words, keeping 34520 word types\n",
            "2022-07-18 18:36:41,765 : - PROGRESS: at sentence #65000, processed 415565 words, keeping 35643 word types\n",
            "2022-07-18 18:36:41,827 : - PROGRESS: at sentence #70000, processed 447646 words, keeping 36719 word types\n",
            "2022-07-18 18:36:41,866 : - PROGRESS: at sentence #75000, processed 479568 words, keeping 37802 word types\n",
            "2022-07-18 18:36:41,937 : - PROGRESS: at sentence #80000, processed 511645 words, keeping 38814 word types\n",
            "2022-07-18 18:36:41,974 : - collected 39693 word types from a corpus of 540242 raw words and 84466 sentences\n",
            "2022-07-18 18:36:41,979 : - Loading a fresh vocabulary\n",
            "2022-07-18 18:36:42,084 : - effective_min_count=5 retains 12924 unique words (32% of original 39693, drops 26769)\n",
            "2022-07-18 18:36:42,089 : - effective_min_count=5 leaves 495223 word corpus (91% of original 540242, drops 45019)\n",
            "2022-07-18 18:36:42,172 : - deleting the raw counts dictionary of 39693 items\n",
            "2022-07-18 18:36:42,180 : - sample=0.001 downsamples 8 most-common words\n",
            "2022-07-18 18:36:42,184 : - downsampling leaves estimated 486147 word corpus (98.2% of prior 495223)\n",
            "2022-07-18 18:36:42,339 : - estimated required memory for 12924 words and 300 dimensions: 37479600 bytes\n",
            "2022-07-18 18:36:42,343 : - resetting layer weights\n",
            "2022-07-18 18:36:45,996 : - training model with 3 workers on 12924 vocabulary and 300 features, using sg=1 hs=0 sample=0.001 negative=5 window=5\n",
            "2022-07-18 18:36:47,034 : - EPOCH 1 - PROGRESS: at 24.10% examples, 114355 words/s, in_qsize 5, out_qsize 0\n",
            "2022-07-18 18:36:48,121 : - EPOCH 1 - PROGRESS: at 50.06% examples, 115080 words/s, in_qsize 4, out_qsize 1\n",
            "2022-07-18 18:36:49,161 : - EPOCH 1 - PROGRESS: at 75.90% examples, 117000 words/s, in_qsize 5, out_qsize 0\n",
            "2022-07-18 18:36:49,969 : - worker thread finished; awaiting finish of 2 more threads\n",
            "2022-07-18 18:36:49,998 : - worker thread finished; awaiting finish of 1 more threads\n",
            "2022-07-18 18:36:50,035 : - worker thread finished; awaiting finish of 0 more threads\n",
            "2022-07-18 18:36:50,036 : - EPOCH - 1 : training on 540242 raw words (486072 effective words) took 4.0s, 120717 effective words/s\n",
            "2022-07-18 18:36:51,063 : - EPOCH 2 - PROGRESS: at 22.25% examples, 106894 words/s, in_qsize 5, out_qsize 0\n",
            "2022-07-18 18:36:52,139 : - EPOCH 2 - PROGRESS: at 50.07% examples, 116398 words/s, in_qsize 5, out_qsize 0\n",
            "2022-07-18 18:36:53,276 : - EPOCH 2 - PROGRESS: at 75.91% examples, 114436 words/s, in_qsize 6, out_qsize 2\n",
            "2022-07-18 18:36:53,939 : - worker thread finished; awaiting finish of 2 more threads\n",
            "2022-07-18 18:36:54,047 : - worker thread finished; awaiting finish of 1 more threads\n",
            "2022-07-18 18:36:54,083 : - worker thread finished; awaiting finish of 0 more threads\n",
            "2022-07-18 18:36:54,086 : - EPOCH - 2 : training on 540242 raw words (486106 effective words) took 4.0s, 120506 effective words/s\n",
            "2022-07-18 18:36:55,137 : - EPOCH 3 - PROGRESS: at 25.95% examples, 121371 words/s, in_qsize 5, out_qsize 0\n",
            "2022-07-18 18:36:56,214 : - EPOCH 3 - PROGRESS: at 53.76% examples, 123286 words/s, in_qsize 6, out_qsize 0\n",
            "2022-07-18 18:36:57,287 : - EPOCH 3 - PROGRESS: at 83.29% examples, 126972 words/s, in_qsize 5, out_qsize 0\n",
            "2022-07-18 18:36:57,674 : - worker thread finished; awaiting finish of 2 more threads\n",
            "2022-07-18 18:36:57,717 : - worker thread finished; awaiting finish of 1 more threads\n",
            "2022-07-18 18:36:57,763 : - worker thread finished; awaiting finish of 0 more threads\n",
            "2022-07-18 18:36:57,764 : - EPOCH - 3 : training on 540242 raw words (486215 effective words) took 3.7s, 132609 effective words/s\n",
            "2022-07-18 18:36:58,824 : - EPOCH 4 - PROGRESS: at 25.97% examples, 120425 words/s, in_qsize 5, out_qsize 0\n",
            "2022-07-18 18:36:59,834 : - EPOCH 4 - PROGRESS: at 51.91% examples, 122413 words/s, in_qsize 5, out_qsize 0\n",
            "2022-07-18 18:37:00,952 : - EPOCH 4 - PROGRESS: at 74.06% examples, 113333 words/s, in_qsize 5, out_qsize 0\n",
            "2022-07-18 18:37:02,034 : - EPOCH 4 - PROGRESS: at 87.00% examples, 99330 words/s, in_qsize 5, out_qsize 0\n",
            "2022-07-18 18:37:02,719 : - worker thread finished; awaiting finish of 2 more threads\n",
            "2022-07-18 18:37:02,814 : - worker thread finished; awaiting finish of 1 more threads\n",
            "2022-07-18 18:37:02,844 : - worker thread finished; awaiting finish of 0 more threads\n",
            "2022-07-18 18:37:02,850 : - EPOCH - 4 : training on 540242 raw words (486135 effective words) took 5.1s, 95836 effective words/s\n",
            "2022-07-18 18:37:03,926 : - EPOCH 5 - PROGRESS: at 11.13% examples, 51070 words/s, in_qsize 5, out_qsize 0\n",
            "2022-07-18 18:37:04,935 : - EPOCH 5 - PROGRESS: at 24.10% examples, 56658 words/s, in_qsize 6, out_qsize 0\n",
            "2022-07-18 18:37:06,057 : - EPOCH 5 - PROGRESS: at 48.21% examples, 73354 words/s, in_qsize 5, out_qsize 0\n",
            "2022-07-18 18:37:07,072 : - EPOCH 5 - PROGRESS: at 74.04% examples, 85576 words/s, in_qsize 5, out_qsize 0\n",
            "2022-07-18 18:37:07,948 : - worker thread finished; awaiting finish of 2 more threads\n",
            "2022-07-18 18:37:07,968 : - worker thread finished; awaiting finish of 1 more threads\n",
            "2022-07-18 18:37:07,994 : - worker thread finished; awaiting finish of 0 more threads\n",
            "2022-07-18 18:37:07,996 : - EPOCH - 5 : training on 540242 raw words (486035 effective words) took 5.1s, 94823 effective words/s\n",
            "2022-07-18 18:37:09,027 : - EPOCH 6 - PROGRESS: at 24.09% examples, 115576 words/s, in_qsize 4, out_qsize 1\n",
            "2022-07-18 18:37:10,134 : - EPOCH 6 - PROGRESS: at 51.91% examples, 118877 words/s, in_qsize 5, out_qsize 0\n",
            "2022-07-18 18:37:11,140 : - EPOCH 6 - PROGRESS: at 79.59% examples, 123792 words/s, in_qsize 5, out_qsize 0\n",
            "2022-07-18 18:37:11,726 : - worker thread finished; awaiting finish of 2 more threads\n",
            "2022-07-18 18:37:11,745 : - worker thread finished; awaiting finish of 1 more threads\n",
            "2022-07-18 18:37:11,807 : - worker thread finished; awaiting finish of 0 more threads\n",
            "2022-07-18 18:37:11,811 : - EPOCH - 6 : training on 540242 raw words (486153 effective words) took 3.8s, 128089 effective words/s\n",
            "2022-07-18 18:37:12,918 : - EPOCH 7 - PROGRESS: at 24.10% examples, 107356 words/s, in_qsize 5, out_qsize 0\n",
            "2022-07-18 18:37:14,002 : - EPOCH 7 - PROGRESS: at 50.05% examples, 111662 words/s, in_qsize 4, out_qsize 1\n",
            "2022-07-18 18:37:15,114 : - EPOCH 7 - PROGRESS: at 79.60% examples, 117706 words/s, in_qsize 5, out_qsize 0\n",
            "2022-07-18 18:37:15,723 : - worker thread finished; awaiting finish of 2 more threads\n",
            "2022-07-18 18:37:15,795 : - worker thread finished; awaiting finish of 1 more threads\n",
            "2022-07-18 18:37:15,835 : - worker thread finished; awaiting finish of 0 more threads\n",
            "2022-07-18 18:37:15,837 : - EPOCH - 7 : training on 540242 raw words (486083 effective words) took 4.0s, 121247 effective words/s\n",
            "2022-07-18 18:37:16,930 : - EPOCH 8 - PROGRESS: at 24.10% examples, 110283 words/s, in_qsize 5, out_qsize 0\n",
            "2022-07-18 18:37:17,964 : - EPOCH 8 - PROGRESS: at 48.21% examples, 111589 words/s, in_qsize 6, out_qsize 1\n",
            "2022-07-18 18:37:19,070 : - EPOCH 8 - PROGRESS: at 75.91% examples, 115174 words/s, in_qsize 5, out_qsize 0\n",
            "2022-07-18 18:37:19,791 : - worker thread finished; awaiting finish of 2 more threads\n",
            "2022-07-18 18:37:19,868 : - worker thread finished; awaiting finish of 1 more threads\n",
            "2022-07-18 18:37:19,888 : - worker thread finished; awaiting finish of 0 more threads\n",
            "2022-07-18 18:37:19,890 : - EPOCH - 8 : training on 540242 raw words (486089 effective words) took 4.0s, 120861 effective words/s\n",
            "2022-07-18 18:37:20,991 : - EPOCH 9 - PROGRESS: at 24.10% examples, 108212 words/s, in_qsize 4, out_qsize 1\n",
            "2022-07-18 18:37:22,030 : - EPOCH 9 - PROGRESS: at 55.60% examples, 127211 words/s, in_qsize 5, out_qsize 0\n",
            "2022-07-18 18:37:23,051 : - EPOCH 9 - PROGRESS: at 85.15% examples, 131691 words/s, in_qsize 6, out_qsize 0\n",
            "2022-07-18 18:37:23,395 : - worker thread finished; awaiting finish of 2 more threads\n",
            "2022-07-18 18:37:23,461 : - worker thread finished; awaiting finish of 1 more threads\n",
            "2022-07-18 18:37:23,489 : - worker thread finished; awaiting finish of 0 more threads\n",
            "2022-07-18 18:37:23,492 : - EPOCH - 9 : training on 540242 raw words (486142 effective words) took 3.6s, 135669 effective words/s\n",
            "2022-07-18 18:37:24,584 : - EPOCH 10 - PROGRESS: at 27.79% examples, 125588 words/s, in_qsize 4, out_qsize 1\n",
            "2022-07-18 18:37:25,635 : - EPOCH 10 - PROGRESS: at 59.32% examples, 135439 words/s, in_qsize 6, out_qsize 0\n",
            "2022-07-18 18:37:26,645 : - EPOCH 10 - PROGRESS: at 87.00% examples, 134822 words/s, in_qsize 5, out_qsize 0\n",
            "2022-07-18 18:37:27,022 : - worker thread finished; awaiting finish of 2 more threads\n",
            "2022-07-18 18:37:27,051 : - worker thread finished; awaiting finish of 1 more threads\n",
            "2022-07-18 18:37:27,117 : - worker thread finished; awaiting finish of 0 more threads\n",
            "2022-07-18 18:37:27,119 : - EPOCH - 10 : training on 540242 raw words (486028 effective words) took 3.6s, 134671 effective words/s\n",
            "2022-07-18 18:37:28,205 : - EPOCH 11 - PROGRESS: at 27.82% examples, 126921 words/s, in_qsize 5, out_qsize 0\n",
            "2022-07-18 18:37:29,284 : - EPOCH 11 - PROGRESS: at 55.60% examples, 125980 words/s, in_qsize 5, out_qsize 0\n",
            "2022-07-18 18:37:30,428 : - EPOCH 11 - PROGRESS: at 83.29% examples, 123213 words/s, in_qsize 5, out_qsize 0\n",
            "2022-07-18 18:37:30,879 : - worker thread finished; awaiting finish of 2 more threads\n",
            "2022-07-18 18:37:30,963 : - worker thread finished; awaiting finish of 1 more threads\n",
            "2022-07-18 18:37:30,983 : - worker thread finished; awaiting finish of 0 more threads\n",
            "2022-07-18 18:37:30,985 : - EPOCH - 11 : training on 540242 raw words (486232 effective words) took 3.8s, 126504 effective words/s\n",
            "2022-07-18 18:37:32,106 : - EPOCH 12 - PROGRESS: at 24.10% examples, 106604 words/s, in_qsize 5, out_qsize 0\n",
            "2022-07-18 18:37:33,218 : - EPOCH 12 - PROGRESS: at 55.61% examples, 122090 words/s, in_qsize 5, out_qsize 0\n",
            "2022-07-18 18:37:34,244 : - EPOCH 12 - PROGRESS: at 85.14% examples, 127868 words/s, in_qsize 5, out_qsize 0\n",
            "2022-07-18 18:37:34,581 : - worker thread finished; awaiting finish of 2 more threads\n",
            "2022-07-18 18:37:34,611 : - worker thread finished; awaiting finish of 1 more threads\n",
            "2022-07-18 18:37:34,647 : - worker thread finished; awaiting finish of 0 more threads\n",
            "2022-07-18 18:37:34,648 : - EPOCH - 12 : training on 540242 raw words (486258 effective words) took 3.6s, 133569 effective words/s\n",
            "2022-07-18 18:37:35,697 : - EPOCH 13 - PROGRESS: at 27.82% examples, 130248 words/s, in_qsize 5, out_qsize 0\n",
            "2022-07-18 18:37:36,715 : - EPOCH 13 - PROGRESS: at 57.46% examples, 135847 words/s, in_qsize 5, out_qsize 0\n",
            "2022-07-18 18:37:37,754 : - EPOCH 13 - PROGRESS: at 88.85% examples, 139624 words/s, in_qsize 5, out_qsize 0\n",
            "2022-07-18 18:37:38,036 : - worker thread finished; awaiting finish of 2 more threads\n",
            "2022-07-18 18:37:38,065 : - worker thread finished; awaiting finish of 1 more threads\n",
            "2022-07-18 18:37:38,074 : - worker thread finished; awaiting finish of 0 more threads\n",
            "2022-07-18 18:37:38,077 : - EPOCH - 13 : training on 540242 raw words (486052 effective words) took 3.4s, 142306 effective words/s\n",
            "2022-07-18 18:37:39,139 : - EPOCH 14 - PROGRESS: at 25.95% examples, 120622 words/s, in_qsize 5, out_qsize 0\n",
            "2022-07-18 18:37:40,146 : - EPOCH 14 - PROGRESS: at 53.75% examples, 127135 words/s, in_qsize 5, out_qsize 0\n",
            "2022-07-18 18:37:41,279 : - EPOCH 14 - PROGRESS: at 81.45% examples, 124324 words/s, in_qsize 5, out_qsize 0\n",
            "2022-07-18 18:37:41,780 : - worker thread finished; awaiting finish of 2 more threads\n",
            "2022-07-18 18:37:41,828 : - worker thread finished; awaiting finish of 1 more threads\n",
            "2022-07-18 18:37:41,895 : - worker thread finished; awaiting finish of 0 more threads\n",
            "2022-07-18 18:37:41,897 : - EPOCH - 14 : training on 540242 raw words (486170 effective words) took 3.8s, 127856 effective words/s\n",
            "2022-07-18 18:37:42,966 : - EPOCH 15 - PROGRESS: at 24.09% examples, 110830 words/s, in_qsize 4, out_qsize 1\n",
            "2022-07-18 18:37:44,078 : - EPOCH 15 - PROGRESS: at 51.92% examples, 116213 words/s, in_qsize 5, out_qsize 0\n",
            "2022-07-18 18:37:45,185 : - EPOCH 15 - PROGRESS: at 83.30% examples, 123605 words/s, in_qsize 5, out_qsize 0\n",
            "2022-07-18 18:37:45,647 : - worker thread finished; awaiting finish of 2 more threads\n",
            "2022-07-18 18:37:45,667 : - worker thread finished; awaiting finish of 1 more threads\n",
            "2022-07-18 18:37:45,717 : - worker thread finished; awaiting finish of 0 more threads\n",
            "2022-07-18 18:37:45,719 : - EPOCH - 15 : training on 540242 raw words (486128 effective words) took 3.8s, 127633 effective words/s\n",
            "2022-07-18 18:37:46,801 : - EPOCH 16 - PROGRESS: at 24.10% examples, 109875 words/s, in_qsize 5, out_qsize 0\n",
            "2022-07-18 18:37:47,856 : - EPOCH 16 - PROGRESS: at 51.91% examples, 118680 words/s, in_qsize 5, out_qsize 0\n",
            "2022-07-18 18:37:48,908 : - EPOCH 16 - PROGRESS: at 81.44% examples, 124754 words/s, in_qsize 5, out_qsize 0\n",
            "2022-07-18 18:37:49,470 : - worker thread finished; awaiting finish of 2 more threads\n",
            "2022-07-18 18:37:49,503 : - worker thread finished; awaiting finish of 1 more threads\n",
            "2022-07-18 18:37:49,511 : - worker thread finished; awaiting finish of 0 more threads\n",
            "2022-07-18 18:37:49,512 : - EPOCH - 16 : training on 540242 raw words (486182 effective words) took 3.8s, 128704 effective words/s\n",
            "2022-07-18 18:37:50,580 : - EPOCH 17 - PROGRESS: at 22.24% examples, 103106 words/s, in_qsize 5, out_qsize 0\n",
            "2022-07-18 18:37:51,696 : - EPOCH 17 - PROGRESS: at 53.76% examples, 120602 words/s, in_qsize 5, out_qsize 0\n",
            "2022-07-18 18:37:52,728 : - EPOCH 17 - PROGRESS: at 79.59% examples, 121059 words/s, in_qsize 5, out_qsize 0\n",
            "2022-07-18 18:37:53,382 : - worker thread finished; awaiting finish of 2 more threads\n",
            "2022-07-18 18:37:53,462 : - worker thread finished; awaiting finish of 1 more threads\n",
            "2022-07-18 18:37:53,472 : - worker thread finished; awaiting finish of 0 more threads\n",
            "2022-07-18 18:37:53,476 : - EPOCH - 17 : training on 540242 raw words (486104 effective words) took 3.9s, 123277 effective words/s\n",
            "2022-07-18 18:37:54,573 : - EPOCH 18 - PROGRESS: at 25.95% examples, 116701 words/s, in_qsize 6, out_qsize 1\n",
            "2022-07-18 18:37:55,685 : - EPOCH 18 - PROGRESS: at 55.61% examples, 124271 words/s, in_qsize 5, out_qsize 0\n",
            "2022-07-18 18:37:56,668 : - EPOCH 18 - PROGRESS: at 83.29% examples, 127528 words/s, in_qsize 5, out_qsize 0\n",
            "2022-07-18 18:37:57,210 : - worker thread finished; awaiting finish of 2 more threads\n",
            "2022-07-18 18:37:57,266 : - worker thread finished; awaiting finish of 1 more threads\n",
            "2022-07-18 18:37:57,313 : - worker thread finished; awaiting finish of 0 more threads\n",
            "2022-07-18 18:37:57,316 : - EPOCH - 18 : training on 540242 raw words (486138 effective words) took 3.8s, 127168 effective words/s\n",
            "2022-07-18 18:37:58,370 : - EPOCH 19 - PROGRESS: at 25.95% examples, 121135 words/s, in_qsize 5, out_qsize 0\n",
            "2022-07-18 18:37:59,406 : - EPOCH 19 - PROGRESS: at 53.76% examples, 125689 words/s, in_qsize 5, out_qsize 0\n",
            "2022-07-18 18:38:00,589 : - EPOCH 19 - PROGRESS: at 68.51% examples, 102142 words/s, in_qsize 5, out_qsize 0\n",
            "2022-07-18 18:38:01,703 : - EPOCH 19 - PROGRESS: at 90.69% examples, 100836 words/s, in_qsize 5, out_qsize 0\n",
            "2022-07-18 18:38:01,873 : - worker thread finished; awaiting finish of 2 more threads\n",
            "2022-07-18 18:38:02,087 : - worker thread finished; awaiting finish of 1 more threads\n",
            "2022-07-18 18:38:02,158 : - worker thread finished; awaiting finish of 0 more threads\n",
            "2022-07-18 18:38:02,162 : - EPOCH - 19 : training on 540242 raw words (486204 effective words) took 4.8s, 100617 effective words/s\n",
            "2022-07-18 18:38:03,232 : - EPOCH 20 - PROGRESS: at 16.70% examples, 78403 words/s, in_qsize 5, out_qsize 0\n",
            "2022-07-18 18:38:04,354 : - EPOCH 20 - PROGRESS: at 35.22% examples, 78700 words/s, in_qsize 5, out_qsize 0\n",
            "2022-07-18 18:38:05,396 : - EPOCH 20 - PROGRESS: at 53.76% examples, 81135 words/s, in_qsize 5, out_qsize 0\n",
            "2022-07-18 18:38:06,452 : - EPOCH 20 - PROGRESS: at 74.06% examples, 84251 words/s, in_qsize 5, out_qsize 0\n",
            "2022-07-18 18:38:07,469 : - EPOCH 20 - PROGRESS: at 90.67% examples, 83358 words/s, in_qsize 5, out_qsize 0\n",
            "2022-07-18 18:38:07,772 : - worker thread finished; awaiting finish of 2 more threads\n",
            "2022-07-18 18:38:07,794 : - worker thread finished; awaiting finish of 1 more threads\n",
            "2022-07-18 18:38:07,816 : - worker thread finished; awaiting finish of 0 more threads\n",
            "2022-07-18 18:38:07,822 : - EPOCH - 20 : training on 540242 raw words (486109 effective words) took 5.6s, 86181 effective words/s\n",
            "2022-07-18 18:38:08,895 : - EPOCH 21 - PROGRESS: at 12.97% examples, 60303 words/s, in_qsize 5, out_qsize 0\n",
            "2022-07-18 18:38:10,014 : - EPOCH 21 - PROGRESS: at 24.10% examples, 54127 words/s, in_qsize 5, out_qsize 0\n",
            "2022-07-18 18:38:11,069 : - EPOCH 21 - PROGRESS: at 42.66% examples, 64321 words/s, in_qsize 5, out_qsize 0\n",
            "2022-07-18 18:38:12,144 : - EPOCH 21 - PROGRESS: at 64.83% examples, 73331 words/s, in_qsize 4, out_qsize 1\n",
            "2022-07-18 18:38:13,338 : - EPOCH 21 - PROGRESS: at 79.60% examples, 70494 words/s, in_qsize 5, out_qsize 0\n",
            "2022-07-18 18:38:14,482 : - EPOCH 21 - PROGRESS: at 96.23% examples, 70549 words/s, in_qsize 3, out_qsize 0\n",
            "2022-07-18 18:38:14,496 : - worker thread finished; awaiting finish of 2 more threads\n",
            "2022-07-18 18:38:14,544 : - worker thread finished; awaiting finish of 1 more threads\n",
            "2022-07-18 18:38:14,565 : - worker thread finished; awaiting finish of 0 more threads\n",
            "2022-07-18 18:38:14,568 : - EPOCH - 21 : training on 540242 raw words (486107 effective words) took 6.7s, 72365 effective words/s\n",
            "2022-07-18 18:38:15,636 : - EPOCH 22 - PROGRESS: at 12.99% examples, 60490 words/s, in_qsize 5, out_qsize 0\n",
            "2022-07-18 18:38:16,647 : - EPOCH 22 - PROGRESS: at 33.36% examples, 78926 words/s, in_qsize 5, out_qsize 0\n",
            "2022-07-18 18:38:17,664 : - EPOCH 22 - PROGRESS: at 50.07% examples, 79145 words/s, in_qsize 5, out_qsize 0\n",
            "2022-07-18 18:38:18,763 : - EPOCH 22 - PROGRESS: at 68.53% examples, 79847 words/s, in_qsize 5, out_qsize 0\n",
            "2022-07-18 18:38:19,813 : - EPOCH 22 - PROGRESS: at 90.67% examples, 84481 words/s, in_qsize 4, out_qsize 1\n",
            "2022-07-18 18:38:20,081 : - worker thread finished; awaiting finish of 2 more threads\n",
            "2022-07-18 18:38:20,093 : - worker thread finished; awaiting finish of 1 more threads\n",
            "2022-07-18 18:38:20,100 : - worker thread finished; awaiting finish of 0 more threads\n",
            "2022-07-18 18:38:20,107 : - EPOCH - 22 : training on 540242 raw words (486247 effective words) took 5.5s, 88224 effective words/s\n",
            "2022-07-18 18:38:21,152 : - EPOCH 23 - PROGRESS: at 14.85% examples, 69909 words/s, in_qsize 5, out_qsize 0\n",
            "2022-07-18 18:38:22,155 : - EPOCH 23 - PROGRESS: at 35.22% examples, 84132 words/s, in_qsize 5, out_qsize 0\n",
            "2022-07-18 18:38:23,211 : - EPOCH 23 - PROGRESS: at 61.16% examples, 96138 words/s, in_qsize 5, out_qsize 0\n",
            "2022-07-18 18:38:24,264 : - EPOCH 23 - PROGRESS: at 88.85% examples, 104255 words/s, in_qsize 5, out_qsize 0\n",
            "2022-07-18 18:38:24,548 : - worker thread finished; awaiting finish of 2 more threads\n",
            "2022-07-18 18:38:24,580 : - worker thread finished; awaiting finish of 1 more threads\n",
            "2022-07-18 18:38:24,643 : - worker thread finished; awaiting finish of 0 more threads\n",
            "2022-07-18 18:38:24,646 : - EPOCH - 23 : training on 540242 raw words (486128 effective words) took 4.5s, 107473 effective words/s\n",
            "2022-07-18 18:38:25,672 : - EPOCH 24 - PROGRESS: at 25.97% examples, 124466 words/s, in_qsize 4, out_qsize 1\n",
            "2022-07-18 18:38:26,793 : - EPOCH 24 - PROGRESS: at 53.77% examples, 122201 words/s, in_qsize 5, out_qsize 0\n",
            "2022-07-18 18:38:27,976 : - EPOCH 24 - PROGRESS: at 81.44% examples, 119334 words/s, in_qsize 3, out_qsize 2\n",
            "2022-07-18 18:38:28,490 : - worker thread finished; awaiting finish of 2 more threads\n",
            "2022-07-18 18:38:28,645 : - worker thread finished; awaiting finish of 1 more threads\n",
            "2022-07-18 18:38:28,650 : - worker thread finished; awaiting finish of 0 more threads\n",
            "2022-07-18 18:38:28,652 : - EPOCH - 24 : training on 540242 raw words (486188 effective words) took 4.0s, 121750 effective words/s\n",
            "2022-07-18 18:38:29,676 : - EPOCH 25 - PROGRESS: at 18.54% examples, 89758 words/s, in_qsize 6, out_qsize 0\n",
            "2022-07-18 18:38:30,776 : - EPOCH 25 - PROGRESS: at 37.08% examples, 85576 words/s, in_qsize 5, out_qsize 0\n",
            "2022-07-18 18:38:31,999 : - EPOCH 25 - PROGRESS: at 50.07% examples, 73035 words/s, in_qsize 5, out_qsize 0\n",
            "2022-07-18 18:38:33,020 : - EPOCH 25 - PROGRESS: at 70.35% examples, 78631 words/s, in_qsize 6, out_qsize 0\n",
            "2022-07-18 18:38:34,089 : - EPOCH 25 - PROGRESS: at 87.00% examples, 78071 words/s, in_qsize 5, out_qsize 0\n",
            "2022-07-18 18:38:34,510 : - worker thread finished; awaiting finish of 2 more threads\n",
            "2022-07-18 18:38:34,567 : - worker thread finished; awaiting finish of 1 more threads\n",
            "2022-07-18 18:38:34,614 : - worker thread finished; awaiting finish of 0 more threads\n",
            "2022-07-18 18:38:34,616 : - EPOCH - 25 : training on 540242 raw words (486225 effective words) took 5.9s, 81812 effective words/s\n",
            "2022-07-18 18:38:35,760 : - EPOCH 26 - PROGRESS: at 24.10% examples, 103803 words/s, in_qsize 5, out_qsize 0\n",
            "2022-07-18 18:38:36,785 : - EPOCH 26 - PROGRESS: at 42.64% examples, 96121 words/s, in_qsize 6, out_qsize 2\n",
            "2022-07-18 18:38:37,898 : - EPOCH 26 - PROGRESS: at 68.53% examples, 101906 words/s, in_qsize 5, out_qsize 0\n",
            "2022-07-18 18:38:38,944 : - EPOCH 26 - PROGRESS: at 90.67% examples, 102224 words/s, in_qsize 5, out_qsize 0\n",
            "2022-07-18 18:38:39,191 : - worker thread finished; awaiting finish of 2 more threads\n",
            "2022-07-18 18:38:39,273 : - worker thread finished; awaiting finish of 1 more threads\n",
            "2022-07-18 18:38:39,292 : - worker thread finished; awaiting finish of 0 more threads\n",
            "2022-07-18 18:38:39,294 : - EPOCH - 26 : training on 540242 raw words (486074 effective words) took 4.7s, 104279 effective words/s\n",
            "2022-07-18 18:38:40,460 : - EPOCH 27 - PROGRESS: at 24.10% examples, 102100 words/s, in_qsize 6, out_qsize 1\n",
            "2022-07-18 18:38:41,472 : - EPOCH 27 - PROGRESS: at 50.07% examples, 112477 words/s, in_qsize 5, out_qsize 0\n",
            "2022-07-18 18:38:42,510 : - EPOCH 27 - PROGRESS: at 72.19% examples, 109711 words/s, in_qsize 5, out_qsize 0\n",
            "2022-07-18 18:38:43,519 : - EPOCH 27 - PROGRESS: at 90.67% examples, 104796 words/s, in_qsize 4, out_qsize 1\n",
            "2022-07-18 18:38:43,823 : - worker thread finished; awaiting finish of 2 more threads\n",
            "2022-07-18 18:38:43,832 : - worker thread finished; awaiting finish of 1 more threads\n",
            "2022-07-18 18:38:43,899 : - worker thread finished; awaiting finish of 0 more threads\n",
            "2022-07-18 18:38:43,907 : - EPOCH - 27 : training on 540242 raw words (486125 effective words) took 4.6s, 105820 effective words/s\n",
            "2022-07-18 18:38:45,058 : - EPOCH 28 - PROGRESS: at 18.54% examples, 79938 words/s, in_qsize 6, out_qsize 0\n",
            "2022-07-18 18:38:46,139 : - EPOCH 28 - PROGRESS: at 38.94% examples, 85615 words/s, in_qsize 5, out_qsize 0\n",
            "2022-07-18 18:38:47,155 : - EPOCH 28 - PROGRESS: at 57.46% examples, 86520 words/s, in_qsize 4, out_qsize 1\n",
            "2022-07-18 18:38:48,282 : - EPOCH 28 - PROGRESS: at 77.75% examples, 86875 words/s, in_qsize 5, out_qsize 0\n",
            "2022-07-18 18:38:49,202 : - worker thread finished; awaiting finish of 2 more threads\n",
            "2022-07-18 18:38:49,218 : - worker thread finished; awaiting finish of 1 more threads\n",
            "2022-07-18 18:38:49,329 : - EPOCH 28 - PROGRESS: at 100.00% examples, 90082 words/s, in_qsize 0, out_qsize 1\n",
            "2022-07-18 18:38:49,335 : - worker thread finished; awaiting finish of 0 more threads\n",
            "2022-07-18 18:38:49,341 : - EPOCH - 28 : training on 540242 raw words (486223 effective words) took 5.4s, 89874 effective words/s\n",
            "2022-07-18 18:38:50,418 : - EPOCH 29 - PROGRESS: at 16.70% examples, 78546 words/s, in_qsize 5, out_qsize 0\n",
            "2022-07-18 18:38:51,514 : - EPOCH 29 - PROGRESS: at 44.50% examples, 101477 words/s, in_qsize 5, out_qsize 0\n",
            "2022-07-18 18:38:52,611 : - EPOCH 29 - PROGRESS: at 72.22% examples, 108784 words/s, in_qsize 5, out_qsize 0\n",
            "2022-07-18 18:38:53,510 : - worker thread finished; awaiting finish of 2 more threads\n",
            "2022-07-18 18:38:53,541 : - worker thread finished; awaiting finish of 1 more threads\n",
            "2022-07-18 18:38:53,544 : - worker thread finished; awaiting finish of 0 more threads\n",
            "2022-07-18 18:38:53,547 : - EPOCH - 29 : training on 540242 raw words (486134 effective words) took 4.2s, 116855 effective words/s\n",
            "2022-07-18 18:38:54,620 : - EPOCH 30 - PROGRESS: at 24.09% examples, 110802 words/s, in_qsize 5, out_qsize 0\n",
            "2022-07-18 18:38:55,631 : - EPOCH 30 - PROGRESS: at 51.91% examples, 121837 words/s, in_qsize 5, out_qsize 0\n",
            "2022-07-18 18:38:56,697 : - EPOCH 30 - PROGRESS: at 77.74% examples, 120614 words/s, in_qsize 6, out_qsize 0\n",
            "2022-07-18 18:38:57,325 : - worker thread finished; awaiting finish of 2 more threads\n",
            "2022-07-18 18:38:57,340 : - worker thread finished; awaiting finish of 1 more threads\n",
            "2022-07-18 18:38:57,435 : - worker thread finished; awaiting finish of 0 more threads\n",
            "2022-07-18 18:38:57,439 : - EPOCH - 30 : training on 540242 raw words (486045 effective words) took 3.9s, 125451 effective words/s\n",
            "2022-07-18 18:38:57,440 : - training on a 16207260 raw words (14584131 effective words) took 131.4s, 110956 effective words/s\n"
          ]
        },
        {
          "output_type": "execute_result",
          "data": {
            "text/plain": [
              "(14584131, 16207260)"
            ]
          },
          "metadata": {},
          "execution_count": 31
        }
      ]
    },
    {
      "cell_type": "code",
      "source": [
        "w2v_modelo_sg.wv.most_similar('google')"
      ],
      "metadata": {
        "colab": {
          "base_uri": "https://localhost:8080/"
        },
        "id": "5No2kthyl4po",
        "outputId": "72b7facd-03a7-4174-98d8-c4cb20fd75c9"
      },
      "execution_count": null,
      "outputs": [
        {
          "output_type": "stream",
          "name": "stderr",
          "text": [
            "2022-07-18 18:39:54,813 : - precomputing L2-norms of word weight vectors\n"
          ]
        },
        {
          "output_type": "execute_result",
          "data": {
            "text/plain": [
              "[('reguladores', 0.43514037132263184),\n",
              " ('android', 0.4087178111076355),\n",
              " ('yahoo', 0.39338499307632446),\n",
              " ('apple', 0.3907841444015503),\n",
              " ('patentes', 0.3773953318595886),\n",
              " ('waze', 0.37691962718963623),\n",
              " ('anunciantes', 0.37423813343048096),\n",
              " ('buffett', 0.3738279342651367),\n",
              " ('verizon', 0.37024855613708496),\n",
              " ('concorda', 0.3633447289466858)]"
            ]
          },
          "metadata": {},
          "execution_count": 32
        }
      ]
    },
    {
      "cell_type": "code",
      "source": [
        "w2v_modelo_sg.wv.most_similar('microsoft')"
      ],
      "metadata": {
        "colab": {
          "base_uri": "https://localhost:8080/"
        },
        "id": "-a5UVibqmPjn",
        "outputId": "1bf1af56-4f30-4d99-ad07-e69388646f51"
      },
      "execution_count": null,
      "outputs": [
        {
          "output_type": "execute_result",
          "data": {
            "text/plain": [
              "[('linkedin', 0.538314938545227),\n",
              " ('software', 0.478837788105011),\n",
              " ('kraft', 0.47541582584381104),\n",
              " ('chips', 0.4728188216686249),\n",
              " ('fertilizantes', 0.47192099690437317),\n",
              " ('syngenta', 0.4683956503868103),\n",
              " ('silício', 0.457232266664505),\n",
              " ('verizon', 0.45216792821884155),\n",
              " ('casino', 0.45216476917266846),\n",
              " ('farmacêuticas', 0.4482840299606323)]"
            ]
          },
          "metadata": {},
          "execution_count": 33
        }
      ]
    },
    {
      "cell_type": "code",
      "source": [
        "w2v_modelo_sg.wv.most_similar('barcelona')"
      ],
      "metadata": {
        "colab": {
          "base_uri": "https://localhost:8080/"
        },
        "id": "YxnCQ7IomTf0",
        "outputId": "0f52c534-71dd-44fe-e622-0f27d5905880"
      },
      "execution_count": null,
      "outputs": [
        {
          "output_type": "execute_result",
          "data": {
            "text/plain": [
              "[('celta', 0.5635251998901367),\n",
              " ('espanyol', 0.5205758213996887),\n",
              " ('sevilla', 0.5068633556365967),\n",
              " ('athletic', 0.501343846321106),\n",
              " ('supercopa', 0.4850257337093353),\n",
              " ('villarreal', 0.4747573733329773),\n",
              " ('madrid', 0.4654512405395508),\n",
              " ('monaco', 0.4638095796108246),\n",
              " ('wolfsburg', 0.45099446177482605),\n",
              " ('bilbao', 0.4365606904029846)]"
            ]
          },
          "metadata": {},
          "execution_count": 34
        }
      ]
    },
    {
      "cell_type": "code",
      "source": [
        "w2v_modelo_sg.wv.most_similar('messi')"
      ],
      "metadata": {
        "colab": {
          "base_uri": "https://localhost:8080/"
        },
        "id": "TIH-9F5TmVAc",
        "outputId": "2235805c-bd80-4203-c50c-ac333ae76c40"
      },
      "execution_count": null,
      "outputs": [
        {
          "output_type": "execute_result",
          "data": {
            "text/plain": [
              "[('suárez', 0.5247154831886292),\n",
              " ('barça', 0.49950870871543884),\n",
              " ('cavani', 0.4800060987472534),\n",
              " ('benzema', 0.46022969484329224),\n",
              " ('neymar', 0.4595707058906555),\n",
              " ('mascherano', 0.45786550641059875),\n",
              " ('celta', 0.45686304569244385),\n",
              " ('chuteiras', 0.45665740966796875),\n",
              " ('athletic', 0.45067453384399414),\n",
              " ('camp', 0.45044469833374023)]"
            ]
          },
          "metadata": {},
          "execution_count": 35
        }
      ]
    },
    {
      "cell_type": "code",
      "source": [
        "w2v_modelo_sg.wv.most_similar('gm')"
      ],
      "metadata": {
        "colab": {
          "base_uri": "https://localhost:8080/"
        },
        "id": "NNlKXFwLmV8n",
        "outputId": "7eedebd5-624e-4adc-96a7-db80ca60e38b"
      },
      "execution_count": null,
      "outputs": [
        {
          "output_type": "execute_result",
          "data": {
            "text/plain": [
              "[('metalúrgicos', 0.5842221975326538),\n",
              " ('motors', 0.5402358770370483),\n",
              " ('honda', 0.5111962556838989),\n",
              " ('audi', 0.48762252926826477),\n",
              " ('airbags', 0.48758113384246826),\n",
              " ('toyota', 0.48290982842445374),\n",
              " ('bmw', 0.4782467484474182),\n",
              " ('dupont', 0.4752248227596283),\n",
              " ('montadora', 0.47462549805641174),\n",
              " ('airbag', 0.46664997935295105)]"
            ]
          },
          "metadata": {},
          "execution_count": 36
        }
      ]
    },
    {
      "cell_type": "code",
      "source": [
        "w2v_modelo.wv.save_word2vec_format('/content/drive/MyDrive/AulasAlura/Word2VecWordEmbedding/modelo_cbow.txt', binary = False)"
      ],
      "metadata": {
        "colab": {
          "base_uri": "https://localhost:8080/"
        },
        "id": "iB4xCMSYmsD6",
        "outputId": "4d5101c7-b239-4dbc-d6f7-106993d1138e"
      },
      "execution_count": null,
      "outputs": [
        {
          "output_type": "stream",
          "name": "stderr",
          "text": [
            "2022-07-18 18:44:04,251 : - storing 12924x300 projection weights into /content/drive/MyDrive/AulasAlura/Word2VecWordEmbedding/modelo_cbow.txt\n"
          ]
        }
      ]
    },
    {
      "cell_type": "code",
      "source": [
        "w2v_modelo_sg.wv.save_word2vec_format('/content/drive/MyDrive/AulasAlura/Word2VecWordEmbedding/modelo_sg.txt', binary = False)"
      ],
      "metadata": {
        "colab": {
          "base_uri": "https://localhost:8080/"
        },
        "id": "LVMKUmIunkzo",
        "outputId": "3faad024-c154-480a-d071-f33a40e32125"
      },
      "execution_count": null,
      "outputs": [
        {
          "output_type": "stream",
          "name": "stderr",
          "text": [
            "2022-07-18 18:44:33,761 : - storing 12924x300 projection weights into /content/drive/MyDrive/AulasAlura/Word2VecWordEmbedding/modelo_sg.txt\n"
          ]
        }
      ]
    }
  ]
}