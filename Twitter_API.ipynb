{
  "nbformat": 4,
  "nbformat_minor": 0,
  "metadata": {
    "colab": {
      "name": "Twitter_API.ipynb",
      "provenance": [],
      "collapsed_sections": [
        "pOEXry3qp-0u",
        "OioQwPZPbhwE",
        "cDfSkrLTwIk0"
      ],
      "include_colab_link": true
    },
    "kernelspec": {
      "name": "python3",
      "display_name": "Python 3"
    }
  },
  "cells": [
    {
      "cell_type": "markdown",
      "metadata": {
        "id": "view-in-github",
        "colab_type": "text"
      },
      "source": [
        "<a href=\"https://colab.research.google.com/github/Mateus-Brandao/Estudo/blob/main/Twitter_API.ipynb\" target=\"_parent\"><img src=\"https://colab.research.google.com/assets/colab-badge.svg\" alt=\"Open In Colab\"/></a>"
      ]
    },
    {
      "cell_type": "code",
      "metadata": {
        "id": "MahF9RRjbfOW"
      },
      "source": [
        "import tweepy as tw"
      ],
      "execution_count": null,
      "outputs": []
    },
    {
      "cell_type": "code",
      "metadata": {
        "id": "ACSMqeZYbtgT"
      },
      "source": [
        "consumer_key = 'eKX5CnNmTleImC1SBCPwaXa0I'\n",
        "consumer_secret = '5xSXxg1YBgiGjHBzzNQAOQFoGW8l2mwTvRXBerGBwbcApZ6mTY'\n",
        "access_token = '1549373982612275200-dBVC5wGjCqPnFZdz0S2ZhN3s6O5Otq'\n",
        "access_token_secret = 'eFI1nFncObf1qLFEsmzZuXXFjlHAT0SWOtxKXqXxHreV5'"
      ],
      "execution_count": null,
      "outputs": []
    },
    {
      "cell_type": "code",
      "metadata": {
        "id": "OQiYJgrBcHev"
      },
      "source": [
        "auth = tw.OAuthHandler(consumer_key, consumer_secret)"
      ],
      "execution_count": null,
      "outputs": []
    },
    {
      "cell_type": "code",
      "metadata": {
        "id": "vNN7diFVcauZ"
      },
      "source": [
        "auth.set_access_token(access_token,access_token_secret)"
      ],
      "execution_count": null,
      "outputs": []
    },
    {
      "cell_type": "code",
      "metadata": {
        "id": "YiQnxs7Dco3P"
      },
      "source": [
        "api = tw.API(auth)"
      ],
      "execution_count": null,
      "outputs": []
    },
    {
      "cell_type": "code",
      "metadata": {
        "id": "RYFpdck_cw9x"
      },
      "source": [
        "tweet = api.update_status(\"Python e Twitter na #Alura\")"
      ],
      "execution_count": null,
      "outputs": []
    },
    {
      "cell_type": "code",
      "metadata": {
        "id": "ghhX8iohdCsY",
        "outputId": "9fe03d42-3856-48c0-85e4-f32f86d4781b",
        "colab": {
          "base_uri": "https://localhost:8080/"
        }
      },
      "source": [
        "tweet._json"
      ],
      "execution_count": null,
      "outputs": [
        {
          "output_type": "execute_result",
          "data": {
            "text/plain": [
              "{'contributors': None,\n",
              " 'coordinates': None,\n",
              " 'created_at': 'Tue Jul 19 18:10:17 +0000 2022',\n",
              " 'entities': {'hashtags': [{'indices': [20, 26], 'text': 'Alura'}],\n",
              "  'symbols': [],\n",
              "  'urls': [],\n",
              "  'user_mentions': []},\n",
              " 'favorite_count': 0,\n",
              " 'favorited': False,\n",
              " 'geo': None,\n",
              " 'id': 1549456605846159361,\n",
              " 'id_str': '1549456605846159361',\n",
              " 'in_reply_to_screen_name': None,\n",
              " 'in_reply_to_status_id': None,\n",
              " 'in_reply_to_status_id_str': None,\n",
              " 'in_reply_to_user_id': None,\n",
              " 'in_reply_to_user_id_str': None,\n",
              " 'is_quote_status': False,\n",
              " 'lang': 'de',\n",
              " 'place': None,\n",
              " 'retweet_count': 0,\n",
              " 'retweeted': False,\n",
              " 'source': '<a href=\"https://github.com/Mateus-Brandao/Estudo\" rel=\"nofollow\">API Twitter MBCosta</a>',\n",
              " 'text': 'Python e Twitter na #Alura',\n",
              " 'truncated': False,\n",
              " 'user': {'contributors_enabled': False,\n",
              "  'created_at': 'Tue Jul 19 12:42:32 +0000 2022',\n",
              "  'default_profile': True,\n",
              "  'default_profile_image': False,\n",
              "  'description': '',\n",
              "  'entities': {'description': {'urls': []}},\n",
              "  'favourites_count': 0,\n",
              "  'follow_request_sent': False,\n",
              "  'followers_count': 0,\n",
              "  'following': False,\n",
              "  'friends_count': 19,\n",
              "  'geo_enabled': False,\n",
              "  'has_extended_profile': True,\n",
              "  'id': 1549373982612275200,\n",
              "  'id_str': '1549373982612275200',\n",
              "  'is_translation_enabled': False,\n",
              "  'is_translator': False,\n",
              "  'lang': None,\n",
              "  'listed_count': 0,\n",
              "  'location': 'Itu, SP',\n",
              "  'name': 'Mateus Brandão',\n",
              "  'notifications': False,\n",
              "  'profile_background_color': 'F5F8FA',\n",
              "  'profile_background_image_url': None,\n",
              "  'profile_background_image_url_https': None,\n",
              "  'profile_background_tile': False,\n",
              "  'profile_image_url': 'http://pbs.twimg.com/profile_images/1549374129161265154/dmkSCjUb_normal.jpg',\n",
              "  'profile_image_url_https': 'https://pbs.twimg.com/profile_images/1549374129161265154/dmkSCjUb_normal.jpg',\n",
              "  'profile_link_color': '1DA1F2',\n",
              "  'profile_sidebar_border_color': 'C0DEED',\n",
              "  'profile_sidebar_fill_color': 'DDEEF6',\n",
              "  'profile_text_color': '333333',\n",
              "  'profile_use_background_image': True,\n",
              "  'protected': False,\n",
              "  'screen_name': 'mbcosta0712',\n",
              "  'statuses_count': 1,\n",
              "  'time_zone': None,\n",
              "  'translator_type': 'none',\n",
              "  'url': None,\n",
              "  'utc_offset': None,\n",
              "  'verified': False,\n",
              "  'withheld_in_countries': []}}"
            ]
          },
          "metadata": {},
          "execution_count": 7
        }
      ]
    },
    {
      "cell_type": "markdown",
      "metadata": {
        "id": "LlFx0U6ZkWbw"
      },
      "source": [
        "# Pesquisando Tweets"
      ]
    },
    {
      "cell_type": "code",
      "metadata": {
        "id": "RkoGhalZkYr6"
      },
      "source": [
        "tweets = tw.Cursor(api.search,\n",
        "         q=\"festa\",\n",
        "         since='2019-01-01',\n",
        "         lang='pt').items(10)"
      ],
      "execution_count": null,
      "outputs": []
    },
    {
      "cell_type": "code",
      "metadata": {
        "id": "xVmerYoskutQ",
        "outputId": "786dcb64-21e3-409c-c309-0510d7894860",
        "colab": {
          "base_uri": "https://localhost:8080/"
        }
      },
      "source": [
        "for tweeet in tweets:\n",
        "  print(tweet.text)"
      ],
      "execution_count": null,
      "outputs": [
        {
          "output_type": "stream",
          "name": "stdout",
          "text": [
            "Python e Twitter na #Alura\n",
            "Python e Twitter na #Alura\n",
            "Python e Twitter na #Alura\n",
            "Python e Twitter na #Alura\n",
            "Python e Twitter na #Alura\n",
            "Python e Twitter na #Alura\n",
            "Python e Twitter na #Alura\n",
            "Python e Twitter na #Alura\n",
            "Python e Twitter na #Alura\n",
            "Python e Twitter na #Alura\n"
          ]
        }
      ]
    },
    {
      "cell_type": "code",
      "metadata": {
        "id": "H6_O_3QJk3yI"
      },
      "source": [
        "tweets = tw.Cursor(api.search,\n",
        "         q=\"python\",\n",
        "         since='2019-01-01',\n",
        "         lang='pt').items(10)"
      ],
      "execution_count": null,
      "outputs": []
    },
    {
      "cell_type": "code",
      "metadata": {
        "id": "tfiayQCflI9w",
        "outputId": "8681dd6c-b645-413e-b813-97348dbb2410",
        "colab": {
          "base_uri": "https://localhost:8080/"
        }
      },
      "source": [
        "for tweet in tweets:\n",
        "  print(tweet.user.screen_name)\n",
        "  print(tweet.user.location)\n",
        "  print('-----')\n",
        "  print('\\n')"
      ],
      "execution_count": null,
      "outputs": [
        {
          "output_type": "stream",
          "name": "stdout",
          "text": [
            "formosalena\n",
            "\n",
            "-----\n",
            "\n",
            "\n",
            "DarfVaderB3\n",
            "\n",
            "-----\n",
            "\n",
            "\n",
            "maisifmg\n",
            "\n",
            "-----\n",
            "\n",
            "\n",
            "TechjobApp\n",
            "\n",
            "-----\n",
            "\n",
            "\n",
            "djeefther\n",
            "Recife, Brazil\n",
            "-----\n",
            "\n",
            "\n",
            "skakun__\n",
            "someone, somewhere \n",
            "-----\n",
            "\n",
            "\n",
            "gioferrosql\n",
            "Na merda\n",
            "-----\n",
            "\n",
            "\n",
            "anaanaanarchist\n",
            "fuck off\n",
            "-----\n",
            "\n",
            "\n",
            "edgar_cutar\n",
            "São Paulo, SP\n",
            "-----\n",
            "\n",
            "\n",
            "paulovictormelo\n",
            "Belo Horizonte\n",
            "-----\n",
            "\n",
            "\n",
            "juuh42dias\n",
            "🌎\n",
            "-----\n",
            "\n",
            "\n",
            "vagasprajr\n",
            "\n",
            "-----\n",
            "\n",
            "\n",
            "samanthareiis\n",
            "Rio de Janeiro - Brasil\n",
            "-----\n",
            "\n",
            "\n",
            "mazucke\n",
            "Marte\n",
            "-----\n",
            "\n",
            "\n",
            "PaulaSimiqueli\n",
            "Campinas, Brasil\n",
            "-----\n",
            "\n",
            "\n",
            "BolhaTech\n",
            "\n",
            "-----\n",
            "\n",
            "\n",
            "_camilamirai\n",
            "::1\n",
            "-----\n",
            "\n",
            "\n",
            "UniversoImpulso\n",
            "Brasil\n",
            "-----\n",
            "\n",
            "\n",
            "CodeWithTwitchi\n",
            "\n",
            "-----\n",
            "\n",
            "\n",
            "Sweetheartzss\n",
            "Trust no one.\n",
            "-----\n",
            "\n",
            "\n"
          ]
        }
      ]
    },
    {
      "cell_type": "code",
      "metadata": {
        "id": "yYbLO2ehlWQR"
      },
      "source": [
        "famosos = ['cauareymond','aguiarthur','ivetesangalo','ClaudiaLeitte','neymarjr','BruMarquezine','mariruybarbosa',\n",
        "'FePaesLeme','Tatawerneck','FlaviaAleReal','julianapaes','dedesecco','SabrinaSato','ahickmann','gusttavo_lima','Anitta',\n",
        "'CarolCastroReal','gio_antonelli','maisa','cleooficial','gewbank','taisdeverdade','otaviano','bernardipaloma',\n",
        "'IngridGuimaraes','olazaroramos','GalisteuOficial','debranascimento','FioMattheis','moalfradique','Nandacostareal']"
      ],
      "execution_count": null,
      "outputs": []
    },
    {
      "cell_type": "code",
      "metadata": {
        "id": "OEhnEPIsndXw",
        "outputId": "a4acf579-893b-409e-d248-ac8c14647ca2",
        "colab": {
          "base_uri": "https://localhost:8080/"
        }
      },
      "source": [
        "len(famosos)"
      ],
      "execution_count": null,
      "outputs": [
        {
          "output_type": "execute_result",
          "data": {
            "text/plain": [
              "31"
            ]
          },
          "metadata": {},
          "execution_count": 15
        }
      ]
    },
    {
      "cell_type": "code",
      "metadata": {
        "id": "W43AU0axnejo",
        "outputId": "b8e1ac47-ad61-4583-aa01-a26d3d88b851",
        "colab": {
          "base_uri": "https://localhost:8080/"
        }
      },
      "source": [
        "for famoso in famosos:\n",
        "  tweets = tw.Cursor(api.search,\n",
        "         q=famoso,\n",
        "         since='2019-01-01').items(10)\n",
        "  print('Autor: ', famoso)\n",
        "  print('Imagens postadas:')\n",
        "  \n",
        "  for tweet in tweets:\n",
        "    if 'media' in tweet.entities:\n",
        "      print(tweet.entities['media'][0]['media_url'])\n",
        "      \n",
        "  print('-----')\n",
        "  print('\\n')\n",
        "    "
      ],
      "execution_count": null,
      "outputs": [
        {
          "output_type": "stream",
          "name": "stdout",
          "text": [
            "Autor:  cauareymond\n",
            "Imagens postadas:\n",
            "http://pbs.twimg.com/media/FX9j6hOWAAAS8zB.jpg\n",
            "http://pbs.twimg.com/media/FX9j6hOWAAAS8zB.jpg\n",
            "http://pbs.twimg.com/media/FX9j6hOWAAAS8zB.jpg\n",
            "-----\n",
            "\n",
            "\n",
            "Autor:  aguiarthur\n",
            "Imagens postadas:\n",
            "http://pbs.twimg.com/media/FYCMgp5XwAQVKAC.jpg\n",
            "http://pbs.twimg.com/tweet_video_thumb/FYDDfJxWYAE9c3v.jpg\n",
            "-----\n",
            "\n",
            "\n",
            "Autor:  ivetesangalo\n",
            "Imagens postadas:\n",
            "http://pbs.twimg.com/ext_tw_video_thumb/1549153081874677761/pu/img/KebRfjuXQmq1nW1e.jpg\n",
            "http://pbs.twimg.com/ext_tw_video_thumb/1018185339435933697/pu/img/me58Wk2zjnLkdBDv.jpg\n",
            "http://pbs.twimg.com/ext_tw_video_thumb/1549212640735543308/pu/img/_vjls5nWy9c-qSjW.jpg\n",
            "http://pbs.twimg.com/media/FYCd_-YX0AA7k_2.jpg\n",
            "http://pbs.twimg.com/ext_tw_video_thumb/1548883850494976001/pu/img/5GDyayVe_qvxQxMf.jpg\n",
            "http://pbs.twimg.com/media/FYBuEEEWIAEMy8J.jpg\n",
            "http://pbs.twimg.com/ext_tw_video_thumb/1549169910944759811/pu/img/ccL_fuuSc7Nv1Rap.jpg\n",
            "http://pbs.twimg.com/media/FYBuEEEWIAEMy8J.jpg\n",
            "http://pbs.twimg.com/ext_tw_video_thumb/1548883850494976001/pu/img/5GDyayVe_qvxQxMf.jpg\n",
            "-----\n",
            "\n",
            "\n",
            "Autor:  ClaudiaLeitte\n",
            "Imagens postadas:\n",
            "-----\n",
            "\n",
            "\n",
            "Autor:  neymarjr\n",
            "Imagens postadas:\n",
            "http://pbs.twimg.com/tweet_video_thumb/FYDFzB7XkAE_The.jpg\n",
            "http://pbs.twimg.com/tweet_video_thumb/FYDFajqXoAEucvG.jpg\n",
            "-----\n",
            "\n",
            "\n",
            "Autor:  BruMarquezine\n",
            "Imagens postadas:\n",
            "http://pbs.twimg.com/ext_tw_video_thumb/1549453844555436033/pu/img/zYpLeXzCRckauMXq.jpg\n",
            "http://pbs.twimg.com/media/FYDDUcwWYAED03W.jpg\n",
            "http://pbs.twimg.com/tweet_video_thumb/FYCwGI3WYAQjDSF.jpg\n",
            "-----\n",
            "\n",
            "\n",
            "Autor:  mariruybarbosa\n",
            "Imagens postadas:\n",
            "http://pbs.twimg.com/media/FYDFiAnXoAAx5Vx.jpg\n",
            "http://pbs.twimg.com/media/FX4yFecXoAgPMy8.jpg\n",
            "http://pbs.twimg.com/media/FX4yFecXoAgPMy8.jpg\n",
            "http://pbs.twimg.com/media/FX4yFecXoAgPMy8.jpg\n",
            "http://pbs.twimg.com/media/FX1KksyUsAMFSH1.jpg\n",
            "http://pbs.twimg.com/media/FX4yFecXoAgPMy8.jpg\n",
            "-----\n",
            "\n",
            "\n",
            "Autor:  FePaesLeme\n",
            "Imagens postadas:\n",
            "http://pbs.twimg.com/tweet_video_thumb/FX_RagxWQAEudre.jpg\n",
            "http://pbs.twimg.com/media/FA_oqpQVgAwpQwL.jpg\n",
            "http://pbs.twimg.com/tweet_video_thumb/FX-9E9eWQAIATba.jpg\n",
            "-----\n",
            "\n",
            "\n",
            "Autor:  Tatawerneck\n",
            "Imagens postadas:\n",
            "http://pbs.twimg.com/media/FYCFaaEXEAEY6RP.jpg\n",
            "http://pbs.twimg.com/tweet_video_thumb/FCodybiXoAcuKZ7.jpg\n",
            "-----\n",
            "\n",
            "\n",
            "Autor:  FlaviaAleReal\n",
            "Imagens postadas:\n",
            "http://pbs.twimg.com/ext_tw_video_thumb/1549443924649017345/pu/img/Rcozp8cUZtizbz5e.jpg\n",
            "http://pbs.twimg.com/ext_tw_video_thumb/1547223244347957250/pu/img/Hg1-McATEe6cJ3Av.jpg\n",
            "http://pbs.twimg.com/media/FX9bO4aWIAEEOtd.jpg\n",
            "http://pbs.twimg.com/media/FX9bO4aWIAEEOtd.jpg\n",
            "http://pbs.twimg.com/media/FX9bO4aWIAEEOtd.jpg\n",
            "http://pbs.twimg.com/media/FX9bO4aWIAEEOtd.jpg\n",
            "http://pbs.twimg.com/media/FX9bO4aWIAEEOtd.jpg\n",
            "-----\n",
            "\n",
            "\n",
            "Autor:  julianapaes\n",
            "Imagens postadas:\n",
            "http://pbs.twimg.com/media/FX9R-hRWIAEssny.jpg\n",
            "-----\n",
            "\n",
            "\n",
            "Autor:  dedesecco\n",
            "Imagens postadas:\n",
            "http://pbs.twimg.com/media/FYCcH6VXEAE9rhG.jpg\n",
            "http://pbs.twimg.com/media/FX_W24hX0AIHkcg.jpg\n",
            "http://pbs.twimg.com/media/FX45GTVWAAAkB9N.jpg\n",
            "-----\n",
            "\n",
            "\n",
            "Autor:  SabrinaSato\n",
            "Imagens postadas:\n",
            "http://pbs.twimg.com/ext_tw_video_thumb/1549220654418956288/pu/img/HT-0pjv2zDep3FHy.jpg\n",
            "http://pbs.twimg.com/tweet_video_thumb/FX_oMv8XwAA1iFk.jpg\n",
            "-----\n",
            "\n",
            "\n",
            "Autor:  ahickmann\n",
            "Imagens postadas:\n",
            "http://pbs.twimg.com/media/FYCZZqBXkAMC8IO.jpg\n",
            "-----\n",
            "\n",
            "\n",
            "Autor:  gusttavo_lima\n",
            "Imagens postadas:\n",
            "-----\n",
            "\n",
            "\n",
            "Autor:  Anitta\n",
            "Imagens postadas:\n",
            "http://pbs.twimg.com/ext_tw_video_thumb/1548817475348955136/pu/img/KeqqsoDnELA6uu4v.jpg\n",
            "http://pbs.twimg.com/ext_tw_video_thumb/1549433182814031873/pu/img/FKwUD_j-7KpfWKoq.jpg\n",
            "http://pbs.twimg.com/ext_tw_video_thumb/1546559021745856513/pu/img/NdWZlxw9qKSH7ECU.jpg\n",
            "http://pbs.twimg.com/media/FYCXl9PWAAADKVQ.jpg\n",
            "http://pbs.twimg.com/ext_tw_video_thumb/1548817475348955136/pu/img/KeqqsoDnELA6uu4v.jpg\n",
            "http://pbs.twimg.com/media/FXzgIYiUIAc1vEt.jpg\n",
            "http://pbs.twimg.com/media/FYC9WZVXwAIa7GW.jpg\n",
            "-----\n",
            "\n",
            "\n",
            "Autor:  CarolCastroReal\n",
            "Imagens postadas:\n",
            "http://pbs.twimg.com/media/FXq90DUUYAgfvag.jpg\n",
            "http://pbs.twimg.com/media/FXqnNE5VUAEP2Ai.jpg\n",
            "http://pbs.twimg.com/ext_tw_video_thumb/1547693062968619011/pu/img/2K47MjQjuS_x-3vB.jpg\n",
            "http://pbs.twimg.com/ext_tw_video_thumb/1547693062968619011/pu/img/2K47MjQjuS_x-3vB.jpg\n",
            "-----\n",
            "\n",
            "\n",
            "Autor:  gio_antonelli\n",
            "Imagens postadas:\n",
            "http://pbs.twimg.com/media/FX_WzhWWYAY4zT3.jpg\n",
            "http://pbs.twimg.com/media/FX_WzhWWYAY4zT3.jpg\n",
            "http://pbs.twimg.com/media/FX_WzhWWYAY4zT3.jpg\n",
            "http://pbs.twimg.com/ext_tw_video_thumb/1548770786076409857/pu/img/fMuYRtFqAckiXE_N.jpg\n",
            "-----\n",
            "\n",
            "\n",
            "Autor:  maisa\n",
            "Imagens postadas:\n",
            "http://pbs.twimg.com/media/FYCvWORXkAIAKLF.jpg\n",
            "http://pbs.twimg.com/media/FYCvWORXkAIAKLF.jpg\n",
            "http://pbs.twimg.com/media/FX-29g4WIAErW1o.jpg\n",
            "http://pbs.twimg.com/media/FYCvWORXkAIAKLF.jpg\n",
            "-----\n",
            "\n",
            "\n",
            "Autor:  cleooficial\n",
            "Imagens postadas:\n",
            "-----\n",
            "\n",
            "\n",
            "Autor:  gewbank\n",
            "Imagens postadas:\n",
            "http://pbs.twimg.com/media/D9C0zsrW4AAcOzw.jpg\n",
            "-----\n",
            "\n",
            "\n",
            "Autor:  taisdeverdade\n",
            "Imagens postadas:\n",
            "http://pbs.twimg.com/media/FX-7Ro3XEAU7mCe.jpg\n",
            "http://pbs.twimg.com/media/FYCtxbkX0AANtvh.jpg\n",
            "http://pbs.twimg.com/media/FW8pF1TXoAEoKnN.jpg\n",
            "http://pbs.twimg.com/media/FX-7Ro3XEAU7mCe.jpg\n",
            "http://pbs.twimg.com/media/FYBaossVUAApX2D.jpg\n",
            "-----\n",
            "\n",
            "\n",
            "Autor:  otaviano\n",
            "Imagens postadas:\n",
            "http://pbs.twimg.com/ext_tw_video_thumb/1549443924649017345/pu/img/Rcozp8cUZtizbz5e.jpg\n",
            "http://pbs.twimg.com/ext_tw_video_thumb/1549431253086212096/pu/img/egREfeeIjCwWNA-F.jpg\n",
            "http://pbs.twimg.com/media/FYCvcI-XgAgZ6l3.jpg\n",
            "http://pbs.twimg.com/media/FYCvZ-rXkAEP206.jpg\n",
            "http://pbs.twimg.com/media/FYCvXLcWIAEj7Ep.jpg\n",
            "http://pbs.twimg.com/media/FYCvVDzXwAABZIp.jpg\n",
            "http://pbs.twimg.com/media/FYCvS9tWIAY5uYJ.jpg\n",
            "http://pbs.twimg.com/media/FYCvQGCXoAA0aMu.jpg\n",
            "http://pbs.twimg.com/ext_tw_video_thumb/1549430908381446146/pu/img/3FObUvFTE0nXGrRB.jpg\n",
            "http://pbs.twimg.com/ext_tw_video_thumb/1549430779540914178/pu/img/GzZmmqd5TGFhs463.jpg\n",
            "http://pbs.twimg.com/ext_tw_video_thumb/1549430190786453511/pu/img/ZphfZJkdO6sOHLuD.jpg\n",
            "http://pbs.twimg.com/ext_tw_video_thumb/1549430001866514432/pu/img/GczGpR7XMuLFPIf-.jpg\n",
            "http://pbs.twimg.com/ext_tw_video_thumb/1549429872631635969/pu/img/Zms_VCbR22QPT5J-.jpg\n",
            "http://pbs.twimg.com/ext_tw_video_thumb/1549429778708680709/pu/img/jT-xBcnCiXu3KZ9V.jpg\n",
            "-----\n",
            "\n",
            "\n",
            "Autor:  bernardipaloma\n",
            "Imagens postadas:\n",
            "http://pbs.twimg.com/media/FX6HgNaX0AA2GRY.jpg\n",
            "http://pbs.twimg.com/media/FX5YBS9WYAAFeUl.jpg\n",
            "http://pbs.twimg.com/media/FXzzC6HVEAMXPRe.png\n",
            "-----\n",
            "\n",
            "\n",
            "Autor:  IngridGuimaraes\n",
            "Imagens postadas:\n",
            "http://pbs.twimg.com/media/FYB-3FUXkAE0vrn.jpg\n",
            "http://pbs.twimg.com/media/FXWoIW2XwAEIm3C.jpg\n",
            "http://pbs.twimg.com/media/FXWoIW2XwAEIm3C.jpg\n",
            "http://pbs.twimg.com/media/FYCkXmVWYAQHeWk.jpg\n",
            "http://pbs.twimg.com/media/FYCkPqHWIAIJ7Pi.jpg\n",
            "http://pbs.twimg.com/media/FYCj9bHWIAAGi-6.jpg\n",
            "http://pbs.twimg.com/media/FYB-3FUXkAE0vrn.jpg\n",
            "http://pbs.twimg.com/media/FYB-3FUXkAE0vrn.jpg\n",
            "http://pbs.twimg.com/media/FYB-3FUXkAE0vrn.jpg\n",
            "http://pbs.twimg.com/media/FYB-3FUXkAE0vrn.jpg\n",
            "-----\n",
            "\n",
            "\n",
            "Autor:  olazaroramos\n",
            "Imagens postadas:\n",
            "http://pbs.twimg.com/media/FYCtc5rWIAcaINs.jpg\n",
            "-----\n",
            "\n",
            "\n",
            "Autor:  GalisteuOficial\n",
            "Imagens postadas:\n",
            "http://pbs.twimg.com/ext_tw_video_thumb/1549187467408019456/pu/img/R6d3aMkFevI8yDub.jpg\n",
            "http://pbs.twimg.com/ext_tw_video_thumb/1549187467408019456/pu/img/R6d3aMkFevI8yDub.jpg\n",
            "http://pbs.twimg.com/ext_tw_video_thumb/1549187467408019456/pu/img/R6d3aMkFevI8yDub.jpg\n",
            "http://pbs.twimg.com/media/FX-eALkXgAAM-j_.jpg\n",
            "http://pbs.twimg.com/ext_tw_video_thumb/1549187467408019456/pu/img/R6d3aMkFevI8yDub.jpg\n",
            "http://pbs.twimg.com/ext_tw_video_thumb/1549187467408019456/pu/img/R6d3aMkFevI8yDub.jpg\n",
            "http://pbs.twimg.com/ext_tw_video_thumb/1549187467408019456/pu/img/R6d3aMkFevI8yDub.jpg\n",
            "-----\n",
            "\n",
            "\n",
            "Autor:  debranascimento\n",
            "Imagens postadas:\n",
            "-----\n",
            "\n",
            "\n",
            "Autor:  FioMattheis\n",
            "Imagens postadas:\n",
            "http://pbs.twimg.com/media/D9C0zsrW4AAcOzw.jpg\n",
            "-----\n",
            "\n",
            "\n",
            "Autor:  moalfradique\n",
            "Imagens postadas:\n",
            "http://pbs.twimg.com/media/FXlmpNqXkAAZwmd.jpg\n",
            "-----\n",
            "\n",
            "\n",
            "Autor:  Nandacostareal\n",
            "Imagens postadas:\n",
            "-----\n",
            "\n",
            "\n"
          ]
        }
      ]
    },
    {
      "cell_type": "markdown",
      "metadata": {
        "id": "pOEXry3qp-0u"
      },
      "source": [
        "# Streaming"
      ]
    },
    {
      "cell_type": "code",
      "metadata": {
        "id": "OViM-_VjqZI7"
      },
      "source": [
        "class MinhaStreamListener(tw.StreamListener):\n",
        "  \n",
        "  def on_status(self, status):\n",
        "    print(status.user.screen_name)\n",
        "    print(status.text)\n",
        "    print('-----')\n",
        "    print('\\n')"
      ],
      "execution_count": null,
      "outputs": []
    },
    {
      "cell_type": "code",
      "metadata": {
        "id": "Wzy3q7cYosaY"
      },
      "source": [
        "minhaStream = tw.Stream(auth = auth, listener=MinhaStreamListener())"
      ],
      "execution_count": null,
      "outputs": []
    },
    {
      "cell_type": "code",
      "metadata": {
        "id": "ydBk1ZJ-q2vr"
      },
      "source": [
        "minhaStream.filter(track=famosos)"
      ],
      "execution_count": null,
      "outputs": []
    },
    {
      "cell_type": "code",
      "metadata": {
        "id": "8-rqKY9qzr1E",
        "outputId": "79087932-0bec-4e6a-e407-f48f3358a691",
        "colab": {
          "base_uri": "https://localhost:8080/"
        }
      },
      "source": [
        "!pip install azure-cognitiveservices-vision-computervision"
      ],
      "execution_count": null,
      "outputs": [
        {
          "output_type": "stream",
          "name": "stdout",
          "text": [
            "Looking in indexes: https://pypi.org/simple, https://us-python.pkg.dev/colab-wheels/public/simple/\n",
            "Collecting azure-cognitiveservices-vision-computervision\n",
            "  Downloading azure_cognitiveservices_vision_computervision-0.9.0-py2.py3-none-any.whl (39 kB)\n",
            "Collecting azure-common~=1.1\n",
            "  Downloading azure_common-1.1.28-py2.py3-none-any.whl (14 kB)\n",
            "Collecting msrest>=0.5.0\n",
            "  Downloading msrest-0.7.1-py3-none-any.whl (85 kB)\n",
            "\u001b[K     |████████████████████████████████| 85 kB 4.7 MB/s \n",
            "\u001b[?25hCollecting isodate>=0.6.0\n",
            "  Downloading isodate-0.6.1-py2.py3-none-any.whl (41 kB)\n",
            "\u001b[K     |████████████████████████████████| 41 kB 678 kB/s \n",
            "\u001b[?25hRequirement already satisfied: certifi>=2017.4.17 in /usr/local/lib/python3.7/dist-packages (from msrest>=0.5.0->azure-cognitiveservices-vision-computervision) (2022.6.15)\n",
            "Requirement already satisfied: requests~=2.16 in /usr/local/lib/python3.7/dist-packages (from msrest>=0.5.0->azure-cognitiveservices-vision-computervision) (2.23.0)\n",
            "Requirement already satisfied: requests-oauthlib>=0.5.0 in /usr/local/lib/python3.7/dist-packages (from msrest>=0.5.0->azure-cognitiveservices-vision-computervision) (1.3.1)\n",
            "Collecting azure-core>=1.24.0\n",
            "  Downloading azure_core-1.24.2-py3-none-any.whl (178 kB)\n",
            "\u001b[K     |████████████████████████████████| 178 kB 64.8 MB/s \n",
            "\u001b[?25hRequirement already satisfied: typing-extensions>=4.0.1 in /usr/local/lib/python3.7/dist-packages (from azure-core>=1.24.0->msrest>=0.5.0->azure-cognitiveservices-vision-computervision) (4.1.1)\n",
            "Requirement already satisfied: six>=1.11.0 in /usr/local/lib/python3.7/dist-packages (from azure-core>=1.24.0->msrest>=0.5.0->azure-cognitiveservices-vision-computervision) (1.15.0)\n",
            "Requirement already satisfied: chardet<4,>=3.0.2 in /usr/local/lib/python3.7/dist-packages (from requests~=2.16->msrest>=0.5.0->azure-cognitiveservices-vision-computervision) (3.0.4)\n",
            "Requirement already satisfied: idna<3,>=2.5 in /usr/local/lib/python3.7/dist-packages (from requests~=2.16->msrest>=0.5.0->azure-cognitiveservices-vision-computervision) (2.10)\n",
            "Requirement already satisfied: urllib3!=1.25.0,!=1.25.1,<1.26,>=1.21.1 in /usr/local/lib/python3.7/dist-packages (from requests~=2.16->msrest>=0.5.0->azure-cognitiveservices-vision-computervision) (1.24.3)\n",
            "Requirement already satisfied: oauthlib>=3.0.0 in /usr/local/lib/python3.7/dist-packages (from requests-oauthlib>=0.5.0->msrest>=0.5.0->azure-cognitiveservices-vision-computervision) (3.2.0)\n",
            "Installing collected packages: isodate, azure-core, msrest, azure-common, azure-cognitiveservices-vision-computervision\n",
            "Successfully installed azure-cognitiveservices-vision-computervision-0.9.0 azure-common-1.1.28 azure-core-1.24.2 isodate-0.6.1 msrest-0.7.1\n"
          ]
        }
      ]
    },
    {
      "cell_type": "code",
      "metadata": {
        "id": "6_lBbfFC0SMv"
      },
      "source": [
        "from azure.cognitiveservices.vision.computervision import ComputerVisionClient\n",
        "from msrest.authentication import CognitiveServicesCredentials"
      ],
      "execution_count": null,
      "outputs": []
    },
    {
      "cell_type": "code",
      "metadata": {
        "id": "x9PdEqG50jOx"
      },
      "source": [
        "credenciais = CognitiveServicesCredentials(\"231d28866f4f4f8085291bd649922c23\")"
      ],
      "execution_count": null,
      "outputs": []
    },
    {
      "cell_type": "code",
      "metadata": {
        "id": "I-_f0bKd04P3"
      },
      "source": [
        "client = ComputerVisionClient(\"https://westcentralus.api.cognitive.microsoft.com\",credenciais)"
      ],
      "execution_count": null,
      "outputs": []
    },
    {
      "cell_type": "code",
      "metadata": {
        "id": "kedVhVS91BzS",
        "outputId": "178a377e-a6b5-4e47-af4f-8d062d5e5759",
        "colab": {
          "base_uri": "https://localhost:8080/",
          "height": 35
        }
      },
      "source": [
        "client.api_version"
      ],
      "execution_count": null,
      "outputs": [
        {
          "output_type": "execute_result",
          "data": {
            "text/plain": [
              "'3.2'"
            ],
            "application/vnd.google.colaboratory.intrinsic+json": {
              "type": "string"
            }
          },
          "metadata": {},
          "execution_count": 24
        }
      ]
    },
    {
      "cell_type": "markdown",
      "metadata": {
        "id": "GEwJp_Sq3xE8"
      },
      "source": [
        "![](http://pbs.twimg.com/media/ECx6hK-WwAAPzeE.jpg)"
      ]
    },
    {
      "cell_type": "code",
      "metadata": {
        "id": "AUpNeqA6IniC",
        "colab": {
          "base_uri": "https://localhost:8080/",
          "height": 606
        },
        "outputId": "957adbf6-93ef-44ea-da7a-c4dfc231e860"
      },
      "source": [
        "from azure.cognitiveservices.vision.computervision.models import VisualFeatureTypes\n",
        "\n",
        "url = \"http://pbs.twimg.com/media/ECx6hK-WwAAPzeE.jpg\"\n",
        "\n",
        "analize_de_imagem = client.analyze_image(url,VisualFeatureTypes.tags)"
      ],
      "execution_count": null,
      "outputs": [
        {
          "output_type": "error",
          "ename": "TypeError",
          "evalue": "ignored",
          "traceback": [
            "\u001b[0;31m---------------------------------------------------------------------------\u001b[0m",
            "\u001b[0;31mValueError\u001b[0m                                Traceback (most recent call last)",
            "\u001b[0;31mValueError\u001b[0m: 'T' is not a valid VisualFeatureTypes",
            "\nDuring handling of the above exception, another exception occurred:\n",
            "\u001b[0;31mValueError\u001b[0m                                Traceback (most recent call last)",
            "\u001b[0;32m/usr/local/lib/python3.7/dist-packages/msrest/serialization.py\u001b[0m in \u001b[0;36mserialize_enum\u001b[0;34m(attr, enum_obj)\u001b[0m\n\u001b[1;32m   1006\u001b[0m         \u001b[0;32mtry\u001b[0m\u001b[0;34m:\u001b[0m\u001b[0;34m\u001b[0m\u001b[0;34m\u001b[0m\u001b[0m\n\u001b[0;32m-> 1007\u001b[0;31m             \u001b[0menum_obj\u001b[0m\u001b[0;34m(\u001b[0m\u001b[0mresult\u001b[0m\u001b[0;34m)\u001b[0m\u001b[0;34m\u001b[0m\u001b[0;34m\u001b[0m\u001b[0m\n\u001b[0m\u001b[1;32m   1008\u001b[0m             \u001b[0;32mreturn\u001b[0m \u001b[0mresult\u001b[0m\u001b[0;34m\u001b[0m\u001b[0;34m\u001b[0m\u001b[0m\n",
            "\u001b[0;32m/usr/lib/python3.7/enum.py\u001b[0m in \u001b[0;36m__call__\u001b[0;34m(cls, value, names, module, qualname, type, start)\u001b[0m\n\u001b[1;32m    314\u001b[0m         \u001b[0;32mif\u001b[0m \u001b[0mnames\u001b[0m \u001b[0;32mis\u001b[0m \u001b[0;32mNone\u001b[0m\u001b[0;34m:\u001b[0m  \u001b[0;31m# simple value lookup\u001b[0m\u001b[0;34m\u001b[0m\u001b[0;34m\u001b[0m\u001b[0m\n\u001b[0;32m--> 315\u001b[0;31m             \u001b[0;32mreturn\u001b[0m \u001b[0mcls\u001b[0m\u001b[0;34m.\u001b[0m\u001b[0m__new__\u001b[0m\u001b[0;34m(\u001b[0m\u001b[0mcls\u001b[0m\u001b[0;34m,\u001b[0m \u001b[0mvalue\u001b[0m\u001b[0;34m)\u001b[0m\u001b[0;34m\u001b[0m\u001b[0;34m\u001b[0m\u001b[0m\n\u001b[0m\u001b[1;32m    316\u001b[0m         \u001b[0;31m# otherwise, functional API: we're creating a new Enum type\u001b[0m\u001b[0;34m\u001b[0m\u001b[0;34m\u001b[0m\u001b[0;34m\u001b[0m\u001b[0m\n",
            "\u001b[0;32m/usr/lib/python3.7/enum.py\u001b[0m in \u001b[0;36m__new__\u001b[0;34m(cls, value)\u001b[0m\n\u001b[1;32m    568\u001b[0m             \u001b[0mexc\u001b[0m\u001b[0;34m.\u001b[0m\u001b[0m__context__\u001b[0m \u001b[0;34m=\u001b[0m \u001b[0mve_exc\u001b[0m\u001b[0;34m\u001b[0m\u001b[0;34m\u001b[0m\u001b[0m\n\u001b[0;32m--> 569\u001b[0;31m             \u001b[0;32mraise\u001b[0m \u001b[0mexc\u001b[0m\u001b[0;34m\u001b[0m\u001b[0;34m\u001b[0m\u001b[0m\n\u001b[0m\u001b[1;32m    570\u001b[0m \u001b[0;34m\u001b[0m\u001b[0m\n",
            "\u001b[0;32m/usr/lib/python3.7/enum.py\u001b[0m in \u001b[0;36m__new__\u001b[0;34m(cls, value)\u001b[0m\n\u001b[1;32m    552\u001b[0m             \u001b[0mexc\u001b[0m \u001b[0;34m=\u001b[0m \u001b[0;32mNone\u001b[0m\u001b[0;34m\u001b[0m\u001b[0;34m\u001b[0m\u001b[0m\n\u001b[0;32m--> 553\u001b[0;31m             \u001b[0mresult\u001b[0m \u001b[0;34m=\u001b[0m \u001b[0mcls\u001b[0m\u001b[0;34m.\u001b[0m\u001b[0m_missing_\u001b[0m\u001b[0;34m(\u001b[0m\u001b[0mvalue\u001b[0m\u001b[0;34m)\u001b[0m\u001b[0;34m\u001b[0m\u001b[0;34m\u001b[0m\u001b[0m\n\u001b[0m\u001b[1;32m    554\u001b[0m         \u001b[0;32mexcept\u001b[0m \u001b[0mException\u001b[0m \u001b[0;32mas\u001b[0m \u001b[0me\u001b[0m\u001b[0;34m:\u001b[0m\u001b[0;34m\u001b[0m\u001b[0;34m\u001b[0m\u001b[0m\n",
            "\u001b[0;32m/usr/lib/python3.7/enum.py\u001b[0m in \u001b[0;36m_missing_\u001b[0;34m(cls, value)\u001b[0m\n\u001b[1;32m    581\u001b[0m     \u001b[0;32mdef\u001b[0m \u001b[0m_missing_\u001b[0m\u001b[0;34m(\u001b[0m\u001b[0mcls\u001b[0m\u001b[0;34m,\u001b[0m \u001b[0mvalue\u001b[0m\u001b[0;34m)\u001b[0m\u001b[0;34m:\u001b[0m\u001b[0;34m\u001b[0m\u001b[0;34m\u001b[0m\u001b[0m\n\u001b[0;32m--> 582\u001b[0;31m         \u001b[0;32mraise\u001b[0m \u001b[0mValueError\u001b[0m\u001b[0;34m(\u001b[0m\u001b[0;34m\"%r is not a valid %s\"\u001b[0m \u001b[0;34m%\u001b[0m \u001b[0;34m(\u001b[0m\u001b[0mvalue\u001b[0m\u001b[0;34m,\u001b[0m \u001b[0mcls\u001b[0m\u001b[0;34m.\u001b[0m\u001b[0m__name__\u001b[0m\u001b[0;34m)\u001b[0m\u001b[0;34m)\u001b[0m\u001b[0;34m\u001b[0m\u001b[0;34m\u001b[0m\u001b[0m\n\u001b[0m\u001b[1;32m    583\u001b[0m \u001b[0;34m\u001b[0m\u001b[0m\n",
            "\u001b[0;31mValueError\u001b[0m: 'T' is not a valid VisualFeatureTypes",
            "\nDuring handling of the above exception, another exception occurred:\n",
            "\u001b[0;31mSerializationError\u001b[0m                        Traceback (most recent call last)",
            "\u001b[0;32m/usr/local/lib/python3.7/dist-packages/msrest/serialization.py\u001b[0m in \u001b[0;36mquery\u001b[0;34m(self, name, data, data_type, **kwargs)\u001b[0m\n\u001b[1;32m    681\u001b[0m                     \u001b[0;32mfor\u001b[0m \u001b[0md\u001b[0m\u001b[0;34m\u001b[0m\u001b[0;34m\u001b[0m\u001b[0m\n\u001b[0;32m--> 682\u001b[0;31m                     \u001b[0;32min\u001b[0m \u001b[0mdata\u001b[0m\u001b[0;34m\u001b[0m\u001b[0;34m\u001b[0m\u001b[0m\n\u001b[0m\u001b[1;32m    683\u001b[0m                 ]\n",
            "\u001b[0;32m/usr/local/lib/python3.7/dist-packages/msrest/serialization.py\u001b[0m in \u001b[0;36m<listcomp>\u001b[0;34m(.0)\u001b[0m\n\u001b[1;32m    680\u001b[0m                     \u001b[0mself\u001b[0m\u001b[0;34m.\u001b[0m\u001b[0mserialize_data\u001b[0m\u001b[0;34m(\u001b[0m\u001b[0md\u001b[0m\u001b[0;34m,\u001b[0m \u001b[0minternal_data_type\u001b[0m\u001b[0;34m,\u001b[0m \u001b[0;34m**\u001b[0m\u001b[0mkwargs\u001b[0m\u001b[0;34m)\u001b[0m \u001b[0;32mif\u001b[0m \u001b[0md\u001b[0m \u001b[0;32mis\u001b[0m \u001b[0;32mnot\u001b[0m \u001b[0;32mNone\u001b[0m \u001b[0;32melse\u001b[0m \u001b[0;34m\"\"\u001b[0m\u001b[0;34m\u001b[0m\u001b[0;34m\u001b[0m\u001b[0m\n\u001b[0;32m--> 681\u001b[0;31m                     \u001b[0;32mfor\u001b[0m \u001b[0md\u001b[0m\u001b[0;34m\u001b[0m\u001b[0;34m\u001b[0m\u001b[0m\n\u001b[0m\u001b[1;32m    682\u001b[0m                     \u001b[0;32min\u001b[0m \u001b[0mdata\u001b[0m\u001b[0;34m\u001b[0m\u001b[0;34m\u001b[0m\u001b[0m\n",
            "\u001b[0;32m/usr/local/lib/python3.7/dist-packages/msrest/serialization.py\u001b[0m in \u001b[0;36mserialize_data\u001b[0;34m(self, data, data_type, **kwargs)\u001b[0m\n\u001b[1;32m    781\u001b[0m             \u001b[0;32mif\u001b[0m \u001b[0;34m(\u001b[0m\u001b[0misinstance\u001b[0m\u001b[0;34m(\u001b[0m\u001b[0merr\u001b[0m\u001b[0;34m,\u001b[0m \u001b[0mSerializationError\u001b[0m\u001b[0;34m)\u001b[0m\u001b[0;34m)\u001b[0m\u001b[0;34m:\u001b[0m\u001b[0;34m\u001b[0m\u001b[0;34m\u001b[0m\u001b[0m\n\u001b[0;32m--> 782\u001b[0;31m                 \u001b[0;32mraise\u001b[0m \u001b[0merr\u001b[0m   \u001b[0;31m# don't rewrap as SerializationError\u001b[0m\u001b[0;34m\u001b[0m\u001b[0;34m\u001b[0m\u001b[0m\n\u001b[0m\u001b[1;32m    783\u001b[0m             \u001b[0mmsg\u001b[0m \u001b[0;34m=\u001b[0m \u001b[0;34m\"Unable to serialize value: {!r} as type: {!r}.\"\u001b[0m\u001b[0;34m\u001b[0m\u001b[0;34m\u001b[0m\u001b[0m\n",
            "\u001b[0;32m/usr/local/lib/python3.7/dist-packages/msrest/serialization.py\u001b[0m in \u001b[0;36mserialize_data\u001b[0;34m(self, data, data_type, **kwargs)\u001b[0m\n\u001b[1;32m    772\u001b[0m             \u001b[0;32mif\u001b[0m \u001b[0missubclass\u001b[0m\u001b[0;34m(\u001b[0m\u001b[0menum_type\u001b[0m\u001b[0;34m,\u001b[0m \u001b[0mEnum\u001b[0m\u001b[0;34m)\u001b[0m\u001b[0;34m:\u001b[0m\u001b[0;34m\u001b[0m\u001b[0;34m\u001b[0m\u001b[0m\n\u001b[0;32m--> 773\u001b[0;31m                 \u001b[0;32mreturn\u001b[0m \u001b[0mSerializer\u001b[0m\u001b[0;34m.\u001b[0m\u001b[0mserialize_enum\u001b[0m\u001b[0;34m(\u001b[0m\u001b[0mdata\u001b[0m\u001b[0;34m,\u001b[0m \u001b[0menum_obj\u001b[0m\u001b[0;34m=\u001b[0m\u001b[0menum_type\u001b[0m\u001b[0;34m)\u001b[0m\u001b[0;34m\u001b[0m\u001b[0;34m\u001b[0m\u001b[0m\n\u001b[0m\u001b[1;32m    774\u001b[0m \u001b[0;34m\u001b[0m\u001b[0m\n",
            "\u001b[0;32m/usr/local/lib/python3.7/dist-packages/msrest/serialization.py\u001b[0m in \u001b[0;36mserialize_enum\u001b[0;34m(attr, enum_obj)\u001b[0m\n\u001b[1;32m   1013\u001b[0m             \u001b[0merror\u001b[0m \u001b[0;34m=\u001b[0m \u001b[0;34m\"{!r} is not valid value for enum {!r}\"\u001b[0m\u001b[0;34m\u001b[0m\u001b[0;34m\u001b[0m\u001b[0m\n\u001b[0;32m-> 1014\u001b[0;31m             \u001b[0;32mraise\u001b[0m \u001b[0mSerializationError\u001b[0m\u001b[0;34m(\u001b[0m\u001b[0merror\u001b[0m\u001b[0;34m.\u001b[0m\u001b[0mformat\u001b[0m\u001b[0;34m(\u001b[0m\u001b[0mattr\u001b[0m\u001b[0;34m,\u001b[0m \u001b[0menum_obj\u001b[0m\u001b[0;34m)\u001b[0m\u001b[0;34m)\u001b[0m\u001b[0;34m\u001b[0m\u001b[0;34m\u001b[0m\u001b[0m\n\u001b[0m\u001b[1;32m   1015\u001b[0m \u001b[0;34m\u001b[0m\u001b[0m\n",
            "\u001b[0;31mSerializationError\u001b[0m: 'T' is not valid value for enum <enum 'VisualFeatureTypes'>",
            "\nDuring handling of the above exception, another exception occurred:\n",
            "\u001b[0;31mTypeError\u001b[0m                                 Traceback (most recent call last)",
            "\u001b[0;32m<ipython-input-25-2f3927aaa64e>\u001b[0m in \u001b[0;36m<module>\u001b[0;34m()\u001b[0m\n\u001b[1;32m      3\u001b[0m \u001b[0murl\u001b[0m \u001b[0;34m=\u001b[0m \u001b[0;34m\"http://pbs.twimg.com/media/ECx6hK-WwAAPzeE.jpg\"\u001b[0m\u001b[0;34m\u001b[0m\u001b[0;34m\u001b[0m\u001b[0m\n\u001b[1;32m      4\u001b[0m \u001b[0;34m\u001b[0m\u001b[0m\n\u001b[0;32m----> 5\u001b[0;31m \u001b[0manalize_de_imagem\u001b[0m \u001b[0;34m=\u001b[0m \u001b[0mclient\u001b[0m\u001b[0;34m.\u001b[0m\u001b[0manalyze_image\u001b[0m\u001b[0;34m(\u001b[0m\u001b[0murl\u001b[0m\u001b[0;34m,\u001b[0m\u001b[0mVisualFeatureTypes\u001b[0m\u001b[0;34m.\u001b[0m\u001b[0mtags\u001b[0m\u001b[0;34m)\u001b[0m\u001b[0;34m\u001b[0m\u001b[0;34m\u001b[0m\u001b[0m\n\u001b[0m",
            "\u001b[0;32m/usr/local/lib/python3.7/dist-packages/azure/cognitiveservices/vision/computervision/operations/_computer_vision_client_operations.py\u001b[0m in \u001b[0;36manalyze_image\u001b[0;34m(self, url, visual_features, details, language, description_exclude, model_version, custom_headers, raw, **operation_config)\u001b[0m\n\u001b[1;32m     95\u001b[0m         \u001b[0mquery_parameters\u001b[0m \u001b[0;34m=\u001b[0m \u001b[0;34m{\u001b[0m\u001b[0;34m}\u001b[0m\u001b[0;34m\u001b[0m\u001b[0;34m\u001b[0m\u001b[0m\n\u001b[1;32m     96\u001b[0m         \u001b[0;32mif\u001b[0m \u001b[0mvisual_features\u001b[0m \u001b[0;32mis\u001b[0m \u001b[0;32mnot\u001b[0m \u001b[0;32mNone\u001b[0m\u001b[0;34m:\u001b[0m\u001b[0;34m\u001b[0m\u001b[0;34m\u001b[0m\u001b[0m\n\u001b[0;32m---> 97\u001b[0;31m             \u001b[0mquery_parameters\u001b[0m\u001b[0;34m[\u001b[0m\u001b[0;34m'visualFeatures'\u001b[0m\u001b[0;34m]\u001b[0m \u001b[0;34m=\u001b[0m \u001b[0mself\u001b[0m\u001b[0;34m.\u001b[0m\u001b[0m_serialize\u001b[0m\u001b[0;34m.\u001b[0m\u001b[0mquery\u001b[0m\u001b[0;34m(\u001b[0m\u001b[0;34m\"visual_features\"\u001b[0m\u001b[0;34m,\u001b[0m \u001b[0mvisual_features\u001b[0m\u001b[0;34m,\u001b[0m \u001b[0;34m'[VisualFeatureTypes]'\u001b[0m\u001b[0;34m,\u001b[0m \u001b[0mdiv\u001b[0m\u001b[0;34m=\u001b[0m\u001b[0;34m','\u001b[0m\u001b[0;34m)\u001b[0m\u001b[0;34m\u001b[0m\u001b[0;34m\u001b[0m\u001b[0m\n\u001b[0m\u001b[1;32m     98\u001b[0m         \u001b[0;32mif\u001b[0m \u001b[0mdetails\u001b[0m \u001b[0;32mis\u001b[0m \u001b[0;32mnot\u001b[0m \u001b[0;32mNone\u001b[0m\u001b[0;34m:\u001b[0m\u001b[0;34m\u001b[0m\u001b[0;34m\u001b[0m\u001b[0m\n\u001b[1;32m     99\u001b[0m             \u001b[0mquery_parameters\u001b[0m\u001b[0;34m[\u001b[0m\u001b[0;34m'details'\u001b[0m\u001b[0;34m]\u001b[0m \u001b[0;34m=\u001b[0m \u001b[0mself\u001b[0m\u001b[0;34m.\u001b[0m\u001b[0m_serialize\u001b[0m\u001b[0;34m.\u001b[0m\u001b[0mquery\u001b[0m\u001b[0;34m(\u001b[0m\u001b[0;34m\"details\"\u001b[0m\u001b[0;34m,\u001b[0m \u001b[0mdetails\u001b[0m\u001b[0;34m,\u001b[0m \u001b[0;34m'[Details]'\u001b[0m\u001b[0;34m,\u001b[0m \u001b[0mdiv\u001b[0m\u001b[0;34m=\u001b[0m\u001b[0;34m','\u001b[0m\u001b[0;34m)\u001b[0m\u001b[0;34m\u001b[0m\u001b[0;34m\u001b[0m\u001b[0m\n",
            "\u001b[0;32m/usr/local/lib/python3.7/dist-packages/msrest/serialization.py\u001b[0m in \u001b[0;36mquery\u001b[0;34m(self, name, data, data_type, **kwargs)\u001b[0m\n\u001b[1;32m    699\u001b[0m                 \u001b[0moutput\u001b[0m \u001b[0;34m=\u001b[0m \u001b[0mquote\u001b[0m\u001b[0;34m(\u001b[0m\u001b[0mstr\u001b[0m\u001b[0;34m(\u001b[0m\u001b[0moutput\u001b[0m\u001b[0;34m)\u001b[0m\u001b[0;34m,\u001b[0m \u001b[0msafe\u001b[0m\u001b[0;34m=\u001b[0m\u001b[0;34m''\u001b[0m\u001b[0;34m)\u001b[0m\u001b[0;34m\u001b[0m\u001b[0;34m\u001b[0m\u001b[0m\n\u001b[1;32m    700\u001b[0m         \u001b[0;32mexcept\u001b[0m \u001b[0mSerializationError\u001b[0m\u001b[0;34m:\u001b[0m\u001b[0;34m\u001b[0m\u001b[0;34m\u001b[0m\u001b[0m\n\u001b[0;32m--> 701\u001b[0;31m             \u001b[0;32mraise\u001b[0m \u001b[0mTypeError\u001b[0m\u001b[0;34m(\u001b[0m\u001b[0;34m\"{} must be type {}.\"\u001b[0m\u001b[0;34m.\u001b[0m\u001b[0mformat\u001b[0m\u001b[0;34m(\u001b[0m\u001b[0mname\u001b[0m\u001b[0;34m,\u001b[0m \u001b[0mdata_type\u001b[0m\u001b[0;34m)\u001b[0m\u001b[0;34m)\u001b[0m\u001b[0;34m\u001b[0m\u001b[0;34m\u001b[0m\u001b[0m\n\u001b[0m\u001b[1;32m    702\u001b[0m         \u001b[0;32melse\u001b[0m\u001b[0;34m:\u001b[0m\u001b[0;34m\u001b[0m\u001b[0;34m\u001b[0m\u001b[0m\n\u001b[1;32m    703\u001b[0m             \u001b[0;32mreturn\u001b[0m \u001b[0mstr\u001b[0m\u001b[0;34m(\u001b[0m\u001b[0moutput\u001b[0m\u001b[0;34m)\u001b[0m\u001b[0;34m\u001b[0m\u001b[0;34m\u001b[0m\u001b[0m\n",
            "\u001b[0;31mTypeError\u001b[0m: visual_features must be type [VisualFeatureTypes]."
          ]
        }
      ]
    },
    {
      "cell_type": "code",
      "metadata": {
        "id": "GvQjNSViKjOS"
      },
      "source": [
        "for tag in analize_de_imagem.tags:\n",
        "  print(tag)"
      ],
      "execution_count": null,
      "outputs": []
    },
    {
      "cell_type": "code",
      "metadata": {
        "id": "IPJV3KOwKsRP"
      },
      "source": [
        "analise_celebridades = client.analyze_image_by_domain(\"celebrities\", url, \"en\")"
      ],
      "execution_count": null,
      "outputs": []
    },
    {
      "cell_type": "code",
      "metadata": {
        "id": "YCCYVXdWNCc3"
      },
      "source": [
        "for celebridade in analise_celebridades.result[\"celebrities\"]:\n",
        "  print(celebridade['name'])\n",
        "  print(celebridade['confidence'])"
      ],
      "execution_count": null,
      "outputs": []
    },
    {
      "cell_type": "code",
      "metadata": {
        "id": "FfrrRBPgNeCf"
      },
      "source": [
        "analise_celebridades.result[\"celebrities\"]"
      ],
      "execution_count": null,
      "outputs": []
    },
    {
      "cell_type": "code",
      "metadata": {
        "id": "WBNqCp5JZvaX"
      },
      "source": [
        "descricao = client.describe_image(url,3,\"en\")"
      ],
      "execution_count": null,
      "outputs": []
    },
    {
      "cell_type": "code",
      "metadata": {
        "id": "SoL8gl93aC0g"
      },
      "source": [
        "for caption in descricao.captions:\n",
        "  print(caption.text)\n",
        "  print(caption.confidence)"
      ],
      "execution_count": null,
      "outputs": []
    },
    {
      "cell_type": "code",
      "metadata": {
        "id": "OXJFzccrcirs"
      },
      "source": [
        "descricao.captions[0].text"
      ],
      "execution_count": null,
      "outputs": []
    },
    {
      "cell_type": "markdown",
      "metadata": {
        "id": "OioQwPZPbhwE"
      },
      "source": [
        "# Streaming + Vision API"
      ]
    },
    {
      "cell_type": "code",
      "metadata": {
        "id": "rqEt9KlIiXTj",
        "colab": {
          "base_uri": "https://localhost:8080/",
          "height": 35
        },
        "outputId": "c6229c05-8683-4bac-bb0b-254fef4dac64"
      },
      "source": [
        "api.get_user('jcalvesol').id_str"
      ],
      "execution_count": null,
      "outputs": [
        {
          "output_type": "execute_result",
          "data": {
            "text/plain": [
              "'917548352446791685'"
            ],
            "application/vnd.google.colaboratory.intrinsic+json": {
              "type": "string"
            }
          },
          "metadata": {},
          "execution_count": 26
        }
      ]
    },
    {
      "cell_type": "code",
      "metadata": {
        "id": "JUp74CQ4ikXv",
        "colab": {
          "base_uri": "https://localhost:8080/",
          "height": 363
        },
        "outputId": "5a0a0bc9-7ed7-4f49-a41b-5805ac488839"
      },
      "source": [
        "famosos_id = []\n",
        "\n",
        "for famoso in famosos:\n",
        "  famoso_id = api.get_user(famoso).id_str\n",
        "  famosos_id.append(famoso_id)"
      ],
      "execution_count": null,
      "outputs": [
        {
          "output_type": "error",
          "ename": "TweepError",
          "evalue": "ignored",
          "traceback": [
            "\u001b[0;31m---------------------------------------------------------------------------\u001b[0m",
            "\u001b[0;31mTweepError\u001b[0m                                Traceback (most recent call last)",
            "\u001b[0;32m<ipython-input-27-54efff3c5f2f>\u001b[0m in \u001b[0;36m<module>\u001b[0;34m()\u001b[0m\n\u001b[1;32m      2\u001b[0m \u001b[0;34m\u001b[0m\u001b[0m\n\u001b[1;32m      3\u001b[0m \u001b[0;32mfor\u001b[0m \u001b[0mfamoso\u001b[0m \u001b[0;32min\u001b[0m \u001b[0mfamosos\u001b[0m\u001b[0;34m:\u001b[0m\u001b[0;34m\u001b[0m\u001b[0;34m\u001b[0m\u001b[0m\n\u001b[0;32m----> 4\u001b[0;31m   \u001b[0mfamoso_id\u001b[0m \u001b[0;34m=\u001b[0m \u001b[0mapi\u001b[0m\u001b[0;34m.\u001b[0m\u001b[0mget_user\u001b[0m\u001b[0;34m(\u001b[0m\u001b[0mfamoso\u001b[0m\u001b[0;34m)\u001b[0m\u001b[0;34m.\u001b[0m\u001b[0mid_str\u001b[0m\u001b[0;34m\u001b[0m\u001b[0;34m\u001b[0m\u001b[0m\n\u001b[0m\u001b[1;32m      5\u001b[0m   \u001b[0mfamosos_id\u001b[0m\u001b[0;34m.\u001b[0m\u001b[0mappend\u001b[0m\u001b[0;34m(\u001b[0m\u001b[0mfamoso_id\u001b[0m\u001b[0;34m)\u001b[0m\u001b[0;34m\u001b[0m\u001b[0;34m\u001b[0m\u001b[0m\n",
            "\u001b[0;32m/usr/local/lib/python3.7/dist-packages/tweepy/binder.py\u001b[0m in \u001b[0;36m_call\u001b[0;34m(*args, **kwargs)\u001b[0m\n\u001b[1;32m    251\u001b[0m                 \u001b[0;32mreturn\u001b[0m \u001b[0mmethod\u001b[0m\u001b[0;34m\u001b[0m\u001b[0;34m\u001b[0m\u001b[0m\n\u001b[1;32m    252\u001b[0m             \u001b[0;32melse\u001b[0m\u001b[0;34m:\u001b[0m\u001b[0;34m\u001b[0m\u001b[0;34m\u001b[0m\u001b[0m\n\u001b[0;32m--> 253\u001b[0;31m                 \u001b[0;32mreturn\u001b[0m \u001b[0mmethod\u001b[0m\u001b[0;34m.\u001b[0m\u001b[0mexecute\u001b[0m\u001b[0;34m(\u001b[0m\u001b[0;34m)\u001b[0m\u001b[0;34m\u001b[0m\u001b[0;34m\u001b[0m\u001b[0m\n\u001b[0m\u001b[1;32m    254\u001b[0m         \u001b[0;32mfinally\u001b[0m\u001b[0;34m:\u001b[0m\u001b[0;34m\u001b[0m\u001b[0;34m\u001b[0m\u001b[0m\n\u001b[1;32m    255\u001b[0m             \u001b[0mmethod\u001b[0m\u001b[0;34m.\u001b[0m\u001b[0msession\u001b[0m\u001b[0;34m.\u001b[0m\u001b[0mclose\u001b[0m\u001b[0;34m(\u001b[0m\u001b[0;34m)\u001b[0m\u001b[0;34m\u001b[0m\u001b[0;34m\u001b[0m\u001b[0m\n",
            "\u001b[0;32m/usr/local/lib/python3.7/dist-packages/tweepy/binder.py\u001b[0m in \u001b[0;36mexecute\u001b[0;34m(self)\u001b[0m\n\u001b[1;32m    232\u001b[0m                     \u001b[0;32mraise\u001b[0m \u001b[0mRateLimitError\u001b[0m\u001b[0;34m(\u001b[0m\u001b[0merror_msg\u001b[0m\u001b[0;34m,\u001b[0m \u001b[0mresp\u001b[0m\u001b[0;34m)\u001b[0m\u001b[0;34m\u001b[0m\u001b[0;34m\u001b[0m\u001b[0m\n\u001b[1;32m    233\u001b[0m                 \u001b[0;32melse\u001b[0m\u001b[0;34m:\u001b[0m\u001b[0;34m\u001b[0m\u001b[0;34m\u001b[0m\u001b[0m\n\u001b[0;32m--> 234\u001b[0;31m                     \u001b[0;32mraise\u001b[0m \u001b[0mTweepError\u001b[0m\u001b[0;34m(\u001b[0m\u001b[0merror_msg\u001b[0m\u001b[0;34m,\u001b[0m \u001b[0mresp\u001b[0m\u001b[0;34m,\u001b[0m \u001b[0mapi_code\u001b[0m\u001b[0;34m=\u001b[0m\u001b[0mapi_error_code\u001b[0m\u001b[0;34m)\u001b[0m\u001b[0;34m\u001b[0m\u001b[0;34m\u001b[0m\u001b[0m\n\u001b[0m\u001b[1;32m    235\u001b[0m \u001b[0;34m\u001b[0m\u001b[0m\n\u001b[1;32m    236\u001b[0m             \u001b[0;31m# Parse the response payload\u001b[0m\u001b[0;34m\u001b[0m\u001b[0;34m\u001b[0m\u001b[0;34m\u001b[0m\u001b[0m\n",
            "\u001b[0;31mTweepError\u001b[0m: [{'code': 63, 'message': 'User has been suspended.'}]"
          ]
        }
      ]
    },
    {
      "cell_type": "code",
      "metadata": {
        "id": "VhdPHxsEkXpP"
      },
      "source": [
        "import json"
      ],
      "execution_count": null,
      "outputs": []
    },
    {
      "cell_type": "code",
      "metadata": {
        "id": "_PRlzoTQaD1n"
      },
      "source": [
        "class MinhaStreamListener(tw.StreamListener):\n",
        "  \n",
        "  def on_status(self, status):\n",
        "    print(\"Usuário:\" , status.user.screen_name)\n",
        "    print(\"Texto:\" ,status.text)\n",
        "    \n",
        "    if 'media' in status.entities:\n",
        "      url = status.entities['media'][0]['media_url']\n",
        "      print(\"URL: \", url)\n",
        "      \n",
        "      analise_celebridades = client.analyze_image_by_domain(\"celebrities\", url, \"en\")\n",
        "      lista_celebridades = [celebridade['name'] for celebridade in analise_celebridades.result[\"celebrities\"]]\n",
        "      print(lista_celebridades)\n",
        "      \n",
        "      descricao = client.describe_image(url,1,\"en\")\n",
        "      texto_descricao = descricao.captions[0].text\n",
        "      print(\"Descricao: \", texto_descricao)\n",
        "      \n",
        "      analize_de_imagem = client.analyze_image(url,VisualFeatureTypes.tags)\n",
        "      lista_tags = [tag.name for tag in analize_de_imagem.tags]\n",
        "      print(\"Tag: \", lista_tags)\n",
        "      \n",
        "      resultados = {\n",
        "          'usuario': status.user.screen_name,\n",
        "          'texto': status.text,\n",
        "          'url': url,\n",
        "          'celebridades': lista_celebridades,\n",
        "          'descricao': texto_descricao,\n",
        "          'tags': lista_tags\n",
        "      }\n",
        "      \n",
        "      with open('tweets.txt','a') as arquivo:\n",
        "        arquivo.write(json.dumps(resultados))\n",
        "        arquivo.write('\\n')\n",
        "      \n",
        "      \n",
        "    \n",
        "    print('-----')\n",
        "    print('\\n')"
      ],
      "execution_count": null,
      "outputs": []
    },
    {
      "cell_type": "code",
      "metadata": {
        "id": "Jr0hkwUVdez9"
      },
      "source": [
        "minhaStream = None"
      ],
      "execution_count": null,
      "outputs": []
    },
    {
      "cell_type": "code",
      "metadata": {
        "id": "0MzhZ0fdbp47"
      },
      "source": [
        "minhaStream = tw.Stream(auth = auth, listener=MinhaStreamListener())"
      ],
      "execution_count": null,
      "outputs": []
    },
    {
      "cell_type": "code",
      "metadata": {
        "id": "D_kaMIGDdQeS"
      },
      "source": [
        "minhaStream.filter(follow=famosos_id)"
      ],
      "execution_count": null,
      "outputs": []
    },
    {
      "cell_type": "markdown",
      "metadata": {
        "id": "cDfSkrLTwIk0"
      },
      "source": [
        "# Avaliando Resultados"
      ]
    },
    {
      "cell_type": "code",
      "metadata": {
        "id": "SR_WMZP-wKYz"
      },
      "source": [
        "lista_arquivo = []\n",
        "\n",
        "with open(\"tweets.txt\", 'r') as arquivo:\n",
        "  for linha in arquivo:\n",
        "    lista_arquivo.append(json.loads(linha))"
      ],
      "execution_count": null,
      "outputs": []
    },
    {
      "cell_type": "code",
      "metadata": {
        "id": "kLf53x1ywgRp",
        "colab": {
          "base_uri": "https://localhost:8080/",
          "height": 254
        },
        "outputId": "4e0b5e38-046d-4b6a-e3b2-cf8548e354c6"
      },
      "source": [
        "lista_arquivo[0]"
      ],
      "execution_count": null,
      "outputs": [
        {
          "output_type": "execute_result",
          "data": {
            "text/plain": [
              "{'celebridades': [],\n",
              " 'descricao': 'a person holding a baby',\n",
              " 'tags': ['person',\n",
              "  'indoor',\n",
              "  'wall',\n",
              "  'human face',\n",
              "  'baby',\n",
              "  'clothing',\n",
              "  'nude',\n",
              "  'arm'],\n",
              " 'texto': 'RT @lamardefense: professor de matematica: cade o calculo?\\n\\neu:\\n https://t.co/JHThh7Rl01',\n",
              " 'url': 'http://pbs.twimg.com/ext_tw_video_thumb/1175572681955119104/pu/img/KJwOgRbFHyzzA1P4.jpg',\n",
              " 'usuario': 'Livia41857114'}"
            ]
          },
          "metadata": {
            "tags": []
          },
          "execution_count": 71
        }
      ]
    },
    {
      "cell_type": "code",
      "metadata": {
        "id": "wmnv9UPuwkXo"
      },
      "source": [
        "import pandas as pd"
      ],
      "execution_count": null,
      "outputs": []
    },
    {
      "cell_type": "code",
      "metadata": {
        "id": "xmg256AKwquG"
      },
      "source": [
        "imagens = pd.DataFrame(lista_arquivo)"
      ],
      "execution_count": null,
      "outputs": []
    },
    {
      "cell_type": "code",
      "metadata": {
        "id": "IueLTQ6nwymW",
        "colab": {
          "base_uri": "https://localhost:8080/",
          "height": 388
        },
        "outputId": "412ea014-0563-4ff5-95a1-696719b36822"
      },
      "source": [
        "imagens.head()"
      ],
      "execution_count": null,
      "outputs": [
        {
          "output_type": "execute_result",
          "data": {
            "text/html": [
              "<div>\n",
              "<style scoped>\n",
              "    .dataframe tbody tr th:only-of-type {\n",
              "        vertical-align: middle;\n",
              "    }\n",
              "\n",
              "    .dataframe tbody tr th {\n",
              "        vertical-align: top;\n",
              "    }\n",
              "\n",
              "    .dataframe thead th {\n",
              "        text-align: right;\n",
              "    }\n",
              "</style>\n",
              "<table border=\"1\" class=\"dataframe\">\n",
              "  <thead>\n",
              "    <tr style=\"text-align: right;\">\n",
              "      <th></th>\n",
              "      <th>celebridades</th>\n",
              "      <th>descricao</th>\n",
              "      <th>tags</th>\n",
              "      <th>texto</th>\n",
              "      <th>url</th>\n",
              "      <th>usuario</th>\n",
              "    </tr>\n",
              "  </thead>\n",
              "  <tbody>\n",
              "    <tr>\n",
              "      <th>0</th>\n",
              "      <td>[]</td>\n",
              "      <td>a person holding a baby</td>\n",
              "      <td>[person, indoor, wall, human face, baby, cloth...</td>\n",
              "      <td>RT @lamardefense: professor de matematica: cad...</td>\n",
              "      <td>http://pbs.twimg.com/ext_tw_video_thumb/117557...</td>\n",
              "      <td>Livia41857114</td>\n",
              "    </tr>\n",
              "    <tr>\n",
              "      <th>1</th>\n",
              "      <td>[]</td>\n",
              "      <td>a person holding a baby</td>\n",
              "      <td>[person, indoor, wall, human face, baby, cloth...</td>\n",
              "      <td>RT @lamardefense: professor de matematica: cad...</td>\n",
              "      <td>http://pbs.twimg.com/ext_tw_video_thumb/117557...</td>\n",
              "      <td>libnaoteroo</td>\n",
              "    </tr>\n",
              "    <tr>\n",
              "      <th>2</th>\n",
              "      <td>[]</td>\n",
              "      <td>a person holding a baby</td>\n",
              "      <td>[person, indoor, wall, human face, baby, cloth...</td>\n",
              "      <td>RT @lamardefense: professor de matematica: cad...</td>\n",
              "      <td>http://pbs.twimg.com/ext_tw_video_thumb/117557...</td>\n",
              "      <td>moraismemes</td>\n",
              "    </tr>\n",
              "    <tr>\n",
              "      <th>3</th>\n",
              "      <td>[]</td>\n",
              "      <td>a group of people posing for the camera</td>\n",
              "      <td>[cartoon, screenshot, text, standing, human fa...</td>\n",
              "      <td>RT @DisneyStudios: Let go of the past. Answer ...</td>\n",
              "      <td>http://pbs.twimg.com/media/EFH7l0NVUAA1LYQ.jpg</td>\n",
              "      <td>Geovana12709300</td>\n",
              "    </tr>\n",
              "    <tr>\n",
              "      <th>4</th>\n",
              "      <td>[]</td>\n",
              "      <td>a person standing in front of a building</td>\n",
              "      <td>[jeans, trousers, clothing, footwear, person, ...</td>\n",
              "      <td>RT @maisa: Look de hoje https://t.co/tOa0bPtH0T</td>\n",
              "      <td>http://pbs.twimg.com/media/EFGPla2X4AAmtTK.jpg</td>\n",
              "      <td>Geovana12709300</td>\n",
              "    </tr>\n",
              "  </tbody>\n",
              "</table>\n",
              "</div>"
            ],
            "text/plain": [
              "  celebridades  ...          usuario\n",
              "0           []  ...    Livia41857114\n",
              "1           []  ...      libnaoteroo\n",
              "2           []  ...      moraismemes\n",
              "3           []  ...  Geovana12709300\n",
              "4           []  ...  Geovana12709300\n",
              "\n",
              "[5 rows x 6 columns]"
            ]
          },
          "metadata": {
            "tags": []
          },
          "execution_count": 74
        }
      ]
    },
    {
      "cell_type": "code",
      "metadata": {
        "id": "emwXzmKQw1EZ"
      },
      "source": [
        "pesquisa = 'concert'\n",
        "\n",
        "achados = [(pesquisa in lista) for lista in imagens.tags]"
      ],
      "execution_count": null,
      "outputs": []
    },
    {
      "cell_type": "code",
      "metadata": {
        "id": "TScyxCKyxUQR",
        "colab": {
          "base_uri": "https://localhost:8080/",
          "height": 113
        },
        "outputId": "dc15c1f9-9adc-4033-816d-54b95483c172"
      },
      "source": [
        "imagens[achados]"
      ],
      "execution_count": null,
      "outputs": [
        {
          "output_type": "execute_result",
          "data": {
            "text/html": [
              "<div>\n",
              "<style scoped>\n",
              "    .dataframe tbody tr th:only-of-type {\n",
              "        vertical-align: middle;\n",
              "    }\n",
              "\n",
              "    .dataframe tbody tr th {\n",
              "        vertical-align: top;\n",
              "    }\n",
              "\n",
              "    .dataframe thead th {\n",
              "        text-align: right;\n",
              "    }\n",
              "</style>\n",
              "<table border=\"1\" class=\"dataframe\">\n",
              "  <thead>\n",
              "    <tr style=\"text-align: right;\">\n",
              "      <th></th>\n",
              "      <th>celebridades</th>\n",
              "      <th>descricao</th>\n",
              "      <th>tags</th>\n",
              "      <th>texto</th>\n",
              "      <th>url</th>\n",
              "      <th>usuario</th>\n",
              "    </tr>\n",
              "  </thead>\n",
              "  <tbody>\n",
              "    <tr>\n",
              "      <th>42</th>\n",
              "      <td>[Gusttavo Lima]</td>\n",
              "      <td>Gusttavo Lima standing on a stage holding a mi...</td>\n",
              "      <td>[concert, scene, stage, person, musical instru...</td>\n",
              "      <td>RT @gusttavo_lima: Como é que ainda tem corage...</td>\n",
              "      <td>http://pbs.twimg.com/amplify_video_thumb/11562...</td>\n",
              "      <td>_Savinho08</td>\n",
              "    </tr>\n",
              "  </tbody>\n",
              "</table>\n",
              "</div>"
            ],
            "text/plain": [
              "       celebridades  ...     usuario\n",
              "42  [Gusttavo Lima]  ...  _Savinho08\n",
              "\n",
              "[1 rows x 6 columns]"
            ]
          },
          "metadata": {
            "tags": []
          },
          "execution_count": 84
        }
      ]
    },
    {
      "cell_type": "code",
      "metadata": {
        "id": "PVBs0bM3xqEk",
        "colab": {
          "base_uri": "https://localhost:8080/",
          "height": 35
        },
        "outputId": "2b5fff39-db3f-4bca-e5da-eb2744c08e5d"
      },
      "source": [
        "imagens[achados].descricao.iloc[0]"
      ],
      "execution_count": null,
      "outputs": [
        {
          "output_type": "execute_result",
          "data": {
            "text/plain": [
              "'Gusttavo Lima standing on a stage holding a microphone posing for the camera'"
            ]
          },
          "metadata": {
            "tags": []
          },
          "execution_count": 89
        }
      ]
    },
    {
      "cell_type": "code",
      "metadata": {
        "id": "iJ0T9MlIx-uQ",
        "colab": {
          "base_uri": "https://localhost:8080/",
          "height": 417
        },
        "outputId": "e7f6e09d-2ad1-414e-ed81-78c37262ac62"
      },
      "source": [
        "imagens[achados].tags.iloc[0]"
      ],
      "execution_count": null,
      "outputs": [
        {
          "output_type": "execute_result",
          "data": {
            "text/plain": [
              "['concert',\n",
              " 'scene',\n",
              " 'stage',\n",
              " 'person',\n",
              " 'musical instrument',\n",
              " 'indoor',\n",
              " 'floor',\n",
              " 'guitar',\n",
              " 'drum',\n",
              " 'holding',\n",
              " 'microphone',\n",
              " 'standing',\n",
              " 'band',\n",
              " 'live music',\n",
              " 'performance',\n",
              " 'musician',\n",
              " 'gig',\n",
              " 'music artist',\n",
              " 'entertainment',\n",
              " 'music',\n",
              " 'posing',\n",
              " 'performing arts']"
            ]
          },
          "metadata": {
            "tags": []
          },
          "execution_count": 90
        }
      ]
    },
    {
      "cell_type": "code",
      "metadata": {
        "id": "Q7nSa-74yPyf",
        "colab": {
          "base_uri": "https://localhost:8080/",
          "height": 35
        },
        "outputId": "e12edeed-99d7-44bf-bb63-8fb3cfdbb46d"
      },
      "source": [
        "imagens[achados].url.iloc[0]"
      ],
      "execution_count": null,
      "outputs": [
        {
          "output_type": "execute_result",
          "data": {
            "text/plain": [
              "'http://pbs.twimg.com/amplify_video_thumb/1156250003503013888/img/InIQk8yPKe_A0x2_.jpg'"
            ]
          },
          "metadata": {
            "tags": []
          },
          "execution_count": 91
        }
      ]
    },
    {
      "cell_type": "code",
      "metadata": {
        "id": "1HvNaXa7ySrS"
      },
      "source": [
        ""
      ],
      "execution_count": null,
      "outputs": []
    }
  ]
}