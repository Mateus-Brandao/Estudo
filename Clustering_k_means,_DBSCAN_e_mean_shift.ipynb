{
  "nbformat": 4,
  "nbformat_minor": 0,
  "metadata": {
    "colab": {
      "name": "Clustering: k-means, DBSCAN e mean shift",
      "provenance": [],
      "collapsed_sections": [],
      "authorship_tag": "ABX9TyMWz8EA5GRyNUbf8Y4/8HXs",
      "include_colab_link": true
    },
    "kernelspec": {
      "name": "python3",
      "display_name": "Python 3"
    },
    "language_info": {
      "name": "python"
    }
  },
  "cells": [
    {
      "cell_type": "markdown",
      "metadata": {
        "id": "view-in-github",
        "colab_type": "text"
      },
      "source": [
        "<a href=\"https://colab.research.google.com/github/Mateus-Brandao/Estudo/blob/main/Clustering_k_means%2C_DBSCAN_e_mean_shift.ipynb\" target=\"_parent\"><img src=\"https://colab.research.google.com/assets/colab-badge.svg\" alt=\"Open In Colab\"/></a>"
      ]
    },
    {
      "cell_type": "code",
      "execution_count": null,
      "metadata": {
        "id": "r5GFN3hWrMgM"
      },
      "outputs": [],
      "source": [
        "import pandas as pd\n",
        "import numpy as np\n",
        "import matplotlib.pyplot as plt\n",
        "import seaborn as sns\n",
        "import plotly.graph_objects as go"
      ]
    },
    {
      "cell_type": "code",
      "source": [
        "dados = pd.read_csv('Wine.csv')\n",
        "dados.head()"
      ],
      "metadata": {
        "colab": {
          "base_uri": "https://localhost:8080/",
          "height": 206
        },
        "id": "_7qdmTAbGPIc",
        "outputId": "c081cb28-cb30-4282-8da9-c2c041a72e48"
      },
      "execution_count": null,
      "outputs": [
        {
          "output_type": "execute_result",
          "data": {
            "text/plain": [
              "   Alcohol  Malic_Acid   Ash  Ash_Alcanity  Magnesium  Total_Phenols  \\\n",
              "0    14.23        1.71  2.43          15.6        127           2.80   \n",
              "1    13.20        1.78  2.14          11.2        100           2.65   \n",
              "2    13.16        2.36  2.67          18.6        101           2.80   \n",
              "3    14.37        1.95  2.50          16.8        113           3.85   \n",
              "4    13.24        2.59  2.87          21.0        118           2.80   \n",
              "\n",
              "   Flavanoids  Nonflavanoid_Phenols  Proanthocyanins  Color_Intensity   Hue  \\\n",
              "0        3.06                  0.28             2.29             5.64  1.04   \n",
              "1        2.76                  0.26             1.28             4.38  1.05   \n",
              "2        3.24                  0.30             2.81             5.68  1.03   \n",
              "3        3.49                  0.24             2.18             7.80  0.86   \n",
              "4        2.69                  0.39             1.82             4.32  1.04   \n",
              "\n",
              "   OD280  Proline  Customer_Segment  \n",
              "0   3.92     1065                 1  \n",
              "1   3.40     1050                 1  \n",
              "2   3.17     1185                 1  \n",
              "3   3.45     1480                 1  \n",
              "4   2.93      735                 1  "
            ],
            "text/html": [
              "\n",
              "  <div id=\"df-40a07622-2528-49f0-b8ca-6617743cc785\">\n",
              "    <div class=\"colab-df-container\">\n",
              "      <div>\n",
              "<style scoped>\n",
              "    .dataframe tbody tr th:only-of-type {\n",
              "        vertical-align: middle;\n",
              "    }\n",
              "\n",
              "    .dataframe tbody tr th {\n",
              "        vertical-align: top;\n",
              "    }\n",
              "\n",
              "    .dataframe thead th {\n",
              "        text-align: right;\n",
              "    }\n",
              "</style>\n",
              "<table border=\"1\" class=\"dataframe\">\n",
              "  <thead>\n",
              "    <tr style=\"text-align: right;\">\n",
              "      <th></th>\n",
              "      <th>Alcohol</th>\n",
              "      <th>Malic_Acid</th>\n",
              "      <th>Ash</th>\n",
              "      <th>Ash_Alcanity</th>\n",
              "      <th>Magnesium</th>\n",
              "      <th>Total_Phenols</th>\n",
              "      <th>Flavanoids</th>\n",
              "      <th>Nonflavanoid_Phenols</th>\n",
              "      <th>Proanthocyanins</th>\n",
              "      <th>Color_Intensity</th>\n",
              "      <th>Hue</th>\n",
              "      <th>OD280</th>\n",
              "      <th>Proline</th>\n",
              "      <th>Customer_Segment</th>\n",
              "    </tr>\n",
              "  </thead>\n",
              "  <tbody>\n",
              "    <tr>\n",
              "      <th>0</th>\n",
              "      <td>14.23</td>\n",
              "      <td>1.71</td>\n",
              "      <td>2.43</td>\n",
              "      <td>15.6</td>\n",
              "      <td>127</td>\n",
              "      <td>2.80</td>\n",
              "      <td>3.06</td>\n",
              "      <td>0.28</td>\n",
              "      <td>2.29</td>\n",
              "      <td>5.64</td>\n",
              "      <td>1.04</td>\n",
              "      <td>3.92</td>\n",
              "      <td>1065</td>\n",
              "      <td>1</td>\n",
              "    </tr>\n",
              "    <tr>\n",
              "      <th>1</th>\n",
              "      <td>13.20</td>\n",
              "      <td>1.78</td>\n",
              "      <td>2.14</td>\n",
              "      <td>11.2</td>\n",
              "      <td>100</td>\n",
              "      <td>2.65</td>\n",
              "      <td>2.76</td>\n",
              "      <td>0.26</td>\n",
              "      <td>1.28</td>\n",
              "      <td>4.38</td>\n",
              "      <td>1.05</td>\n",
              "      <td>3.40</td>\n",
              "      <td>1050</td>\n",
              "      <td>1</td>\n",
              "    </tr>\n",
              "    <tr>\n",
              "      <th>2</th>\n",
              "      <td>13.16</td>\n",
              "      <td>2.36</td>\n",
              "      <td>2.67</td>\n",
              "      <td>18.6</td>\n",
              "      <td>101</td>\n",
              "      <td>2.80</td>\n",
              "      <td>3.24</td>\n",
              "      <td>0.30</td>\n",
              "      <td>2.81</td>\n",
              "      <td>5.68</td>\n",
              "      <td>1.03</td>\n",
              "      <td>3.17</td>\n",
              "      <td>1185</td>\n",
              "      <td>1</td>\n",
              "    </tr>\n",
              "    <tr>\n",
              "      <th>3</th>\n",
              "      <td>14.37</td>\n",
              "      <td>1.95</td>\n",
              "      <td>2.50</td>\n",
              "      <td>16.8</td>\n",
              "      <td>113</td>\n",
              "      <td>3.85</td>\n",
              "      <td>3.49</td>\n",
              "      <td>0.24</td>\n",
              "      <td>2.18</td>\n",
              "      <td>7.80</td>\n",
              "      <td>0.86</td>\n",
              "      <td>3.45</td>\n",
              "      <td>1480</td>\n",
              "      <td>1</td>\n",
              "    </tr>\n",
              "    <tr>\n",
              "      <th>4</th>\n",
              "      <td>13.24</td>\n",
              "      <td>2.59</td>\n",
              "      <td>2.87</td>\n",
              "      <td>21.0</td>\n",
              "      <td>118</td>\n",
              "      <td>2.80</td>\n",
              "      <td>2.69</td>\n",
              "      <td>0.39</td>\n",
              "      <td>1.82</td>\n",
              "      <td>4.32</td>\n",
              "      <td>1.04</td>\n",
              "      <td>2.93</td>\n",
              "      <td>735</td>\n",
              "      <td>1</td>\n",
              "    </tr>\n",
              "  </tbody>\n",
              "</table>\n",
              "</div>\n",
              "      <button class=\"colab-df-convert\" onclick=\"convertToInteractive('df-40a07622-2528-49f0-b8ca-6617743cc785')\"\n",
              "              title=\"Convert this dataframe to an interactive table.\"\n",
              "              style=\"display:none;\">\n",
              "        \n",
              "  <svg xmlns=\"http://www.w3.org/2000/svg\" height=\"24px\"viewBox=\"0 0 24 24\"\n",
              "       width=\"24px\">\n",
              "    <path d=\"M0 0h24v24H0V0z\" fill=\"none\"/>\n",
              "    <path d=\"M18.56 5.44l.94 2.06.94-2.06 2.06-.94-2.06-.94-.94-2.06-.94 2.06-2.06.94zm-11 1L8.5 8.5l.94-2.06 2.06-.94-2.06-.94L8.5 2.5l-.94 2.06-2.06.94zm10 10l.94 2.06.94-2.06 2.06-.94-2.06-.94-.94-2.06-.94 2.06-2.06.94z\"/><path d=\"M17.41 7.96l-1.37-1.37c-.4-.4-.92-.59-1.43-.59-.52 0-1.04.2-1.43.59L10.3 9.45l-7.72 7.72c-.78.78-.78 2.05 0 2.83L4 21.41c.39.39.9.59 1.41.59.51 0 1.02-.2 1.41-.59l7.78-7.78 2.81-2.81c.8-.78.8-2.07 0-2.86zM5.41 20L4 18.59l7.72-7.72 1.47 1.35L5.41 20z\"/>\n",
              "  </svg>\n",
              "      </button>\n",
              "      \n",
              "  <style>\n",
              "    .colab-df-container {\n",
              "      display:flex;\n",
              "      flex-wrap:wrap;\n",
              "      gap: 12px;\n",
              "    }\n",
              "\n",
              "    .colab-df-convert {\n",
              "      background-color: #E8F0FE;\n",
              "      border: none;\n",
              "      border-radius: 50%;\n",
              "      cursor: pointer;\n",
              "      display: none;\n",
              "      fill: #1967D2;\n",
              "      height: 32px;\n",
              "      padding: 0 0 0 0;\n",
              "      width: 32px;\n",
              "    }\n",
              "\n",
              "    .colab-df-convert:hover {\n",
              "      background-color: #E2EBFA;\n",
              "      box-shadow: 0px 1px 2px rgba(60, 64, 67, 0.3), 0px 1px 3px 1px rgba(60, 64, 67, 0.15);\n",
              "      fill: #174EA6;\n",
              "    }\n",
              "\n",
              "    [theme=dark] .colab-df-convert {\n",
              "      background-color: #3B4455;\n",
              "      fill: #D2E3FC;\n",
              "    }\n",
              "\n",
              "    [theme=dark] .colab-df-convert:hover {\n",
              "      background-color: #434B5C;\n",
              "      box-shadow: 0px 1px 3px 1px rgba(0, 0, 0, 0.15);\n",
              "      filter: drop-shadow(0px 1px 2px rgba(0, 0, 0, 0.3));\n",
              "      fill: #FFFFFF;\n",
              "    }\n",
              "  </style>\n",
              "\n",
              "      <script>\n",
              "        const buttonEl =\n",
              "          document.querySelector('#df-40a07622-2528-49f0-b8ca-6617743cc785 button.colab-df-convert');\n",
              "        buttonEl.style.display =\n",
              "          google.colab.kernel.accessAllowed ? 'block' : 'none';\n",
              "\n",
              "        async function convertToInteractive(key) {\n",
              "          const element = document.querySelector('#df-40a07622-2528-49f0-b8ca-6617743cc785');\n",
              "          const dataTable =\n",
              "            await google.colab.kernel.invokeFunction('convertToInteractive',\n",
              "                                                     [key], {});\n",
              "          if (!dataTable) return;\n",
              "\n",
              "          const docLinkHtml = 'Like what you see? Visit the ' +\n",
              "            '<a target=\"_blank\" href=https://colab.research.google.com/notebooks/data_table.ipynb>data table notebook</a>'\n",
              "            + ' to learn more about interactive tables.';\n",
              "          element.innerHTML = '';\n",
              "          dataTable['output_type'] = 'display_data';\n",
              "          await google.colab.output.renderOutput(dataTable, element);\n",
              "          const docLink = document.createElement('div');\n",
              "          docLink.innerHTML = docLinkHtml;\n",
              "          element.appendChild(docLink);\n",
              "        }\n",
              "      </script>\n",
              "    </div>\n",
              "  </div>\n",
              "  "
            ]
          },
          "metadata": {},
          "execution_count": 2
        }
      ]
    },
    {
      "cell_type": "code",
      "source": [
        "dados.shape"
      ],
      "metadata": {
        "colab": {
          "base_uri": "https://localhost:8080/"
        },
        "id": "b4OqPVj0GTVt",
        "outputId": "09db617e-9bf6-48ed-e47b-68d8cafc9f79"
      },
      "execution_count": null,
      "outputs": [
        {
          "output_type": "execute_result",
          "data": {
            "text/plain": [
              "(178, 14)"
            ]
          },
          "metadata": {},
          "execution_count": 3
        }
      ]
    },
    {
      "cell_type": "code",
      "source": [
        "dados.describe()"
      ],
      "metadata": {
        "colab": {
          "base_uri": "https://localhost:8080/",
          "height": 364
        },
        "id": "5c6HcjIoGxQp",
        "outputId": "0671a0c8-66f0-4ef2-dbd5-921cd6a9e66b"
      },
      "execution_count": null,
      "outputs": [
        {
          "output_type": "execute_result",
          "data": {
            "text/plain": [
              "          Alcohol  Malic_Acid         Ash  Ash_Alcanity   Magnesium  \\\n",
              "count  178.000000  178.000000  178.000000    178.000000  178.000000   \n",
              "mean    13.000618    2.336348    2.366517     19.494944   99.741573   \n",
              "std      0.811827    1.117146    0.274344      3.339564   14.282484   \n",
              "min     11.030000    0.740000    1.360000     10.600000   70.000000   \n",
              "25%     12.362500    1.602500    2.210000     17.200000   88.000000   \n",
              "50%     13.050000    1.865000    2.360000     19.500000   98.000000   \n",
              "75%     13.677500    3.082500    2.557500     21.500000  107.000000   \n",
              "max     14.830000    5.800000    3.230000     30.000000  162.000000   \n",
              "\n",
              "       Total_Phenols  Flavanoids  Nonflavanoid_Phenols  Proanthocyanins  \\\n",
              "count     178.000000  178.000000            178.000000       178.000000   \n",
              "mean        2.295112    2.029270              0.361854         1.590899   \n",
              "std         0.625851    0.998859              0.124453         0.572359   \n",
              "min         0.980000    0.340000              0.130000         0.410000   \n",
              "25%         1.742500    1.205000              0.270000         1.250000   \n",
              "50%         2.355000    2.135000              0.340000         1.555000   \n",
              "75%         2.800000    2.875000              0.437500         1.950000   \n",
              "max         3.880000    5.080000              0.660000         3.580000   \n",
              "\n",
              "       Color_Intensity         Hue       OD280      Proline  Customer_Segment  \n",
              "count       178.000000  178.000000  178.000000   178.000000        178.000000  \n",
              "mean          5.058090    0.957449    2.611685   746.893258          1.938202  \n",
              "std           2.318286    0.228572    0.709990   314.907474          0.775035  \n",
              "min           1.280000    0.480000    1.270000   278.000000          1.000000  \n",
              "25%           3.220000    0.782500    1.937500   500.500000          1.000000  \n",
              "50%           4.690000    0.965000    2.780000   673.500000          2.000000  \n",
              "75%           6.200000    1.120000    3.170000   985.000000          3.000000  \n",
              "max          13.000000    1.710000    4.000000  1680.000000          3.000000  "
            ],
            "text/html": [
              "\n",
              "  <div id=\"df-b9755c92-f812-4997-b5c5-d47a78916dbe\">\n",
              "    <div class=\"colab-df-container\">\n",
              "      <div>\n",
              "<style scoped>\n",
              "    .dataframe tbody tr th:only-of-type {\n",
              "        vertical-align: middle;\n",
              "    }\n",
              "\n",
              "    .dataframe tbody tr th {\n",
              "        vertical-align: top;\n",
              "    }\n",
              "\n",
              "    .dataframe thead th {\n",
              "        text-align: right;\n",
              "    }\n",
              "</style>\n",
              "<table border=\"1\" class=\"dataframe\">\n",
              "  <thead>\n",
              "    <tr style=\"text-align: right;\">\n",
              "      <th></th>\n",
              "      <th>Alcohol</th>\n",
              "      <th>Malic_Acid</th>\n",
              "      <th>Ash</th>\n",
              "      <th>Ash_Alcanity</th>\n",
              "      <th>Magnesium</th>\n",
              "      <th>Total_Phenols</th>\n",
              "      <th>Flavanoids</th>\n",
              "      <th>Nonflavanoid_Phenols</th>\n",
              "      <th>Proanthocyanins</th>\n",
              "      <th>Color_Intensity</th>\n",
              "      <th>Hue</th>\n",
              "      <th>OD280</th>\n",
              "      <th>Proline</th>\n",
              "      <th>Customer_Segment</th>\n",
              "    </tr>\n",
              "  </thead>\n",
              "  <tbody>\n",
              "    <tr>\n",
              "      <th>count</th>\n",
              "      <td>178.000000</td>\n",
              "      <td>178.000000</td>\n",
              "      <td>178.000000</td>\n",
              "      <td>178.000000</td>\n",
              "      <td>178.000000</td>\n",
              "      <td>178.000000</td>\n",
              "      <td>178.000000</td>\n",
              "      <td>178.000000</td>\n",
              "      <td>178.000000</td>\n",
              "      <td>178.000000</td>\n",
              "      <td>178.000000</td>\n",
              "      <td>178.000000</td>\n",
              "      <td>178.000000</td>\n",
              "      <td>178.000000</td>\n",
              "    </tr>\n",
              "    <tr>\n",
              "      <th>mean</th>\n",
              "      <td>13.000618</td>\n",
              "      <td>2.336348</td>\n",
              "      <td>2.366517</td>\n",
              "      <td>19.494944</td>\n",
              "      <td>99.741573</td>\n",
              "      <td>2.295112</td>\n",
              "      <td>2.029270</td>\n",
              "      <td>0.361854</td>\n",
              "      <td>1.590899</td>\n",
              "      <td>5.058090</td>\n",
              "      <td>0.957449</td>\n",
              "      <td>2.611685</td>\n",
              "      <td>746.893258</td>\n",
              "      <td>1.938202</td>\n",
              "    </tr>\n",
              "    <tr>\n",
              "      <th>std</th>\n",
              "      <td>0.811827</td>\n",
              "      <td>1.117146</td>\n",
              "      <td>0.274344</td>\n",
              "      <td>3.339564</td>\n",
              "      <td>14.282484</td>\n",
              "      <td>0.625851</td>\n",
              "      <td>0.998859</td>\n",
              "      <td>0.124453</td>\n",
              "      <td>0.572359</td>\n",
              "      <td>2.318286</td>\n",
              "      <td>0.228572</td>\n",
              "      <td>0.709990</td>\n",
              "      <td>314.907474</td>\n",
              "      <td>0.775035</td>\n",
              "    </tr>\n",
              "    <tr>\n",
              "      <th>min</th>\n",
              "      <td>11.030000</td>\n",
              "      <td>0.740000</td>\n",
              "      <td>1.360000</td>\n",
              "      <td>10.600000</td>\n",
              "      <td>70.000000</td>\n",
              "      <td>0.980000</td>\n",
              "      <td>0.340000</td>\n",
              "      <td>0.130000</td>\n",
              "      <td>0.410000</td>\n",
              "      <td>1.280000</td>\n",
              "      <td>0.480000</td>\n",
              "      <td>1.270000</td>\n",
              "      <td>278.000000</td>\n",
              "      <td>1.000000</td>\n",
              "    </tr>\n",
              "    <tr>\n",
              "      <th>25%</th>\n",
              "      <td>12.362500</td>\n",
              "      <td>1.602500</td>\n",
              "      <td>2.210000</td>\n",
              "      <td>17.200000</td>\n",
              "      <td>88.000000</td>\n",
              "      <td>1.742500</td>\n",
              "      <td>1.205000</td>\n",
              "      <td>0.270000</td>\n",
              "      <td>1.250000</td>\n",
              "      <td>3.220000</td>\n",
              "      <td>0.782500</td>\n",
              "      <td>1.937500</td>\n",
              "      <td>500.500000</td>\n",
              "      <td>1.000000</td>\n",
              "    </tr>\n",
              "    <tr>\n",
              "      <th>50%</th>\n",
              "      <td>13.050000</td>\n",
              "      <td>1.865000</td>\n",
              "      <td>2.360000</td>\n",
              "      <td>19.500000</td>\n",
              "      <td>98.000000</td>\n",
              "      <td>2.355000</td>\n",
              "      <td>2.135000</td>\n",
              "      <td>0.340000</td>\n",
              "      <td>1.555000</td>\n",
              "      <td>4.690000</td>\n",
              "      <td>0.965000</td>\n",
              "      <td>2.780000</td>\n",
              "      <td>673.500000</td>\n",
              "      <td>2.000000</td>\n",
              "    </tr>\n",
              "    <tr>\n",
              "      <th>75%</th>\n",
              "      <td>13.677500</td>\n",
              "      <td>3.082500</td>\n",
              "      <td>2.557500</td>\n",
              "      <td>21.500000</td>\n",
              "      <td>107.000000</td>\n",
              "      <td>2.800000</td>\n",
              "      <td>2.875000</td>\n",
              "      <td>0.437500</td>\n",
              "      <td>1.950000</td>\n",
              "      <td>6.200000</td>\n",
              "      <td>1.120000</td>\n",
              "      <td>3.170000</td>\n",
              "      <td>985.000000</td>\n",
              "      <td>3.000000</td>\n",
              "    </tr>\n",
              "    <tr>\n",
              "      <th>max</th>\n",
              "      <td>14.830000</td>\n",
              "      <td>5.800000</td>\n",
              "      <td>3.230000</td>\n",
              "      <td>30.000000</td>\n",
              "      <td>162.000000</td>\n",
              "      <td>3.880000</td>\n",
              "      <td>5.080000</td>\n",
              "      <td>0.660000</td>\n",
              "      <td>3.580000</td>\n",
              "      <td>13.000000</td>\n",
              "      <td>1.710000</td>\n",
              "      <td>4.000000</td>\n",
              "      <td>1680.000000</td>\n",
              "      <td>3.000000</td>\n",
              "    </tr>\n",
              "  </tbody>\n",
              "</table>\n",
              "</div>\n",
              "      <button class=\"colab-df-convert\" onclick=\"convertToInteractive('df-b9755c92-f812-4997-b5c5-d47a78916dbe')\"\n",
              "              title=\"Convert this dataframe to an interactive table.\"\n",
              "              style=\"display:none;\">\n",
              "        \n",
              "  <svg xmlns=\"http://www.w3.org/2000/svg\" height=\"24px\"viewBox=\"0 0 24 24\"\n",
              "       width=\"24px\">\n",
              "    <path d=\"M0 0h24v24H0V0z\" fill=\"none\"/>\n",
              "    <path d=\"M18.56 5.44l.94 2.06.94-2.06 2.06-.94-2.06-.94-.94-2.06-.94 2.06-2.06.94zm-11 1L8.5 8.5l.94-2.06 2.06-.94-2.06-.94L8.5 2.5l-.94 2.06-2.06.94zm10 10l.94 2.06.94-2.06 2.06-.94-2.06-.94-.94-2.06-.94 2.06-2.06.94z\"/><path d=\"M17.41 7.96l-1.37-1.37c-.4-.4-.92-.59-1.43-.59-.52 0-1.04.2-1.43.59L10.3 9.45l-7.72 7.72c-.78.78-.78 2.05 0 2.83L4 21.41c.39.39.9.59 1.41.59.51 0 1.02-.2 1.41-.59l7.78-7.78 2.81-2.81c.8-.78.8-2.07 0-2.86zM5.41 20L4 18.59l7.72-7.72 1.47 1.35L5.41 20z\"/>\n",
              "  </svg>\n",
              "      </button>\n",
              "      \n",
              "  <style>\n",
              "    .colab-df-container {\n",
              "      display:flex;\n",
              "      flex-wrap:wrap;\n",
              "      gap: 12px;\n",
              "    }\n",
              "\n",
              "    .colab-df-convert {\n",
              "      background-color: #E8F0FE;\n",
              "      border: none;\n",
              "      border-radius: 50%;\n",
              "      cursor: pointer;\n",
              "      display: none;\n",
              "      fill: #1967D2;\n",
              "      height: 32px;\n",
              "      padding: 0 0 0 0;\n",
              "      width: 32px;\n",
              "    }\n",
              "\n",
              "    .colab-df-convert:hover {\n",
              "      background-color: #E2EBFA;\n",
              "      box-shadow: 0px 1px 2px rgba(60, 64, 67, 0.3), 0px 1px 3px 1px rgba(60, 64, 67, 0.15);\n",
              "      fill: #174EA6;\n",
              "    }\n",
              "\n",
              "    [theme=dark] .colab-df-convert {\n",
              "      background-color: #3B4455;\n",
              "      fill: #D2E3FC;\n",
              "    }\n",
              "\n",
              "    [theme=dark] .colab-df-convert:hover {\n",
              "      background-color: #434B5C;\n",
              "      box-shadow: 0px 1px 3px 1px rgba(0, 0, 0, 0.15);\n",
              "      filter: drop-shadow(0px 1px 2px rgba(0, 0, 0, 0.3));\n",
              "      fill: #FFFFFF;\n",
              "    }\n",
              "  </style>\n",
              "\n",
              "      <script>\n",
              "        const buttonEl =\n",
              "          document.querySelector('#df-b9755c92-f812-4997-b5c5-d47a78916dbe button.colab-df-convert');\n",
              "        buttonEl.style.display =\n",
              "          google.colab.kernel.accessAllowed ? 'block' : 'none';\n",
              "\n",
              "        async function convertToInteractive(key) {\n",
              "          const element = document.querySelector('#df-b9755c92-f812-4997-b5c5-d47a78916dbe');\n",
              "          const dataTable =\n",
              "            await google.colab.kernel.invokeFunction('convertToInteractive',\n",
              "                                                     [key], {});\n",
              "          if (!dataTable) return;\n",
              "\n",
              "          const docLinkHtml = 'Like what you see? Visit the ' +\n",
              "            '<a target=\"_blank\" href=https://colab.research.google.com/notebooks/data_table.ipynb>data table notebook</a>'\n",
              "            + ' to learn more about interactive tables.';\n",
              "          element.innerHTML = '';\n",
              "          dataTable['output_type'] = 'display_data';\n",
              "          await google.colab.output.renderOutput(dataTable, element);\n",
              "          const docLink = document.createElement('div');\n",
              "          docLink.innerHTML = docLinkHtml;\n",
              "          element.appendChild(docLink);\n",
              "        }\n",
              "      </script>\n",
              "    </div>\n",
              "  </div>\n",
              "  "
            ]
          },
          "metadata": {},
          "execution_count": 4
        }
      ]
    },
    {
      "cell_type": "markdown",
      "source": [
        "# Matriz de correlação dos dados"
      ],
      "metadata": {
        "id": "sgP7E7A_Kk7V"
      }
    },
    {
      "cell_type": "code",
      "source": [
        "matriz_corr = dados.corr()\n",
        "matriz_corr"
      ],
      "metadata": {
        "colab": {
          "base_uri": "https://localhost:8080/",
          "height": 552
        },
        "id": "BRRq8ap3HFJd",
        "outputId": "da8c07db-6f97-4591-b8f2-c938e5ac8a12"
      },
      "execution_count": null,
      "outputs": [
        {
          "output_type": "execute_result",
          "data": {
            "text/plain": [
              "                       Alcohol  Malic_Acid       Ash  Ash_Alcanity  Magnesium  \\\n",
              "Alcohol               1.000000    0.094397  0.211545     -0.310235   0.270798   \n",
              "Malic_Acid            0.094397    1.000000  0.164045      0.288500  -0.054575   \n",
              "Ash                   0.211545    0.164045  1.000000      0.443367   0.286587   \n",
              "Ash_Alcanity         -0.310235    0.288500  0.443367      1.000000  -0.083333   \n",
              "Magnesium             0.270798   -0.054575  0.286587     -0.083333   1.000000   \n",
              "Total_Phenols         0.289101   -0.335167  0.128980     -0.321113   0.214401   \n",
              "Flavanoids            0.236815   -0.411007  0.115077     -0.351370   0.195784   \n",
              "Nonflavanoid_Phenols -0.155929    0.292977  0.186230      0.361922  -0.256294   \n",
              "Proanthocyanins       0.136698   -0.220746  0.009652     -0.197327   0.236441   \n",
              "Color_Intensity       0.546364    0.248985  0.258887      0.018732   0.199950   \n",
              "Hue                  -0.071747   -0.561296 -0.074667     -0.273955   0.055398   \n",
              "OD280                 0.072343   -0.368710  0.003911     -0.276769   0.066004   \n",
              "Proline               0.643720   -0.192011  0.223626     -0.440597   0.393351   \n",
              "Customer_Segment     -0.328222    0.437776 -0.049643      0.517859  -0.209179   \n",
              "\n",
              "                      Total_Phenols  Flavanoids  Nonflavanoid_Phenols  \\\n",
              "Alcohol                    0.289101    0.236815             -0.155929   \n",
              "Malic_Acid                -0.335167   -0.411007              0.292977   \n",
              "Ash                        0.128980    0.115077              0.186230   \n",
              "Ash_Alcanity              -0.321113   -0.351370              0.361922   \n",
              "Magnesium                  0.214401    0.195784             -0.256294   \n",
              "Total_Phenols              1.000000    0.864564             -0.449935   \n",
              "Flavanoids                 0.864564    1.000000             -0.537900   \n",
              "Nonflavanoid_Phenols      -0.449935   -0.537900              1.000000   \n",
              "Proanthocyanins            0.612413    0.652692             -0.365845   \n",
              "Color_Intensity           -0.055136   -0.172379              0.139057   \n",
              "Hue                        0.433681    0.543479             -0.262640   \n",
              "OD280                      0.699949    0.787194             -0.503270   \n",
              "Proline                    0.498115    0.494193             -0.311385   \n",
              "Customer_Segment          -0.719163   -0.847498              0.489109   \n",
              "\n",
              "                      Proanthocyanins  Color_Intensity       Hue     OD280  \\\n",
              "Alcohol                      0.136698         0.546364 -0.071747  0.072343   \n",
              "Malic_Acid                  -0.220746         0.248985 -0.561296 -0.368710   \n",
              "Ash                          0.009652         0.258887 -0.074667  0.003911   \n",
              "Ash_Alcanity                -0.197327         0.018732 -0.273955 -0.276769   \n",
              "Magnesium                    0.236441         0.199950  0.055398  0.066004   \n",
              "Total_Phenols                0.612413        -0.055136  0.433681  0.699949   \n",
              "Flavanoids                   0.652692        -0.172379  0.543479  0.787194   \n",
              "Nonflavanoid_Phenols        -0.365845         0.139057 -0.262640 -0.503270   \n",
              "Proanthocyanins              1.000000        -0.025250  0.295544  0.519067   \n",
              "Color_Intensity             -0.025250         1.000000 -0.521813 -0.428815   \n",
              "Hue                          0.295544        -0.521813  1.000000  0.565468   \n",
              "OD280                        0.519067        -0.428815  0.565468  1.000000   \n",
              "Proline                      0.330417         0.316100  0.236183  0.312761   \n",
              "Customer_Segment            -0.499130         0.265668 -0.617369 -0.788230   \n",
              "\n",
              "                       Proline  Customer_Segment  \n",
              "Alcohol               0.643720         -0.328222  \n",
              "Malic_Acid           -0.192011          0.437776  \n",
              "Ash                   0.223626         -0.049643  \n",
              "Ash_Alcanity         -0.440597          0.517859  \n",
              "Magnesium             0.393351         -0.209179  \n",
              "Total_Phenols         0.498115         -0.719163  \n",
              "Flavanoids            0.494193         -0.847498  \n",
              "Nonflavanoid_Phenols -0.311385          0.489109  \n",
              "Proanthocyanins       0.330417         -0.499130  \n",
              "Color_Intensity       0.316100          0.265668  \n",
              "Hue                   0.236183         -0.617369  \n",
              "OD280                 0.312761         -0.788230  \n",
              "Proline               1.000000         -0.633717  \n",
              "Customer_Segment     -0.633717          1.000000  "
            ],
            "text/html": [
              "\n",
              "  <div id=\"df-9ac32439-2c6b-48d6-bd88-6dc5847015bf\">\n",
              "    <div class=\"colab-df-container\">\n",
              "      <div>\n",
              "<style scoped>\n",
              "    .dataframe tbody tr th:only-of-type {\n",
              "        vertical-align: middle;\n",
              "    }\n",
              "\n",
              "    .dataframe tbody tr th {\n",
              "        vertical-align: top;\n",
              "    }\n",
              "\n",
              "    .dataframe thead th {\n",
              "        text-align: right;\n",
              "    }\n",
              "</style>\n",
              "<table border=\"1\" class=\"dataframe\">\n",
              "  <thead>\n",
              "    <tr style=\"text-align: right;\">\n",
              "      <th></th>\n",
              "      <th>Alcohol</th>\n",
              "      <th>Malic_Acid</th>\n",
              "      <th>Ash</th>\n",
              "      <th>Ash_Alcanity</th>\n",
              "      <th>Magnesium</th>\n",
              "      <th>Total_Phenols</th>\n",
              "      <th>Flavanoids</th>\n",
              "      <th>Nonflavanoid_Phenols</th>\n",
              "      <th>Proanthocyanins</th>\n",
              "      <th>Color_Intensity</th>\n",
              "      <th>Hue</th>\n",
              "      <th>OD280</th>\n",
              "      <th>Proline</th>\n",
              "      <th>Customer_Segment</th>\n",
              "    </tr>\n",
              "  </thead>\n",
              "  <tbody>\n",
              "    <tr>\n",
              "      <th>Alcohol</th>\n",
              "      <td>1.000000</td>\n",
              "      <td>0.094397</td>\n",
              "      <td>0.211545</td>\n",
              "      <td>-0.310235</td>\n",
              "      <td>0.270798</td>\n",
              "      <td>0.289101</td>\n",
              "      <td>0.236815</td>\n",
              "      <td>-0.155929</td>\n",
              "      <td>0.136698</td>\n",
              "      <td>0.546364</td>\n",
              "      <td>-0.071747</td>\n",
              "      <td>0.072343</td>\n",
              "      <td>0.643720</td>\n",
              "      <td>-0.328222</td>\n",
              "    </tr>\n",
              "    <tr>\n",
              "      <th>Malic_Acid</th>\n",
              "      <td>0.094397</td>\n",
              "      <td>1.000000</td>\n",
              "      <td>0.164045</td>\n",
              "      <td>0.288500</td>\n",
              "      <td>-0.054575</td>\n",
              "      <td>-0.335167</td>\n",
              "      <td>-0.411007</td>\n",
              "      <td>0.292977</td>\n",
              "      <td>-0.220746</td>\n",
              "      <td>0.248985</td>\n",
              "      <td>-0.561296</td>\n",
              "      <td>-0.368710</td>\n",
              "      <td>-0.192011</td>\n",
              "      <td>0.437776</td>\n",
              "    </tr>\n",
              "    <tr>\n",
              "      <th>Ash</th>\n",
              "      <td>0.211545</td>\n",
              "      <td>0.164045</td>\n",
              "      <td>1.000000</td>\n",
              "      <td>0.443367</td>\n",
              "      <td>0.286587</td>\n",
              "      <td>0.128980</td>\n",
              "      <td>0.115077</td>\n",
              "      <td>0.186230</td>\n",
              "      <td>0.009652</td>\n",
              "      <td>0.258887</td>\n",
              "      <td>-0.074667</td>\n",
              "      <td>0.003911</td>\n",
              "      <td>0.223626</td>\n",
              "      <td>-0.049643</td>\n",
              "    </tr>\n",
              "    <tr>\n",
              "      <th>Ash_Alcanity</th>\n",
              "      <td>-0.310235</td>\n",
              "      <td>0.288500</td>\n",
              "      <td>0.443367</td>\n",
              "      <td>1.000000</td>\n",
              "      <td>-0.083333</td>\n",
              "      <td>-0.321113</td>\n",
              "      <td>-0.351370</td>\n",
              "      <td>0.361922</td>\n",
              "      <td>-0.197327</td>\n",
              "      <td>0.018732</td>\n",
              "      <td>-0.273955</td>\n",
              "      <td>-0.276769</td>\n",
              "      <td>-0.440597</td>\n",
              "      <td>0.517859</td>\n",
              "    </tr>\n",
              "    <tr>\n",
              "      <th>Magnesium</th>\n",
              "      <td>0.270798</td>\n",
              "      <td>-0.054575</td>\n",
              "      <td>0.286587</td>\n",
              "      <td>-0.083333</td>\n",
              "      <td>1.000000</td>\n",
              "      <td>0.214401</td>\n",
              "      <td>0.195784</td>\n",
              "      <td>-0.256294</td>\n",
              "      <td>0.236441</td>\n",
              "      <td>0.199950</td>\n",
              "      <td>0.055398</td>\n",
              "      <td>0.066004</td>\n",
              "      <td>0.393351</td>\n",
              "      <td>-0.209179</td>\n",
              "    </tr>\n",
              "    <tr>\n",
              "      <th>Total_Phenols</th>\n",
              "      <td>0.289101</td>\n",
              "      <td>-0.335167</td>\n",
              "      <td>0.128980</td>\n",
              "      <td>-0.321113</td>\n",
              "      <td>0.214401</td>\n",
              "      <td>1.000000</td>\n",
              "      <td>0.864564</td>\n",
              "      <td>-0.449935</td>\n",
              "      <td>0.612413</td>\n",
              "      <td>-0.055136</td>\n",
              "      <td>0.433681</td>\n",
              "      <td>0.699949</td>\n",
              "      <td>0.498115</td>\n",
              "      <td>-0.719163</td>\n",
              "    </tr>\n",
              "    <tr>\n",
              "      <th>Flavanoids</th>\n",
              "      <td>0.236815</td>\n",
              "      <td>-0.411007</td>\n",
              "      <td>0.115077</td>\n",
              "      <td>-0.351370</td>\n",
              "      <td>0.195784</td>\n",
              "      <td>0.864564</td>\n",
              "      <td>1.000000</td>\n",
              "      <td>-0.537900</td>\n",
              "      <td>0.652692</td>\n",
              "      <td>-0.172379</td>\n",
              "      <td>0.543479</td>\n",
              "      <td>0.787194</td>\n",
              "      <td>0.494193</td>\n",
              "      <td>-0.847498</td>\n",
              "    </tr>\n",
              "    <tr>\n",
              "      <th>Nonflavanoid_Phenols</th>\n",
              "      <td>-0.155929</td>\n",
              "      <td>0.292977</td>\n",
              "      <td>0.186230</td>\n",
              "      <td>0.361922</td>\n",
              "      <td>-0.256294</td>\n",
              "      <td>-0.449935</td>\n",
              "      <td>-0.537900</td>\n",
              "      <td>1.000000</td>\n",
              "      <td>-0.365845</td>\n",
              "      <td>0.139057</td>\n",
              "      <td>-0.262640</td>\n",
              "      <td>-0.503270</td>\n",
              "      <td>-0.311385</td>\n",
              "      <td>0.489109</td>\n",
              "    </tr>\n",
              "    <tr>\n",
              "      <th>Proanthocyanins</th>\n",
              "      <td>0.136698</td>\n",
              "      <td>-0.220746</td>\n",
              "      <td>0.009652</td>\n",
              "      <td>-0.197327</td>\n",
              "      <td>0.236441</td>\n",
              "      <td>0.612413</td>\n",
              "      <td>0.652692</td>\n",
              "      <td>-0.365845</td>\n",
              "      <td>1.000000</td>\n",
              "      <td>-0.025250</td>\n",
              "      <td>0.295544</td>\n",
              "      <td>0.519067</td>\n",
              "      <td>0.330417</td>\n",
              "      <td>-0.499130</td>\n",
              "    </tr>\n",
              "    <tr>\n",
              "      <th>Color_Intensity</th>\n",
              "      <td>0.546364</td>\n",
              "      <td>0.248985</td>\n",
              "      <td>0.258887</td>\n",
              "      <td>0.018732</td>\n",
              "      <td>0.199950</td>\n",
              "      <td>-0.055136</td>\n",
              "      <td>-0.172379</td>\n",
              "      <td>0.139057</td>\n",
              "      <td>-0.025250</td>\n",
              "      <td>1.000000</td>\n",
              "      <td>-0.521813</td>\n",
              "      <td>-0.428815</td>\n",
              "      <td>0.316100</td>\n",
              "      <td>0.265668</td>\n",
              "    </tr>\n",
              "    <tr>\n",
              "      <th>Hue</th>\n",
              "      <td>-0.071747</td>\n",
              "      <td>-0.561296</td>\n",
              "      <td>-0.074667</td>\n",
              "      <td>-0.273955</td>\n",
              "      <td>0.055398</td>\n",
              "      <td>0.433681</td>\n",
              "      <td>0.543479</td>\n",
              "      <td>-0.262640</td>\n",
              "      <td>0.295544</td>\n",
              "      <td>-0.521813</td>\n",
              "      <td>1.000000</td>\n",
              "      <td>0.565468</td>\n",
              "      <td>0.236183</td>\n",
              "      <td>-0.617369</td>\n",
              "    </tr>\n",
              "    <tr>\n",
              "      <th>OD280</th>\n",
              "      <td>0.072343</td>\n",
              "      <td>-0.368710</td>\n",
              "      <td>0.003911</td>\n",
              "      <td>-0.276769</td>\n",
              "      <td>0.066004</td>\n",
              "      <td>0.699949</td>\n",
              "      <td>0.787194</td>\n",
              "      <td>-0.503270</td>\n",
              "      <td>0.519067</td>\n",
              "      <td>-0.428815</td>\n",
              "      <td>0.565468</td>\n",
              "      <td>1.000000</td>\n",
              "      <td>0.312761</td>\n",
              "      <td>-0.788230</td>\n",
              "    </tr>\n",
              "    <tr>\n",
              "      <th>Proline</th>\n",
              "      <td>0.643720</td>\n",
              "      <td>-0.192011</td>\n",
              "      <td>0.223626</td>\n",
              "      <td>-0.440597</td>\n",
              "      <td>0.393351</td>\n",
              "      <td>0.498115</td>\n",
              "      <td>0.494193</td>\n",
              "      <td>-0.311385</td>\n",
              "      <td>0.330417</td>\n",
              "      <td>0.316100</td>\n",
              "      <td>0.236183</td>\n",
              "      <td>0.312761</td>\n",
              "      <td>1.000000</td>\n",
              "      <td>-0.633717</td>\n",
              "    </tr>\n",
              "    <tr>\n",
              "      <th>Customer_Segment</th>\n",
              "      <td>-0.328222</td>\n",
              "      <td>0.437776</td>\n",
              "      <td>-0.049643</td>\n",
              "      <td>0.517859</td>\n",
              "      <td>-0.209179</td>\n",
              "      <td>-0.719163</td>\n",
              "      <td>-0.847498</td>\n",
              "      <td>0.489109</td>\n",
              "      <td>-0.499130</td>\n",
              "      <td>0.265668</td>\n",
              "      <td>-0.617369</td>\n",
              "      <td>-0.788230</td>\n",
              "      <td>-0.633717</td>\n",
              "      <td>1.000000</td>\n",
              "    </tr>\n",
              "  </tbody>\n",
              "</table>\n",
              "</div>\n",
              "      <button class=\"colab-df-convert\" onclick=\"convertToInteractive('df-9ac32439-2c6b-48d6-bd88-6dc5847015bf')\"\n",
              "              title=\"Convert this dataframe to an interactive table.\"\n",
              "              style=\"display:none;\">\n",
              "        \n",
              "  <svg xmlns=\"http://www.w3.org/2000/svg\" height=\"24px\"viewBox=\"0 0 24 24\"\n",
              "       width=\"24px\">\n",
              "    <path d=\"M0 0h24v24H0V0z\" fill=\"none\"/>\n",
              "    <path d=\"M18.56 5.44l.94 2.06.94-2.06 2.06-.94-2.06-.94-.94-2.06-.94 2.06-2.06.94zm-11 1L8.5 8.5l.94-2.06 2.06-.94-2.06-.94L8.5 2.5l-.94 2.06-2.06.94zm10 10l.94 2.06.94-2.06 2.06-.94-2.06-.94-.94-2.06-.94 2.06-2.06.94z\"/><path d=\"M17.41 7.96l-1.37-1.37c-.4-.4-.92-.59-1.43-.59-.52 0-1.04.2-1.43.59L10.3 9.45l-7.72 7.72c-.78.78-.78 2.05 0 2.83L4 21.41c.39.39.9.59 1.41.59.51 0 1.02-.2 1.41-.59l7.78-7.78 2.81-2.81c.8-.78.8-2.07 0-2.86zM5.41 20L4 18.59l7.72-7.72 1.47 1.35L5.41 20z\"/>\n",
              "  </svg>\n",
              "      </button>\n",
              "      \n",
              "  <style>\n",
              "    .colab-df-container {\n",
              "      display:flex;\n",
              "      flex-wrap:wrap;\n",
              "      gap: 12px;\n",
              "    }\n",
              "\n",
              "    .colab-df-convert {\n",
              "      background-color: #E8F0FE;\n",
              "      border: none;\n",
              "      border-radius: 50%;\n",
              "      cursor: pointer;\n",
              "      display: none;\n",
              "      fill: #1967D2;\n",
              "      height: 32px;\n",
              "      padding: 0 0 0 0;\n",
              "      width: 32px;\n",
              "    }\n",
              "\n",
              "    .colab-df-convert:hover {\n",
              "      background-color: #E2EBFA;\n",
              "      box-shadow: 0px 1px 2px rgba(60, 64, 67, 0.3), 0px 1px 3px 1px rgba(60, 64, 67, 0.15);\n",
              "      fill: #174EA6;\n",
              "    }\n",
              "\n",
              "    [theme=dark] .colab-df-convert {\n",
              "      background-color: #3B4455;\n",
              "      fill: #D2E3FC;\n",
              "    }\n",
              "\n",
              "    [theme=dark] .colab-df-convert:hover {\n",
              "      background-color: #434B5C;\n",
              "      box-shadow: 0px 1px 3px 1px rgba(0, 0, 0, 0.15);\n",
              "      filter: drop-shadow(0px 1px 2px rgba(0, 0, 0, 0.3));\n",
              "      fill: #FFFFFF;\n",
              "    }\n",
              "  </style>\n",
              "\n",
              "      <script>\n",
              "        const buttonEl =\n",
              "          document.querySelector('#df-9ac32439-2c6b-48d6-bd88-6dc5847015bf button.colab-df-convert');\n",
              "        buttonEl.style.display =\n",
              "          google.colab.kernel.accessAllowed ? 'block' : 'none';\n",
              "\n",
              "        async function convertToInteractive(key) {\n",
              "          const element = document.querySelector('#df-9ac32439-2c6b-48d6-bd88-6dc5847015bf');\n",
              "          const dataTable =\n",
              "            await google.colab.kernel.invokeFunction('convertToInteractive',\n",
              "                                                     [key], {});\n",
              "          if (!dataTable) return;\n",
              "\n",
              "          const docLinkHtml = 'Like what you see? Visit the ' +\n",
              "            '<a target=\"_blank\" href=https://colab.research.google.com/notebooks/data_table.ipynb>data table notebook</a>'\n",
              "            + ' to learn more about interactive tables.';\n",
              "          element.innerHTML = '';\n",
              "          dataTable['output_type'] = 'display_data';\n",
              "          await google.colab.output.renderOutput(dataTable, element);\n",
              "          const docLink = document.createElement('div');\n",
              "          docLink.innerHTML = docLinkHtml;\n",
              "          element.appendChild(docLink);\n",
              "        }\n",
              "      </script>\n",
              "    </div>\n",
              "  </div>\n",
              "  "
            ]
          },
          "metadata": {},
          "execution_count": 5
        }
      ]
    },
    {
      "cell_type": "code",
      "source": [
        "from biokit.viz import corrplot"
      ],
      "metadata": {
        "id": "f6pRiHm4Illo"
      },
      "execution_count": null,
      "outputs": []
    },
    {
      "cell_type": "code",
      "source": [
        "corr_graf = corrplot.Corrplot(matriz_corr)\n",
        "corr_graf.plot(upper = 'ellipse', fontsize = 'x-large')\n",
        "fig = plt.gcf()\n",
        "fig.set_size_inches(16,8)\n",
        "fig.show()"
      ],
      "metadata": {
        "colab": {
          "base_uri": "https://localhost:8080/",
          "height": 441
        },
        "id": "1QxJkI6cIrj0",
        "outputId": "ddd2c33f-01dc-4601-8e88-07e52b23ce7a"
      },
      "execution_count": null,
      "outputs": [
        {
          "output_type": "display_data",
          "data": {
            "text/plain": [
              "<Figure size 1152x576 with 2 Axes>"
            ],
            "image/png": "[encoded data removed]"
          },
          "metadata": {}
        }
      ]
    },
    {
      "cell_type": "markdown",
      "source": [
        "# Normalizando os dados"
      ],
      "metadata": {
        "id": "OqRdY_b4KiLG"
      }
    },
    {
      "cell_type": "markdown",
      "source": [
        "### Normalização Manual"
      ],
      "metadata": {
        "id": "6USvw5n5K3nP"
      }
    },
    {
      "cell_type": "code",
      "source": [
        "atributos = dados.columns"
      ],
      "metadata": {
        "id": "JgoDeG7uJbKu"
      },
      "execution_count": null,
      "outputs": []
    },
    {
      "cell_type": "code",
      "source": [
        "for atributo in atributos:\n",
        "  dados[atributo] = (dados[atributo]-min(dados[atributo]))/(max(dados[atributo])-min(dados[atributo]))"
      ],
      "metadata": {
        "id": "n1zgSPLzJ-82"
      },
      "execution_count": null,
      "outputs": []
    },
    {
      "cell_type": "code",
      "source": [
        "dados.head()"
      ],
      "metadata": {
        "colab": {
          "base_uri": "https://localhost:8080/",
          "height": 250
        },
        "id": "D9tTnb8GKbqO",
        "outputId": "ab1c17b4-ef8e-4cc4-beba-b648e2d8b9dd"
      },
      "execution_count": null,
      "outputs": [
        {
          "output_type": "execute_result",
          "data": {
            "text/plain": [
              "    Alcohol  Malic_Acid       Ash  Ash_Alcanity  Magnesium  Total_Phenols  \\\n",
              "0  0.842105    0.191700  0.572193      0.257732   0.619565       0.627586   \n",
              "1  0.571053    0.205534  0.417112      0.030928   0.326087       0.575862   \n",
              "2  0.560526    0.320158  0.700535      0.412371   0.336957       0.627586   \n",
              "3  0.878947    0.239130  0.609626      0.319588   0.467391       0.989655   \n",
              "4  0.581579    0.365613  0.807487      0.536082   0.521739       0.627586   \n",
              "\n",
              "   Flavanoids  Nonflavanoid_Phenols  Proanthocyanins  Color_Intensity  \\\n",
              "0    0.573840              0.283019         0.593060         0.372014   \n",
              "1    0.510549              0.245283         0.274448         0.264505   \n",
              "2    0.611814              0.320755         0.757098         0.375427   \n",
              "3    0.664557              0.207547         0.558360         0.556314   \n",
              "4    0.495781              0.490566         0.444795         0.259386   \n",
              "\n",
              "        Hue     OD280   Proline  Customer_Segment  \n",
              "0  0.455285  0.970696  0.561341               0.0  \n",
              "1  0.463415  0.780220  0.550642               0.0  \n",
              "2  0.447154  0.695971  0.646933               0.0  \n",
              "3  0.308943  0.798535  0.857347               0.0  \n",
              "4  0.455285  0.608059  0.325963               0.0  "
            ],
            "text/html": [
              "\n",
              "  <div id=\"df-58ee8d1d-f777-4328-b132-c73d4ae35998\">\n",
              "    <div class=\"colab-df-container\">\n",
              "      <div>\n",
              "<style scoped>\n",
              "    .dataframe tbody tr th:only-of-type {\n",
              "        vertical-align: middle;\n",
              "    }\n",
              "\n",
              "    .dataframe tbody tr th {\n",
              "        vertical-align: top;\n",
              "    }\n",
              "\n",
              "    .dataframe thead th {\n",
              "        text-align: right;\n",
              "    }\n",
              "</style>\n",
              "<table border=\"1\" class=\"dataframe\">\n",
              "  <thead>\n",
              "    <tr style=\"text-align: right;\">\n",
              "      <th></th>\n",
              "      <th>Alcohol</th>\n",
              "      <th>Malic_Acid</th>\n",
              "      <th>Ash</th>\n",
              "      <th>Ash_Alcanity</th>\n",
              "      <th>Magnesium</th>\n",
              "      <th>Total_Phenols</th>\n",
              "      <th>Flavanoids</th>\n",
              "      <th>Nonflavanoid_Phenols</th>\n",
              "      <th>Proanthocyanins</th>\n",
              "      <th>Color_Intensity</th>\n",
              "      <th>Hue</th>\n",
              "      <th>OD280</th>\n",
              "      <th>Proline</th>\n",
              "      <th>Customer_Segment</th>\n",
              "    </tr>\n",
              "  </thead>\n",
              "  <tbody>\n",
              "    <tr>\n",
              "      <th>0</th>\n",
              "      <td>0.842105</td>\n",
              "      <td>0.191700</td>\n",
              "      <td>0.572193</td>\n",
              "      <td>0.257732</td>\n",
              "      <td>0.619565</td>\n",
              "      <td>0.627586</td>\n",
              "      <td>0.573840</td>\n",
              "      <td>0.283019</td>\n",
              "      <td>0.593060</td>\n",
              "      <td>0.372014</td>\n",
              "      <td>0.455285</td>\n",
              "      <td>0.970696</td>\n",
              "      <td>0.561341</td>\n",
              "      <td>0.0</td>\n",
              "    </tr>\n",
              "    <tr>\n",
              "      <th>1</th>\n",
              "      <td>0.571053</td>\n",
              "      <td>0.205534</td>\n",
              "      <td>0.417112</td>\n",
              "      <td>0.030928</td>\n",
              "      <td>0.326087</td>\n",
              "      <td>0.575862</td>\n",
              "      <td>0.510549</td>\n",
              "      <td>0.245283</td>\n",
              "      <td>0.274448</td>\n",
              "      <td>0.264505</td>\n",
              "      <td>0.463415</td>\n",
              "      <td>0.780220</td>\n",
              "      <td>0.550642</td>\n",
              "      <td>0.0</td>\n",
              "    </tr>\n",
              "    <tr>\n",
              "      <th>2</th>\n",
              "      <td>0.560526</td>\n",
              "      <td>0.320158</td>\n",
              "      <td>0.700535</td>\n",
              "      <td>0.412371</td>\n",
              "      <td>0.336957</td>\n",
              "      <td>0.627586</td>\n",
              "      <td>0.611814</td>\n",
              "      <td>0.320755</td>\n",
              "      <td>0.757098</td>\n",
              "      <td>0.375427</td>\n",
              "      <td>0.447154</td>\n",
              "      <td>0.695971</td>\n",
              "      <td>0.646933</td>\n",
              "      <td>0.0</td>\n",
              "    </tr>\n",
              "    <tr>\n",
              "      <th>3</th>\n",
              "      <td>0.878947</td>\n",
              "      <td>0.239130</td>\n",
              "      <td>0.609626</td>\n",
              "      <td>0.319588</td>\n",
              "      <td>0.467391</td>\n",
              "      <td>0.989655</td>\n",
              "      <td>0.664557</td>\n",
              "      <td>0.207547</td>\n",
              "      <td>0.558360</td>\n",
              "      <td>0.556314</td>\n",
              "      <td>0.308943</td>\n",
              "      <td>0.798535</td>\n",
              "      <td>0.857347</td>\n",
              "      <td>0.0</td>\n",
              "    </tr>\n",
              "    <tr>\n",
              "      <th>4</th>\n",
              "      <td>0.581579</td>\n",
              "      <td>0.365613</td>\n",
              "      <td>0.807487</td>\n",
              "      <td>0.536082</td>\n",
              "      <td>0.521739</td>\n",
              "      <td>0.627586</td>\n",
              "      <td>0.495781</td>\n",
              "      <td>0.490566</td>\n",
              "      <td>0.444795</td>\n",
              "      <td>0.259386</td>\n",
              "      <td>0.455285</td>\n",
              "      <td>0.608059</td>\n",
              "      <td>0.325963</td>\n",
              "      <td>0.0</td>\n",
              "    </tr>\n",
              "  </tbody>\n",
              "</table>\n",
              "</div>\n",
              "      <button class=\"colab-df-convert\" onclick=\"convertToInteractive('df-58ee8d1d-f777-4328-b132-c73d4ae35998')\"\n",
              "              title=\"Convert this dataframe to an interactive table.\"\n",
              "              style=\"display:none;\">\n",
              "        \n",
              "  <svg xmlns=\"http://www.w3.org/2000/svg\" height=\"24px\"viewBox=\"0 0 24 24\"\n",
              "       width=\"24px\">\n",
              "    <path d=\"M0 0h24v24H0V0z\" fill=\"none\"/>\n",
              "    <path d=\"M18.56 5.44l.94 2.06.94-2.06 2.06-.94-2.06-.94-.94-2.06-.94 2.06-2.06.94zm-11 1L8.5 8.5l.94-2.06 2.06-.94-2.06-.94L8.5 2.5l-.94 2.06-2.06.94zm10 10l.94 2.06.94-2.06 2.06-.94-2.06-.94-.94-2.06-.94 2.06-2.06.94z\"/><path d=\"M17.41 7.96l-1.37-1.37c-.4-.4-.92-.59-1.43-.59-.52 0-1.04.2-1.43.59L10.3 9.45l-7.72 7.72c-.78.78-.78 2.05 0 2.83L4 21.41c.39.39.9.59 1.41.59.51 0 1.02-.2 1.41-.59l7.78-7.78 2.81-2.81c.8-.78.8-2.07 0-2.86zM5.41 20L4 18.59l7.72-7.72 1.47 1.35L5.41 20z\"/>\n",
              "  </svg>\n",
              "      </button>\n",
              "      \n",
              "  <style>\n",
              "    .colab-df-container {\n",
              "      display:flex;\n",
              "      flex-wrap:wrap;\n",
              "      gap: 12px;\n",
              "    }\n",
              "\n",
              "    .colab-df-convert {\n",
              "      background-color: #E8F0FE;\n",
              "      border: none;\n",
              "      border-radius: 50%;\n",
              "      cursor: pointer;\n",
              "      display: none;\n",
              "      fill: #1967D2;\n",
              "      height: 32px;\n",
              "      padding: 0 0 0 0;\n",
              "      width: 32px;\n",
              "    }\n",
              "\n",
              "    .colab-df-convert:hover {\n",
              "      background-color: #E2EBFA;\n",
              "      box-shadow: 0px 1px 2px rgba(60, 64, 67, 0.3), 0px 1px 3px 1px rgba(60, 64, 67, 0.15);\n",
              "      fill: #174EA6;\n",
              "    }\n",
              "\n",
              "    [theme=dark] .colab-df-convert {\n",
              "      background-color: #3B4455;\n",
              "      fill: #D2E3FC;\n",
              "    }\n",
              "\n",
              "    [theme=dark] .colab-df-convert:hover {\n",
              "      background-color: #434B5C;\n",
              "      box-shadow: 0px 1px 3px 1px rgba(0, 0, 0, 0.15);\n",
              "      filter: drop-shadow(0px 1px 2px rgba(0, 0, 0, 0.3));\n",
              "      fill: #FFFFFF;\n",
              "    }\n",
              "  </style>\n",
              "\n",
              "      <script>\n",
              "        const buttonEl =\n",
              "          document.querySelector('#df-58ee8d1d-f777-4328-b132-c73d4ae35998 button.colab-df-convert');\n",
              "        buttonEl.style.display =\n",
              "          google.colab.kernel.accessAllowed ? 'block' : 'none';\n",
              "\n",
              "        async function convertToInteractive(key) {\n",
              "          const element = document.querySelector('#df-58ee8d1d-f777-4328-b132-c73d4ae35998');\n",
              "          const dataTable =\n",
              "            await google.colab.kernel.invokeFunction('convertToInteractive',\n",
              "                                                     [key], {});\n",
              "          if (!dataTable) return;\n",
              "\n",
              "          const docLinkHtml = 'Like what you see? Visit the ' +\n",
              "            '<a target=\"_blank\" href=https://colab.research.google.com/notebooks/data_table.ipynb>data table notebook</a>'\n",
              "            + ' to learn more about interactive tables.';\n",
              "          element.innerHTML = '';\n",
              "          dataTable['output_type'] = 'display_data';\n",
              "          await google.colab.output.renderOutput(dataTable, element);\n",
              "          const docLink = document.createElement('div');\n",
              "          docLink.innerHTML = docLinkHtml;\n",
              "          element.appendChild(docLink);\n",
              "        }\n",
              "      </script>\n",
              "    </div>\n",
              "  </div>\n",
              "  "
            ]
          },
          "metadata": {},
          "execution_count": 13
        }
      ]
    },
    {
      "cell_type": "markdown",
      "source": [
        "### Normalização SKLearn"
      ],
      "metadata": {
        "id": "dVmVgdiMK5q0"
      }
    },
    {
      "cell_type": "code",
      "source": [
        "from sklearn import preprocessing"
      ],
      "metadata": {
        "id": "Lo-dhVeUKdhl"
      },
      "execution_count": null,
      "outputs": []
    },
    {
      "cell_type": "code",
      "source": [
        "min_max_scaler = preprocessing.MinMaxScaler()\n",
        "np_dados = min_max_scaler.fit_transform(dados)"
      ],
      "metadata": {
        "id": "Sgz01V9xK_Qg"
      },
      "execution_count": null,
      "outputs": []
    },
    {
      "cell_type": "code",
      "source": [
        "dados = pd.DataFrame(np_dados, columns = atributos)"
      ],
      "metadata": {
        "id": "NG98pvgdLRvU"
      },
      "execution_count": null,
      "outputs": []
    },
    {
      "cell_type": "code",
      "source": [
        "dados.describe()"
      ],
      "metadata": {
        "colab": {
          "base_uri": "https://localhost:8080/",
          "height": 364
        },
        "id": "ojcnyKoRLbRK",
        "outputId": "0c7e8a6c-2c29-445c-ea45-08a80ceb6c6a"
      },
      "execution_count": null,
      "outputs": [
        {
          "output_type": "execute_result",
          "data": {
            "text/plain": [
              "          Alcohol  Malic_Acid         Ash  Ash_Alcanity   Magnesium  \\\n",
              "count  178.000000  178.000000  178.000000    178.000000  178.000000   \n",
              "mean     0.518584    0.315484    0.538244      0.458502    0.323278   \n",
              "std      0.213639    0.220780    0.146708      0.172142    0.155244   \n",
              "min      0.000000    0.000000    0.000000      0.000000    0.000000   \n",
              "25%      0.350658    0.170455    0.454545      0.340206    0.195652   \n",
              "50%      0.531579    0.222332    0.534759      0.458763    0.304348   \n",
              "75%      0.696711    0.462945    0.640374      0.561856    0.402174   \n",
              "max      1.000000    1.000000    1.000000      1.000000    1.000000   \n",
              "\n",
              "       Total_Phenols  Flavanoids  Nonflavanoid_Phenols  Proanthocyanins  \\\n",
              "count     178.000000  178.000000            178.000000       178.000000   \n",
              "mean        0.453487    0.356386              0.437460         0.372523   \n",
              "std         0.215811    0.210730              0.234818         0.180555   \n",
              "min         0.000000    0.000000              0.000000         0.000000   \n",
              "25%         0.262931    0.182489              0.264151         0.264984   \n",
              "50%         0.474138    0.378692              0.396226         0.361199   \n",
              "75%         0.627586    0.534810              0.580189         0.485804   \n",
              "max         1.000000    1.000000              1.000000         1.000000   \n",
              "\n",
              "       Color_Intensity         Hue       OD280     Proline  Customer_Segment  \n",
              "count       178.000000  178.000000  178.000000  178.000000        178.000000  \n",
              "mean          0.322363    0.388170    0.491460    0.334446          0.469101  \n",
              "std           0.197806    0.185831    0.260070    0.224613          0.387517  \n",
              "min           0.000000    0.000000    0.000000    0.000000          0.000000  \n",
              "25%           0.165529    0.245935    0.244505    0.158702          0.000000  \n",
              "50%           0.290956    0.394309    0.553114    0.282097          0.500000  \n",
              "75%           0.419795    0.520325    0.695971    0.504280          1.000000  \n",
              "max           1.000000    1.000000    1.000000    1.000000          1.000000  "
            ],
            "text/html": [
              "\n",
              "  <div id=\"df-f51bb5d0-1e4e-4d8b-a9e0-fba8aa94273e\">\n",
              "    <div class=\"colab-df-container\">\n",
              "      <div>\n",
              "<style scoped>\n",
              "    .dataframe tbody tr th:only-of-type {\n",
              "        vertical-align: middle;\n",
              "    }\n",
              "\n",
              "    .dataframe tbody tr th {\n",
              "        vertical-align: top;\n",
              "    }\n",
              "\n",
              "    .dataframe thead th {\n",
              "        text-align: right;\n",
              "    }\n",
              "</style>\n",
              "<table border=\"1\" class=\"dataframe\">\n",
              "  <thead>\n",
              "    <tr style=\"text-align: right;\">\n",
              "      <th></th>\n",
              "      <th>Alcohol</th>\n",
              "      <th>Malic_Acid</th>\n",
              "      <th>Ash</th>\n",
              "      <th>Ash_Alcanity</th>\n",
              "      <th>Magnesium</th>\n",
              "      <th>Total_Phenols</th>\n",
              "      <th>Flavanoids</th>\n",
              "      <th>Nonflavanoid_Phenols</th>\n",
              "      <th>Proanthocyanins</th>\n",
              "      <th>Color_Intensity</th>\n",
              "      <th>Hue</th>\n",
              "      <th>OD280</th>\n",
              "      <th>Proline</th>\n",
              "      <th>Customer_Segment</th>\n",
              "    </tr>\n",
              "  </thead>\n",
              "  <tbody>\n",
              "    <tr>\n",
              "      <th>count</th>\n",
              "      <td>178.000000</td>\n",
              "      <td>178.000000</td>\n",
              "      <td>178.000000</td>\n",
              "      <td>178.000000</td>\n",
              "      <td>178.000000</td>\n",
              "      <td>178.000000</td>\n",
              "      <td>178.000000</td>\n",
              "      <td>178.000000</td>\n",
              "      <td>178.000000</td>\n",
              "      <td>178.000000</td>\n",
              "      <td>178.000000</td>\n",
              "      <td>178.000000</td>\n",
              "      <td>178.000000</td>\n",
              "      <td>178.000000</td>\n",
              "    </tr>\n",
              "    <tr>\n",
              "      <th>mean</th>\n",
              "      <td>0.518584</td>\n",
              "      <td>0.315484</td>\n",
              "      <td>0.538244</td>\n",
              "      <td>0.458502</td>\n",
              "      <td>0.323278</td>\n",
              "      <td>0.453487</td>\n",
              "      <td>0.356386</td>\n",
              "      <td>0.437460</td>\n",
              "      <td>0.372523</td>\n",
              "      <td>0.322363</td>\n",
              "      <td>0.388170</td>\n",
              "      <td>0.491460</td>\n",
              "      <td>0.334446</td>\n",
              "      <td>0.469101</td>\n",
              "    </tr>\n",
              "    <tr>\n",
              "      <th>std</th>\n",
              "      <td>0.213639</td>\n",
              "      <td>0.220780</td>\n",
              "      <td>0.146708</td>\n",
              "      <td>0.172142</td>\n",
              "      <td>0.155244</td>\n",
              "      <td>0.215811</td>\n",
              "      <td>0.210730</td>\n",
              "      <td>0.234818</td>\n",
              "      <td>0.180555</td>\n",
              "      <td>0.197806</td>\n",
              "      <td>0.185831</td>\n",
              "      <td>0.260070</td>\n",
              "      <td>0.224613</td>\n",
              "      <td>0.387517</td>\n",
              "    </tr>\n",
              "    <tr>\n",
              "      <th>min</th>\n",
              "      <td>0.000000</td>\n",
              "      <td>0.000000</td>\n",
              "      <td>0.000000</td>\n",
              "      <td>0.000000</td>\n",
              "      <td>0.000000</td>\n",
              "      <td>0.000000</td>\n",
              "      <td>0.000000</td>\n",
              "      <td>0.000000</td>\n",
              "      <td>0.000000</td>\n",
              "      <td>0.000000</td>\n",
              "      <td>0.000000</td>\n",
              "      <td>0.000000</td>\n",
              "      <td>0.000000</td>\n",
              "      <td>0.000000</td>\n",
              "    </tr>\n",
              "    <tr>\n",
              "      <th>25%</th>\n",
              "      <td>0.350658</td>\n",
              "      <td>0.170455</td>\n",
              "      <td>0.454545</td>\n",
              "      <td>0.340206</td>\n",
              "      <td>0.195652</td>\n",
              "      <td>0.262931</td>\n",
              "      <td>0.182489</td>\n",
              "      <td>0.264151</td>\n",
              "      <td>0.264984</td>\n",
              "      <td>0.165529</td>\n",
              "      <td>0.245935</td>\n",
              "      <td>0.244505</td>\n",
              "      <td>0.158702</td>\n",
              "      <td>0.000000</td>\n",
              "    </tr>\n",
              "    <tr>\n",
              "      <th>50%</th>\n",
              "      <td>0.531579</td>\n",
              "      <td>0.222332</td>\n",
              "      <td>0.534759</td>\n",
              "      <td>0.458763</td>\n",
              "      <td>0.304348</td>\n",
              "      <td>0.474138</td>\n",
              "      <td>0.378692</td>\n",
              "      <td>0.396226</td>\n",
              "      <td>0.361199</td>\n",
              "      <td>0.290956</td>\n",
              "      <td>0.394309</td>\n",
              "      <td>0.553114</td>\n",
              "      <td>0.282097</td>\n",
              "      <td>0.500000</td>\n",
              "    </tr>\n",
              "    <tr>\n",
              "      <th>75%</th>\n",
              "      <td>0.696711</td>\n",
              "      <td>0.462945</td>\n",
              "      <td>0.640374</td>\n",
              "      <td>0.561856</td>\n",
              "      <td>0.402174</td>\n",
              "      <td>0.627586</td>\n",
              "      <td>0.534810</td>\n",
              "      <td>0.580189</td>\n",
              "      <td>0.485804</td>\n",
              "      <td>0.419795</td>\n",
              "      <td>0.520325</td>\n",
              "      <td>0.695971</td>\n",
              "      <td>0.504280</td>\n",
              "      <td>1.000000</td>\n",
              "    </tr>\n",
              "    <tr>\n",
              "      <th>max</th>\n",
              "      <td>1.000000</td>\n",
              "      <td>1.000000</td>\n",
              "      <td>1.000000</td>\n",
              "      <td>1.000000</td>\n",
              "      <td>1.000000</td>\n",
              "      <td>1.000000</td>\n",
              "      <td>1.000000</td>\n",
              "      <td>1.000000</td>\n",
              "      <td>1.000000</td>\n",
              "      <td>1.000000</td>\n",
              "      <td>1.000000</td>\n",
              "      <td>1.000000</td>\n",
              "      <td>1.000000</td>\n",
              "      <td>1.000000</td>\n",
              "    </tr>\n",
              "  </tbody>\n",
              "</table>\n",
              "</div>\n",
              "      <button class=\"colab-df-convert\" onclick=\"convertToInteractive('df-f51bb5d0-1e4e-4d8b-a9e0-fba8aa94273e')\"\n",
              "              title=\"Convert this dataframe to an interactive table.\"\n",
              "              style=\"display:none;\">\n",
              "        \n",
              "  <svg xmlns=\"http://www.w3.org/2000/svg\" height=\"24px\"viewBox=\"0 0 24 24\"\n",
              "       width=\"24px\">\n",
              "    <path d=\"M0 0h24v24H0V0z\" fill=\"none\"/>\n",
              "    <path d=\"M18.56 5.44l.94 2.06.94-2.06 2.06-.94-2.06-.94-.94-2.06-.94 2.06-2.06.94zm-11 1L8.5 8.5l.94-2.06 2.06-.94-2.06-.94L8.5 2.5l-.94 2.06-2.06.94zm10 10l.94 2.06.94-2.06 2.06-.94-2.06-.94-.94-2.06-.94 2.06-2.06.94z\"/><path d=\"M17.41 7.96l-1.37-1.37c-.4-.4-.92-.59-1.43-.59-.52 0-1.04.2-1.43.59L10.3 9.45l-7.72 7.72c-.78.78-.78 2.05 0 2.83L4 21.41c.39.39.9.59 1.41.59.51 0 1.02-.2 1.41-.59l7.78-7.78 2.81-2.81c.8-.78.8-2.07 0-2.86zM5.41 20L4 18.59l7.72-7.72 1.47 1.35L5.41 20z\"/>\n",
              "  </svg>\n",
              "      </button>\n",
              "      \n",
              "  <style>\n",
              "    .colab-df-container {\n",
              "      display:flex;\n",
              "      flex-wrap:wrap;\n",
              "      gap: 12px;\n",
              "    }\n",
              "\n",
              "    .colab-df-convert {\n",
              "      background-color: #E8F0FE;\n",
              "      border: none;\n",
              "      border-radius: 50%;\n",
              "      cursor: pointer;\n",
              "      display: none;\n",
              "      fill: #1967D2;\n",
              "      height: 32px;\n",
              "      padding: 0 0 0 0;\n",
              "      width: 32px;\n",
              "    }\n",
              "\n",
              "    .colab-df-convert:hover {\n",
              "      background-color: #E2EBFA;\n",
              "      box-shadow: 0px 1px 2px rgba(60, 64, 67, 0.3), 0px 1px 3px 1px rgba(60, 64, 67, 0.15);\n",
              "      fill: #174EA6;\n",
              "    }\n",
              "\n",
              "    [theme=dark] .colab-df-convert {\n",
              "      background-color: #3B4455;\n",
              "      fill: #D2E3FC;\n",
              "    }\n",
              "\n",
              "    [theme=dark] .colab-df-convert:hover {\n",
              "      background-color: #434B5C;\n",
              "      box-shadow: 0px 1px 3px 1px rgba(0, 0, 0, 0.15);\n",
              "      filter: drop-shadow(0px 1px 2px rgba(0, 0, 0, 0.3));\n",
              "      fill: #FFFFFF;\n",
              "    }\n",
              "  </style>\n",
              "\n",
              "      <script>\n",
              "        const buttonEl =\n",
              "          document.querySelector('#df-f51bb5d0-1e4e-4d8b-a9e0-fba8aa94273e button.colab-df-convert');\n",
              "        buttonEl.style.display =\n",
              "          google.colab.kernel.accessAllowed ? 'block' : 'none';\n",
              "\n",
              "        async function convertToInteractive(key) {\n",
              "          const element = document.querySelector('#df-f51bb5d0-1e4e-4d8b-a9e0-fba8aa94273e');\n",
              "          const dataTable =\n",
              "            await google.colab.kernel.invokeFunction('convertToInteractive',\n",
              "                                                     [key], {});\n",
              "          if (!dataTable) return;\n",
              "\n",
              "          const docLinkHtml = 'Like what you see? Visit the ' +\n",
              "            '<a target=\"_blank\" href=https://colab.research.google.com/notebooks/data_table.ipynb>data table notebook</a>'\n",
              "            + ' to learn more about interactive tables.';\n",
              "          element.innerHTML = '';\n",
              "          dataTable['output_type'] = 'display_data';\n",
              "          await google.colab.output.renderOutput(dataTable, element);\n",
              "          const docLink = document.createElement('div');\n",
              "          docLink.innerHTML = docLinkHtml;\n",
              "          element.appendChild(docLink);\n",
              "        }\n",
              "      </script>\n",
              "    </div>\n",
              "  </div>\n",
              "  "
            ]
          },
          "metadata": {},
          "execution_count": 19
        }
      ]
    },
    {
      "cell_type": "markdown",
      "source": [
        "### Desnormalizando os dados"
      ],
      "metadata": {
        "id": "fBS5UrajL_Ws"
      }
    },
    {
      "cell_type": "code",
      "source": [
        "# desnomalizar os dados\n",
        "# np_dados = min_max_scaler.inverse_transform(dados)\n",
        "# dados = pd.DataFrame(np_dados, columns = atributos)"
      ],
      "metadata": {
        "id": "umtc9xVELmWC"
      },
      "execution_count": null,
      "outputs": []
    },
    {
      "cell_type": "markdown",
      "source": [
        "# MÉTODO KMEANS"
      ],
      "metadata": {
        "id": "4vR7_PngMWEF"
      }
    },
    {
      "cell_type": "code",
      "source": [
        "from sklearn.cluster import KMeans"
      ],
      "metadata": {
        "id": "xiOkWgWML0mu"
      },
      "execution_count": null,
      "outputs": []
    },
    {
      "cell_type": "code",
      "source": [
        "agrupador = KMeans(n_clusters = 4)"
      ],
      "metadata": {
        "id": "p3NWW9BSMajc"
      },
      "execution_count": null,
      "outputs": []
    },
    {
      "cell_type": "code",
      "source": [
        "agrupador.fit(dados)"
      ],
      "metadata": {
        "colab": {
          "base_uri": "https://localhost:8080/"
        },
        "id": "MPvdKE2NMfRB",
        "outputId": "ba8b341b-126c-4add-8087-f6ddf0bd699b"
      },
      "execution_count": null,
      "outputs": [
        {
          "output_type": "execute_result",
          "data": {
            "text/plain": [
              "KMeans(n_clusters=4)"
            ]
          },
          "metadata": {},
          "execution_count": 27
        }
      ]
    },
    {
      "cell_type": "code",
      "source": [
        "labels = agrupador.labels_\n",
        "print(labels)"
      ],
      "metadata": {
        "colab": {
          "base_uri": "https://localhost:8080/"
        },
        "id": "4PIsz6_iMqb4",
        "outputId": "df65ef6d-e495-44e6-8090-cf0e950c5745"
      },
      "execution_count": null,
      "outputs": [
        {
          "output_type": "stream",
          "name": "stdout",
          "text": [
            "[2 2 2 2 2 2 2 2 2 2 2 2 2 2 2 2 2 2 2 2 2 2 2 2 2 2 2 2 2 2 2 2 2 2 2 2 2\n",
            " 2 2 2 2 2 2 2 2 2 2 2 2 2 2 2 2 2 2 2 2 2 2 0 0 0 0 3 0 3 3 3 0 3 0 3 3 3\n",
            " 3 0 3 0 3 3 3 3 0 0 3 3 0 0 0 0 0 0 0 3 3 3 3 3 3 3 3 0 3 0 3 0 0 0 3 3 3\n",
            " 3 0 0 0 0 3 3 0 3 3 3 3 3 3 3 3 0 3 0 1 1 1 1 1 1 1 1 1 1 1 1 1 1 1 1 1 1\n",
            " 1 1 1 1 1 1 1 1 1 1 1 1 1 1 1 1 1 1 1 1 1 1 1 1 1 1 1 1 1 1]\n"
          ]
        }
      ]
    },
    {
      "cell_type": "code",
      "source": [
        "fig = go.Figure()\n",
        "fig.add_trace(go.Scatter(x = dados['Color_Intensity'], y = dados['Alcohol'], mode = 'markers', \n",
        "                         marker = dict(color = agrupador.labels_.astype(np.float)), text = labels))\n",
        "fig.show()"
      ],
      "metadata": {
        "colab": {
          "base_uri": "https://localhost:8080/",
          "height": 649
        },
        "id": "Ufa3ZR2oMyVz",
        "outputId": "2ef302b4-ce47-4883-c9ac-4c29a3751d04"
      },
      "execution_count": null,
      "outputs": [
        {
          "output_type": "stream",
          "name": "stderr",
          "text": [
            "/usr/local/lib/python3.7/dist-packages/ipykernel_launcher.py:3: DeprecationWarning:\n",
            "\n",
            "`np.float` is a deprecated alias for the builtin `float`. To silence this warning, use `float` by itself. Doing this will not modify any behavior and is safe. If you specifically wanted the numpy scalar type, use `np.float64` here.\n",
            "Deprecated in NumPy 1.20; for more details and guidance: https://numpy.org/devdocs/release/1.20.0-notes.html#deprecations\n",
            "\n"
          ]
        },
        {
          "output_type": "display_data",
          "data": {
            "text/html": [
              "<html>\n",
              "<head><meta charset=\"utf-8\" /></head>\n",
              "<body>\n",
              "    <div>            <script src=\"https://cdnjs.cloudflare.com/ajax/libs/mathjax/2.7.5/MathJax.js?config=TeX-AMS-MML_SVG\"></script><script type=\"text/javascript\">if (window.MathJax) {MathJax.Hub.Config({SVG: {font: \"STIX-Web\"}});}</script>                <script type=\"text/javascript\">window.PlotlyConfig = {MathJaxConfig: 'local'};</script>\n",
              "        <script src=\"https://cdn.plot.ly/plotly-2.8.3.min.js\"></script>                <div id=\"4d0cb28c-3e2d-4ff7-a0d9-524314528c07\" class=\"plotly-graph-div\" style=\"height:525px; width:100%;\"></div>            <script type=\"text/javascript\">                                    window.PLOTLYENV=window.PLOTLYENV || {};                                    if (document.getElementById(\"4d0cb28c-3e2d-4ff7-a0d9-524314528c07\")) {                    Plotly.newPlot(                        \"4d0cb28c-3e2d-4ff7-a0d9-524314528c07\",                        [{\"marker\":{\"color\":[2.0,2.0,2.0,2.0,2.0,2.0,2.0,2.0,2.0,2.0,2.0,2.0,2.0,2.0,2.0,2.0,2.0,2.0,2.0,2.0,2.0,2.0,2.0,2.0,2.0,2.0,2.0,2.0,2.0,2.0,2.0,2.0,2.0,2.0,2.0,2.0,2.0,2.0,2.0,2.0,2.0,2.0,2.0,2.0,2.0,2.0,2.0,2.0,2.0,2.0,2.0,2.0,2.0,2.0,2.0,2.0,2.0,2.0,2.0,0.0,0.0,0.0,0.0,3.0,0.0,3.0,3.0,3.0,0.0,3.0,0.0,3.0,3.0,3.0,3.0,0.0,3.0,0.0,3.0,3.0,3.0,3.0,0.0,0.0,3.0,3.0,0.0,0.0,0.0,0.0,0.0,0.0,0.0,3.0,3.0,3.0,3.0,3.0,3.0,3.0,3.0,0.0,3.0,0.0,3.0,0.0,0.0,0.0,3.0,3.0,3.0,3.0,0.0,0.0,0.0,0.0,3.0,3.0,0.0,3.0,3.0,3.0,3.0,3.0,3.0,3.0,3.0,0.0,3.0,0.0,1.0,1.0,1.0,1.0,1.0,1.0,1.0,1.0,1.0,1.0,1.0,1.0,1.0,1.0,1.0,1.0,1.0,1.0,1.0,1.0,1.0,1.0,1.0,1.0,1.0,1.0,1.0,1.0,1.0,1.0,1.0,1.0,1.0,1.0,1.0,1.0,1.0,1.0,1.0,1.0,1.0,1.0,1.0,1.0,1.0,1.0,1.0,1.0]},\"mode\":\"markers\",\"text\":[2.0,2.0,2.0,2.0,2.0,2.0,2.0,2.0,2.0,2.0,2.0,2.0,2.0,2.0,2.0,2.0,2.0,2.0,2.0,2.0,2.0,2.0,2.0,2.0,2.0,2.0,2.0,2.0,2.0,2.0,2.0,2.0,2.0,2.0,2.0,2.0,2.0,2.0,2.0,2.0,2.0,2.0,2.0,2.0,2.0,2.0,2.0,2.0,2.0,2.0,2.0,2.0,2.0,2.0,2.0,2.0,2.0,2.0,2.0,0.0,0.0,0.0,0.0,3.0,0.0,3.0,3.0,3.0,0.0,3.0,0.0,3.0,3.0,3.0,3.0,0.0,3.0,0.0,3.0,3.0,3.0,3.0,0.0,0.0,3.0,3.0,0.0,0.0,0.0,0.0,0.0,0.0,0.0,3.0,3.0,3.0,3.0,3.0,3.0,3.0,3.0,0.0,3.0,0.0,3.0,0.0,0.0,0.0,3.0,3.0,3.0,3.0,0.0,0.0,0.0,0.0,3.0,3.0,0.0,3.0,3.0,3.0,3.0,3.0,3.0,3.0,3.0,0.0,3.0,0.0,1.0,1.0,1.0,1.0,1.0,1.0,1.0,1.0,1.0,1.0,1.0,1.0,1.0,1.0,1.0,1.0,1.0,1.0,1.0,1.0,1.0,1.0,1.0,1.0,1.0,1.0,1.0,1.0,1.0,1.0,1.0,1.0,1.0,1.0,1.0,1.0,1.0,1.0,1.0,1.0,1.0,1.0,1.0,1.0,1.0,1.0,1.0,1.0],\"x\":[0.37201365187713303,0.26450511945392485,0.3754266211604095,0.5563139931740614,0.2593856655290102,0.46672354948805456,0.3387372013651877,0.3216723549488054,0.33447098976109213,0.5068259385665528,0.3813993174061433,0.31740614334470985,0.3686006825938566,0.3515358361774744,0.530716723549488,0.5136518771331058,0.4197952218430034,0.45392491467576784,0.6331058020477814,0.32593856655290093,0.3728668941979522,0.27474402730375425,0.21501706484641633,0.22610921501706485,0.19112627986348124,0.19624573378839588,0.3003412969283276,0.22781569965870305,0.27474402730375425,0.2918088737201365,0.37713310580204773,0.47952218430034127,0.21843003412969278,0.3515358361774744,0.24914675767918087,0.32593856655290093,0.28327645051194533,0.2534129692832764,0.20648464163822525,0.32593856655290093,0.41382252559726956,0.25597269624573377,0.3540955631399317,0.26279863481228666,0.3208191126279863,0.3378839590443686,0.30887372013651876,0.4112627986348122,0.4197952218430034,0.6501706484641638,0.5051194539249146,0.3686006825938566,0.4923208191126279,0.42832764505119447,0.3899317406143344,0.42406143344709896,0.43515358361774736,0.4027303754266211,0.4709897610921501,0.057167235494880536,0.1697952218430034,0.3813993174061433,0.21501706484641633,0.2704778156996587,0.14249146757679182,0.28327645051194533,0.3430034129692832,0.2901023890784982,0.16126279863481227,0.13395904436860068,0.1510238907849829,0.17918088737201363,0.2098976109215017,0.17662116040955633,0.16467576791808872,0.21501706484641633,0.28327645051194533,0.11689419795221842,0.18088737201365188,0.1100682593856655,0.10409556313993173,0.2235494880546075,0.07849829351535836,0.3003412969283276,0.1510238907849829,0.11433447098976109,0.09982935153583619,0.11262798634812286,0.1296928327645051,0.039249146757679175,0.09556313993174059,0.19795221843003413,0.1510238907849829,0.07423208191126278,0.16808873720136516,0.11262798634812286,0.10409556313993173,0.13822525597269622,0.27474402730375425,0.08703071672354946,0.1723549488054607,0.09982935153583619,0.1296928327645051,0.06655290102389079,0.1416382252559727,0.121160409556314,0.18088737201365188,0.1723549488054607,0.121160409556314,0.11689419795221842,0.13822525597269622,0.0614334470989761,0.21501706484641633,0.15358361774744028,0.13822525597269622,0.05290102389078497,0.057167235494880536,0.06655290102389079,0.18088737201365188,0.0,0.16808873720136516,0.4027303754266211,0.06825938566552901,0.11262798634812286,0.1296928327645051,0.12627986348122863,0.22696245733788395,0.14675767918088736,0.07167235494880546,0.11262798634812286,0.2406143344709897,0.3515358361774744,0.37713310580204773,0.31740614334470985,0.35580204778156993,0.49658703071672344,0.21928327645051196,0.31740614334470985,0.37713310580204773,0.31058020477815695,0.28327645051194533,0.3686006825938566,0.26194539249146753,0.26621160409556316,0.591296928327645,0.2320819112627986,0.30887372013651876,0.5435153583617747,0.6092150170648464,0.6928327645051195,0.6245733788395904,0.8122866894197953,0.49658703071672344,0.78839590443686,0.5392491467576791,0.5648464163822525,0.6595563139931739,0.530716723549488,1.0,0.893344709897611,0.5435153583617747,0.39249146757679176,0.3668941979522184,0.341296928327645,0.7081911262798635,0.4556313993174061,0.8020477815699658,0.7662116040955631,0.629692832764505,0.6160409556313993,0.3600682593856655,0.7354947952218429,0.7184300341296928,0.5477815699658702,0.5136518771331058,0.7610921501706485,0.6843003412969284,0.675767918088737],\"y\":[0.8421052631578949,0.5710526315789473,0.5605263157894738,0.8789473684210525,0.5815789473684212,0.8342105263157893,0.8842105263157897,0.7973684210526317,1.0,0.744736842105263,0.8078947368421052,0.813157894736842,0.7157894736842105,0.9789473684210526,0.8815789473684212,0.6842105263157897,0.8605263157894739,0.736842105263158,0.831578947368421,0.686842105263158,0.7973684210526317,0.5,0.7052631578947371,0.4789473684210526,0.65,0.5315789473684213,0.6210526315789475,0.5973684210526318,0.7473684210526313,0.7868421052631578,0.7105263157894738,0.6710526315789475,0.6973684210526315,0.718421052631579,0.6526315789473685,0.6447368421052633,0.5921052631578946,0.5315789473684213,0.536842105263158,0.8394736842105265,0.6657894736842107,0.6263157894736843,0.7500000000000002,0.5815789473684212,0.5315789473684213,0.8368421052631582,0.8815789473684212,0.755263157894737,0.8078947368421052,0.7657894736842105,0.5315789473684213,0.736842105263158,0.7342105263157895,0.7210526315789473,0.7131578947368422,0.6657894736842107,0.8394736842105265,0.594736842105263,0.7078947368421055,0.3526315789473683,0.34210526315789486,0.42368421052631605,0.6947368421052632,0.3526315789473683,0.3000000000000001,0.3526315789473683,0.5473684210526315,0.3526315789473683,0.6078947368421053,0.31052631578947404,0.3315789473684209,0.744736842105263,0.6473684210526317,0.5157894736842107,0.2447368421052635,0.1657894736842107,0.5263157894736841,0.21315789473684219,0.34210526315789486,0.43947368421052624,0.25526315789473697,0.44473684210526343,0.27631578947368435,0.5315789473684213,0.21315789473684219,0.4315789473684211,0.2973684210526317,0.16315789473684233,0.16052631578947396,0.27631578947368435,0.27631578947368435,0.25526315789473697,0.43684210526315786,0.3315789473684209,0.15526315789473677,0.3789473684210529,0.2052631578947371,0.3315789473684209,0.3526315789473683,0.3315789473684209,0.27631578947368435,0.4131578947368421,0.34473684210526323,0.20789473684210547,0.38947368421052636,0.3657894736842106,0.3210526315789475,0.44473684210526343,0.31315789473684236,0.15263157894736842,0.11315789473684247,0.39210526315789473,0.1921052631578948,0.10000000000000019,0.27631578947368435,0.0,0.20789473684210547,0.3657894736842106,0.45789473684210524,0.25526315789473697,0.11052631578947364,0.13947368421052658,0.3657894736842106,0.5315789473684213,0.22105263157894728,0.273684210526316,0.368421052631579,0.1999999999999999,0.3526315789473683,0.2657894736842104,0.481578947368421,0.4868421052631582,0.4684210526315792,0.43947368421052624,0.38947368421052636,0.4131578947368421,0.3210526315789475,0.3947368421052631,0.6473684210526317,0.47631578947368425,0.5,0.613157894736842,0.6552631578947368,0.6815789473684208,0.3210526315789475,0.5605263157894738,0.7500000000000002,0.48421052631578937,0.6026315789473685,0.5394736842105264,0.65,0.46315789473684194,0.5473684210526315,0.5789473684210528,0.40789473684210537,0.5631578947368422,0.7394736842105263,0.3736842105263157,0.8710526315789473,0.6447368421052633,0.35,0.7,0.4789473684210526,0.5078947368421055,0.7236842105263157,0.7105263157894738,0.6368421052631578,0.4710526315789475,0.6710526315789475,0.623684210526316,0.30789473684210517,0.45789473684210524,0.8236842105263158,0.7052631578947371,0.623684210526316,0.5894736842105263,0.5631578947368422,0.8157894736842107],\"type\":\"scatter\"}],                        {\"template\":{\"data\":{\"bar\":[{\"error_x\":{\"color\":\"#2a3f5f\"},\"error_y\":{\"color\":\"#2a3f5f\"},\"marker\":{\"line\":{\"color\":\"#E5ECF6\",\"width\":0.5},\"pattern\":{\"fillmode\":\"overlay\",\"size\":10,\"solidity\":0.2}},\"type\":\"bar\"}],\"barpolar\":[{\"marker\":{\"line\":{\"color\":\"#E5ECF6\",\"width\":0.5},\"pattern\":{\"fillmode\":\"overlay\",\"size\":10,\"solidity\":0.2}},\"type\":\"barpolar\"}],\"carpet\":[{\"aaxis\":{\"endlinecolor\":\"#2a3f5f\",\"gridcolor\":\"white\",\"linecolor\":\"white\",\"minorgridcolor\":\"white\",\"startlinecolor\":\"#2a3f5f\"},\"baxis\":{\"endlinecolor\":\"#2a3f5f\",\"gridcolor\":\"white\",\"linecolor\":\"white\",\"minorgridcolor\":\"white\",\"startlinecolor\":\"#2a3f5f\"},\"type\":\"carpet\"}],\"choropleth\":[{\"colorbar\":{\"outlinewidth\":0,\"ticks\":\"\"},\"type\":\"choropleth\"}],\"contour\":[{\"colorbar\":{\"outlinewidth\":0,\"ticks\":\"\"},\"colorscale\":[[0.0,\"#0d0887\"],[0.1111111111111111,\"#46039f\"],[0.2222222222222222,\"#7201a8\"],[0.3333333333333333,\"#9c179e\"],[0.4444444444444444,\"#bd3786\"],[0.5555555555555556,\"#d8576b\"],[0.6666666666666666,\"#ed7953\"],[0.7777777777777778,\"#fb9f3a\"],[0.8888888888888888,\"#fdca26\"],[1.0,\"#f0f921\"]],\"type\":\"contour\"}],\"contourcarpet\":[{\"colorbar\":{\"outlinewidth\":0,\"ticks\":\"\"},\"type\":\"contourcarpet\"}],\"heatmap\":[{\"colorbar\":{\"outlinewidth\":0,\"ticks\":\"\"},\"colorscale\":[[0.0,\"#0d0887\"],[0.1111111111111111,\"#46039f\"],[0.2222222222222222,\"#7201a8\"],[0.3333333333333333,\"#9c179e\"],[0.4444444444444444,\"#bd3786\"],[0.5555555555555556,\"#d8576b\"],[0.6666666666666666,\"#ed7953\"],[0.7777777777777778,\"#fb9f3a\"],[0.8888888888888888,\"#fdca26\"],[1.0,\"#f0f921\"]],\"type\":\"heatmap\"}],\"heatmapgl\":[{\"colorbar\":{\"outlinewidth\":0,\"ticks\":\"\"},\"colorscale\":[[0.0,\"#0d0887\"],[0.1111111111111111,\"#46039f\"],[0.2222222222222222,\"#7201a8\"],[0.3333333333333333,\"#9c179e\"],[0.4444444444444444,\"#bd3786\"],[0.5555555555555556,\"#d8576b\"],[0.6666666666666666,\"#ed7953\"],[0.7777777777777778,\"#fb9f3a\"],[0.8888888888888888,\"#fdca26\"],[1.0,\"#f0f921\"]],\"type\":\"heatmapgl\"}],\"histogram\":[{\"marker\":{\"pattern\":{\"fillmode\":\"overlay\",\"size\":10,\"solidity\":0.2}},\"type\":\"histogram\"}],\"histogram2d\":[{\"colorbar\":{\"outlinewidth\":0,\"ticks\":\"\"},\"colorscale\":[[0.0,\"#0d0887\"],[0.1111111111111111,\"#46039f\"],[0.2222222222222222,\"#7201a8\"],[0.3333333333333333,\"#9c179e\"],[0.4444444444444444,\"#bd3786\"],[0.5555555555555556,\"#d8576b\"],[0.6666666666666666,\"#ed7953\"],[0.7777777777777778,\"#fb9f3a\"],[0.8888888888888888,\"#fdca26\"],[1.0,\"#f0f921\"]],\"type\":\"histogram2d\"}],\"histogram2dcontour\":[{\"colorbar\":{\"outlinewidth\":0,\"ticks\":\"\"},\"colorscale\":[[0.0,\"#0d0887\"],[0.1111111111111111,\"#46039f\"],[0.2222222222222222,\"#7201a8\"],[0.3333333333333333,\"#9c179e\"],[0.4444444444444444,\"#bd3786\"],[0.5555555555555556,\"#d8576b\"],[0.6666666666666666,\"#ed7953\"],[0.7777777777777778,\"#fb9f3a\"],[0.8888888888888888,\"#fdca26\"],[1.0,\"#f0f921\"]],\"type\":\"histogram2dcontour\"}],\"mesh3d\":[{\"colorbar\":{\"outlinewidth\":0,\"ticks\":\"\"},\"type\":\"mesh3d\"}],\"parcoords\":[{\"line\":{\"colorbar\":{\"outlinewidth\":0,\"ticks\":\"\"}},\"type\":\"parcoords\"}],\"pie\":[{\"automargin\":true,\"type\":\"pie\"}],\"scatter\":[{\"marker\":{\"colorbar\":{\"outlinewidth\":0,\"ticks\":\"\"}},\"type\":\"scatter\"}],\"scatter3d\":[{\"line\":{\"colorbar\":{\"outlinewidth\":0,\"ticks\":\"\"}},\"marker\":{\"colorbar\":{\"outlinewidth\":0,\"ticks\":\"\"}},\"type\":\"scatter3d\"}],\"scattercarpet\":[{\"marker\":{\"colorbar\":{\"outlinewidth\":0,\"ticks\":\"\"}},\"type\":\"scattercarpet\"}],\"scattergeo\":[{\"marker\":{\"colorbar\":{\"outlinewidth\":0,\"ticks\":\"\"}},\"type\":\"scattergeo\"}],\"scattergl\":[{\"marker\":{\"colorbar\":{\"outlinewidth\":0,\"ticks\":\"\"}},\"type\":\"scattergl\"}],\"scattermapbox\":[{\"marker\":{\"colorbar\":{\"outlinewidth\":0,\"ticks\":\"\"}},\"type\":\"scattermapbox\"}],\"scatterpolar\":[{\"marker\":{\"colorbar\":{\"outlinewidth\":0,\"ticks\":\"\"}},\"type\":\"scatterpolar\"}],\"scatterpolargl\":[{\"marker\":{\"colorbar\":{\"outlinewidth\":0,\"ticks\":\"\"}},\"type\":\"scatterpolargl\"}],\"scatterternary\":[{\"marker\":{\"colorbar\":{\"outlinewidth\":0,\"ticks\":\"\"}},\"type\":\"scatterternary\"}],\"surface\":[{\"colorbar\":{\"outlinewidth\":0,\"ticks\":\"\"},\"colorscale\":[[0.0,\"#0d0887\"],[0.1111111111111111,\"#46039f\"],[0.2222222222222222,\"#7201a8\"],[0.3333333333333333,\"#9c179e\"],[0.4444444444444444,\"#bd3786\"],[0.5555555555555556,\"#d8576b\"],[0.6666666666666666,\"#ed7953\"],[0.7777777777777778,\"#fb9f3a\"],[0.8888888888888888,\"#fdca26\"],[1.0,\"#f0f921\"]],\"type\":\"surface\"}],\"table\":[{\"cells\":{\"fill\":{\"color\":\"#EBF0F8\"},\"line\":{\"color\":\"white\"}},\"header\":{\"fill\":{\"color\":\"#C8D4E3\"},\"line\":{\"color\":\"white\"}},\"type\":\"table\"}]},\"layout\":{\"annotationdefaults\":{\"arrowcolor\":\"#2a3f5f\",\"arrowhead\":0,\"arrowwidth\":1},\"autotypenumbers\":\"strict\",\"coloraxis\":{\"colorbar\":{\"outlinewidth\":0,\"ticks\":\"\"}},\"colorscale\":{\"diverging\":[[0,\"#8e0152\"],[0.1,\"#c51b7d\"],[0.2,\"#de77ae\"],[0.3,\"#f1b6da\"],[0.4,\"#fde0ef\"],[0.5,\"#f7f7f7\"],[0.6,\"#e6f5d0\"],[0.7,\"#b8e186\"],[0.8,\"#7fbc41\"],[0.9,\"#4d9221\"],[1,\"#276419\"]],\"sequential\":[[0.0,\"#0d0887\"],[0.1111111111111111,\"#46039f\"],[0.2222222222222222,\"#7201a8\"],[0.3333333333333333,\"#9c179e\"],[0.4444444444444444,\"#bd3786\"],[0.5555555555555556,\"#d8576b\"],[0.6666666666666666,\"#ed7953\"],[0.7777777777777778,\"#fb9f3a\"],[0.8888888888888888,\"#fdca26\"],[1.0,\"#f0f921\"]],\"sequentialminus\":[[0.0,\"#0d0887\"],[0.1111111111111111,\"#46039f\"],[0.2222222222222222,\"#7201a8\"],[0.3333333333333333,\"#9c179e\"],[0.4444444444444444,\"#bd3786\"],[0.5555555555555556,\"#d8576b\"],[0.6666666666666666,\"#ed7953\"],[0.7777777777777778,\"#fb9f3a\"],[0.8888888888888888,\"#fdca26\"],[1.0,\"#f0f921\"]]},\"colorway\":[\"#636efa\",\"#EF553B\",\"#00cc96\",\"#ab63fa\",\"#FFA15A\",\"#19d3f3\",\"#FF6692\",\"#B6E880\",\"#FF97FF\",\"#FECB52\"],\"font\":{\"color\":\"#2a3f5f\"},\"geo\":{\"bgcolor\":\"white\",\"lakecolor\":\"white\",\"landcolor\":\"#E5ECF6\",\"showlakes\":true,\"showland\":true,\"subunitcolor\":\"white\"},\"hoverlabel\":{\"align\":\"left\"},\"hovermode\":\"closest\",\"mapbox\":{\"style\":\"light\"},\"paper_bgcolor\":\"white\",\"plot_bgcolor\":\"#E5ECF6\",\"polar\":{\"angularaxis\":{\"gridcolor\":\"white\",\"linecolor\":\"white\",\"ticks\":\"\"},\"bgcolor\":\"#E5ECF6\",\"radialaxis\":{\"gridcolor\":\"white\",\"linecolor\":\"white\",\"ticks\":\"\"}},\"scene\":{\"xaxis\":{\"backgroundcolor\":\"#E5ECF6\",\"gridcolor\":\"white\",\"gridwidth\":2,\"linecolor\":\"white\",\"showbackground\":true,\"ticks\":\"\",\"zerolinecolor\":\"white\"},\"yaxis\":{\"backgroundcolor\":\"#E5ECF6\",\"gridcolor\":\"white\",\"gridwidth\":2,\"linecolor\":\"white\",\"showbackground\":true,\"ticks\":\"\",\"zerolinecolor\":\"white\"},\"zaxis\":{\"backgroundcolor\":\"#E5ECF6\",\"gridcolor\":\"white\",\"gridwidth\":2,\"linecolor\":\"white\",\"showbackground\":true,\"ticks\":\"\",\"zerolinecolor\":\"white\"}},\"shapedefaults\":{\"line\":{\"color\":\"#2a3f5f\"}},\"ternary\":{\"aaxis\":{\"gridcolor\":\"white\",\"linecolor\":\"white\",\"ticks\":\"\"},\"baxis\":{\"gridcolor\":\"white\",\"linecolor\":\"white\",\"ticks\":\"\"},\"bgcolor\":\"#E5ECF6\",\"caxis\":{\"gridcolor\":\"white\",\"linecolor\":\"white\",\"ticks\":\"\"}},\"title\":{\"x\":0.05},\"xaxis\":{\"automargin\":true,\"gridcolor\":\"white\",\"linecolor\":\"white\",\"ticks\":\"\",\"title\":{\"standoff\":15},\"zerolinecolor\":\"white\",\"zerolinewidth\":2},\"yaxis\":{\"automargin\":true,\"gridcolor\":\"white\",\"linecolor\":\"white\",\"ticks\":\"\",\"title\":{\"standoff\":15},\"zerolinecolor\":\"white\",\"zerolinewidth\":2}}}},                        {\"responsive\": true}                    ).then(function(){\n",
              "                            \n",
              "var gd = document.getElementById('4d0cb28c-3e2d-4ff7-a0d9-524314528c07');\n",
              "var x = new MutationObserver(function (mutations, observer) {{\n",
              "        var display = window.getComputedStyle(gd).display;\n",
              "        if (!display || display === 'none') {{\n",
              "            console.log([gd, 'removed!']);\n",
              "            Plotly.purge(gd);\n",
              "            observer.disconnect();\n",
              "        }}\n",
              "}});\n",
              "\n",
              "// Listen for the removal of the full notebook cells\n",
              "var notebookContainer = gd.closest('#notebook-container');\n",
              "if (notebookContainer) {{\n",
              "    x.observe(notebookContainer, {childList: true});\n",
              "}}\n",
              "\n",
              "// Listen for the clearing of the current output cell\n",
              "var outputEl = gd.closest('.output');\n",
              "if (outputEl) {{\n",
              "    x.observe(outputEl, {childList: true});\n",
              "}}\n",
              "\n",
              "                        })                };                            </script>        </div>\n",
              "</body>\n",
              "</html>"
            ]
          },
          "metadata": {}
        }
      ]
    },
    {
      "cell_type": "markdown",
      "source": [
        "### 4 agrupamentos parece não ser o ideal pois as bolinhas estão muito emboladas"
      ],
      "metadata": {
        "id": "635w801OO64y"
      }
    },
    {
      "cell_type": "code",
      "source": [
        "agrupador = KMeans(n_clusters = 3)\n",
        "agrupador.fit(dados)\n",
        "labels = agrupador.labels_\n",
        "print(labels) "
      ],
      "metadata": {
        "colab": {
          "base_uri": "https://localhost:8080/"
        },
        "id": "MW2cnu0-Nqk5",
        "outputId": "55f6a17a-1b64-4eeb-cbfd-2c5d30a3820a"
      },
      "execution_count": null,
      "outputs": [
        {
          "output_type": "stream",
          "name": "stdout",
          "text": [
            "[1 1 1 1 1 1 1 1 1 1 1 1 1 1 1 1 1 1 1 1 1 1 1 1 1 1 1 1 1 1 1 1 1 1 1 1 1\n",
            " 1 1 1 1 1 1 1 1 1 1 1 1 1 1 1 1 1 1 1 1 1 1 2 2 2 2 2 2 2 2 2 2 2 2 2 2 1\n",
            " 2 2 2 2 2 2 2 2 2 0 2 2 2 2 2 2 2 2 2 2 2 2 2 2 2 2 2 2 2 2 2 2 2 2 2 2 2\n",
            " 2 2 2 2 2 2 2 2 2 2 2 2 2 2 2 2 2 2 2 0 0 0 0 0 0 0 0 0 0 0 0 0 0 0 0 0 0\n",
            " 0 0 0 0 0 0 0 0 0 0 0 0 0 0 0 0 0 0 0 0 0 0 0 0 0 0 0 0 0 0]\n"
          ]
        }
      ]
    },
    {
      "cell_type": "code",
      "source": [
        "fig = go.Figure()\n",
        "fig.add_trace(go.Scatter(x = dados['Color_Intensity'], y = dados['Alcohol'], mode = 'markers', \n",
        "                         marker = dict(color = agrupador.labels_.astype(np.float)), text = labels))\n",
        "fig.show()"
      ],
      "metadata": {
        "colab": {
          "base_uri": "https://localhost:8080/",
          "height": 649
        },
        "id": "pTsrM7gQOfQw",
        "outputId": "6d038c44-51e2-4a18-ce6d-2b6eacc86788"
      },
      "execution_count": null,
      "outputs": [
        {
          "output_type": "stream",
          "name": "stderr",
          "text": [
            "/usr/local/lib/python3.7/dist-packages/ipykernel_launcher.py:3: DeprecationWarning:\n",
            "\n",
            "`np.float` is a deprecated alias for the builtin `float`. To silence this warning, use `float` by itself. Doing this will not modify any behavior and is safe. If you specifically wanted the numpy scalar type, use `np.float64` here.\n",
            "Deprecated in NumPy 1.20; for more details and guidance: https://numpy.org/devdocs/release/1.20.0-notes.html#deprecations\n",
            "\n"
          ]
        },
        {
          "output_type": "display_data",
          "data": {
            "text/html": [
              "<html>\n",
              "<head><meta charset=\"utf-8\" /></head>\n",
              "<body>\n",
              "    <div>            <script src=\"https://cdnjs.cloudflare.com/ajax/libs/mathjax/2.7.5/MathJax.js?config=TeX-AMS-MML_SVG\"></script><script type=\"text/javascript\">if (window.MathJax) {MathJax.Hub.Config({SVG: {font: \"STIX-Web\"}});}</script>                <script type=\"text/javascript\">window.PlotlyConfig = {MathJaxConfig: 'local'};</script>\n",
              "        <script src=\"https://cdn.plot.ly/plotly-2.8.3.min.js\"></script>                <div id=\"427db757-5631-4e35-bbab-e10e53dd7dd6\" class=\"plotly-graph-div\" style=\"height:525px; width:100%;\"></div>            <script type=\"text/javascript\">                                    window.PLOTLYENV=window.PLOTLYENV || {};                                    if (document.getElementById(\"427db757-5631-4e35-bbab-e10e53dd7dd6\")) {                    Plotly.newPlot(                        \"427db757-5631-4e35-bbab-e10e53dd7dd6\",                        [{\"marker\":{\"color\":[0.0,0.0,0.0,0.0,0.0,0.0,0.0,0.0,0.0,0.0,0.0,0.0,0.0,0.0,0.0,0.0,0.0,0.0,0.0,0.0,0.0,0.0,0.0,0.0,0.0,0.0,0.0,0.0,0.0,0.0,0.0,0.0,0.0,0.0,0.0,0.0,0.0,0.0,0.0,0.0,0.0,0.0,0.0,0.0,0.0,0.0,0.0,0.0,0.0,0.0,0.0,0.0,0.0,0.0,0.0,0.0,0.0,0.0,0.0,2.0,2.0,2.0,2.0,2.0,2.0,2.0,2.0,2.0,2.0,2.0,2.0,2.0,2.0,0.0,2.0,2.0,2.0,2.0,2.0,2.0,2.0,2.0,2.0,1.0,2.0,2.0,2.0,2.0,2.0,2.0,2.0,2.0,2.0,2.0,2.0,2.0,2.0,2.0,2.0,2.0,2.0,2.0,2.0,2.0,2.0,2.0,2.0,2.0,2.0,2.0,2.0,2.0,2.0,2.0,2.0,2.0,2.0,2.0,2.0,2.0,2.0,2.0,2.0,2.0,2.0,2.0,2.0,2.0,2.0,2.0,1.0,1.0,1.0,1.0,1.0,1.0,1.0,1.0,1.0,1.0,1.0,1.0,1.0,1.0,1.0,1.0,1.0,1.0,1.0,1.0,1.0,1.0,1.0,1.0,1.0,1.0,1.0,1.0,1.0,1.0,1.0,1.0,1.0,1.0,1.0,1.0,1.0,1.0,1.0,1.0,1.0,1.0,1.0,1.0,1.0,1.0,1.0,1.0]},\"mode\":\"markers\",\"text\":[0.0,0.0,0.0,0.0,0.0,0.0,0.0,0.0,0.0,0.0,0.0,0.0,0.0,0.0,0.0,0.0,0.0,0.0,0.0,0.0,0.0,0.0,0.0,0.0,0.0,0.0,0.0,0.0,0.0,0.0,0.0,0.0,0.0,0.0,0.0,0.0,0.0,0.0,0.0,0.0,0.0,0.0,0.0,0.0,0.0,0.0,0.0,0.0,0.0,0.0,0.0,0.0,0.0,0.0,0.0,0.0,0.0,0.0,0.0,2.0,2.0,2.0,2.0,2.0,2.0,2.0,2.0,2.0,2.0,2.0,2.0,2.0,2.0,0.0,2.0,2.0,2.0,2.0,2.0,2.0,2.0,2.0,2.0,1.0,2.0,2.0,2.0,2.0,2.0,2.0,2.0,2.0,2.0,2.0,2.0,2.0,2.0,2.0,2.0,2.0,2.0,2.0,2.0,2.0,2.0,2.0,2.0,2.0,2.0,2.0,2.0,2.0,2.0,2.0,2.0,2.0,2.0,2.0,2.0,2.0,2.0,2.0,2.0,2.0,2.0,2.0,2.0,2.0,2.0,2.0,1.0,1.0,1.0,1.0,1.0,1.0,1.0,1.0,1.0,1.0,1.0,1.0,1.0,1.0,1.0,1.0,1.0,1.0,1.0,1.0,1.0,1.0,1.0,1.0,1.0,1.0,1.0,1.0,1.0,1.0,1.0,1.0,1.0,1.0,1.0,1.0,1.0,1.0,1.0,1.0,1.0,1.0,1.0,1.0,1.0,1.0,1.0,1.0],\"x\":[0.37201365187713303,0.26450511945392485,0.3754266211604095,0.5563139931740614,0.2593856655290102,0.46672354948805456,0.3387372013651877,0.3216723549488054,0.33447098976109213,0.5068259385665528,0.3813993174061433,0.31740614334470985,0.3686006825938566,0.3515358361774744,0.530716723549488,0.5136518771331058,0.4197952218430034,0.45392491467576784,0.6331058020477814,0.32593856655290093,0.3728668941979522,0.27474402730375425,0.21501706484641633,0.22610921501706485,0.19112627986348124,0.19624573378839588,0.3003412969283276,0.22781569965870305,0.27474402730375425,0.2918088737201365,0.37713310580204773,0.47952218430034127,0.21843003412969278,0.3515358361774744,0.24914675767918087,0.32593856655290093,0.28327645051194533,0.2534129692832764,0.20648464163822525,0.32593856655290093,0.41382252559726956,0.25597269624573377,0.3540955631399317,0.26279863481228666,0.3208191126279863,0.3378839590443686,0.30887372013651876,0.4112627986348122,0.4197952218430034,0.6501706484641638,0.5051194539249146,0.3686006825938566,0.4923208191126279,0.42832764505119447,0.3899317406143344,0.42406143344709896,0.43515358361774736,0.4027303754266211,0.4709897610921501,0.057167235494880536,0.1697952218430034,0.3813993174061433,0.21501706484641633,0.2704778156996587,0.14249146757679182,0.28327645051194533,0.3430034129692832,0.2901023890784982,0.16126279863481227,0.13395904436860068,0.1510238907849829,0.17918088737201363,0.2098976109215017,0.17662116040955633,0.16467576791808872,0.21501706484641633,0.28327645051194533,0.11689419795221842,0.18088737201365188,0.1100682593856655,0.10409556313993173,0.2235494880546075,0.07849829351535836,0.3003412969283276,0.1510238907849829,0.11433447098976109,0.09982935153583619,0.11262798634812286,0.1296928327645051,0.039249146757679175,0.09556313993174059,0.19795221843003413,0.1510238907849829,0.07423208191126278,0.16808873720136516,0.11262798634812286,0.10409556313993173,0.13822525597269622,0.27474402730375425,0.08703071672354946,0.1723549488054607,0.09982935153583619,0.1296928327645051,0.06655290102389079,0.1416382252559727,0.121160409556314,0.18088737201365188,0.1723549488054607,0.121160409556314,0.11689419795221842,0.13822525597269622,0.0614334470989761,0.21501706484641633,0.15358361774744028,0.13822525597269622,0.05290102389078497,0.057167235494880536,0.06655290102389079,0.18088737201365188,0.0,0.16808873720136516,0.4027303754266211,0.06825938566552901,0.11262798634812286,0.1296928327645051,0.12627986348122863,0.22696245733788395,0.14675767918088736,0.07167235494880546,0.11262798634812286,0.2406143344709897,0.3515358361774744,0.37713310580204773,0.31740614334470985,0.35580204778156993,0.49658703071672344,0.21928327645051196,0.31740614334470985,0.37713310580204773,0.31058020477815695,0.28327645051194533,0.3686006825938566,0.26194539249146753,0.26621160409556316,0.591296928327645,0.2320819112627986,0.30887372013651876,0.5435153583617747,0.6092150170648464,0.6928327645051195,0.6245733788395904,0.8122866894197953,0.49658703071672344,0.78839590443686,0.5392491467576791,0.5648464163822525,0.6595563139931739,0.530716723549488,1.0,0.893344709897611,0.5435153583617747,0.39249146757679176,0.3668941979522184,0.341296928327645,0.7081911262798635,0.4556313993174061,0.8020477815699658,0.7662116040955631,0.629692832764505,0.6160409556313993,0.3600682593856655,0.7354947952218429,0.7184300341296928,0.5477815699658702,0.5136518771331058,0.7610921501706485,0.6843003412969284,0.675767918088737],\"y\":[0.8421052631578949,0.5710526315789473,0.5605263157894738,0.8789473684210525,0.5815789473684212,0.8342105263157893,0.8842105263157897,0.7973684210526317,1.0,0.744736842105263,0.8078947368421052,0.813157894736842,0.7157894736842105,0.9789473684210526,0.8815789473684212,0.6842105263157897,0.8605263157894739,0.736842105263158,0.831578947368421,0.686842105263158,0.7973684210526317,0.5,0.7052631578947371,0.4789473684210526,0.65,0.5315789473684213,0.6210526315789475,0.5973684210526318,0.7473684210526313,0.7868421052631578,0.7105263157894738,0.6710526315789475,0.6973684210526315,0.718421052631579,0.6526315789473685,0.6447368421052633,0.5921052631578946,0.5315789473684213,0.536842105263158,0.8394736842105265,0.6657894736842107,0.6263157894736843,0.7500000000000002,0.5815789473684212,0.5315789473684213,0.8368421052631582,0.8815789473684212,0.755263157894737,0.8078947368421052,0.7657894736842105,0.5315789473684213,0.736842105263158,0.7342105263157895,0.7210526315789473,0.7131578947368422,0.6657894736842107,0.8394736842105265,0.594736842105263,0.7078947368421055,0.3526315789473683,0.34210526315789486,0.42368421052631605,0.6947368421052632,0.3526315789473683,0.3000000000000001,0.3526315789473683,0.5473684210526315,0.3526315789473683,0.6078947368421053,0.31052631578947404,0.3315789473684209,0.744736842105263,0.6473684210526317,0.5157894736842107,0.2447368421052635,0.1657894736842107,0.5263157894736841,0.21315789473684219,0.34210526315789486,0.43947368421052624,0.25526315789473697,0.44473684210526343,0.27631578947368435,0.5315789473684213,0.21315789473684219,0.4315789473684211,0.2973684210526317,0.16315789473684233,0.16052631578947396,0.27631578947368435,0.27631578947368435,0.25526315789473697,0.43684210526315786,0.3315789473684209,0.15526315789473677,0.3789473684210529,0.2052631578947371,0.3315789473684209,0.3526315789473683,0.3315789473684209,0.27631578947368435,0.4131578947368421,0.34473684210526323,0.20789473684210547,0.38947368421052636,0.3657894736842106,0.3210526315789475,0.44473684210526343,0.31315789473684236,0.15263157894736842,0.11315789473684247,0.39210526315789473,0.1921052631578948,0.10000000000000019,0.27631578947368435,0.0,0.20789473684210547,0.3657894736842106,0.45789473684210524,0.25526315789473697,0.11052631578947364,0.13947368421052658,0.3657894736842106,0.5315789473684213,0.22105263157894728,0.273684210526316,0.368421052631579,0.1999999999999999,0.3526315789473683,0.2657894736842104,0.481578947368421,0.4868421052631582,0.4684210526315792,0.43947368421052624,0.38947368421052636,0.4131578947368421,0.3210526315789475,0.3947368421052631,0.6473684210526317,0.47631578947368425,0.5,0.613157894736842,0.6552631578947368,0.6815789473684208,0.3210526315789475,0.5605263157894738,0.7500000000000002,0.48421052631578937,0.6026315789473685,0.5394736842105264,0.65,0.46315789473684194,0.5473684210526315,0.5789473684210528,0.40789473684210537,0.5631578947368422,0.7394736842105263,0.3736842105263157,0.8710526315789473,0.6447368421052633,0.35,0.7,0.4789473684210526,0.5078947368421055,0.7236842105263157,0.7105263157894738,0.6368421052631578,0.4710526315789475,0.6710526315789475,0.623684210526316,0.30789473684210517,0.45789473684210524,0.8236842105263158,0.7052631578947371,0.623684210526316,0.5894736842105263,0.5631578947368422,0.8157894736842107],\"type\":\"scatter\"}],                        {\"template\":{\"data\":{\"bar\":[{\"error_x\":{\"color\":\"#2a3f5f\"},\"error_y\":{\"color\":\"#2a3f5f\"},\"marker\":{\"line\":{\"color\":\"#E5ECF6\",\"width\":0.5},\"pattern\":{\"fillmode\":\"overlay\",\"size\":10,\"solidity\":0.2}},\"type\":\"bar\"}],\"barpolar\":[{\"marker\":{\"line\":{\"color\":\"#E5ECF6\",\"width\":0.5},\"pattern\":{\"fillmode\":\"overlay\",\"size\":10,\"solidity\":0.2}},\"type\":\"barpolar\"}],\"carpet\":[{\"aaxis\":{\"endlinecolor\":\"#2a3f5f\",\"gridcolor\":\"white\",\"linecolor\":\"white\",\"minorgridcolor\":\"white\",\"startlinecolor\":\"#2a3f5f\"},\"baxis\":{\"endlinecolor\":\"#2a3f5f\",\"gridcolor\":\"white\",\"linecolor\":\"white\",\"minorgridcolor\":\"white\",\"startlinecolor\":\"#2a3f5f\"},\"type\":\"carpet\"}],\"choropleth\":[{\"colorbar\":{\"outlinewidth\":0,\"ticks\":\"\"},\"type\":\"choropleth\"}],\"contour\":[{\"colorbar\":{\"outlinewidth\":0,\"ticks\":\"\"},\"colorscale\":[[0.0,\"#0d0887\"],[0.1111111111111111,\"#46039f\"],[0.2222222222222222,\"#7201a8\"],[0.3333333333333333,\"#9c179e\"],[0.4444444444444444,\"#bd3786\"],[0.5555555555555556,\"#d8576b\"],[0.6666666666666666,\"#ed7953\"],[0.7777777777777778,\"#fb9f3a\"],[0.8888888888888888,\"#fdca26\"],[1.0,\"#f0f921\"]],\"type\":\"contour\"}],\"contourcarpet\":[{\"colorbar\":{\"outlinewidth\":0,\"ticks\":\"\"},\"type\":\"contourcarpet\"}],\"heatmap\":[{\"colorbar\":{\"outlinewidth\":0,\"ticks\":\"\"},\"colorscale\":[[0.0,\"#0d0887\"],[0.1111111111111111,\"#46039f\"],[0.2222222222222222,\"#7201a8\"],[0.3333333333333333,\"#9c179e\"],[0.4444444444444444,\"#bd3786\"],[0.5555555555555556,\"#d8576b\"],[0.6666666666666666,\"#ed7953\"],[0.7777777777777778,\"#fb9f3a\"],[0.8888888888888888,\"#fdca26\"],[1.0,\"#f0f921\"]],\"type\":\"heatmap\"}],\"heatmapgl\":[{\"colorbar\":{\"outlinewidth\":0,\"ticks\":\"\"},\"colorscale\":[[0.0,\"#0d0887\"],[0.1111111111111111,\"#46039f\"],[0.2222222222222222,\"#7201a8\"],[0.3333333333333333,\"#9c179e\"],[0.4444444444444444,\"#bd3786\"],[0.5555555555555556,\"#d8576b\"],[0.6666666666666666,\"#ed7953\"],[0.7777777777777778,\"#fb9f3a\"],[0.8888888888888888,\"#fdca26\"],[1.0,\"#f0f921\"]],\"type\":\"heatmapgl\"}],\"histogram\":[{\"marker\":{\"pattern\":{\"fillmode\":\"overlay\",\"size\":10,\"solidity\":0.2}},\"type\":\"histogram\"}],\"histogram2d\":[{\"colorbar\":{\"outlinewidth\":0,\"ticks\":\"\"},\"colorscale\":[[0.0,\"#0d0887\"],[0.1111111111111111,\"#46039f\"],[0.2222222222222222,\"#7201a8\"],[0.3333333333333333,\"#9c179e\"],[0.4444444444444444,\"#bd3786\"],[0.5555555555555556,\"#d8576b\"],[0.6666666666666666,\"#ed7953\"],[0.7777777777777778,\"#fb9f3a\"],[0.8888888888888888,\"#fdca26\"],[1.0,\"#f0f921\"]],\"type\":\"histogram2d\"}],\"histogram2dcontour\":[{\"colorbar\":{\"outlinewidth\":0,\"ticks\":\"\"},\"colorscale\":[[0.0,\"#0d0887\"],[0.1111111111111111,\"#46039f\"],[0.2222222222222222,\"#7201a8\"],[0.3333333333333333,\"#9c179e\"],[0.4444444444444444,\"#bd3786\"],[0.5555555555555556,\"#d8576b\"],[0.6666666666666666,\"#ed7953\"],[0.7777777777777778,\"#fb9f3a\"],[0.8888888888888888,\"#fdca26\"],[1.0,\"#f0f921\"]],\"type\":\"histogram2dcontour\"}],\"mesh3d\":[{\"colorbar\":{\"outlinewidth\":0,\"ticks\":\"\"},\"type\":\"mesh3d\"}],\"parcoords\":[{\"line\":{\"colorbar\":{\"outlinewidth\":0,\"ticks\":\"\"}},\"type\":\"parcoords\"}],\"pie\":[{\"automargin\":true,\"type\":\"pie\"}],\"scatter\":[{\"marker\":{\"colorbar\":{\"outlinewidth\":0,\"ticks\":\"\"}},\"type\":\"scatter\"}],\"scatter3d\":[{\"line\":{\"colorbar\":{\"outlinewidth\":0,\"ticks\":\"\"}},\"marker\":{\"colorbar\":{\"outlinewidth\":0,\"ticks\":\"\"}},\"type\":\"scatter3d\"}],\"scattercarpet\":[{\"marker\":{\"colorbar\":{\"outlinewidth\":0,\"ticks\":\"\"}},\"type\":\"scattercarpet\"}],\"scattergeo\":[{\"marker\":{\"colorbar\":{\"outlinewidth\":0,\"ticks\":\"\"}},\"type\":\"scattergeo\"}],\"scattergl\":[{\"marker\":{\"colorbar\":{\"outlinewidth\":0,\"ticks\":\"\"}},\"type\":\"scattergl\"}],\"scattermapbox\":[{\"marker\":{\"colorbar\":{\"outlinewidth\":0,\"ticks\":\"\"}},\"type\":\"scattermapbox\"}],\"scatterpolar\":[{\"marker\":{\"colorbar\":{\"outlinewidth\":0,\"ticks\":\"\"}},\"type\":\"scatterpolar\"}],\"scatterpolargl\":[{\"marker\":{\"colorbar\":{\"outlinewidth\":0,\"ticks\":\"\"}},\"type\":\"scatterpolargl\"}],\"scatterternary\":[{\"marker\":{\"colorbar\":{\"outlinewidth\":0,\"ticks\":\"\"}},\"type\":\"scatterternary\"}],\"surface\":[{\"colorbar\":{\"outlinewidth\":0,\"ticks\":\"\"},\"colorscale\":[[0.0,\"#0d0887\"],[0.1111111111111111,\"#46039f\"],[0.2222222222222222,\"#7201a8\"],[0.3333333333333333,\"#9c179e\"],[0.4444444444444444,\"#bd3786\"],[0.5555555555555556,\"#d8576b\"],[0.6666666666666666,\"#ed7953\"],[0.7777777777777778,\"#fb9f3a\"],[0.8888888888888888,\"#fdca26\"],[1.0,\"#f0f921\"]],\"type\":\"surface\"}],\"table\":[{\"cells\":{\"fill\":{\"color\":\"#EBF0F8\"},\"line\":{\"color\":\"white\"}},\"header\":{\"fill\":{\"color\":\"#C8D4E3\"},\"line\":{\"color\":\"white\"}},\"type\":\"table\"}]},\"layout\":{\"annotationdefaults\":{\"arrowcolor\":\"#2a3f5f\",\"arrowhead\":0,\"arrowwidth\":1},\"autotypenumbers\":\"strict\",\"coloraxis\":{\"colorbar\":{\"outlinewidth\":0,\"ticks\":\"\"}},\"colorscale\":{\"diverging\":[[0,\"#8e0152\"],[0.1,\"#c51b7d\"],[0.2,\"#de77ae\"],[0.3,\"#f1b6da\"],[0.4,\"#fde0ef\"],[0.5,\"#f7f7f7\"],[0.6,\"#e6f5d0\"],[0.7,\"#b8e186\"],[0.8,\"#7fbc41\"],[0.9,\"#4d9221\"],[1,\"#276419\"]],\"sequential\":[[0.0,\"#0d0887\"],[0.1111111111111111,\"#46039f\"],[0.2222222222222222,\"#7201a8\"],[0.3333333333333333,\"#9c179e\"],[0.4444444444444444,\"#bd3786\"],[0.5555555555555556,\"#d8576b\"],[0.6666666666666666,\"#ed7953\"],[0.7777777777777778,\"#fb9f3a\"],[0.8888888888888888,\"#fdca26\"],[1.0,\"#f0f921\"]],\"sequentialminus\":[[0.0,\"#0d0887\"],[0.1111111111111111,\"#46039f\"],[0.2222222222222222,\"#7201a8\"],[0.3333333333333333,\"#9c179e\"],[0.4444444444444444,\"#bd3786\"],[0.5555555555555556,\"#d8576b\"],[0.6666666666666666,\"#ed7953\"],[0.7777777777777778,\"#fb9f3a\"],[0.8888888888888888,\"#fdca26\"],[1.0,\"#f0f921\"]]},\"colorway\":[\"#636efa\",\"#EF553B\",\"#00cc96\",\"#ab63fa\",\"#FFA15A\",\"#19d3f3\",\"#FF6692\",\"#B6E880\",\"#FF97FF\",\"#FECB52\"],\"font\":{\"color\":\"#2a3f5f\"},\"geo\":{\"bgcolor\":\"white\",\"lakecolor\":\"white\",\"landcolor\":\"#E5ECF6\",\"showlakes\":true,\"showland\":true,\"subunitcolor\":\"white\"},\"hoverlabel\":{\"align\":\"left\"},\"hovermode\":\"closest\",\"mapbox\":{\"style\":\"light\"},\"paper_bgcolor\":\"white\",\"plot_bgcolor\":\"#E5ECF6\",\"polar\":{\"angularaxis\":{\"gridcolor\":\"white\",\"linecolor\":\"white\",\"ticks\":\"\"},\"bgcolor\":\"#E5ECF6\",\"radialaxis\":{\"gridcolor\":\"white\",\"linecolor\":\"white\",\"ticks\":\"\"}},\"scene\":{\"xaxis\":{\"backgroundcolor\":\"#E5ECF6\",\"gridcolor\":\"white\",\"gridwidth\":2,\"linecolor\":\"white\",\"showbackground\":true,\"ticks\":\"\",\"zerolinecolor\":\"white\"},\"yaxis\":{\"backgroundcolor\":\"#E5ECF6\",\"gridcolor\":\"white\",\"gridwidth\":2,\"linecolor\":\"white\",\"showbackground\":true,\"ticks\":\"\",\"zerolinecolor\":\"white\"},\"zaxis\":{\"backgroundcolor\":\"#E5ECF6\",\"gridcolor\":\"white\",\"gridwidth\":2,\"linecolor\":\"white\",\"showbackground\":true,\"ticks\":\"\",\"zerolinecolor\":\"white\"}},\"shapedefaults\":{\"line\":{\"color\":\"#2a3f5f\"}},\"ternary\":{\"aaxis\":{\"gridcolor\":\"white\",\"linecolor\":\"white\",\"ticks\":\"\"},\"baxis\":{\"gridcolor\":\"white\",\"linecolor\":\"white\",\"ticks\":\"\"},\"bgcolor\":\"#E5ECF6\",\"caxis\":{\"gridcolor\":\"white\",\"linecolor\":\"white\",\"ticks\":\"\"}},\"title\":{\"x\":0.05},\"xaxis\":{\"automargin\":true,\"gridcolor\":\"white\",\"linecolor\":\"white\",\"ticks\":\"\",\"title\":{\"standoff\":15},\"zerolinecolor\":\"white\",\"zerolinewidth\":2},\"yaxis\":{\"automargin\":true,\"gridcolor\":\"white\",\"linecolor\":\"white\",\"ticks\":\"\",\"title\":{\"standoff\":15},\"zerolinecolor\":\"white\",\"zerolinewidth\":2}}}},                        {\"responsive\": true}                    ).then(function(){\n",
              "                            \n",
              "var gd = document.getElementById('427db757-5631-4e35-bbab-e10e53dd7dd6');\n",
              "var x = new MutationObserver(function (mutations, observer) {{\n",
              "        var display = window.getComputedStyle(gd).display;\n",
              "        if (!display || display === 'none') {{\n",
              "            console.log([gd, 'removed!']);\n",
              "            Plotly.purge(gd);\n",
              "            observer.disconnect();\n",
              "        }}\n",
              "}});\n",
              "\n",
              "// Listen for the removal of the full notebook cells\n",
              "var notebookContainer = gd.closest('#notebook-container');\n",
              "if (notebookContainer) {{\n",
              "    x.observe(notebookContainer, {childList: true});\n",
              "}}\n",
              "\n",
              "// Listen for the clearing of the current output cell\n",
              "var outputEl = gd.closest('.output');\n",
              "if (outputEl) {{\n",
              "    x.observe(outputEl, {childList: true});\n",
              "}}\n",
              "\n",
              "                        })                };                            </script>        </div>\n",
              "</body>\n",
              "</html>"
            ]
          },
          "metadata": {}
        }
      ]
    },
    {
      "cell_type": "markdown",
      "source": [
        "### 3 agrupamentos parece melhor pois o gráfico está melhor distribuido"
      ],
      "metadata": {
        "id": "3Qr7AQamPCOe"
      }
    },
    {
      "cell_type": "markdown",
      "source": [
        "## Gerando um gráfico 3D"
      ],
      "metadata": {
        "id": "lbvW3Gn9Pic3"
      }
    },
    {
      "cell_type": "code",
      "source": [
        "fig = go.Figure()\n",
        "fig.add_trace(go.Scatter3d(x = dados['Color_Intensity'], y = dados['Alcohol'], z = dados['Proline'], mode = 'markers', \n",
        "                         marker = dict(color = agrupador.labels_.astype(np.float)), text = labels))\n",
        "fig.show()"
      ],
      "metadata": {
        "colab": {
          "base_uri": "https://localhost:8080/",
          "height": 649
        },
        "id": "s7c3qZJsOjGh",
        "outputId": "22317b0c-1cb5-4a79-8991-142b6d7d6877"
      },
      "execution_count": null,
      "outputs": [
        {
          "output_type": "stream",
          "name": "stderr",
          "text": [
            "/usr/local/lib/python3.7/dist-packages/ipykernel_launcher.py:3: DeprecationWarning:\n",
            "\n",
            "`np.float` is a deprecated alias for the builtin `float`. To silence this warning, use `float` by itself. Doing this will not modify any behavior and is safe. If you specifically wanted the numpy scalar type, use `np.float64` here.\n",
            "Deprecated in NumPy 1.20; for more details and guidance: https://numpy.org/devdocs/release/1.20.0-notes.html#deprecations\n",
            "\n"
          ]
        },
        {
          "output_type": "display_data",
          "data": {
            "text/html": [
              "<html>\n",
              "<head><meta charset=\"utf-8\" /></head>\n",
              "<body>\n",
              "    <div>            <script src=\"https://cdnjs.cloudflare.com/ajax/libs/mathjax/2.7.5/MathJax.js?config=TeX-AMS-MML_SVG\"></script><script type=\"text/javascript\">if (window.MathJax) {MathJax.Hub.Config({SVG: {font: \"STIX-Web\"}});}</script>                <script type=\"text/javascript\">window.PlotlyConfig = {MathJaxConfig: 'local'};</script>\n",
              "        <script src=\"https://cdn.plot.ly/plotly-2.8.3.min.js\"></script>                <div id=\"87427e6a-14fb-4880-9737-23f42f3d0995\" class=\"plotly-graph-div\" style=\"height:525px; width:100%;\"></div>            <script type=\"text/javascript\">                                    window.PLOTLYENV=window.PLOTLYENV || {};                                    if (document.getElementById(\"87427e6a-14fb-4880-9737-23f42f3d0995\")) {                    Plotly.newPlot(                        \"87427e6a-14fb-4880-9737-23f42f3d0995\",                        [{\"marker\":{\"color\":[1.0,1.0,1.0,1.0,1.0,1.0,1.0,1.0,1.0,1.0,1.0,1.0,1.0,1.0,1.0,1.0,1.0,1.0,1.0,1.0,1.0,1.0,1.0,1.0,1.0,1.0,1.0,1.0,1.0,1.0,1.0,1.0,1.0,1.0,1.0,1.0,1.0,1.0,1.0,1.0,1.0,1.0,1.0,1.0,1.0,1.0,1.0,1.0,1.0,1.0,1.0,1.0,1.0,1.0,1.0,1.0,1.0,1.0,1.0,2.0,2.0,2.0,2.0,2.0,2.0,2.0,2.0,2.0,2.0,2.0,2.0,2.0,2.0,1.0,2.0,2.0,2.0,2.0,2.0,2.0,2.0,2.0,2.0,0.0,2.0,2.0,2.0,2.0,2.0,2.0,2.0,2.0,2.0,2.0,2.0,2.0,2.0,2.0,2.0,2.0,2.0,2.0,2.0,2.0,2.0,2.0,2.0,2.0,2.0,2.0,2.0,2.0,2.0,2.0,2.0,2.0,2.0,2.0,2.0,2.0,2.0,2.0,2.0,2.0,2.0,2.0,2.0,2.0,2.0,2.0,0.0,0.0,0.0,0.0,0.0,0.0,0.0,0.0,0.0,0.0,0.0,0.0,0.0,0.0,0.0,0.0,0.0,0.0,0.0,0.0,0.0,0.0,0.0,0.0,0.0,0.0,0.0,0.0,0.0,0.0,0.0,0.0,0.0,0.0,0.0,0.0,0.0,0.0,0.0,0.0,0.0,0.0,0.0,0.0,0.0,0.0,0.0,0.0]},\"mode\":\"markers\",\"text\":[1.0,1.0,1.0,1.0,1.0,1.0,1.0,1.0,1.0,1.0,1.0,1.0,1.0,1.0,1.0,1.0,1.0,1.0,1.0,1.0,1.0,1.0,1.0,1.0,1.0,1.0,1.0,1.0,1.0,1.0,1.0,1.0,1.0,1.0,1.0,1.0,1.0,1.0,1.0,1.0,1.0,1.0,1.0,1.0,1.0,1.0,1.0,1.0,1.0,1.0,1.0,1.0,1.0,1.0,1.0,1.0,1.0,1.0,1.0,2.0,2.0,2.0,2.0,2.0,2.0,2.0,2.0,2.0,2.0,2.0,2.0,2.0,2.0,1.0,2.0,2.0,2.0,2.0,2.0,2.0,2.0,2.0,2.0,0.0,2.0,2.0,2.0,2.0,2.0,2.0,2.0,2.0,2.0,2.0,2.0,2.0,2.0,2.0,2.0,2.0,2.0,2.0,2.0,2.0,2.0,2.0,2.0,2.0,2.0,2.0,2.0,2.0,2.0,2.0,2.0,2.0,2.0,2.0,2.0,2.0,2.0,2.0,2.0,2.0,2.0,2.0,2.0,2.0,2.0,2.0,0.0,0.0,0.0,0.0,0.0,0.0,0.0,0.0,0.0,0.0,0.0,0.0,0.0,0.0,0.0,0.0,0.0,0.0,0.0,0.0,0.0,0.0,0.0,0.0,0.0,0.0,0.0,0.0,0.0,0.0,0.0,0.0,0.0,0.0,0.0,0.0,0.0,0.0,0.0,0.0,0.0,0.0,0.0,0.0,0.0,0.0,0.0,0.0],\"x\":[0.37201365187713303,0.26450511945392485,0.3754266211604095,0.5563139931740614,0.2593856655290102,0.46672354948805456,0.3387372013651877,0.3216723549488054,0.33447098976109213,0.5068259385665528,0.3813993174061433,0.31740614334470985,0.3686006825938566,0.3515358361774744,0.530716723549488,0.5136518771331058,0.4197952218430034,0.45392491467576784,0.6331058020477814,0.32593856655290093,0.3728668941979522,0.27474402730375425,0.21501706484641633,0.22610921501706485,0.19112627986348124,0.19624573378839588,0.3003412969283276,0.22781569965870305,0.27474402730375425,0.2918088737201365,0.37713310580204773,0.47952218430034127,0.21843003412969278,0.3515358361774744,0.24914675767918087,0.32593856655290093,0.28327645051194533,0.2534129692832764,0.20648464163822525,0.32593856655290093,0.41382252559726956,0.25597269624573377,0.3540955631399317,0.26279863481228666,0.3208191126279863,0.3378839590443686,0.30887372013651876,0.4112627986348122,0.4197952218430034,0.6501706484641638,0.5051194539249146,0.3686006825938566,0.4923208191126279,0.42832764505119447,0.3899317406143344,0.42406143344709896,0.43515358361774736,0.4027303754266211,0.4709897610921501,0.057167235494880536,0.1697952218430034,0.3813993174061433,0.21501706484641633,0.2704778156996587,0.14249146757679182,0.28327645051194533,0.3430034129692832,0.2901023890784982,0.16126279863481227,0.13395904436860068,0.1510238907849829,0.17918088737201363,0.2098976109215017,0.17662116040955633,0.16467576791808872,0.21501706484641633,0.28327645051194533,0.11689419795221842,0.18088737201365188,0.1100682593856655,0.10409556313993173,0.2235494880546075,0.07849829351535836,0.3003412969283276,0.1510238907849829,0.11433447098976109,0.09982935153583619,0.11262798634812286,0.1296928327645051,0.039249146757679175,0.09556313993174059,0.19795221843003413,0.1510238907849829,0.07423208191126278,0.16808873720136516,0.11262798634812286,0.10409556313993173,0.13822525597269622,0.27474402730375425,0.08703071672354946,0.1723549488054607,0.09982935153583619,0.1296928327645051,0.06655290102389079,0.1416382252559727,0.121160409556314,0.18088737201365188,0.1723549488054607,0.121160409556314,0.11689419795221842,0.13822525597269622,0.0614334470989761,0.21501706484641633,0.15358361774744028,0.13822525597269622,0.05290102389078497,0.057167235494880536,0.06655290102389079,0.18088737201365188,0.0,0.16808873720136516,0.4027303754266211,0.06825938566552901,0.11262798634812286,0.1296928327645051,0.12627986348122863,0.22696245733788395,0.14675767918088736,0.07167235494880546,0.11262798634812286,0.2406143344709897,0.3515358361774744,0.37713310580204773,0.31740614334470985,0.35580204778156993,0.49658703071672344,0.21928327645051196,0.31740614334470985,0.37713310580204773,0.31058020477815695,0.28327645051194533,0.3686006825938566,0.26194539249146753,0.26621160409556316,0.591296928327645,0.2320819112627986,0.30887372013651876,0.5435153583617747,0.6092150170648464,0.6928327645051195,0.6245733788395904,0.8122866894197953,0.49658703071672344,0.78839590443686,0.5392491467576791,0.5648464163822525,0.6595563139931739,0.530716723549488,1.0,0.893344709897611,0.5435153583617747,0.39249146757679176,0.3668941979522184,0.341296928327645,0.7081911262798635,0.4556313993174061,0.8020477815699658,0.7662116040955631,0.629692832764505,0.6160409556313993,0.3600682593856655,0.7354947952218429,0.7184300341296928,0.5477815699658702,0.5136518771331058,0.7610921501706485,0.6843003412969284,0.675767918088737],\"y\":[0.8421052631578949,0.5710526315789473,0.5605263157894738,0.8789473684210525,0.5815789473684212,0.8342105263157893,0.8842105263157897,0.7973684210526317,1.0,0.744736842105263,0.8078947368421052,0.813157894736842,0.7157894736842105,0.9789473684210526,0.8815789473684212,0.6842105263157897,0.8605263157894739,0.736842105263158,0.831578947368421,0.686842105263158,0.7973684210526317,0.5,0.7052631578947371,0.4789473684210526,0.65,0.5315789473684213,0.6210526315789475,0.5973684210526318,0.7473684210526313,0.7868421052631578,0.7105263157894738,0.6710526315789475,0.6973684210526315,0.718421052631579,0.6526315789473685,0.6447368421052633,0.5921052631578946,0.5315789473684213,0.536842105263158,0.8394736842105265,0.6657894736842107,0.6263157894736843,0.7500000000000002,0.5815789473684212,0.5315789473684213,0.8368421052631582,0.8815789473684212,0.755263157894737,0.8078947368421052,0.7657894736842105,0.5315789473684213,0.736842105263158,0.7342105263157895,0.7210526315789473,0.7131578947368422,0.6657894736842107,0.8394736842105265,0.594736842105263,0.7078947368421055,0.3526315789473683,0.34210526315789486,0.42368421052631605,0.6947368421052632,0.3526315789473683,0.3000000000000001,0.3526315789473683,0.5473684210526315,0.3526315789473683,0.6078947368421053,0.31052631578947404,0.3315789473684209,0.744736842105263,0.6473684210526317,0.5157894736842107,0.2447368421052635,0.1657894736842107,0.5263157894736841,0.21315789473684219,0.34210526315789486,0.43947368421052624,0.25526315789473697,0.44473684210526343,0.27631578947368435,0.5315789473684213,0.21315789473684219,0.4315789473684211,0.2973684210526317,0.16315789473684233,0.16052631578947396,0.27631578947368435,0.27631578947368435,0.25526315789473697,0.43684210526315786,0.3315789473684209,0.15526315789473677,0.3789473684210529,0.2052631578947371,0.3315789473684209,0.3526315789473683,0.3315789473684209,0.27631578947368435,0.4131578947368421,0.34473684210526323,0.20789473684210547,0.38947368421052636,0.3657894736842106,0.3210526315789475,0.44473684210526343,0.31315789473684236,0.15263157894736842,0.11315789473684247,0.39210526315789473,0.1921052631578948,0.10000000000000019,0.27631578947368435,0.0,0.20789473684210547,0.3657894736842106,0.45789473684210524,0.25526315789473697,0.11052631578947364,0.13947368421052658,0.3657894736842106,0.5315789473684213,0.22105263157894728,0.273684210526316,0.368421052631579,0.1999999999999999,0.3526315789473683,0.2657894736842104,0.481578947368421,0.4868421052631582,0.4684210526315792,0.43947368421052624,0.38947368421052636,0.4131578947368421,0.3210526315789475,0.3947368421052631,0.6473684210526317,0.47631578947368425,0.5,0.613157894736842,0.6552631578947368,0.6815789473684208,0.3210526315789475,0.5605263157894738,0.7500000000000002,0.48421052631578937,0.6026315789473685,0.5394736842105264,0.65,0.46315789473684194,0.5473684210526315,0.5789473684210528,0.40789473684210537,0.5631578947368422,0.7394736842105263,0.3736842105263157,0.8710526315789473,0.6447368421052633,0.35,0.7,0.4789473684210526,0.5078947368421055,0.7236842105263157,0.7105263157894738,0.6368421052631578,0.4710526315789475,0.6710526315789475,0.623684210526316,0.30789473684210517,0.45789473684210524,0.8236842105263158,0.7052631578947371,0.623684210526316,0.5894736842105263,0.5631578947368422,0.8157894736842107],\"z\":[0.5613409415121255,0.550641940085592,0.6469329529243937,0.8573466476462197,0.325962910128388,0.8359486447931527,0.7218259629101283,0.7253922967189729,0.5470756062767475,0.5470756062767475,0.8787446504992867,0.7146932952924394,0.7432239657631954,0.6219686162624821,0.9051355206847361,0.7360912981455064,0.7146932952924394,0.6077032810271041,1.0,0.4044222539229672,0.35805991440798857,0.3509272467902996,0.5399429386590585,0.5256776034236804,0.4044222539229672,0.39372325249643364,0.6540656205420827,0.7182596291012838,0.4543509272467903,0.5399429386590585,0.7182596291012838,0.8823109843081313,0.5078459343794579,0.6825962910128388,0.5827389443651926,0.4579172610556348,0.42938659058487877,0.5898716119828816,0.5292439372325249,0.3437945791726106,0.36875891583452214,0.5399429386590585,0.5827389443651926,0.2867332382310984,0.43295292439372324,0.572039942938659,0.5613409415121255,0.5042796005706134,0.557774607703281,0.7004279600570613,0.6219686162624821,0.7039942938659058,0.6504992867332382,0.782453637660485,0.557774607703281,0.6005706134094151,0.49358059914407987,0.7075606276747504,0.7182596291012838,0.17261055634807418,0.2867332382310984,0.12268188302425106,0.25106990014265335,0.10128388017118402,0.05492154065620542,0.28530670470756064,0.15977175463623394,0.16547788873038516,0.33666191155492153,0.31383737517831667,0.4222539229671897,0.09415121255349501,0.1383737517831669,0.5042796005706134,0.43366619115549215,0.10699001426533523,0.08131241084165478,0.15834522111269614,0.33666191155492153,0.13195435092724678,0.0,0.31098430813124106,0.25106990014265335,0.16904422253922968,0.17261055634807418,0.12268188302425106,0.15477888730385164,0.20256776034236804,0.2867332382310984,0.24750356633380885,0.14407988587731813,0.12268188302425106,0.15477888730385164,0.008559201141226819,0.04778887303851641,0.47004279600570614,0.24750356633380885,0.10699001426533523,0.2724679029957204,0.0912981455064194,0.30813124108416545,0.20256776034236804,0.11412268188302425,0.09771754636233952,0.2810271041369472,0.026390870185449358,0.16547788873038516,0.14978601997146934,0.024251069900142655,0.2867332382310984,0.20256776034236804,0.033523537803138374,0.2346647646219686,0.11126961483594865,0.07631954350927246,0.0920114122681883,0.15477888730385164,0.04778887303851641,0.06704707560627675,0.20399429386590584,0.24750356633380885,0.13338088445078458,0.062054208273894434,0.07275320970042796,0.07275320970042796,0.07132667617689016,0.052781740370898715,0.1340941512125535,0.0456490727532097,0.21540656205420827,0.25106990014265335,0.1797432239657632,0.20114122681883023,0.2296718972895863,0.2653352353780314,0.29743223965763194,0.3152639087018545,0.16904422253922968,0.21540656205420827,0.2225392296718973,0.2296718972895863,0.35805991440798857,0.17261055634807418,0.19400855920114124,0.4115549215406562,0.39372325249643364,0.09771754636233952,0.24750356633380885,0.2653352353780314,0.19400855920114124,0.15834522111269614,0.14407988587731813,0.10485021398002853,0.2831669044222539,0.2582025677603424,0.318830242510699,0.14407988587731813,0.42938659058487877,0.2724679029957204,0.24393723252496433,0.17261055634807418,0.2867332382310984,0.20827389443651925,0.2831669044222539,0.24037089871611983,0.17261055634807418,0.29743223965763194,0.29029957203994294,0.33666191155492153,0.25106990014265335,0.16547788873038516,0.1369472182596291,0.2724679029957204,0.32952924393723254,0.33666191155492153,0.39728958630527816,0.4008559201141227,0.20114122681883023],\"type\":\"scatter3d\"}],                        {\"template\":{\"data\":{\"bar\":[{\"error_x\":{\"color\":\"#2a3f5f\"},\"error_y\":{\"color\":\"#2a3f5f\"},\"marker\":{\"line\":{\"color\":\"#E5ECF6\",\"width\":0.5},\"pattern\":{\"fillmode\":\"overlay\",\"size\":10,\"solidity\":0.2}},\"type\":\"bar\"}],\"barpolar\":[{\"marker\":{\"line\":{\"color\":\"#E5ECF6\",\"width\":0.5},\"pattern\":{\"fillmode\":\"overlay\",\"size\":10,\"solidity\":0.2}},\"type\":\"barpolar\"}],\"carpet\":[{\"aaxis\":{\"endlinecolor\":\"#2a3f5f\",\"gridcolor\":\"white\",\"linecolor\":\"white\",\"minorgridcolor\":\"white\",\"startlinecolor\":\"#2a3f5f\"},\"baxis\":{\"endlinecolor\":\"#2a3f5f\",\"gridcolor\":\"white\",\"linecolor\":\"white\",\"minorgridcolor\":\"white\",\"startlinecolor\":\"#2a3f5f\"},\"type\":\"carpet\"}],\"choropleth\":[{\"colorbar\":{\"outlinewidth\":0,\"ticks\":\"\"},\"type\":\"choropleth\"}],\"contour\":[{\"colorbar\":{\"outlinewidth\":0,\"ticks\":\"\"},\"colorscale\":[[0.0,\"#0d0887\"],[0.1111111111111111,\"#46039f\"],[0.2222222222222222,\"#7201a8\"],[0.3333333333333333,\"#9c179e\"],[0.4444444444444444,\"#bd3786\"],[0.5555555555555556,\"#d8576b\"],[0.6666666666666666,\"#ed7953\"],[0.7777777777777778,\"#fb9f3a\"],[0.8888888888888888,\"#fdca26\"],[1.0,\"#f0f921\"]],\"type\":\"contour\"}],\"contourcarpet\":[{\"colorbar\":{\"outlinewidth\":0,\"ticks\":\"\"},\"type\":\"contourcarpet\"}],\"heatmap\":[{\"colorbar\":{\"outlinewidth\":0,\"ticks\":\"\"},\"colorscale\":[[0.0,\"#0d0887\"],[0.1111111111111111,\"#46039f\"],[0.2222222222222222,\"#7201a8\"],[0.3333333333333333,\"#9c179e\"],[0.4444444444444444,\"#bd3786\"],[0.5555555555555556,\"#d8576b\"],[0.6666666666666666,\"#ed7953\"],[0.7777777777777778,\"#fb9f3a\"],[0.8888888888888888,\"#fdca26\"],[1.0,\"#f0f921\"]],\"type\":\"heatmap\"}],\"heatmapgl\":[{\"colorbar\":{\"outlinewidth\":0,\"ticks\":\"\"},\"colorscale\":[[0.0,\"#0d0887\"],[0.1111111111111111,\"#46039f\"],[0.2222222222222222,\"#7201a8\"],[0.3333333333333333,\"#9c179e\"],[0.4444444444444444,\"#bd3786\"],[0.5555555555555556,\"#d8576b\"],[0.6666666666666666,\"#ed7953\"],[0.7777777777777778,\"#fb9f3a\"],[0.8888888888888888,\"#fdca26\"],[1.0,\"#f0f921\"]],\"type\":\"heatmapgl\"}],\"histogram\":[{\"marker\":{\"pattern\":{\"fillmode\":\"overlay\",\"size\":10,\"solidity\":0.2}},\"type\":\"histogram\"}],\"histogram2d\":[{\"colorbar\":{\"outlinewidth\":0,\"ticks\":\"\"},\"colorscale\":[[0.0,\"#0d0887\"],[0.1111111111111111,\"#46039f\"],[0.2222222222222222,\"#7201a8\"],[0.3333333333333333,\"#9c179e\"],[0.4444444444444444,\"#bd3786\"],[0.5555555555555556,\"#d8576b\"],[0.6666666666666666,\"#ed7953\"],[0.7777777777777778,\"#fb9f3a\"],[0.8888888888888888,\"#fdca26\"],[1.0,\"#f0f921\"]],\"type\":\"histogram2d\"}],\"histogram2dcontour\":[{\"colorbar\":{\"outlinewidth\":0,\"ticks\":\"\"},\"colorscale\":[[0.0,\"#0d0887\"],[0.1111111111111111,\"#46039f\"],[0.2222222222222222,\"#7201a8\"],[0.3333333333333333,\"#9c179e\"],[0.4444444444444444,\"#bd3786\"],[0.5555555555555556,\"#d8576b\"],[0.6666666666666666,\"#ed7953\"],[0.7777777777777778,\"#fb9f3a\"],[0.8888888888888888,\"#fdca26\"],[1.0,\"#f0f921\"]],\"type\":\"histogram2dcontour\"}],\"mesh3d\":[{\"colorbar\":{\"outlinewidth\":0,\"ticks\":\"\"},\"type\":\"mesh3d\"}],\"parcoords\":[{\"line\":{\"colorbar\":{\"outlinewidth\":0,\"ticks\":\"\"}},\"type\":\"parcoords\"}],\"pie\":[{\"automargin\":true,\"type\":\"pie\"}],\"scatter\":[{\"marker\":{\"colorbar\":{\"outlinewidth\":0,\"ticks\":\"\"}},\"type\":\"scatter\"}],\"scatter3d\":[{\"line\":{\"colorbar\":{\"outlinewidth\":0,\"ticks\":\"\"}},\"marker\":{\"colorbar\":{\"outlinewidth\":0,\"ticks\":\"\"}},\"type\":\"scatter3d\"}],\"scattercarpet\":[{\"marker\":{\"colorbar\":{\"outlinewidth\":0,\"ticks\":\"\"}},\"type\":\"scattercarpet\"}],\"scattergeo\":[{\"marker\":{\"colorbar\":{\"outlinewidth\":0,\"ticks\":\"\"}},\"type\":\"scattergeo\"}],\"scattergl\":[{\"marker\":{\"colorbar\":{\"outlinewidth\":0,\"ticks\":\"\"}},\"type\":\"scattergl\"}],\"scattermapbox\":[{\"marker\":{\"colorbar\":{\"outlinewidth\":0,\"ticks\":\"\"}},\"type\":\"scattermapbox\"}],\"scatterpolar\":[{\"marker\":{\"colorbar\":{\"outlinewidth\":0,\"ticks\":\"\"}},\"type\":\"scatterpolar\"}],\"scatterpolargl\":[{\"marker\":{\"colorbar\":{\"outlinewidth\":0,\"ticks\":\"\"}},\"type\":\"scatterpolargl\"}],\"scatterternary\":[{\"marker\":{\"colorbar\":{\"outlinewidth\":0,\"ticks\":\"\"}},\"type\":\"scatterternary\"}],\"surface\":[{\"colorbar\":{\"outlinewidth\":0,\"ticks\":\"\"},\"colorscale\":[[0.0,\"#0d0887\"],[0.1111111111111111,\"#46039f\"],[0.2222222222222222,\"#7201a8\"],[0.3333333333333333,\"#9c179e\"],[0.4444444444444444,\"#bd3786\"],[0.5555555555555556,\"#d8576b\"],[0.6666666666666666,\"#ed7953\"],[0.7777777777777778,\"#fb9f3a\"],[0.8888888888888888,\"#fdca26\"],[1.0,\"#f0f921\"]],\"type\":\"surface\"}],\"table\":[{\"cells\":{\"fill\":{\"color\":\"#EBF0F8\"},\"line\":{\"color\":\"white\"}},\"header\":{\"fill\":{\"color\":\"#C8D4E3\"},\"line\":{\"color\":\"white\"}},\"type\":\"table\"}]},\"layout\":{\"annotationdefaults\":{\"arrowcolor\":\"#2a3f5f\",\"arrowhead\":0,\"arrowwidth\":1},\"autotypenumbers\":\"strict\",\"coloraxis\":{\"colorbar\":{\"outlinewidth\":0,\"ticks\":\"\"}},\"colorscale\":{\"diverging\":[[0,\"#8e0152\"],[0.1,\"#c51b7d\"],[0.2,\"#de77ae\"],[0.3,\"#f1b6da\"],[0.4,\"#fde0ef\"],[0.5,\"#f7f7f7\"],[0.6,\"#e6f5d0\"],[0.7,\"#b8e186\"],[0.8,\"#7fbc41\"],[0.9,\"#4d9221\"],[1,\"#276419\"]],\"sequential\":[[0.0,\"#0d0887\"],[0.1111111111111111,\"#46039f\"],[0.2222222222222222,\"#7201a8\"],[0.3333333333333333,\"#9c179e\"],[0.4444444444444444,\"#bd3786\"],[0.5555555555555556,\"#d8576b\"],[0.6666666666666666,\"#ed7953\"],[0.7777777777777778,\"#fb9f3a\"],[0.8888888888888888,\"#fdca26\"],[1.0,\"#f0f921\"]],\"sequentialminus\":[[0.0,\"#0d0887\"],[0.1111111111111111,\"#46039f\"],[0.2222222222222222,\"#7201a8\"],[0.3333333333333333,\"#9c179e\"],[0.4444444444444444,\"#bd3786\"],[0.5555555555555556,\"#d8576b\"],[0.6666666666666666,\"#ed7953\"],[0.7777777777777778,\"#fb9f3a\"],[0.8888888888888888,\"#fdca26\"],[1.0,\"#f0f921\"]]},\"colorway\":[\"#636efa\",\"#EF553B\",\"#00cc96\",\"#ab63fa\",\"#FFA15A\",\"#19d3f3\",\"#FF6692\",\"#B6E880\",\"#FF97FF\",\"#FECB52\"],\"font\":{\"color\":\"#2a3f5f\"},\"geo\":{\"bgcolor\":\"white\",\"lakecolor\":\"white\",\"landcolor\":\"#E5ECF6\",\"showlakes\":true,\"showland\":true,\"subunitcolor\":\"white\"},\"hoverlabel\":{\"align\":\"left\"},\"hovermode\":\"closest\",\"mapbox\":{\"style\":\"light\"},\"paper_bgcolor\":\"white\",\"plot_bgcolor\":\"#E5ECF6\",\"polar\":{\"angularaxis\":{\"gridcolor\":\"white\",\"linecolor\":\"white\",\"ticks\":\"\"},\"bgcolor\":\"#E5ECF6\",\"radialaxis\":{\"gridcolor\":\"white\",\"linecolor\":\"white\",\"ticks\":\"\"}},\"scene\":{\"xaxis\":{\"backgroundcolor\":\"#E5ECF6\",\"gridcolor\":\"white\",\"gridwidth\":2,\"linecolor\":\"white\",\"showbackground\":true,\"ticks\":\"\",\"zerolinecolor\":\"white\"},\"yaxis\":{\"backgroundcolor\":\"#E5ECF6\",\"gridcolor\":\"white\",\"gridwidth\":2,\"linecolor\":\"white\",\"showbackground\":true,\"ticks\":\"\",\"zerolinecolor\":\"white\"},\"zaxis\":{\"backgroundcolor\":\"#E5ECF6\",\"gridcolor\":\"white\",\"gridwidth\":2,\"linecolor\":\"white\",\"showbackground\":true,\"ticks\":\"\",\"zerolinecolor\":\"white\"}},\"shapedefaults\":{\"line\":{\"color\":\"#2a3f5f\"}},\"ternary\":{\"aaxis\":{\"gridcolor\":\"white\",\"linecolor\":\"white\",\"ticks\":\"\"},\"baxis\":{\"gridcolor\":\"white\",\"linecolor\":\"white\",\"ticks\":\"\"},\"bgcolor\":\"#E5ECF6\",\"caxis\":{\"gridcolor\":\"white\",\"linecolor\":\"white\",\"ticks\":\"\"}},\"title\":{\"x\":0.05},\"xaxis\":{\"automargin\":true,\"gridcolor\":\"white\",\"linecolor\":\"white\",\"ticks\":\"\",\"title\":{\"standoff\":15},\"zerolinecolor\":\"white\",\"zerolinewidth\":2},\"yaxis\":{\"automargin\":true,\"gridcolor\":\"white\",\"linecolor\":\"white\",\"ticks\":\"\",\"title\":{\"standoff\":15},\"zerolinecolor\":\"white\",\"zerolinewidth\":2}}}},                        {\"responsive\": true}                    ).then(function(){\n",
              "                            \n",
              "var gd = document.getElementById('87427e6a-14fb-4880-9737-23f42f3d0995');\n",
              "var x = new MutationObserver(function (mutations, observer) {{\n",
              "        var display = window.getComputedStyle(gd).display;\n",
              "        if (!display || display === 'none') {{\n",
              "            console.log([gd, 'removed!']);\n",
              "            Plotly.purge(gd);\n",
              "            observer.disconnect();\n",
              "        }}\n",
              "}});\n",
              "\n",
              "// Listen for the removal of the full notebook cells\n",
              "var notebookContainer = gd.closest('#notebook-container');\n",
              "if (notebookContainer) {{\n",
              "    x.observe(notebookContainer, {childList: true});\n",
              "}}\n",
              "\n",
              "// Listen for the clearing of the current output cell\n",
              "var outputEl = gd.closest('.output');\n",
              "if (outputEl) {{\n",
              "    x.observe(outputEl, {childList: true});\n",
              "}}\n",
              "\n",
              "                        })                };                            </script>        </div>\n",
              "</body>\n",
              "</html>"
            ]
          },
          "metadata": {}
        }
      ]
    },
    {
      "cell_type": "code",
      "source": [
        "# Adicionando nome aos eixos\n",
        "fig.update_layout(scene = dict(xaxis_title = 'Color Intensity',\n",
        "                               yaxis_title = 'Alcohol',\n",
        "                               zaxis_title = 'Proline'))\n",
        "fig.show()"
      ],
      "metadata": {
        "colab": {
          "base_uri": "https://localhost:8080/",
          "height": 542
        },
        "id": "LeB6gkw0PdMg",
        "outputId": "845154b9-374d-4a17-aabf-21820383b55a"
      },
      "execution_count": null,
      "outputs": [
        {
          "output_type": "display_data",
          "data": {
            "text/html": [
              "<html>\n",
              "<head><meta charset=\"utf-8\" /></head>\n",
              "<body>\n",
              "    <div>            <script src=\"https://cdnjs.cloudflare.com/ajax/libs/mathjax/2.7.5/MathJax.js?config=TeX-AMS-MML_SVG\"></script><script type=\"text/javascript\">if (window.MathJax) {MathJax.Hub.Config({SVG: {font: \"STIX-Web\"}});}</script>                <script type=\"text/javascript\">window.PlotlyConfig = {MathJaxConfig: 'local'};</script>\n",
              "        <script src=\"https://cdn.plot.ly/plotly-2.8.3.min.js\"></script>                <div id=\"9caa285d-329c-4dc7-9dc3-96fb496518f1\" class=\"plotly-graph-div\" style=\"height:525px; width:100%;\"></div>            <script type=\"text/javascript\">                                    window.PLOTLYENV=window.PLOTLYENV || {};                                    if (document.getElementById(\"9caa285d-329c-4dc7-9dc3-96fb496518f1\")) {                    Plotly.newPlot(                        \"9caa285d-329c-4dc7-9dc3-96fb496518f1\",                        [{\"marker\":{\"color\":[1.0,1.0,1.0,1.0,1.0,1.0,1.0,1.0,1.0,1.0,1.0,1.0,1.0,1.0,1.0,1.0,1.0,1.0,1.0,1.0,1.0,1.0,1.0,1.0,1.0,1.0,1.0,1.0,1.0,1.0,1.0,1.0,1.0,1.0,1.0,1.0,1.0,1.0,1.0,1.0,1.0,1.0,1.0,1.0,1.0,1.0,1.0,1.0,1.0,1.0,1.0,1.0,1.0,1.0,1.0,1.0,1.0,1.0,1.0,2.0,2.0,2.0,2.0,2.0,2.0,2.0,2.0,2.0,2.0,2.0,2.0,2.0,2.0,1.0,2.0,2.0,2.0,2.0,2.0,2.0,2.0,2.0,2.0,0.0,2.0,2.0,2.0,2.0,2.0,2.0,2.0,2.0,2.0,2.0,2.0,2.0,2.0,2.0,2.0,2.0,2.0,2.0,2.0,2.0,2.0,2.0,2.0,2.0,2.0,2.0,2.0,2.0,2.0,2.0,2.0,2.0,2.0,2.0,2.0,2.0,2.0,2.0,2.0,2.0,2.0,2.0,2.0,2.0,2.0,2.0,0.0,0.0,0.0,0.0,0.0,0.0,0.0,0.0,0.0,0.0,0.0,0.0,0.0,0.0,0.0,0.0,0.0,0.0,0.0,0.0,0.0,0.0,0.0,0.0,0.0,0.0,0.0,0.0,0.0,0.0,0.0,0.0,0.0,0.0,0.0,0.0,0.0,0.0,0.0,0.0,0.0,0.0,0.0,0.0,0.0,0.0,0.0,0.0]},\"mode\":\"markers\",\"text\":[1.0,1.0,1.0,1.0,1.0,1.0,1.0,1.0,1.0,1.0,1.0,1.0,1.0,1.0,1.0,1.0,1.0,1.0,1.0,1.0,1.0,1.0,1.0,1.0,1.0,1.0,1.0,1.0,1.0,1.0,1.0,1.0,1.0,1.0,1.0,1.0,1.0,1.0,1.0,1.0,1.0,1.0,1.0,1.0,1.0,1.0,1.0,1.0,1.0,1.0,1.0,1.0,1.0,1.0,1.0,1.0,1.0,1.0,1.0,2.0,2.0,2.0,2.0,2.0,2.0,2.0,2.0,2.0,2.0,2.0,2.0,2.0,2.0,1.0,2.0,2.0,2.0,2.0,2.0,2.0,2.0,2.0,2.0,0.0,2.0,2.0,2.0,2.0,2.0,2.0,2.0,2.0,2.0,2.0,2.0,2.0,2.0,2.0,2.0,2.0,2.0,2.0,2.0,2.0,2.0,2.0,2.0,2.0,2.0,2.0,2.0,2.0,2.0,2.0,2.0,2.0,2.0,2.0,2.0,2.0,2.0,2.0,2.0,2.0,2.0,2.0,2.0,2.0,2.0,2.0,0.0,0.0,0.0,0.0,0.0,0.0,0.0,0.0,0.0,0.0,0.0,0.0,0.0,0.0,0.0,0.0,0.0,0.0,0.0,0.0,0.0,0.0,0.0,0.0,0.0,0.0,0.0,0.0,0.0,0.0,0.0,0.0,0.0,0.0,0.0,0.0,0.0,0.0,0.0,0.0,0.0,0.0,0.0,0.0,0.0,0.0,0.0,0.0],\"x\":[0.37201365187713303,0.26450511945392485,0.3754266211604095,0.5563139931740614,0.2593856655290102,0.46672354948805456,0.3387372013651877,0.3216723549488054,0.33447098976109213,0.5068259385665528,0.3813993174061433,0.31740614334470985,0.3686006825938566,0.3515358361774744,0.530716723549488,0.5136518771331058,0.4197952218430034,0.45392491467576784,0.6331058020477814,0.32593856655290093,0.3728668941979522,0.27474402730375425,0.21501706484641633,0.22610921501706485,0.19112627986348124,0.19624573378839588,0.3003412969283276,0.22781569965870305,0.27474402730375425,0.2918088737201365,0.37713310580204773,0.47952218430034127,0.21843003412969278,0.3515358361774744,0.24914675767918087,0.32593856655290093,0.28327645051194533,0.2534129692832764,0.20648464163822525,0.32593856655290093,0.41382252559726956,0.25597269624573377,0.3540955631399317,0.26279863481228666,0.3208191126279863,0.3378839590443686,0.30887372013651876,0.4112627986348122,0.4197952218430034,0.6501706484641638,0.5051194539249146,0.3686006825938566,0.4923208191126279,0.42832764505119447,0.3899317406143344,0.42406143344709896,0.43515358361774736,0.4027303754266211,0.4709897610921501,0.057167235494880536,0.1697952218430034,0.3813993174061433,0.21501706484641633,0.2704778156996587,0.14249146757679182,0.28327645051194533,0.3430034129692832,0.2901023890784982,0.16126279863481227,0.13395904436860068,0.1510238907849829,0.17918088737201363,0.2098976109215017,0.17662116040955633,0.16467576791808872,0.21501706484641633,0.28327645051194533,0.11689419795221842,0.18088737201365188,0.1100682593856655,0.10409556313993173,0.2235494880546075,0.07849829351535836,0.3003412969283276,0.1510238907849829,0.11433447098976109,0.09982935153583619,0.11262798634812286,0.1296928327645051,0.039249146757679175,0.09556313993174059,0.19795221843003413,0.1510238907849829,0.07423208191126278,0.16808873720136516,0.11262798634812286,0.10409556313993173,0.13822525597269622,0.27474402730375425,0.08703071672354946,0.1723549488054607,0.09982935153583619,0.1296928327645051,0.06655290102389079,0.1416382252559727,0.121160409556314,0.18088737201365188,0.1723549488054607,0.121160409556314,0.11689419795221842,0.13822525597269622,0.0614334470989761,0.21501706484641633,0.15358361774744028,0.13822525597269622,0.05290102389078497,0.057167235494880536,0.06655290102389079,0.18088737201365188,0.0,0.16808873720136516,0.4027303754266211,0.06825938566552901,0.11262798634812286,0.1296928327645051,0.12627986348122863,0.22696245733788395,0.14675767918088736,0.07167235494880546,0.11262798634812286,0.2406143344709897,0.3515358361774744,0.37713310580204773,0.31740614334470985,0.35580204778156993,0.49658703071672344,0.21928327645051196,0.31740614334470985,0.37713310580204773,0.31058020477815695,0.28327645051194533,0.3686006825938566,0.26194539249146753,0.26621160409556316,0.591296928327645,0.2320819112627986,0.30887372013651876,0.5435153583617747,0.6092150170648464,0.6928327645051195,0.6245733788395904,0.8122866894197953,0.49658703071672344,0.78839590443686,0.5392491467576791,0.5648464163822525,0.6595563139931739,0.530716723549488,1.0,0.893344709897611,0.5435153583617747,0.39249146757679176,0.3668941979522184,0.341296928327645,0.7081911262798635,0.4556313993174061,0.8020477815699658,0.7662116040955631,0.629692832764505,0.6160409556313993,0.3600682593856655,0.7354947952218429,0.7184300341296928,0.5477815699658702,0.5136518771331058,0.7610921501706485,0.6843003412969284,0.675767918088737],\"y\":[0.8421052631578949,0.5710526315789473,0.5605263157894738,0.8789473684210525,0.5815789473684212,0.8342105263157893,0.8842105263157897,0.7973684210526317,1.0,0.744736842105263,0.8078947368421052,0.813157894736842,0.7157894736842105,0.9789473684210526,0.8815789473684212,0.6842105263157897,0.8605263157894739,0.736842105263158,0.831578947368421,0.686842105263158,0.7973684210526317,0.5,0.7052631578947371,0.4789473684210526,0.65,0.5315789473684213,0.6210526315789475,0.5973684210526318,0.7473684210526313,0.7868421052631578,0.7105263157894738,0.6710526315789475,0.6973684210526315,0.718421052631579,0.6526315789473685,0.6447368421052633,0.5921052631578946,0.5315789473684213,0.536842105263158,0.8394736842105265,0.6657894736842107,0.6263157894736843,0.7500000000000002,0.5815789473684212,0.5315789473684213,0.8368421052631582,0.8815789473684212,0.755263157894737,0.8078947368421052,0.7657894736842105,0.5315789473684213,0.736842105263158,0.7342105263157895,0.7210526315789473,0.7131578947368422,0.6657894736842107,0.8394736842105265,0.594736842105263,0.7078947368421055,0.3526315789473683,0.34210526315789486,0.42368421052631605,0.6947368421052632,0.3526315789473683,0.3000000000000001,0.3526315789473683,0.5473684210526315,0.3526315789473683,0.6078947368421053,0.31052631578947404,0.3315789473684209,0.744736842105263,0.6473684210526317,0.5157894736842107,0.2447368421052635,0.1657894736842107,0.5263157894736841,0.21315789473684219,0.34210526315789486,0.43947368421052624,0.25526315789473697,0.44473684210526343,0.27631578947368435,0.5315789473684213,0.21315789473684219,0.4315789473684211,0.2973684210526317,0.16315789473684233,0.16052631578947396,0.27631578947368435,0.27631578947368435,0.25526315789473697,0.43684210526315786,0.3315789473684209,0.15526315789473677,0.3789473684210529,0.2052631578947371,0.3315789473684209,0.3526315789473683,0.3315789473684209,0.27631578947368435,0.4131578947368421,0.34473684210526323,0.20789473684210547,0.38947368421052636,0.3657894736842106,0.3210526315789475,0.44473684210526343,0.31315789473684236,0.15263157894736842,0.11315789473684247,0.39210526315789473,0.1921052631578948,0.10000000000000019,0.27631578947368435,0.0,0.20789473684210547,0.3657894736842106,0.45789473684210524,0.25526315789473697,0.11052631578947364,0.13947368421052658,0.3657894736842106,0.5315789473684213,0.22105263157894728,0.273684210526316,0.368421052631579,0.1999999999999999,0.3526315789473683,0.2657894736842104,0.481578947368421,0.4868421052631582,0.4684210526315792,0.43947368421052624,0.38947368421052636,0.4131578947368421,0.3210526315789475,0.3947368421052631,0.6473684210526317,0.47631578947368425,0.5,0.613157894736842,0.6552631578947368,0.6815789473684208,0.3210526315789475,0.5605263157894738,0.7500000000000002,0.48421052631578937,0.6026315789473685,0.5394736842105264,0.65,0.46315789473684194,0.5473684210526315,0.5789473684210528,0.40789473684210537,0.5631578947368422,0.7394736842105263,0.3736842105263157,0.8710526315789473,0.6447368421052633,0.35,0.7,0.4789473684210526,0.5078947368421055,0.7236842105263157,0.7105263157894738,0.6368421052631578,0.4710526315789475,0.6710526315789475,0.623684210526316,0.30789473684210517,0.45789473684210524,0.8236842105263158,0.7052631578947371,0.623684210526316,0.5894736842105263,0.5631578947368422,0.8157894736842107],\"z\":[0.5613409415121255,0.550641940085592,0.6469329529243937,0.8573466476462197,0.325962910128388,0.8359486447931527,0.7218259629101283,0.7253922967189729,0.5470756062767475,0.5470756062767475,0.8787446504992867,0.7146932952924394,0.7432239657631954,0.6219686162624821,0.9051355206847361,0.7360912981455064,0.7146932952924394,0.6077032810271041,1.0,0.4044222539229672,0.35805991440798857,0.3509272467902996,0.5399429386590585,0.5256776034236804,0.4044222539229672,0.39372325249643364,0.6540656205420827,0.7182596291012838,0.4543509272467903,0.5399429386590585,0.7182596291012838,0.8823109843081313,0.5078459343794579,0.6825962910128388,0.5827389443651926,0.4579172610556348,0.42938659058487877,0.5898716119828816,0.5292439372325249,0.3437945791726106,0.36875891583452214,0.5399429386590585,0.5827389443651926,0.2867332382310984,0.43295292439372324,0.572039942938659,0.5613409415121255,0.5042796005706134,0.557774607703281,0.7004279600570613,0.6219686162624821,0.7039942938659058,0.6504992867332382,0.782453637660485,0.557774607703281,0.6005706134094151,0.49358059914407987,0.7075606276747504,0.7182596291012838,0.17261055634807418,0.2867332382310984,0.12268188302425106,0.25106990014265335,0.10128388017118402,0.05492154065620542,0.28530670470756064,0.15977175463623394,0.16547788873038516,0.33666191155492153,0.31383737517831667,0.4222539229671897,0.09415121255349501,0.1383737517831669,0.5042796005706134,0.43366619115549215,0.10699001426533523,0.08131241084165478,0.15834522111269614,0.33666191155492153,0.13195435092724678,0.0,0.31098430813124106,0.25106990014265335,0.16904422253922968,0.17261055634807418,0.12268188302425106,0.15477888730385164,0.20256776034236804,0.2867332382310984,0.24750356633380885,0.14407988587731813,0.12268188302425106,0.15477888730385164,0.008559201141226819,0.04778887303851641,0.47004279600570614,0.24750356633380885,0.10699001426533523,0.2724679029957204,0.0912981455064194,0.30813124108416545,0.20256776034236804,0.11412268188302425,0.09771754636233952,0.2810271041369472,0.026390870185449358,0.16547788873038516,0.14978601997146934,0.024251069900142655,0.2867332382310984,0.20256776034236804,0.033523537803138374,0.2346647646219686,0.11126961483594865,0.07631954350927246,0.0920114122681883,0.15477888730385164,0.04778887303851641,0.06704707560627675,0.20399429386590584,0.24750356633380885,0.13338088445078458,0.062054208273894434,0.07275320970042796,0.07275320970042796,0.07132667617689016,0.052781740370898715,0.1340941512125535,0.0456490727532097,0.21540656205420827,0.25106990014265335,0.1797432239657632,0.20114122681883023,0.2296718972895863,0.2653352353780314,0.29743223965763194,0.3152639087018545,0.16904422253922968,0.21540656205420827,0.2225392296718973,0.2296718972895863,0.35805991440798857,0.17261055634807418,0.19400855920114124,0.4115549215406562,0.39372325249643364,0.09771754636233952,0.24750356633380885,0.2653352353780314,0.19400855920114124,0.15834522111269614,0.14407988587731813,0.10485021398002853,0.2831669044222539,0.2582025677603424,0.318830242510699,0.14407988587731813,0.42938659058487877,0.2724679029957204,0.24393723252496433,0.17261055634807418,0.2867332382310984,0.20827389443651925,0.2831669044222539,0.24037089871611983,0.17261055634807418,0.29743223965763194,0.29029957203994294,0.33666191155492153,0.25106990014265335,0.16547788873038516,0.1369472182596291,0.2724679029957204,0.32952924393723254,0.33666191155492153,0.39728958630527816,0.4008559201141227,0.20114122681883023],\"type\":\"scatter3d\"}],                        {\"template\":{\"data\":{\"bar\":[{\"error_x\":{\"color\":\"#2a3f5f\"},\"error_y\":{\"color\":\"#2a3f5f\"},\"marker\":{\"line\":{\"color\":\"#E5ECF6\",\"width\":0.5},\"pattern\":{\"fillmode\":\"overlay\",\"size\":10,\"solidity\":0.2}},\"type\":\"bar\"}],\"barpolar\":[{\"marker\":{\"line\":{\"color\":\"#E5ECF6\",\"width\":0.5},\"pattern\":{\"fillmode\":\"overlay\",\"size\":10,\"solidity\":0.2}},\"type\":\"barpolar\"}],\"carpet\":[{\"aaxis\":{\"endlinecolor\":\"#2a3f5f\",\"gridcolor\":\"white\",\"linecolor\":\"white\",\"minorgridcolor\":\"white\",\"startlinecolor\":\"#2a3f5f\"},\"baxis\":{\"endlinecolor\":\"#2a3f5f\",\"gridcolor\":\"white\",\"linecolor\":\"white\",\"minorgridcolor\":\"white\",\"startlinecolor\":\"#2a3f5f\"},\"type\":\"carpet\"}],\"choropleth\":[{\"colorbar\":{\"outlinewidth\":0,\"ticks\":\"\"},\"type\":\"choropleth\"}],\"contour\":[{\"colorbar\":{\"outlinewidth\":0,\"ticks\":\"\"},\"colorscale\":[[0.0,\"#0d0887\"],[0.1111111111111111,\"#46039f\"],[0.2222222222222222,\"#7201a8\"],[0.3333333333333333,\"#9c179e\"],[0.4444444444444444,\"#bd3786\"],[0.5555555555555556,\"#d8576b\"],[0.6666666666666666,\"#ed7953\"],[0.7777777777777778,\"#fb9f3a\"],[0.8888888888888888,\"#fdca26\"],[1.0,\"#f0f921\"]],\"type\":\"contour\"}],\"contourcarpet\":[{\"colorbar\":{\"outlinewidth\":0,\"ticks\":\"\"},\"type\":\"contourcarpet\"}],\"heatmap\":[{\"colorbar\":{\"outlinewidth\":0,\"ticks\":\"\"},\"colorscale\":[[0.0,\"#0d0887\"],[0.1111111111111111,\"#46039f\"],[0.2222222222222222,\"#7201a8\"],[0.3333333333333333,\"#9c179e\"],[0.4444444444444444,\"#bd3786\"],[0.5555555555555556,\"#d8576b\"],[0.6666666666666666,\"#ed7953\"],[0.7777777777777778,\"#fb9f3a\"],[0.8888888888888888,\"#fdca26\"],[1.0,\"#f0f921\"]],\"type\":\"heatmap\"}],\"heatmapgl\":[{\"colorbar\":{\"outlinewidth\":0,\"ticks\":\"\"},\"colorscale\":[[0.0,\"#0d0887\"],[0.1111111111111111,\"#46039f\"],[0.2222222222222222,\"#7201a8\"],[0.3333333333333333,\"#9c179e\"],[0.4444444444444444,\"#bd3786\"],[0.5555555555555556,\"#d8576b\"],[0.6666666666666666,\"#ed7953\"],[0.7777777777777778,\"#fb9f3a\"],[0.8888888888888888,\"#fdca26\"],[1.0,\"#f0f921\"]],\"type\":\"heatmapgl\"}],\"histogram\":[{\"marker\":{\"pattern\":{\"fillmode\":\"overlay\",\"size\":10,\"solidity\":0.2}},\"type\":\"histogram\"}],\"histogram2d\":[{\"colorbar\":{\"outlinewidth\":0,\"ticks\":\"\"},\"colorscale\":[[0.0,\"#0d0887\"],[0.1111111111111111,\"#46039f\"],[0.2222222222222222,\"#7201a8\"],[0.3333333333333333,\"#9c179e\"],[0.4444444444444444,\"#bd3786\"],[0.5555555555555556,\"#d8576b\"],[0.6666666666666666,\"#ed7953\"],[0.7777777777777778,\"#fb9f3a\"],[0.8888888888888888,\"#fdca26\"],[1.0,\"#f0f921\"]],\"type\":\"histogram2d\"}],\"histogram2dcontour\":[{\"colorbar\":{\"outlinewidth\":0,\"ticks\":\"\"},\"colorscale\":[[0.0,\"#0d0887\"],[0.1111111111111111,\"#46039f\"],[0.2222222222222222,\"#7201a8\"],[0.3333333333333333,\"#9c179e\"],[0.4444444444444444,\"#bd3786\"],[0.5555555555555556,\"#d8576b\"],[0.6666666666666666,\"#ed7953\"],[0.7777777777777778,\"#fb9f3a\"],[0.8888888888888888,\"#fdca26\"],[1.0,\"#f0f921\"]],\"type\":\"histogram2dcontour\"}],\"mesh3d\":[{\"colorbar\":{\"outlinewidth\":0,\"ticks\":\"\"},\"type\":\"mesh3d\"}],\"parcoords\":[{\"line\":{\"colorbar\":{\"outlinewidth\":0,\"ticks\":\"\"}},\"type\":\"parcoords\"}],\"pie\":[{\"automargin\":true,\"type\":\"pie\"}],\"scatter\":[{\"marker\":{\"colorbar\":{\"outlinewidth\":0,\"ticks\":\"\"}},\"type\":\"scatter\"}],\"scatter3d\":[{\"line\":{\"colorbar\":{\"outlinewidth\":0,\"ticks\":\"\"}},\"marker\":{\"colorbar\":{\"outlinewidth\":0,\"ticks\":\"\"}},\"type\":\"scatter3d\"}],\"scattercarpet\":[{\"marker\":{\"colorbar\":{\"outlinewidth\":0,\"ticks\":\"\"}},\"type\":\"scattercarpet\"}],\"scattergeo\":[{\"marker\":{\"colorbar\":{\"outlinewidth\":0,\"ticks\":\"\"}},\"type\":\"scattergeo\"}],\"scattergl\":[{\"marker\":{\"colorbar\":{\"outlinewidth\":0,\"ticks\":\"\"}},\"type\":\"scattergl\"}],\"scattermapbox\":[{\"marker\":{\"colorbar\":{\"outlinewidth\":0,\"ticks\":\"\"}},\"type\":\"scattermapbox\"}],\"scatterpolar\":[{\"marker\":{\"colorbar\":{\"outlinewidth\":0,\"ticks\":\"\"}},\"type\":\"scatterpolar\"}],\"scatterpolargl\":[{\"marker\":{\"colorbar\":{\"outlinewidth\":0,\"ticks\":\"\"}},\"type\":\"scatterpolargl\"}],\"scatterternary\":[{\"marker\":{\"colorbar\":{\"outlinewidth\":0,\"ticks\":\"\"}},\"type\":\"scatterternary\"}],\"surface\":[{\"colorbar\":{\"outlinewidth\":0,\"ticks\":\"\"},\"colorscale\":[[0.0,\"#0d0887\"],[0.1111111111111111,\"#46039f\"],[0.2222222222222222,\"#7201a8\"],[0.3333333333333333,\"#9c179e\"],[0.4444444444444444,\"#bd3786\"],[0.5555555555555556,\"#d8576b\"],[0.6666666666666666,\"#ed7953\"],[0.7777777777777778,\"#fb9f3a\"],[0.8888888888888888,\"#fdca26\"],[1.0,\"#f0f921\"]],\"type\":\"surface\"}],\"table\":[{\"cells\":{\"fill\":{\"color\":\"#EBF0F8\"},\"line\":{\"color\":\"white\"}},\"header\":{\"fill\":{\"color\":\"#C8D4E3\"},\"line\":{\"color\":\"white\"}},\"type\":\"table\"}]},\"layout\":{\"annotationdefaults\":{\"arrowcolor\":\"#2a3f5f\",\"arrowhead\":0,\"arrowwidth\":1},\"autotypenumbers\":\"strict\",\"coloraxis\":{\"colorbar\":{\"outlinewidth\":0,\"ticks\":\"\"}},\"colorscale\":{\"diverging\":[[0,\"#8e0152\"],[0.1,\"#c51b7d\"],[0.2,\"#de77ae\"],[0.3,\"#f1b6da\"],[0.4,\"#fde0ef\"],[0.5,\"#f7f7f7\"],[0.6,\"#e6f5d0\"],[0.7,\"#b8e186\"],[0.8,\"#7fbc41\"],[0.9,\"#4d9221\"],[1,\"#276419\"]],\"sequential\":[[0.0,\"#0d0887\"],[0.1111111111111111,\"#46039f\"],[0.2222222222222222,\"#7201a8\"],[0.3333333333333333,\"#9c179e\"],[0.4444444444444444,\"#bd3786\"],[0.5555555555555556,\"#d8576b\"],[0.6666666666666666,\"#ed7953\"],[0.7777777777777778,\"#fb9f3a\"],[0.8888888888888888,\"#fdca26\"],[1.0,\"#f0f921\"]],\"sequentialminus\":[[0.0,\"#0d0887\"],[0.1111111111111111,\"#46039f\"],[0.2222222222222222,\"#7201a8\"],[0.3333333333333333,\"#9c179e\"],[0.4444444444444444,\"#bd3786\"],[0.5555555555555556,\"#d8576b\"],[0.6666666666666666,\"#ed7953\"],[0.7777777777777778,\"#fb9f3a\"],[0.8888888888888888,\"#fdca26\"],[1.0,\"#f0f921\"]]},\"colorway\":[\"#636efa\",\"#EF553B\",\"#00cc96\",\"#ab63fa\",\"#FFA15A\",\"#19d3f3\",\"#FF6692\",\"#B6E880\",\"#FF97FF\",\"#FECB52\"],\"font\":{\"color\":\"#2a3f5f\"},\"geo\":{\"bgcolor\":\"white\",\"lakecolor\":\"white\",\"landcolor\":\"#E5ECF6\",\"showlakes\":true,\"showland\":true,\"subunitcolor\":\"white\"},\"hoverlabel\":{\"align\":\"left\"},\"hovermode\":\"closest\",\"mapbox\":{\"style\":\"light\"},\"paper_bgcolor\":\"white\",\"plot_bgcolor\":\"#E5ECF6\",\"polar\":{\"angularaxis\":{\"gridcolor\":\"white\",\"linecolor\":\"white\",\"ticks\":\"\"},\"bgcolor\":\"#E5ECF6\",\"radialaxis\":{\"gridcolor\":\"white\",\"linecolor\":\"white\",\"ticks\":\"\"}},\"scene\":{\"xaxis\":{\"backgroundcolor\":\"#E5ECF6\",\"gridcolor\":\"white\",\"gridwidth\":2,\"linecolor\":\"white\",\"showbackground\":true,\"ticks\":\"\",\"zerolinecolor\":\"white\"},\"yaxis\":{\"backgroundcolor\":\"#E5ECF6\",\"gridcolor\":\"white\",\"gridwidth\":2,\"linecolor\":\"white\",\"showbackground\":true,\"ticks\":\"\",\"zerolinecolor\":\"white\"},\"zaxis\":{\"backgroundcolor\":\"#E5ECF6\",\"gridcolor\":\"white\",\"gridwidth\":2,\"linecolor\":\"white\",\"showbackground\":true,\"ticks\":\"\",\"zerolinecolor\":\"white\"}},\"shapedefaults\":{\"line\":{\"color\":\"#2a3f5f\"}},\"ternary\":{\"aaxis\":{\"gridcolor\":\"white\",\"linecolor\":\"white\",\"ticks\":\"\"},\"baxis\":{\"gridcolor\":\"white\",\"linecolor\":\"white\",\"ticks\":\"\"},\"bgcolor\":\"#E5ECF6\",\"caxis\":{\"gridcolor\":\"white\",\"linecolor\":\"white\",\"ticks\":\"\"}},\"title\":{\"x\":0.05},\"xaxis\":{\"automargin\":true,\"gridcolor\":\"white\",\"linecolor\":\"white\",\"ticks\":\"\",\"title\":{\"standoff\":15},\"zerolinecolor\":\"white\",\"zerolinewidth\":2},\"yaxis\":{\"automargin\":true,\"gridcolor\":\"white\",\"linecolor\":\"white\",\"ticks\":\"\",\"title\":{\"standoff\":15},\"zerolinecolor\":\"white\",\"zerolinewidth\":2}}},\"scene\":{\"xaxis\":{\"title\":{\"text\":\"Color Intensity\"}},\"yaxis\":{\"title\":{\"text\":\"Alcohol\"}},\"zaxis\":{\"title\":{\"text\":\"Proline\"}}}},                        {\"responsive\": true}                    ).then(function(){\n",
              "                            \n",
              "var gd = document.getElementById('9caa285d-329c-4dc7-9dc3-96fb496518f1');\n",
              "var x = new MutationObserver(function (mutations, observer) {{\n",
              "        var display = window.getComputedStyle(gd).display;\n",
              "        if (!display || display === 'none') {{\n",
              "            console.log([gd, 'removed!']);\n",
              "            Plotly.purge(gd);\n",
              "            observer.disconnect();\n",
              "        }}\n",
              "}});\n",
              "\n",
              "// Listen for the removal of the full notebook cells\n",
              "var notebookContainer = gd.closest('#notebook-container');\n",
              "if (notebookContainer) {{\n",
              "    x.observe(notebookContainer, {childList: true});\n",
              "}}\n",
              "\n",
              "// Listen for the clearing of the current output cell\n",
              "var outputEl = gd.closest('.output');\n",
              "if (outputEl) {{\n",
              "    x.observe(outputEl, {childList: true});\n",
              "}}\n",
              "\n",
              "                        })                };                            </script>        </div>\n",
              "</body>\n",
              "</html>"
            ]
          },
          "metadata": {}
        }
      ]
    },
    {
      "cell_type": "code",
      "source": [
        "# criando um dataframe com os centros\n",
        "centros = pd.DataFrame(agrupador.cluster_centers_)\n",
        "centros.columns = atributos\n",
        "centros.head()"
      ],
      "metadata": {
        "colab": {
          "base_uri": "https://localhost:8080/",
          "height": 187
        },
        "id": "l2VcSZQlQDS7",
        "outputId": "26b54ea2-7fcf-4088-958f-2c4936b3eb7a"
      },
      "execution_count": null,
      "outputs": [
        {
          "output_type": "execute_result",
          "data": {
            "text/plain": [
              "    Alcohol  Malic_Acid       Ash  Ash_Alcanity  Magnesium  Total_Phenols  \\\n",
              "0  0.558324    0.514721  0.574703      0.558700   0.315439       0.240746   \n",
              "1  0.711096    0.250000  0.587166      0.342955   0.400906       0.644080   \n",
              "2  0.322960    0.230939  0.469813      0.487823   0.261342       0.438831   \n",
              "\n",
              "   Flavanoids  Nonflavanoid_Phenols  Proanthocyanins  Color_Intensity  \\\n",
              "0    0.096616              0.605314         0.237559         0.517343   \n",
              "1    0.557138              0.299371         0.470137         0.359386   \n",
              "2    0.366294              0.438337         0.383486         0.151704   \n",
              "\n",
              "        Hue     OD280   Proline  Customer_Segment  \n",
              "0  0.167413  0.153921  0.249323          0.989796  \n",
              "1  0.476558  0.693590  0.595958          0.008333  \n",
              "2  0.468081  0.555396  0.167494          0.500000  "
            ],
            "text/html": [
              "\n",
              "  <div id=\"df-c7feb579-60a5-4f23-85af-f147bbe1ec15\">\n",
              "    <div class=\"colab-df-container\">\n",
              "      <div>\n",
              "<style scoped>\n",
              "    .dataframe tbody tr th:only-of-type {\n",
              "        vertical-align: middle;\n",
              "    }\n",
              "\n",
              "    .dataframe tbody tr th {\n",
              "        vertical-align: top;\n",
              "    }\n",
              "\n",
              "    .dataframe thead th {\n",
              "        text-align: right;\n",
              "    }\n",
              "</style>\n",
              "<table border=\"1\" class=\"dataframe\">\n",
              "  <thead>\n",
              "    <tr style=\"text-align: right;\">\n",
              "      <th></th>\n",
              "      <th>Alcohol</th>\n",
              "      <th>Malic_Acid</th>\n",
              "      <th>Ash</th>\n",
              "      <th>Ash_Alcanity</th>\n",
              "      <th>Magnesium</th>\n",
              "      <th>Total_Phenols</th>\n",
              "      <th>Flavanoids</th>\n",
              "      <th>Nonflavanoid_Phenols</th>\n",
              "      <th>Proanthocyanins</th>\n",
              "      <th>Color_Intensity</th>\n",
              "      <th>Hue</th>\n",
              "      <th>OD280</th>\n",
              "      <th>Proline</th>\n",
              "      <th>Customer_Segment</th>\n",
              "    </tr>\n",
              "  </thead>\n",
              "  <tbody>\n",
              "    <tr>\n",
              "      <th>0</th>\n",
              "      <td>0.558324</td>\n",
              "      <td>0.514721</td>\n",
              "      <td>0.574703</td>\n",
              "      <td>0.558700</td>\n",
              "      <td>0.315439</td>\n",
              "      <td>0.240746</td>\n",
              "      <td>0.096616</td>\n",
              "      <td>0.605314</td>\n",
              "      <td>0.237559</td>\n",
              "      <td>0.517343</td>\n",
              "      <td>0.167413</td>\n",
              "      <td>0.153921</td>\n",
              "      <td>0.249323</td>\n",
              "      <td>0.989796</td>\n",
              "    </tr>\n",
              "    <tr>\n",
              "      <th>1</th>\n",
              "      <td>0.711096</td>\n",
              "      <td>0.250000</td>\n",
              "      <td>0.587166</td>\n",
              "      <td>0.342955</td>\n",
              "      <td>0.400906</td>\n",
              "      <td>0.644080</td>\n",
              "      <td>0.557138</td>\n",
              "      <td>0.299371</td>\n",
              "      <td>0.470137</td>\n",
              "      <td>0.359386</td>\n",
              "      <td>0.476558</td>\n",
              "      <td>0.693590</td>\n",
              "      <td>0.595958</td>\n",
              "      <td>0.008333</td>\n",
              "    </tr>\n",
              "    <tr>\n",
              "      <th>2</th>\n",
              "      <td>0.322960</td>\n",
              "      <td>0.230939</td>\n",
              "      <td>0.469813</td>\n",
              "      <td>0.487823</td>\n",
              "      <td>0.261342</td>\n",
              "      <td>0.438831</td>\n",
              "      <td>0.366294</td>\n",
              "      <td>0.438337</td>\n",
              "      <td>0.383486</td>\n",
              "      <td>0.151704</td>\n",
              "      <td>0.468081</td>\n",
              "      <td>0.555396</td>\n",
              "      <td>0.167494</td>\n",
              "      <td>0.500000</td>\n",
              "    </tr>\n",
              "  </tbody>\n",
              "</table>\n",
              "</div>\n",
              "      <button class=\"colab-df-convert\" onclick=\"convertToInteractive('df-c7feb579-60a5-4f23-85af-f147bbe1ec15')\"\n",
              "              title=\"Convert this dataframe to an interactive table.\"\n",
              "              style=\"display:none;\">\n",
              "        \n",
              "  <svg xmlns=\"http://www.w3.org/2000/svg\" height=\"24px\"viewBox=\"0 0 24 24\"\n",
              "       width=\"24px\">\n",
              "    <path d=\"M0 0h24v24H0V0z\" fill=\"none\"/>\n",
              "    <path d=\"M18.56 5.44l.94 2.06.94-2.06 2.06-.94-2.06-.94-.94-2.06-.94 2.06-2.06.94zm-11 1L8.5 8.5l.94-2.06 2.06-.94-2.06-.94L8.5 2.5l-.94 2.06-2.06.94zm10 10l.94 2.06.94-2.06 2.06-.94-2.06-.94-.94-2.06-.94 2.06-2.06.94z\"/><path d=\"M17.41 7.96l-1.37-1.37c-.4-.4-.92-.59-1.43-.59-.52 0-1.04.2-1.43.59L10.3 9.45l-7.72 7.72c-.78.78-.78 2.05 0 2.83L4 21.41c.39.39.9.59 1.41.59.51 0 1.02-.2 1.41-.59l7.78-7.78 2.81-2.81c.8-.78.8-2.07 0-2.86zM5.41 20L4 18.59l7.72-7.72 1.47 1.35L5.41 20z\"/>\n",
              "  </svg>\n",
              "      </button>\n",
              "      \n",
              "  <style>\n",
              "    .colab-df-container {\n",
              "      display:flex;\n",
              "      flex-wrap:wrap;\n",
              "      gap: 12px;\n",
              "    }\n",
              "\n",
              "    .colab-df-convert {\n",
              "      background-color: #E8F0FE;\n",
              "      border: none;\n",
              "      border-radius: 50%;\n",
              "      cursor: pointer;\n",
              "      display: none;\n",
              "      fill: #1967D2;\n",
              "      height: 32px;\n",
              "      padding: 0 0 0 0;\n",
              "      width: 32px;\n",
              "    }\n",
              "\n",
              "    .colab-df-convert:hover {\n",
              "      background-color: #E2EBFA;\n",
              "      box-shadow: 0px 1px 2px rgba(60, 64, 67, 0.3), 0px 1px 3px 1px rgba(60, 64, 67, 0.15);\n",
              "      fill: #174EA6;\n",
              "    }\n",
              "\n",
              "    [theme=dark] .colab-df-convert {\n",
              "      background-color: #3B4455;\n",
              "      fill: #D2E3FC;\n",
              "    }\n",
              "\n",
              "    [theme=dark] .colab-df-convert:hover {\n",
              "      background-color: #434B5C;\n",
              "      box-shadow: 0px 1px 3px 1px rgba(0, 0, 0, 0.15);\n",
              "      filter: drop-shadow(0px 1px 2px rgba(0, 0, 0, 0.3));\n",
              "      fill: #FFFFFF;\n",
              "    }\n",
              "  </style>\n",
              "\n",
              "      <script>\n",
              "        const buttonEl =\n",
              "          document.querySelector('#df-c7feb579-60a5-4f23-85af-f147bbe1ec15 button.colab-df-convert');\n",
              "        buttonEl.style.display =\n",
              "          google.colab.kernel.accessAllowed ? 'block' : 'none';\n",
              "\n",
              "        async function convertToInteractive(key) {\n",
              "          const element = document.querySelector('#df-c7feb579-60a5-4f23-85af-f147bbe1ec15');\n",
              "          const dataTable =\n",
              "            await google.colab.kernel.invokeFunction('convertToInteractive',\n",
              "                                                     [key], {});\n",
              "          if (!dataTable) return;\n",
              "\n",
              "          const docLinkHtml = 'Like what you see? Visit the ' +\n",
              "            '<a target=\"_blank\" href=https://colab.research.google.com/notebooks/data_table.ipynb>data table notebook</a>'\n",
              "            + ' to learn more about interactive tables.';\n",
              "          element.innerHTML = '';\n",
              "          dataTable['output_type'] = 'display_data';\n",
              "          await google.colab.output.renderOutput(dataTable, element);\n",
              "          const docLink = document.createElement('div');\n",
              "          docLink.innerHTML = docLinkHtml;\n",
              "          element.appendChild(docLink);\n",
              "        }\n",
              "      </script>\n",
              "    </div>\n",
              "  </div>\n",
              "  "
            ]
          },
          "metadata": {},
          "execution_count": 42
        }
      ]
    },
    {
      "cell_type": "code",
      "source": [
        "# adicionando os centros nas figuras\n",
        "fig.add_trace(go.Scatter3d(x = centros['Color_Intensity'],\n",
        "                           y = centros['Alcohol'],\n",
        "                           z = centros ['Proline'],\n",
        "                           mode = 'markers', marker = dict(color = 'red'),\n",
        "                           text = [0,1,2]))\n",
        "fig.show()"
      ],
      "metadata": {
        "colab": {
          "base_uri": "https://localhost:8080/",
          "height": 542
        },
        "id": "17mq8IvlQc1K",
        "outputId": "49a03de9-205c-4b46-84d7-edd2293f60d9"
      },
      "execution_count": null,
      "outputs": [
        {
          "output_type": "display_data",
          "data": {
            "text/html": [
              "<html>\n",
              "<head><meta charset=\"utf-8\" /></head>\n",
              "<body>\n",
              "    <div>            <script src=\"https://cdnjs.cloudflare.com/ajax/libs/mathjax/2.7.5/MathJax.js?config=TeX-AMS-MML_SVG\"></script><script type=\"text/javascript\">if (window.MathJax) {MathJax.Hub.Config({SVG: {font: \"STIX-Web\"}});}</script>                <script type=\"text/javascript\">window.PlotlyConfig = {MathJaxConfig: 'local'};</script>\n",
              "        <script src=\"https://cdn.plot.ly/plotly-2.8.3.min.js\"></script>                <div id=\"5f8f4e64-df68-4a8f-b6f1-dce047a88bed\" class=\"plotly-graph-div\" style=\"height:525px; width:100%;\"></div>            <script type=\"text/javascript\">                                    window.PLOTLYENV=window.PLOTLYENV || {};                                    if (document.getElementById(\"5f8f4e64-df68-4a8f-b6f1-dce047a88bed\")) {                    Plotly.newPlot(                        \"5f8f4e64-df68-4a8f-b6f1-dce047a88bed\",                        [{\"marker\":{\"color\":[1.0,1.0,1.0,1.0,1.0,1.0,1.0,1.0,1.0,1.0,1.0,1.0,1.0,1.0,1.0,1.0,1.0,1.0,1.0,1.0,1.0,1.0,1.0,1.0,1.0,1.0,1.0,1.0,1.0,1.0,1.0,1.0,1.0,1.0,1.0,1.0,1.0,1.0,1.0,1.0,1.0,1.0,1.0,1.0,1.0,1.0,1.0,1.0,1.0,1.0,1.0,1.0,1.0,1.0,1.0,1.0,1.0,1.0,1.0,2.0,2.0,2.0,2.0,2.0,2.0,2.0,2.0,2.0,2.0,2.0,2.0,2.0,2.0,1.0,2.0,2.0,2.0,2.0,2.0,2.0,2.0,2.0,2.0,0.0,2.0,2.0,2.0,2.0,2.0,2.0,2.0,2.0,2.0,2.0,2.0,2.0,2.0,2.0,2.0,2.0,2.0,2.0,2.0,2.0,2.0,2.0,2.0,2.0,2.0,2.0,2.0,2.0,2.0,2.0,2.0,2.0,2.0,2.0,2.0,2.0,2.0,2.0,2.0,2.0,2.0,2.0,2.0,2.0,2.0,2.0,0.0,0.0,0.0,0.0,0.0,0.0,0.0,0.0,0.0,0.0,0.0,0.0,0.0,0.0,0.0,0.0,0.0,0.0,0.0,0.0,0.0,0.0,0.0,0.0,0.0,0.0,0.0,0.0,0.0,0.0,0.0,0.0,0.0,0.0,0.0,0.0,0.0,0.0,0.0,0.0,0.0,0.0,0.0,0.0,0.0,0.0,0.0,0.0]},\"mode\":\"markers\",\"text\":[1.0,1.0,1.0,1.0,1.0,1.0,1.0,1.0,1.0,1.0,1.0,1.0,1.0,1.0,1.0,1.0,1.0,1.0,1.0,1.0,1.0,1.0,1.0,1.0,1.0,1.0,1.0,1.0,1.0,1.0,1.0,1.0,1.0,1.0,1.0,1.0,1.0,1.0,1.0,1.0,1.0,1.0,1.0,1.0,1.0,1.0,1.0,1.0,1.0,1.0,1.0,1.0,1.0,1.0,1.0,1.0,1.0,1.0,1.0,2.0,2.0,2.0,2.0,2.0,2.0,2.0,2.0,2.0,2.0,2.0,2.0,2.0,2.0,1.0,2.0,2.0,2.0,2.0,2.0,2.0,2.0,2.0,2.0,0.0,2.0,2.0,2.0,2.0,2.0,2.0,2.0,2.0,2.0,2.0,2.0,2.0,2.0,2.0,2.0,2.0,2.0,2.0,2.0,2.0,2.0,2.0,2.0,2.0,2.0,2.0,2.0,2.0,2.0,2.0,2.0,2.0,2.0,2.0,2.0,2.0,2.0,2.0,2.0,2.0,2.0,2.0,2.0,2.0,2.0,2.0,0.0,0.0,0.0,0.0,0.0,0.0,0.0,0.0,0.0,0.0,0.0,0.0,0.0,0.0,0.0,0.0,0.0,0.0,0.0,0.0,0.0,0.0,0.0,0.0,0.0,0.0,0.0,0.0,0.0,0.0,0.0,0.0,0.0,0.0,0.0,0.0,0.0,0.0,0.0,0.0,0.0,0.0,0.0,0.0,0.0,0.0,0.0,0.0],\"x\":[0.37201365187713303,0.26450511945392485,0.3754266211604095,0.5563139931740614,0.2593856655290102,0.46672354948805456,0.3387372013651877,0.3216723549488054,0.33447098976109213,0.5068259385665528,0.3813993174061433,0.31740614334470985,0.3686006825938566,0.3515358361774744,0.530716723549488,0.5136518771331058,0.4197952218430034,0.45392491467576784,0.6331058020477814,0.32593856655290093,0.3728668941979522,0.27474402730375425,0.21501706484641633,0.22610921501706485,0.19112627986348124,0.19624573378839588,0.3003412969283276,0.22781569965870305,0.27474402730375425,0.2918088737201365,0.37713310580204773,0.47952218430034127,0.21843003412969278,0.3515358361774744,0.24914675767918087,0.32593856655290093,0.28327645051194533,0.2534129692832764,0.20648464163822525,0.32593856655290093,0.41382252559726956,0.25597269624573377,0.3540955631399317,0.26279863481228666,0.3208191126279863,0.3378839590443686,0.30887372013651876,0.4112627986348122,0.4197952218430034,0.6501706484641638,0.5051194539249146,0.3686006825938566,0.4923208191126279,0.42832764505119447,0.3899317406143344,0.42406143344709896,0.43515358361774736,0.4027303754266211,0.4709897610921501,0.057167235494880536,0.1697952218430034,0.3813993174061433,0.21501706484641633,0.2704778156996587,0.14249146757679182,0.28327645051194533,0.3430034129692832,0.2901023890784982,0.16126279863481227,0.13395904436860068,0.1510238907849829,0.17918088737201363,0.2098976109215017,0.17662116040955633,0.16467576791808872,0.21501706484641633,0.28327645051194533,0.11689419795221842,0.18088737201365188,0.1100682593856655,0.10409556313993173,0.2235494880546075,0.07849829351535836,0.3003412969283276,0.1510238907849829,0.11433447098976109,0.09982935153583619,0.11262798634812286,0.1296928327645051,0.039249146757679175,0.09556313993174059,0.19795221843003413,0.1510238907849829,0.07423208191126278,0.16808873720136516,0.11262798634812286,0.10409556313993173,0.13822525597269622,0.27474402730375425,0.08703071672354946,0.1723549488054607,0.09982935153583619,0.1296928327645051,0.06655290102389079,0.1416382252559727,0.121160409556314,0.18088737201365188,0.1723549488054607,0.121160409556314,0.11689419795221842,0.13822525597269622,0.0614334470989761,0.21501706484641633,0.15358361774744028,0.13822525597269622,0.05290102389078497,0.057167235494880536,0.06655290102389079,0.18088737201365188,0.0,0.16808873720136516,0.4027303754266211,0.06825938566552901,0.11262798634812286,0.1296928327645051,0.12627986348122863,0.22696245733788395,0.14675767918088736,0.07167235494880546,0.11262798634812286,0.2406143344709897,0.3515358361774744,0.37713310580204773,0.31740614334470985,0.35580204778156993,0.49658703071672344,0.21928327645051196,0.31740614334470985,0.37713310580204773,0.31058020477815695,0.28327645051194533,0.3686006825938566,0.26194539249146753,0.26621160409556316,0.591296928327645,0.2320819112627986,0.30887372013651876,0.5435153583617747,0.6092150170648464,0.6928327645051195,0.6245733788395904,0.8122866894197953,0.49658703071672344,0.78839590443686,0.5392491467576791,0.5648464163822525,0.6595563139931739,0.530716723549488,1.0,0.893344709897611,0.5435153583617747,0.39249146757679176,0.3668941979522184,0.341296928327645,0.7081911262798635,0.4556313993174061,0.8020477815699658,0.7662116040955631,0.629692832764505,0.6160409556313993,0.3600682593856655,0.7354947952218429,0.7184300341296928,0.5477815699658702,0.5136518771331058,0.7610921501706485,0.6843003412969284,0.675767918088737],\"y\":[0.8421052631578949,0.5710526315789473,0.5605263157894738,0.8789473684210525,0.5815789473684212,0.8342105263157893,0.8842105263157897,0.7973684210526317,1.0,0.744736842105263,0.8078947368421052,0.813157894736842,0.7157894736842105,0.9789473684210526,0.8815789473684212,0.6842105263157897,0.8605263157894739,0.736842105263158,0.831578947368421,0.686842105263158,0.7973684210526317,0.5,0.7052631578947371,0.4789473684210526,0.65,0.5315789473684213,0.6210526315789475,0.5973684210526318,0.7473684210526313,0.7868421052631578,0.7105263157894738,0.6710526315789475,0.6973684210526315,0.718421052631579,0.6526315789473685,0.6447368421052633,0.5921052631578946,0.5315789473684213,0.536842105263158,0.8394736842105265,0.6657894736842107,0.6263157894736843,0.7500000000000002,0.5815789473684212,0.5315789473684213,0.8368421052631582,0.8815789473684212,0.755263157894737,0.8078947368421052,0.7657894736842105,0.5315789473684213,0.736842105263158,0.7342105263157895,0.7210526315789473,0.7131578947368422,0.6657894736842107,0.8394736842105265,0.594736842105263,0.7078947368421055,0.3526315789473683,0.34210526315789486,0.42368421052631605,0.6947368421052632,0.3526315789473683,0.3000000000000001,0.3526315789473683,0.5473684210526315,0.3526315789473683,0.6078947368421053,0.31052631578947404,0.3315789473684209,0.744736842105263,0.6473684210526317,0.5157894736842107,0.2447368421052635,0.1657894736842107,0.5263157894736841,0.21315789473684219,0.34210526315789486,0.43947368421052624,0.25526315789473697,0.44473684210526343,0.27631578947368435,0.5315789473684213,0.21315789473684219,0.4315789473684211,0.2973684210526317,0.16315789473684233,0.16052631578947396,0.27631578947368435,0.27631578947368435,0.25526315789473697,0.43684210526315786,0.3315789473684209,0.15526315789473677,0.3789473684210529,0.2052631578947371,0.3315789473684209,0.3526315789473683,0.3315789473684209,0.27631578947368435,0.4131578947368421,0.34473684210526323,0.20789473684210547,0.38947368421052636,0.3657894736842106,0.3210526315789475,0.44473684210526343,0.31315789473684236,0.15263157894736842,0.11315789473684247,0.39210526315789473,0.1921052631578948,0.10000000000000019,0.27631578947368435,0.0,0.20789473684210547,0.3657894736842106,0.45789473684210524,0.25526315789473697,0.11052631578947364,0.13947368421052658,0.3657894736842106,0.5315789473684213,0.22105263157894728,0.273684210526316,0.368421052631579,0.1999999999999999,0.3526315789473683,0.2657894736842104,0.481578947368421,0.4868421052631582,0.4684210526315792,0.43947368421052624,0.38947368421052636,0.4131578947368421,0.3210526315789475,0.3947368421052631,0.6473684210526317,0.47631578947368425,0.5,0.613157894736842,0.6552631578947368,0.6815789473684208,0.3210526315789475,0.5605263157894738,0.7500000000000002,0.48421052631578937,0.6026315789473685,0.5394736842105264,0.65,0.46315789473684194,0.5473684210526315,0.5789473684210528,0.40789473684210537,0.5631578947368422,0.7394736842105263,0.3736842105263157,0.8710526315789473,0.6447368421052633,0.35,0.7,0.4789473684210526,0.5078947368421055,0.7236842105263157,0.7105263157894738,0.6368421052631578,0.4710526315789475,0.6710526315789475,0.623684210526316,0.30789473684210517,0.45789473684210524,0.8236842105263158,0.7052631578947371,0.623684210526316,0.5894736842105263,0.5631578947368422,0.8157894736842107],\"z\":[0.5613409415121255,0.550641940085592,0.6469329529243937,0.8573466476462197,0.325962910128388,0.8359486447931527,0.7218259629101283,0.7253922967189729,0.5470756062767475,0.5470756062767475,0.8787446504992867,0.7146932952924394,0.7432239657631954,0.6219686162624821,0.9051355206847361,0.7360912981455064,0.7146932952924394,0.6077032810271041,1.0,0.4044222539229672,0.35805991440798857,0.3509272467902996,0.5399429386590585,0.5256776034236804,0.4044222539229672,0.39372325249643364,0.6540656205420827,0.7182596291012838,0.4543509272467903,0.5399429386590585,0.7182596291012838,0.8823109843081313,0.5078459343794579,0.6825962910128388,0.5827389443651926,0.4579172610556348,0.42938659058487877,0.5898716119828816,0.5292439372325249,0.3437945791726106,0.36875891583452214,0.5399429386590585,0.5827389443651926,0.2867332382310984,0.43295292439372324,0.572039942938659,0.5613409415121255,0.5042796005706134,0.557774607703281,0.7004279600570613,0.6219686162624821,0.7039942938659058,0.6504992867332382,0.782453637660485,0.557774607703281,0.6005706134094151,0.49358059914407987,0.7075606276747504,0.7182596291012838,0.17261055634807418,0.2867332382310984,0.12268188302425106,0.25106990014265335,0.10128388017118402,0.05492154065620542,0.28530670470756064,0.15977175463623394,0.16547788873038516,0.33666191155492153,0.31383737517831667,0.4222539229671897,0.09415121255349501,0.1383737517831669,0.5042796005706134,0.43366619115549215,0.10699001426533523,0.08131241084165478,0.15834522111269614,0.33666191155492153,0.13195435092724678,0.0,0.31098430813124106,0.25106990014265335,0.16904422253922968,0.17261055634807418,0.12268188302425106,0.15477888730385164,0.20256776034236804,0.2867332382310984,0.24750356633380885,0.14407988587731813,0.12268188302425106,0.15477888730385164,0.008559201141226819,0.04778887303851641,0.47004279600570614,0.24750356633380885,0.10699001426533523,0.2724679029957204,0.0912981455064194,0.30813124108416545,0.20256776034236804,0.11412268188302425,0.09771754636233952,0.2810271041369472,0.026390870185449358,0.16547788873038516,0.14978601997146934,0.024251069900142655,0.2867332382310984,0.20256776034236804,0.033523537803138374,0.2346647646219686,0.11126961483594865,0.07631954350927246,0.0920114122681883,0.15477888730385164,0.04778887303851641,0.06704707560627675,0.20399429386590584,0.24750356633380885,0.13338088445078458,0.062054208273894434,0.07275320970042796,0.07275320970042796,0.07132667617689016,0.052781740370898715,0.1340941512125535,0.0456490727532097,0.21540656205420827,0.25106990014265335,0.1797432239657632,0.20114122681883023,0.2296718972895863,0.2653352353780314,0.29743223965763194,0.3152639087018545,0.16904422253922968,0.21540656205420827,0.2225392296718973,0.2296718972895863,0.35805991440798857,0.17261055634807418,0.19400855920114124,0.4115549215406562,0.39372325249643364,0.09771754636233952,0.24750356633380885,0.2653352353780314,0.19400855920114124,0.15834522111269614,0.14407988587731813,0.10485021398002853,0.2831669044222539,0.2582025677603424,0.318830242510699,0.14407988587731813,0.42938659058487877,0.2724679029957204,0.24393723252496433,0.17261055634807418,0.2867332382310984,0.20827389443651925,0.2831669044222539,0.24037089871611983,0.17261055634807418,0.29743223965763194,0.29029957203994294,0.33666191155492153,0.25106990014265335,0.16547788873038516,0.1369472182596291,0.2724679029957204,0.32952924393723254,0.33666191155492153,0.39728958630527816,0.4008559201141227,0.20114122681883023],\"type\":\"scatter3d\"},{\"marker\":{\"color\":\"red\"},\"mode\":\"markers\",\"text\":[\"0\",\"1\",\"2\"],\"x\":[0.5173434544124816,0.3593856655290102,0.15170401147549095],\"y\":[0.5583243823845327,0.7110964912280703,0.3229595728451564],\"z\":[0.24932312439954585,0.5959581550166428,0.1674936426223408],\"type\":\"scatter3d\"}],                        {\"template\":{\"data\":{\"bar\":[{\"error_x\":{\"color\":\"#2a3f5f\"},\"error_y\":{\"color\":\"#2a3f5f\"},\"marker\":{\"line\":{\"color\":\"#E5ECF6\",\"width\":0.5},\"pattern\":{\"fillmode\":\"overlay\",\"size\":10,\"solidity\":0.2}},\"type\":\"bar\"}],\"barpolar\":[{\"marker\":{\"line\":{\"color\":\"#E5ECF6\",\"width\":0.5},\"pattern\":{\"fillmode\":\"overlay\",\"size\":10,\"solidity\":0.2}},\"type\":\"barpolar\"}],\"carpet\":[{\"aaxis\":{\"endlinecolor\":\"#2a3f5f\",\"gridcolor\":\"white\",\"linecolor\":\"white\",\"minorgridcolor\":\"white\",\"startlinecolor\":\"#2a3f5f\"},\"baxis\":{\"endlinecolor\":\"#2a3f5f\",\"gridcolor\":\"white\",\"linecolor\":\"white\",\"minorgridcolor\":\"white\",\"startlinecolor\":\"#2a3f5f\"},\"type\":\"carpet\"}],\"choropleth\":[{\"colorbar\":{\"outlinewidth\":0,\"ticks\":\"\"},\"type\":\"choropleth\"}],\"contour\":[{\"colorbar\":{\"outlinewidth\":0,\"ticks\":\"\"},\"colorscale\":[[0.0,\"#0d0887\"],[0.1111111111111111,\"#46039f\"],[0.2222222222222222,\"#7201a8\"],[0.3333333333333333,\"#9c179e\"],[0.4444444444444444,\"#bd3786\"],[0.5555555555555556,\"#d8576b\"],[0.6666666666666666,\"#ed7953\"],[0.7777777777777778,\"#fb9f3a\"],[0.8888888888888888,\"#fdca26\"],[1.0,\"#f0f921\"]],\"type\":\"contour\"}],\"contourcarpet\":[{\"colorbar\":{\"outlinewidth\":0,\"ticks\":\"\"},\"type\":\"contourcarpet\"}],\"heatmap\":[{\"colorbar\":{\"outlinewidth\":0,\"ticks\":\"\"},\"colorscale\":[[0.0,\"#0d0887\"],[0.1111111111111111,\"#46039f\"],[0.2222222222222222,\"#7201a8\"],[0.3333333333333333,\"#9c179e\"],[0.4444444444444444,\"#bd3786\"],[0.5555555555555556,\"#d8576b\"],[0.6666666666666666,\"#ed7953\"],[0.7777777777777778,\"#fb9f3a\"],[0.8888888888888888,\"#fdca26\"],[1.0,\"#f0f921\"]],\"type\":\"heatmap\"}],\"heatmapgl\":[{\"colorbar\":{\"outlinewidth\":0,\"ticks\":\"\"},\"colorscale\":[[0.0,\"#0d0887\"],[0.1111111111111111,\"#46039f\"],[0.2222222222222222,\"#7201a8\"],[0.3333333333333333,\"#9c179e\"],[0.4444444444444444,\"#bd3786\"],[0.5555555555555556,\"#d8576b\"],[0.6666666666666666,\"#ed7953\"],[0.7777777777777778,\"#fb9f3a\"],[0.8888888888888888,\"#fdca26\"],[1.0,\"#f0f921\"]],\"type\":\"heatmapgl\"}],\"histogram\":[{\"marker\":{\"pattern\":{\"fillmode\":\"overlay\",\"size\":10,\"solidity\":0.2}},\"type\":\"histogram\"}],\"histogram2d\":[{\"colorbar\":{\"outlinewidth\":0,\"ticks\":\"\"},\"colorscale\":[[0.0,\"#0d0887\"],[0.1111111111111111,\"#46039f\"],[0.2222222222222222,\"#7201a8\"],[0.3333333333333333,\"#9c179e\"],[0.4444444444444444,\"#bd3786\"],[0.5555555555555556,\"#d8576b\"],[0.6666666666666666,\"#ed7953\"],[0.7777777777777778,\"#fb9f3a\"],[0.8888888888888888,\"#fdca26\"],[1.0,\"#f0f921\"]],\"type\":\"histogram2d\"}],\"histogram2dcontour\":[{\"colorbar\":{\"outlinewidth\":0,\"ticks\":\"\"},\"colorscale\":[[0.0,\"#0d0887\"],[0.1111111111111111,\"#46039f\"],[0.2222222222222222,\"#7201a8\"],[0.3333333333333333,\"#9c179e\"],[0.4444444444444444,\"#bd3786\"],[0.5555555555555556,\"#d8576b\"],[0.6666666666666666,\"#ed7953\"],[0.7777777777777778,\"#fb9f3a\"],[0.8888888888888888,\"#fdca26\"],[1.0,\"#f0f921\"]],\"type\":\"histogram2dcontour\"}],\"mesh3d\":[{\"colorbar\":{\"outlinewidth\":0,\"ticks\":\"\"},\"type\":\"mesh3d\"}],\"parcoords\":[{\"line\":{\"colorbar\":{\"outlinewidth\":0,\"ticks\":\"\"}},\"type\":\"parcoords\"}],\"pie\":[{\"automargin\":true,\"type\":\"pie\"}],\"scatter\":[{\"marker\":{\"colorbar\":{\"outlinewidth\":0,\"ticks\":\"\"}},\"type\":\"scatter\"}],\"scatter3d\":[{\"line\":{\"colorbar\":{\"outlinewidth\":0,\"ticks\":\"\"}},\"marker\":{\"colorbar\":{\"outlinewidth\":0,\"ticks\":\"\"}},\"type\":\"scatter3d\"}],\"scattercarpet\":[{\"marker\":{\"colorbar\":{\"outlinewidth\":0,\"ticks\":\"\"}},\"type\":\"scattercarpet\"}],\"scattergeo\":[{\"marker\":{\"colorbar\":{\"outlinewidth\":0,\"ticks\":\"\"}},\"type\":\"scattergeo\"}],\"scattergl\":[{\"marker\":{\"colorbar\":{\"outlinewidth\":0,\"ticks\":\"\"}},\"type\":\"scattergl\"}],\"scattermapbox\":[{\"marker\":{\"colorbar\":{\"outlinewidth\":0,\"ticks\":\"\"}},\"type\":\"scattermapbox\"}],\"scatterpolar\":[{\"marker\":{\"colorbar\":{\"outlinewidth\":0,\"ticks\":\"\"}},\"type\":\"scatterpolar\"}],\"scatterpolargl\":[{\"marker\":{\"colorbar\":{\"outlinewidth\":0,\"ticks\":\"\"}},\"type\":\"scatterpolargl\"}],\"scatterternary\":[{\"marker\":{\"colorbar\":{\"outlinewidth\":0,\"ticks\":\"\"}},\"type\":\"scatterternary\"}],\"surface\":[{\"colorbar\":{\"outlinewidth\":0,\"ticks\":\"\"},\"colorscale\":[[0.0,\"#0d0887\"],[0.1111111111111111,\"#46039f\"],[0.2222222222222222,\"#7201a8\"],[0.3333333333333333,\"#9c179e\"],[0.4444444444444444,\"#bd3786\"],[0.5555555555555556,\"#d8576b\"],[0.6666666666666666,\"#ed7953\"],[0.7777777777777778,\"#fb9f3a\"],[0.8888888888888888,\"#fdca26\"],[1.0,\"#f0f921\"]],\"type\":\"surface\"}],\"table\":[{\"cells\":{\"fill\":{\"color\":\"#EBF0F8\"},\"line\":{\"color\":\"white\"}},\"header\":{\"fill\":{\"color\":\"#C8D4E3\"},\"line\":{\"color\":\"white\"}},\"type\":\"table\"}]},\"layout\":{\"annotationdefaults\":{\"arrowcolor\":\"#2a3f5f\",\"arrowhead\":0,\"arrowwidth\":1},\"autotypenumbers\":\"strict\",\"coloraxis\":{\"colorbar\":{\"outlinewidth\":0,\"ticks\":\"\"}},\"colorscale\":{\"diverging\":[[0,\"#8e0152\"],[0.1,\"#c51b7d\"],[0.2,\"#de77ae\"],[0.3,\"#f1b6da\"],[0.4,\"#fde0ef\"],[0.5,\"#f7f7f7\"],[0.6,\"#e6f5d0\"],[0.7,\"#b8e186\"],[0.8,\"#7fbc41\"],[0.9,\"#4d9221\"],[1,\"#276419\"]],\"sequential\":[[0.0,\"#0d0887\"],[0.1111111111111111,\"#46039f\"],[0.2222222222222222,\"#7201a8\"],[0.3333333333333333,\"#9c179e\"],[0.4444444444444444,\"#bd3786\"],[0.5555555555555556,\"#d8576b\"],[0.6666666666666666,\"#ed7953\"],[0.7777777777777778,\"#fb9f3a\"],[0.8888888888888888,\"#fdca26\"],[1.0,\"#f0f921\"]],\"sequentialminus\":[[0.0,\"#0d0887\"],[0.1111111111111111,\"#46039f\"],[0.2222222222222222,\"#7201a8\"],[0.3333333333333333,\"#9c179e\"],[0.4444444444444444,\"#bd3786\"],[0.5555555555555556,\"#d8576b\"],[0.6666666666666666,\"#ed7953\"],[0.7777777777777778,\"#fb9f3a\"],[0.8888888888888888,\"#fdca26\"],[1.0,\"#f0f921\"]]},\"colorway\":[\"#636efa\",\"#EF553B\",\"#00cc96\",\"#ab63fa\",\"#FFA15A\",\"#19d3f3\",\"#FF6692\",\"#B6E880\",\"#FF97FF\",\"#FECB52\"],\"font\":{\"color\":\"#2a3f5f\"},\"geo\":{\"bgcolor\":\"white\",\"lakecolor\":\"white\",\"landcolor\":\"#E5ECF6\",\"showlakes\":true,\"showland\":true,\"subunitcolor\":\"white\"},\"hoverlabel\":{\"align\":\"left\"},\"hovermode\":\"closest\",\"mapbox\":{\"style\":\"light\"},\"paper_bgcolor\":\"white\",\"plot_bgcolor\":\"#E5ECF6\",\"polar\":{\"angularaxis\":{\"gridcolor\":\"white\",\"linecolor\":\"white\",\"ticks\":\"\"},\"bgcolor\":\"#E5ECF6\",\"radialaxis\":{\"gridcolor\":\"white\",\"linecolor\":\"white\",\"ticks\":\"\"}},\"scene\":{\"xaxis\":{\"backgroundcolor\":\"#E5ECF6\",\"gridcolor\":\"white\",\"gridwidth\":2,\"linecolor\":\"white\",\"showbackground\":true,\"ticks\":\"\",\"zerolinecolor\":\"white\"},\"yaxis\":{\"backgroundcolor\":\"#E5ECF6\",\"gridcolor\":\"white\",\"gridwidth\":2,\"linecolor\":\"white\",\"showbackground\":true,\"ticks\":\"\",\"zerolinecolor\":\"white\"},\"zaxis\":{\"backgroundcolor\":\"#E5ECF6\",\"gridcolor\":\"white\",\"gridwidth\":2,\"linecolor\":\"white\",\"showbackground\":true,\"ticks\":\"\",\"zerolinecolor\":\"white\"}},\"shapedefaults\":{\"line\":{\"color\":\"#2a3f5f\"}},\"ternary\":{\"aaxis\":{\"gridcolor\":\"white\",\"linecolor\":\"white\",\"ticks\":\"\"},\"baxis\":{\"gridcolor\":\"white\",\"linecolor\":\"white\",\"ticks\":\"\"},\"bgcolor\":\"#E5ECF6\",\"caxis\":{\"gridcolor\":\"white\",\"linecolor\":\"white\",\"ticks\":\"\"}},\"title\":{\"x\":0.05},\"xaxis\":{\"automargin\":true,\"gridcolor\":\"white\",\"linecolor\":\"white\",\"ticks\":\"\",\"title\":{\"standoff\":15},\"zerolinecolor\":\"white\",\"zerolinewidth\":2},\"yaxis\":{\"automargin\":true,\"gridcolor\":\"white\",\"linecolor\":\"white\",\"ticks\":\"\",\"title\":{\"standoff\":15},\"zerolinecolor\":\"white\",\"zerolinewidth\":2}}},\"scene\":{\"xaxis\":{\"title\":{\"text\":\"Color Intensity\"}},\"yaxis\":{\"title\":{\"text\":\"Alcohol\"}},\"zaxis\":{\"title\":{\"text\":\"Proline\"}}}},                        {\"responsive\": true}                    ).then(function(){\n",
              "                            \n",
              "var gd = document.getElementById('5f8f4e64-df68-4a8f-b6f1-dce047a88bed');\n",
              "var x = new MutationObserver(function (mutations, observer) {{\n",
              "        var display = window.getComputedStyle(gd).display;\n",
              "        if (!display || display === 'none') {{\n",
              "            console.log([gd, 'removed!']);\n",
              "            Plotly.purge(gd);\n",
              "            observer.disconnect();\n",
              "        }}\n",
              "}});\n",
              "\n",
              "// Listen for the removal of the full notebook cells\n",
              "var notebookContainer = gd.closest('#notebook-container');\n",
              "if (notebookContainer) {{\n",
              "    x.observe(notebookContainer, {childList: true});\n",
              "}}\n",
              "\n",
              "// Listen for the clearing of the current output cell\n",
              "var outputEl = gd.closest('.output');\n",
              "if (outputEl) {{\n",
              "    x.observe(outputEl, {childList: true});\n",
              "}}\n",
              "\n",
              "                        })                };                            </script>        </div>\n",
              "</body>\n",
              "</html>"
            ]
          },
          "metadata": {}
        }
      ]
    },
    {
      "cell_type": "markdown",
      "source": [
        "# MÉTODO DBSCAN"
      ],
      "metadata": {
        "id": "hho78ZWyR2kf"
      }
    },
    {
      "cell_type": "code",
      "source": [
        "from sklearn.cluster import DBSCAN"
      ],
      "metadata": {
        "id": "wpR4Q3JaRGV3"
      },
      "execution_count": null,
      "outputs": []
    },
    {
      "cell_type": "code",
      "source": [
        "agrupador = DBSCAN(eps = 1.31, min_samples = 15, metric = 'manhattan')\n",
        "agrupador.fit(dados)"
      ],
      "metadata": {
        "colab": {
          "base_uri": "https://localhost:8080/"
        },
        "id": "SaxPcTLfR8-b",
        "outputId": "1d152cf6-3c9b-4e8a-8b70-6b21c7cf0fa9"
      },
      "execution_count": null,
      "outputs": [
        {
          "output_type": "execute_result",
          "data": {
            "text/plain": [
              "DBSCAN(eps=1.31, metric='manhattan', min_samples=15)"
            ]
          },
          "metadata": {},
          "execution_count": 47
        }
      ]
    },
    {
      "cell_type": "code",
      "source": [
        "agrupador.labels_"
      ],
      "metadata": {
        "colab": {
          "base_uri": "https://localhost:8080/"
        },
        "id": "gzlezIO7ScjC",
        "outputId": "c9cab1ce-62f3-4999-8806-55f67513a5e7"
      },
      "execution_count": null,
      "outputs": [
        {
          "output_type": "execute_result",
          "data": {
            "text/plain": [
              "array([ 0,  0,  0,  0, -1,  0,  0,  0,  0,  0,  0,  0,  0, -1,  0,  0,  0,\n",
              "        0,  0,  0,  0,  0,  0,  0,  0, -1,  0,  0,  0,  0,  0,  0,  0,  0,\n",
              "        0,  0,  0,  0,  0, -1,  0, -1,  0, -1,  0, -1,  0,  0,  0,  0, -1,\n",
              "        0,  0,  0,  0,  0,  0,  0,  0, -1, -1, -1, -1, -1, -1, -1, -1,  1,\n",
              "       -1, -1, -1, -1, -1, -1, -1, -1, -1, -1, -1, -1, -1,  1, -1, -1, -1,\n",
              "        1, -1, -1, -1, -1,  1,  1, -1, -1, -1, -1, -1, -1, -1, -1, -1,  1,\n",
              "       -1,  1,  1, -1,  1,  1,  1, -1, -1, -1, -1, -1, -1, -1,  1,  1, -1,\n",
              "        1, -1, -1, -1, -1, -1,  1, -1, -1, -1, -1, -1,  2, -1,  2, -1,  2,\n",
              "       -1, -1,  2, -1, -1,  2, -1, -1,  2,  2, -1,  2,  2,  2, -1, -1, -1,\n",
              "        2, -1,  2,  2, -1, -1, -1,  2,  2,  2,  2,  2, -1,  2,  2,  2, -1,\n",
              "        2,  2,  2,  2,  2,  2,  2,  2])"
            ]
          },
          "metadata": {},
          "execution_count": 48
        }
      ]
    },
    {
      "cell_type": "code",
      "source": [
        "np.unique(agrupador.labels_)"
      ],
      "metadata": {
        "colab": {
          "base_uri": "https://localhost:8080/"
        },
        "id": "8FU_48MSSeww",
        "outputId": "9988be69-4289-4eee-f5c7-b9371e9ee7bf"
      },
      "execution_count": null,
      "outputs": [
        {
          "output_type": "execute_result",
          "data": {
            "text/plain": [
              "array([-1,  0,  1,  2])"
            ]
          },
          "metadata": {},
          "execution_count": 49
        }
      ]
    },
    {
      "cell_type": "markdown",
      "source": [
        "### Alterando os parâmetros do DBSCAN"
      ],
      "metadata": {
        "id": "d-e1_yucT_hZ"
      }
    },
    {
      "cell_type": "code",
      "source": [
        "# colocando a distância entre as amostras muito pequena\n",
        "agrupador = DBSCAN(eps = 0.01, min_samples = 15, metric = 'manhattan')\n",
        "agrupador.fit(dados)\n",
        "agrupador.labels_"
      ],
      "metadata": {
        "colab": {
          "base_uri": "https://localhost:8080/"
        },
        "id": "CDuaFzEgSn4Y",
        "outputId": "1d02043a-cf48-412c-d68e-d6436aa19f1d"
      },
      "execution_count": null,
      "outputs": [
        {
          "output_type": "execute_result",
          "data": {
            "text/plain": [
              "array([-1, -1, -1, -1, -1, -1, -1, -1, -1, -1, -1, -1, -1, -1, -1, -1, -1,\n",
              "       -1, -1, -1, -1, -1, -1, -1, -1, -1, -1, -1, -1, -1, -1, -1, -1, -1,\n",
              "       -1, -1, -1, -1, -1, -1, -1, -1, -1, -1, -1, -1, -1, -1, -1, -1, -1,\n",
              "       -1, -1, -1, -1, -1, -1, -1, -1, -1, -1, -1, -1, -1, -1, -1, -1, -1,\n",
              "       -1, -1, -1, -1, -1, -1, -1, -1, -1, -1, -1, -1, -1, -1, -1, -1, -1,\n",
              "       -1, -1, -1, -1, -1, -1, -1, -1, -1, -1, -1, -1, -1, -1, -1, -1, -1,\n",
              "       -1, -1, -1, -1, -1, -1, -1, -1, -1, -1, -1, -1, -1, -1, -1, -1, -1,\n",
              "       -1, -1, -1, -1, -1, -1, -1, -1, -1, -1, -1, -1, -1, -1, -1, -1, -1,\n",
              "       -1, -1, -1, -1, -1, -1, -1, -1, -1, -1, -1, -1, -1, -1, -1, -1, -1,\n",
              "       -1, -1, -1, -1, -1, -1, -1, -1, -1, -1, -1, -1, -1, -1, -1, -1, -1,\n",
              "       -1, -1, -1, -1, -1, -1, -1, -1])"
            ]
          },
          "metadata": {},
          "execution_count": 50
        }
      ]
    },
    {
      "cell_type": "code",
      "source": [
        "# colocando a distância entre as amostras muito grande\n",
        "agrupador = DBSCAN(eps = 10, min_samples = 15, metric = 'manhattan')\n",
        "agrupador.fit(dados)\n",
        "agrupador.labels_"
      ],
      "metadata": {
        "colab": {
          "base_uri": "https://localhost:8080/"
        },
        "id": "acM_Ib1FUMo9",
        "outputId": "ab237dd2-b5e3-48b5-d08e-272c47bde7fe"
      },
      "execution_count": null,
      "outputs": [
        {
          "output_type": "execute_result",
          "data": {
            "text/plain": [
              "array([0, 0, 0, 0, 0, 0, 0, 0, 0, 0, 0, 0, 0, 0, 0, 0, 0, 0, 0, 0, 0, 0,\n",
              "       0, 0, 0, 0, 0, 0, 0, 0, 0, 0, 0, 0, 0, 0, 0, 0, 0, 0, 0, 0, 0, 0,\n",
              "       0, 0, 0, 0, 0, 0, 0, 0, 0, 0, 0, 0, 0, 0, 0, 0, 0, 0, 0, 0, 0, 0,\n",
              "       0, 0, 0, 0, 0, 0, 0, 0, 0, 0, 0, 0, 0, 0, 0, 0, 0, 0, 0, 0, 0, 0,\n",
              "       0, 0, 0, 0, 0, 0, 0, 0, 0, 0, 0, 0, 0, 0, 0, 0, 0, 0, 0, 0, 0, 0,\n",
              "       0, 0, 0, 0, 0, 0, 0, 0, 0, 0, 0, 0, 0, 0, 0, 0, 0, 0, 0, 0, 0, 0,\n",
              "       0, 0, 0, 0, 0, 0, 0, 0, 0, 0, 0, 0, 0, 0, 0, 0, 0, 0, 0, 0, 0, 0,\n",
              "       0, 0, 0, 0, 0, 0, 0, 0, 0, 0, 0, 0, 0, 0, 0, 0, 0, 0, 0, 0, 0, 0,\n",
              "       0, 0])"
            ]
          },
          "metadata": {},
          "execution_count": 51
        }
      ]
    },
    {
      "cell_type": "code",
      "source": [
        "# colocando a quantidade minima de amostras muito grande\n",
        "agrupador = DBSCAN(eps = 1.5, min_samples = 50, metric = 'manhattan')\n",
        "agrupador.fit(dados)\n",
        "agrupador.labels_"
      ],
      "metadata": {
        "colab": {
          "base_uri": "https://localhost:8080/"
        },
        "id": "yQvMdk85UQW7",
        "outputId": "eacdf306-d619-4e33-a756-6ec02f25f482"
      },
      "execution_count": null,
      "outputs": [
        {
          "output_type": "execute_result",
          "data": {
            "text/plain": [
              "array([-1, -1, -1, -1, -1, -1, -1, -1, -1, -1, -1, -1, -1, -1, -1, -1, -1,\n",
              "       -1, -1, -1, -1, -1, -1, -1, -1, -1, -1, -1, -1, -1, -1, -1, -1, -1,\n",
              "       -1, -1, -1, -1, -1, -1, -1, -1, -1, -1, -1, -1, -1, -1, -1, -1, -1,\n",
              "       -1, -1, -1, -1, -1, -1, -1, -1, -1, -1, -1, -1, -1, -1, -1, -1, -1,\n",
              "       -1, -1, -1, -1, -1, -1, -1, -1, -1, -1, -1, -1, -1, -1, -1, -1, -1,\n",
              "       -1, -1, -1, -1, -1, -1, -1, -1, -1, -1, -1, -1, -1, -1, -1, -1, -1,\n",
              "       -1, -1, -1, -1, -1, -1, -1, -1, -1, -1, -1, -1, -1, -1, -1, -1, -1,\n",
              "       -1, -1, -1, -1, -1, -1, -1, -1, -1, -1, -1, -1, -1, -1, -1, -1, -1,\n",
              "       -1, -1, -1, -1, -1, -1, -1, -1, -1, -1, -1, -1, -1, -1, -1, -1, -1,\n",
              "       -1, -1, -1, -1, -1, -1, -1, -1, -1, -1, -1, -1, -1, -1, -1, -1, -1,\n",
              "       -1, -1, -1, -1, -1, -1, -1, -1])"
            ]
          },
          "metadata": {},
          "execution_count": 54
        }
      ]
    },
    {
      "cell_type": "code",
      "source": [
        "# colocando a quantidade minima de amostras muito pequena\n",
        "agrupador = DBSCAN(eps = 1.5, min_samples = 1, metric = 'manhattan')\n",
        "agrupador.fit(dados)\n",
        "agrupador.labels_"
      ],
      "metadata": {
        "colab": {
          "base_uri": "https://localhost:8080/"
        },
        "id": "VZfFQqSsUdbz",
        "outputId": "abec24ab-a4be-483a-c1d9-4bbaa9a46393"
      },
      "execution_count": null,
      "outputs": [
        {
          "output_type": "execute_result",
          "data": {
            "text/plain": [
              "array([ 0,  0,  0,  0,  0,  0,  0,  0,  0,  0,  0,  0,  0,  0,  0,  0,  0,\n",
              "        0,  0,  0,  0,  0,  0,  0,  0,  0,  0,  0,  0,  0,  0,  0,  0,  0,\n",
              "        0,  0,  0,  0,  0,  0,  0,  0,  0,  0,  0,  0,  0,  0,  0,  0,  1,\n",
              "        0,  0,  0,  0,  0,  0,  0,  0,  2,  3,  3,  4,  4,  4,  4,  5,  4,\n",
              "        3,  6,  4,  7,  4,  8,  4,  4,  4,  4,  9,  4,  4,  4,  4,  4,  4,\n",
              "        4,  4,  4,  4,  4,  4,  4,  4,  4,  4, 10, 11,  4,  4,  4,  4,  4,\n",
              "        4,  4,  4,  4,  4,  4,  4,  4, 12,  4, 13,  4,  4, 14,  4,  4, 15,\n",
              "        4,  4, 16,  4, 17, 18,  4,  4,  4,  4,  4, 19, 19, 19, 19, 19, 19,\n",
              "       19, 19, 19, 19, 19, 19, 19, 19, 19, 19, 19, 19, 19, 19, 19, 19, 19,\n",
              "       19, 19, 19, 19, 19, 20, 20, 19, 19, 19, 19, 19, 19, 19, 19, 19, 19,\n",
              "       19, 19, 19, 19, 19, 19, 19, 19])"
            ]
          },
          "metadata": {},
          "execution_count": 57
        }
      ]
    },
    {
      "cell_type": "code",
      "source": [
        "# alterando a métrica\n",
        "agrupador = DBSCAN(eps = 0.5, min_samples = 15, metric = 'euclidean')\n",
        "agrupador.fit(dados)\n",
        "agrupador.labels_"
      ],
      "metadata": {
        "colab": {
          "base_uri": "https://localhost:8080/"
        },
        "id": "mYQMBBm2UpEL",
        "outputId": "4f682e9c-3a6b-4c34-d20b-e65717bdae7b"
      },
      "execution_count": null,
      "outputs": [
        {
          "output_type": "execute_result",
          "data": {
            "text/plain": [
              "array([ 0,  0,  0,  0,  0,  0,  0,  0,  0,  0,  0,  0,  0, -1,  0,  0,  0,\n",
              "        0,  0,  0,  0,  0,  0,  0,  0, -1,  0,  0,  0,  0,  0,  0,  0,  0,\n",
              "        0,  0,  0,  0,  0, -1,  0, -1,  0, -1,  0,  0,  0,  0,  0,  0, -1,\n",
              "        0,  0,  0,  0,  0,  0,  0,  0, -1, -1, -1, -1,  1, -1,  1,  1,  1,\n",
              "       -1, -1, -1, -1,  1, -1, -1, -1,  1,  1, -1, -1,  1,  1,  1, -1, -1,\n",
              "        1,  1,  1,  1,  1,  1,  1, -1,  1,  1, -1, -1,  1, -1, -1,  1,  1,\n",
              "        1,  1,  1, -1,  1,  1,  1, -1, -1,  1,  1,  1,  1, -1,  1,  1, -1,\n",
              "        1,  1, -1, -1, -1, -1,  1,  1, -1,  1, -1, -1,  2,  2, -1, -1, -1,\n",
              "       -1, -1,  2, -1,  2,  2,  2,  2,  2,  2,  2,  2,  2,  2, -1, -1, -1,\n",
              "        2, -1,  2,  2, -1, -1, -1,  2,  2,  2,  2,  2,  2,  2,  2,  2,  2,\n",
              "        2,  2,  2,  2,  2,  2,  2,  2])"
            ]
          },
          "metadata": {},
          "execution_count": 61
        }
      ]
    },
    {
      "cell_type": "markdown",
      "source": [
        "# MÉTODO MEAN-SHIFT"
      ],
      "metadata": {
        "id": "jMBbb18gVhL9"
      }
    },
    {
      "cell_type": "code",
      "source": [
        "from sklearn.cluster import MeanShift"
      ],
      "metadata": {
        "id": "Ly2VKT4EVy4Y"
      },
      "execution_count": null,
      "outputs": []
    },
    {
      "cell_type": "code",
      "source": [
        "agrupador = MeanShift(bandwidth = 0.8)\n",
        "agrupador.fit(dados)\n",
        "agrupador.labels_"
      ],
      "metadata": {
        "colab": {
          "base_uri": "https://localhost:8080/"
        },
        "id": "xeILwgmDU9UD",
        "outputId": "0c11378f-65b7-4d2d-c8f1-216cea89f339"
      },
      "execution_count": null,
      "outputs": [
        {
          "output_type": "execute_result",
          "data": {
            "text/plain": [
              "array([0, 0, 0, 0, 0, 0, 0, 0, 0, 0, 0, 0, 0, 0, 0, 0, 0, 0, 0, 0, 0, 0,\n",
              "       0, 0, 0, 0, 0, 0, 0, 0, 0, 0, 0, 0, 0, 0, 0, 0, 0, 0, 0, 0, 0, 0,\n",
              "       0, 0, 0, 0, 0, 0, 0, 0, 0, 0, 0, 0, 0, 0, 0, 1, 1, 1, 0, 0, 1, 0,\n",
              "       0, 0, 1, 0, 1, 0, 0, 2, 0, 1, 0, 1, 0, 0, 0, 0, 0, 1, 0, 0, 1, 0,\n",
              "       1, 0, 1, 1, 1, 0, 0, 2, 1, 0, 0, 0, 0, 0, 0, 1, 0, 1, 0, 1, 0, 0,\n",
              "       0, 0, 1, 1, 0, 0, 0, 0, 1, 0, 0, 3, 1, 0, 0, 0, 0, 1, 0, 1, 1, 1,\n",
              "       1, 1, 1, 1, 1, 1, 1, 1, 1, 1, 1, 1, 1, 1, 1, 1, 1, 1, 1, 1, 1, 1,\n",
              "       1, 1, 1, 1, 1, 1, 1, 1, 1, 1, 1, 1, 1, 1, 1, 1, 1, 1, 1, 1, 1, 1,\n",
              "       1, 1])"
            ]
          },
          "metadata": {},
          "execution_count": 70
        }
      ]
    },
    {
      "cell_type": "code",
      "source": [
        "from sklearn.cluster import estimate_bandwidth"
      ],
      "metadata": {
        "id": "D_Rm-KR8Vxpp"
      },
      "execution_count": null,
      "outputs": []
    },
    {
      "cell_type": "code",
      "source": [
        "BW = estimate_bandwidth(dados, quantile = 0.28)\n",
        "print(BW)"
      ],
      "metadata": {
        "colab": {
          "base_uri": "https://localhost:8080/"
        },
        "id": "Q2HGPYNoW8PL",
        "outputId": "9b0a74e9-ee48-48f2-d85e-c69f0217914d"
      },
      "execution_count": null,
      "outputs": [
        {
          "output_type": "stream",
          "name": "stdout",
          "text": [
            "0.8400728566266111\n"
          ]
        }
      ]
    },
    {
      "cell_type": "code",
      "source": [
        "agrupador = MeanShift(bandwidth = BW)\n",
        "agrupador.fit(dados)\n",
        "agrupador.labels_"
      ],
      "metadata": {
        "colab": {
          "base_uri": "https://localhost:8080/"
        },
        "id": "NO1ymILLXM9s",
        "outputId": "a060dad8-94f1-473b-aced-b073af514dae"
      },
      "execution_count": null,
      "outputs": [
        {
          "output_type": "execute_result",
          "data": {
            "text/plain": [
              "array([0, 0, 0, 0, 0, 0, 0, 0, 0, 0, 0, 0, 0, 0, 0, 0, 0, 0, 0, 0, 0, 0,\n",
              "       0, 0, 0, 0, 0, 0, 0, 0, 0, 0, 0, 0, 0, 0, 0, 0, 0, 0, 0, 0, 0, 0,\n",
              "       0, 0, 0, 0, 0, 0, 0, 0, 0, 0, 0, 0, 0, 0, 0, 0, 1, 1, 0, 0, 0, 0,\n",
              "       0, 0, 0, 0, 1, 0, 0, 0, 0, 0, 0, 1, 0, 0, 0, 0, 0, 1, 0, 0, 0, 0,\n",
              "       0, 0, 0, 0, 1, 0, 0, 0, 0, 0, 0, 0, 0, 0, 0, 0, 0, 1, 0, 1, 0, 0,\n",
              "       0, 0, 1, 0, 0, 0, 0, 0, 1, 0, 0, 2, 0, 0, 0, 0, 0, 1, 0, 1, 1, 1,\n",
              "       1, 1, 1, 1, 1, 1, 1, 1, 1, 1, 1, 1, 1, 1, 1, 1, 1, 1, 1, 1, 1, 1,\n",
              "       1, 1, 1, 1, 1, 1, 1, 1, 1, 1, 1, 1, 1, 1, 1, 1, 1, 1, 1, 1, 1, 1,\n",
              "       1, 1])"
            ]
          },
          "metadata": {},
          "execution_count": 98
        }
      ]
    },
    {
      "cell_type": "markdown",
      "source": [
        "# COEFICIENTE DE SILHUETA"
      ],
      "metadata": {
        "id": "q6uafz-JYf28"
      }
    },
    {
      "cell_type": "code",
      "source": [
        "agrupador = KMeans(n_clusters = 5)\n",
        "agrupador.fit(dados)\n",
        "labels = agrupador.labels_"
      ],
      "metadata": {
        "id": "o4ADs8BrXb5L"
      },
      "execution_count": null,
      "outputs": []
    },
    {
      "cell_type": "code",
      "source": [
        "labels"
      ],
      "metadata": {
        "colab": {
          "base_uri": "https://localhost:8080/"
        },
        "id": "RL69XVZHYtDs",
        "outputId": "b7531059-ab87-4aa3-e519-c10ae34db0d9"
      },
      "execution_count": null,
      "outputs": [
        {
          "output_type": "execute_result",
          "data": {
            "text/plain": [
              "array([0, 0, 0, 0, 0, 0, 0, 0, 0, 0, 0, 0, 0, 0, 0, 0, 0, 0, 0, 0, 0, 0,\n",
              "       0, 0, 0, 0, 0, 0, 0, 0, 0, 0, 0, 0, 0, 0, 0, 0, 0, 0, 0, 0, 0, 0,\n",
              "       0, 0, 0, 0, 0, 0, 0, 0, 0, 0, 0, 0, 0, 0, 0, 1, 1, 1, 1, 3, 1, 3,\n",
              "       3, 3, 1, 3, 1, 3, 3, 3, 3, 1, 3, 1, 3, 3, 3, 3, 1, 1, 3, 3, 1, 3,\n",
              "       1, 3, 1, 1, 1, 3, 3, 3, 3, 3, 3, 3, 3, 1, 3, 3, 3, 1, 3, 1, 3, 3,\n",
              "       3, 3, 1, 1, 3, 3, 3, 3, 1, 3, 3, 3, 3, 3, 3, 3, 3, 1, 3, 1, 2, 2,\n",
              "       2, 2, 4, 4, 4, 4, 4, 4, 4, 2, 4, 4, 2, 4, 4, 4, 4, 2, 2, 2, 2, 4,\n",
              "       4, 4, 4, 4, 4, 4, 4, 4, 4, 2, 4, 4, 4, 4, 4, 2, 2, 4, 4, 4, 4, 4,\n",
              "       4, 4], dtype=int32)"
            ]
          },
          "metadata": {},
          "execution_count": 100
        }
      ]
    },
    {
      "cell_type": "code",
      "source": [
        "fig = go.Figure()\n",
        "fig.add_trace(go.Scatter3d(x= dados['Color_Intensity'], y = dados['Alcohol'], z = dados['Proline'],\n",
        "                           mode = 'markers', marker = dict(color = labels.astype(np.float)), text = labels))\n",
        "fig.show()"
      ],
      "metadata": {
        "colab": {
          "base_uri": "https://localhost:8080/",
          "height": 649
        },
        "id": "wQlY_fW6YtpD",
        "outputId": "30229693-8229-46fa-874e-9fd4dc31e7ca"
      },
      "execution_count": null,
      "outputs": [
        {
          "output_type": "stream",
          "name": "stderr",
          "text": [
            "/usr/local/lib/python3.7/dist-packages/ipykernel_launcher.py:3: DeprecationWarning:\n",
            "\n",
            "`np.float` is a deprecated alias for the builtin `float`. To silence this warning, use `float` by itself. Doing this will not modify any behavior and is safe. If you specifically wanted the numpy scalar type, use `np.float64` here.\n",
            "Deprecated in NumPy 1.20; for more details and guidance: https://numpy.org/devdocs/release/1.20.0-notes.html#deprecations\n",
            "\n"
          ]
        },
        {
          "output_type": "display_data",
          "data": {
            "text/html": [
              "<html>\n",
              "<head><meta charset=\"utf-8\" /></head>\n",
              "<body>\n",
              "    <div>            <script src=\"https://cdnjs.cloudflare.com/ajax/libs/mathjax/2.7.5/MathJax.js?config=TeX-AMS-MML_SVG\"></script><script type=\"text/javascript\">if (window.MathJax) {MathJax.Hub.Config({SVG: {font: \"STIX-Web\"}});}</script>                <script type=\"text/javascript\">window.PlotlyConfig = {MathJaxConfig: 'local'};</script>\n",
              "        <script src=\"https://cdn.plot.ly/plotly-2.8.3.min.js\"></script>                <div id=\"04eb9804-b4db-40d3-8058-664b8abd8f5f\" class=\"plotly-graph-div\" style=\"height:525px; width:100%;\"></div>            <script type=\"text/javascript\">                                    window.PLOTLYENV=window.PLOTLYENV || {};                                    if (document.getElementById(\"04eb9804-b4db-40d3-8058-664b8abd8f5f\")) {                    Plotly.newPlot(                        \"04eb9804-b4db-40d3-8058-664b8abd8f5f\",                        [{\"marker\":{\"color\":[0.0,0.0,0.0,0.0,0.0,0.0,0.0,0.0,0.0,0.0,0.0,0.0,0.0,0.0,0.0,0.0,0.0,0.0,0.0,0.0,0.0,0.0,0.0,0.0,0.0,0.0,0.0,0.0,0.0,0.0,0.0,0.0,0.0,0.0,0.0,0.0,0.0,0.0,0.0,0.0,0.0,0.0,0.0,0.0,0.0,0.0,0.0,0.0,0.0,0.0,0.0,0.0,0.0,0.0,0.0,0.0,0.0,0.0,0.0,1.0,1.0,1.0,1.0,3.0,1.0,3.0,3.0,3.0,1.0,3.0,1.0,3.0,3.0,3.0,3.0,1.0,3.0,1.0,3.0,3.0,3.0,3.0,1.0,1.0,3.0,3.0,1.0,3.0,1.0,3.0,1.0,1.0,1.0,3.0,3.0,3.0,3.0,3.0,3.0,3.0,3.0,1.0,3.0,3.0,3.0,1.0,3.0,1.0,3.0,3.0,3.0,3.0,1.0,1.0,3.0,3.0,3.0,3.0,1.0,3.0,3.0,3.0,3.0,3.0,3.0,3.0,3.0,1.0,3.0,1.0,2.0,2.0,2.0,2.0,4.0,4.0,4.0,4.0,4.0,4.0,4.0,2.0,4.0,4.0,2.0,4.0,4.0,4.0,4.0,2.0,2.0,2.0,2.0,4.0,4.0,4.0,4.0,4.0,4.0,4.0,4.0,4.0,4.0,2.0,4.0,4.0,4.0,4.0,4.0,2.0,2.0,4.0,4.0,4.0,4.0,4.0,4.0,4.0]},\"mode\":\"markers\",\"text\":[0.0,0.0,0.0,0.0,0.0,0.0,0.0,0.0,0.0,0.0,0.0,0.0,0.0,0.0,0.0,0.0,0.0,0.0,0.0,0.0,0.0,0.0,0.0,0.0,0.0,0.0,0.0,0.0,0.0,0.0,0.0,0.0,0.0,0.0,0.0,0.0,0.0,0.0,0.0,0.0,0.0,0.0,0.0,0.0,0.0,0.0,0.0,0.0,0.0,0.0,0.0,0.0,0.0,0.0,0.0,0.0,0.0,0.0,0.0,1.0,1.0,1.0,1.0,3.0,1.0,3.0,3.0,3.0,1.0,3.0,1.0,3.0,3.0,3.0,3.0,1.0,3.0,1.0,3.0,3.0,3.0,3.0,1.0,1.0,3.0,3.0,1.0,3.0,1.0,3.0,1.0,1.0,1.0,3.0,3.0,3.0,3.0,3.0,3.0,3.0,3.0,1.0,3.0,3.0,3.0,1.0,3.0,1.0,3.0,3.0,3.0,3.0,1.0,1.0,3.0,3.0,3.0,3.0,1.0,3.0,3.0,3.0,3.0,3.0,3.0,3.0,3.0,1.0,3.0,1.0,2.0,2.0,2.0,2.0,4.0,4.0,4.0,4.0,4.0,4.0,4.0,2.0,4.0,4.0,2.0,4.0,4.0,4.0,4.0,2.0,2.0,2.0,2.0,4.0,4.0,4.0,4.0,4.0,4.0,4.0,4.0,4.0,4.0,2.0,4.0,4.0,4.0,4.0,4.0,2.0,2.0,4.0,4.0,4.0,4.0,4.0,4.0,4.0],\"x\":[0.37201365187713303,0.26450511945392485,0.3754266211604095,0.5563139931740614,0.2593856655290102,0.46672354948805456,0.3387372013651877,0.3216723549488054,0.33447098976109213,0.5068259385665528,0.3813993174061433,0.31740614334470985,0.3686006825938566,0.3515358361774744,0.530716723549488,0.5136518771331058,0.4197952218430034,0.45392491467576784,0.6331058020477814,0.32593856655290093,0.3728668941979522,0.27474402730375425,0.21501706484641633,0.22610921501706485,0.19112627986348124,0.19624573378839588,0.3003412969283276,0.22781569965870305,0.27474402730375425,0.2918088737201365,0.37713310580204773,0.47952218430034127,0.21843003412969278,0.3515358361774744,0.24914675767918087,0.32593856655290093,0.28327645051194533,0.2534129692832764,0.20648464163822525,0.32593856655290093,0.41382252559726956,0.25597269624573377,0.3540955631399317,0.26279863481228666,0.3208191126279863,0.3378839590443686,0.30887372013651876,0.4112627986348122,0.4197952218430034,0.6501706484641638,0.5051194539249146,0.3686006825938566,0.4923208191126279,0.42832764505119447,0.3899317406143344,0.42406143344709896,0.43515358361774736,0.4027303754266211,0.4709897610921501,0.057167235494880536,0.1697952218430034,0.3813993174061433,0.21501706484641633,0.2704778156996587,0.14249146757679182,0.28327645051194533,0.3430034129692832,0.2901023890784982,0.16126279863481227,0.13395904436860068,0.1510238907849829,0.17918088737201363,0.2098976109215017,0.17662116040955633,0.16467576791808872,0.21501706484641633,0.28327645051194533,0.11689419795221842,0.18088737201365188,0.1100682593856655,0.10409556313993173,0.2235494880546075,0.07849829351535836,0.3003412969283276,0.1510238907849829,0.11433447098976109,0.09982935153583619,0.11262798634812286,0.1296928327645051,0.039249146757679175,0.09556313993174059,0.19795221843003413,0.1510238907849829,0.07423208191126278,0.16808873720136516,0.11262798634812286,0.10409556313993173,0.13822525597269622,0.27474402730375425,0.08703071672354946,0.1723549488054607,0.09982935153583619,0.1296928327645051,0.06655290102389079,0.1416382252559727,0.121160409556314,0.18088737201365188,0.1723549488054607,0.121160409556314,0.11689419795221842,0.13822525597269622,0.0614334470989761,0.21501706484641633,0.15358361774744028,0.13822525597269622,0.05290102389078497,0.057167235494880536,0.06655290102389079,0.18088737201365188,0.0,0.16808873720136516,0.4027303754266211,0.06825938566552901,0.11262798634812286,0.1296928327645051,0.12627986348122863,0.22696245733788395,0.14675767918088736,0.07167235494880546,0.11262798634812286,0.2406143344709897,0.3515358361774744,0.37713310580204773,0.31740614334470985,0.35580204778156993,0.49658703071672344,0.21928327645051196,0.31740614334470985,0.37713310580204773,0.31058020477815695,0.28327645051194533,0.3686006825938566,0.26194539249146753,0.26621160409556316,0.591296928327645,0.2320819112627986,0.30887372013651876,0.5435153583617747,0.6092150170648464,0.6928327645051195,0.6245733788395904,0.8122866894197953,0.49658703071672344,0.78839590443686,0.5392491467576791,0.5648464163822525,0.6595563139931739,0.530716723549488,1.0,0.893344709897611,0.5435153583617747,0.39249146757679176,0.3668941979522184,0.341296928327645,0.7081911262798635,0.4556313993174061,0.8020477815699658,0.7662116040955631,0.629692832764505,0.6160409556313993,0.3600682593856655,0.7354947952218429,0.7184300341296928,0.5477815699658702,0.5136518771331058,0.7610921501706485,0.6843003412969284,0.675767918088737],\"y\":[0.8421052631578949,0.5710526315789473,0.5605263157894738,0.8789473684210525,0.5815789473684212,0.8342105263157893,0.8842105263157897,0.7973684210526317,1.0,0.744736842105263,0.8078947368421052,0.813157894736842,0.7157894736842105,0.9789473684210526,0.8815789473684212,0.6842105263157897,0.8605263157894739,0.736842105263158,0.831578947368421,0.686842105263158,0.7973684210526317,0.5,0.7052631578947371,0.4789473684210526,0.65,0.5315789473684213,0.6210526315789475,0.5973684210526318,0.7473684210526313,0.7868421052631578,0.7105263157894738,0.6710526315789475,0.6973684210526315,0.718421052631579,0.6526315789473685,0.6447368421052633,0.5921052631578946,0.5315789473684213,0.536842105263158,0.8394736842105265,0.6657894736842107,0.6263157894736843,0.7500000000000002,0.5815789473684212,0.5315789473684213,0.8368421052631582,0.8815789473684212,0.755263157894737,0.8078947368421052,0.7657894736842105,0.5315789473684213,0.736842105263158,0.7342105263157895,0.7210526315789473,0.7131578947368422,0.6657894736842107,0.8394736842105265,0.594736842105263,0.7078947368421055,0.3526315789473683,0.34210526315789486,0.42368421052631605,0.6947368421052632,0.3526315789473683,0.3000000000000001,0.3526315789473683,0.5473684210526315,0.3526315789473683,0.6078947368421053,0.31052631578947404,0.3315789473684209,0.744736842105263,0.6473684210526317,0.5157894736842107,0.2447368421052635,0.1657894736842107,0.5263157894736841,0.21315789473684219,0.34210526315789486,0.43947368421052624,0.25526315789473697,0.44473684210526343,0.27631578947368435,0.5315789473684213,0.21315789473684219,0.4315789473684211,0.2973684210526317,0.16315789473684233,0.16052631578947396,0.27631578947368435,0.27631578947368435,0.25526315789473697,0.43684210526315786,0.3315789473684209,0.15526315789473677,0.3789473684210529,0.2052631578947371,0.3315789473684209,0.3526315789473683,0.3315789473684209,0.27631578947368435,0.4131578947368421,0.34473684210526323,0.20789473684210547,0.38947368421052636,0.3657894736842106,0.3210526315789475,0.44473684210526343,0.31315789473684236,0.15263157894736842,0.11315789473684247,0.39210526315789473,0.1921052631578948,0.10000000000000019,0.27631578947368435,0.0,0.20789473684210547,0.3657894736842106,0.45789473684210524,0.25526315789473697,0.11052631578947364,0.13947368421052658,0.3657894736842106,0.5315789473684213,0.22105263157894728,0.273684210526316,0.368421052631579,0.1999999999999999,0.3526315789473683,0.2657894736842104,0.481578947368421,0.4868421052631582,0.4684210526315792,0.43947368421052624,0.38947368421052636,0.4131578947368421,0.3210526315789475,0.3947368421052631,0.6473684210526317,0.47631578947368425,0.5,0.613157894736842,0.6552631578947368,0.6815789473684208,0.3210526315789475,0.5605263157894738,0.7500000000000002,0.48421052631578937,0.6026315789473685,0.5394736842105264,0.65,0.46315789473684194,0.5473684210526315,0.5789473684210528,0.40789473684210537,0.5631578947368422,0.7394736842105263,0.3736842105263157,0.8710526315789473,0.6447368421052633,0.35,0.7,0.4789473684210526,0.5078947368421055,0.7236842105263157,0.7105263157894738,0.6368421052631578,0.4710526315789475,0.6710526315789475,0.623684210526316,0.30789473684210517,0.45789473684210524,0.8236842105263158,0.7052631578947371,0.623684210526316,0.5894736842105263,0.5631578947368422,0.8157894736842107],\"z\":[0.5613409415121255,0.550641940085592,0.6469329529243937,0.8573466476462197,0.325962910128388,0.8359486447931527,0.7218259629101283,0.7253922967189729,0.5470756062767475,0.5470756062767475,0.8787446504992867,0.7146932952924394,0.7432239657631954,0.6219686162624821,0.9051355206847361,0.7360912981455064,0.7146932952924394,0.6077032810271041,1.0,0.4044222539229672,0.35805991440798857,0.3509272467902996,0.5399429386590585,0.5256776034236804,0.4044222539229672,0.39372325249643364,0.6540656205420827,0.7182596291012838,0.4543509272467903,0.5399429386590585,0.7182596291012838,0.8823109843081313,0.5078459343794579,0.6825962910128388,0.5827389443651926,0.4579172610556348,0.42938659058487877,0.5898716119828816,0.5292439372325249,0.3437945791726106,0.36875891583452214,0.5399429386590585,0.5827389443651926,0.2867332382310984,0.43295292439372324,0.572039942938659,0.5613409415121255,0.5042796005706134,0.557774607703281,0.7004279600570613,0.6219686162624821,0.7039942938659058,0.6504992867332382,0.782453637660485,0.557774607703281,0.6005706134094151,0.49358059914407987,0.7075606276747504,0.7182596291012838,0.17261055634807418,0.2867332382310984,0.12268188302425106,0.25106990014265335,0.10128388017118402,0.05492154065620542,0.28530670470756064,0.15977175463623394,0.16547788873038516,0.33666191155492153,0.31383737517831667,0.4222539229671897,0.09415121255349501,0.1383737517831669,0.5042796005706134,0.43366619115549215,0.10699001426533523,0.08131241084165478,0.15834522111269614,0.33666191155492153,0.13195435092724678,0.0,0.31098430813124106,0.25106990014265335,0.16904422253922968,0.17261055634807418,0.12268188302425106,0.15477888730385164,0.20256776034236804,0.2867332382310984,0.24750356633380885,0.14407988587731813,0.12268188302425106,0.15477888730385164,0.008559201141226819,0.04778887303851641,0.47004279600570614,0.24750356633380885,0.10699001426533523,0.2724679029957204,0.0912981455064194,0.30813124108416545,0.20256776034236804,0.11412268188302425,0.09771754636233952,0.2810271041369472,0.026390870185449358,0.16547788873038516,0.14978601997146934,0.024251069900142655,0.2867332382310984,0.20256776034236804,0.033523537803138374,0.2346647646219686,0.11126961483594865,0.07631954350927246,0.0920114122681883,0.15477888730385164,0.04778887303851641,0.06704707560627675,0.20399429386590584,0.24750356633380885,0.13338088445078458,0.062054208273894434,0.07275320970042796,0.07275320970042796,0.07132667617689016,0.052781740370898715,0.1340941512125535,0.0456490727532097,0.21540656205420827,0.25106990014265335,0.1797432239657632,0.20114122681883023,0.2296718972895863,0.2653352353780314,0.29743223965763194,0.3152639087018545,0.16904422253922968,0.21540656205420827,0.2225392296718973,0.2296718972895863,0.35805991440798857,0.17261055634807418,0.19400855920114124,0.4115549215406562,0.39372325249643364,0.09771754636233952,0.24750356633380885,0.2653352353780314,0.19400855920114124,0.15834522111269614,0.14407988587731813,0.10485021398002853,0.2831669044222539,0.2582025677603424,0.318830242510699,0.14407988587731813,0.42938659058487877,0.2724679029957204,0.24393723252496433,0.17261055634807418,0.2867332382310984,0.20827389443651925,0.2831669044222539,0.24037089871611983,0.17261055634807418,0.29743223965763194,0.29029957203994294,0.33666191155492153,0.25106990014265335,0.16547788873038516,0.1369472182596291,0.2724679029957204,0.32952924393723254,0.33666191155492153,0.39728958630527816,0.4008559201141227,0.20114122681883023],\"type\":\"scatter3d\"}],                        {\"template\":{\"data\":{\"bar\":[{\"error_x\":{\"color\":\"#2a3f5f\"},\"error_y\":{\"color\":\"#2a3f5f\"},\"marker\":{\"line\":{\"color\":\"#E5ECF6\",\"width\":0.5},\"pattern\":{\"fillmode\":\"overlay\",\"size\":10,\"solidity\":0.2}},\"type\":\"bar\"}],\"barpolar\":[{\"marker\":{\"line\":{\"color\":\"#E5ECF6\",\"width\":0.5},\"pattern\":{\"fillmode\":\"overlay\",\"size\":10,\"solidity\":0.2}},\"type\":\"barpolar\"}],\"carpet\":[{\"aaxis\":{\"endlinecolor\":\"#2a3f5f\",\"gridcolor\":\"white\",\"linecolor\":\"white\",\"minorgridcolor\":\"white\",\"startlinecolor\":\"#2a3f5f\"},\"baxis\":{\"endlinecolor\":\"#2a3f5f\",\"gridcolor\":\"white\",\"linecolor\":\"white\",\"minorgridcolor\":\"white\",\"startlinecolor\":\"#2a3f5f\"},\"type\":\"carpet\"}],\"choropleth\":[{\"colorbar\":{\"outlinewidth\":0,\"ticks\":\"\"},\"type\":\"choropleth\"}],\"contour\":[{\"colorbar\":{\"outlinewidth\":0,\"ticks\":\"\"},\"colorscale\":[[0.0,\"#0d0887\"],[0.1111111111111111,\"#46039f\"],[0.2222222222222222,\"#7201a8\"],[0.3333333333333333,\"#9c179e\"],[0.4444444444444444,\"#bd3786\"],[0.5555555555555556,\"#d8576b\"],[0.6666666666666666,\"#ed7953\"],[0.7777777777777778,\"#fb9f3a\"],[0.8888888888888888,\"#fdca26\"],[1.0,\"#f0f921\"]],\"type\":\"contour\"}],\"contourcarpet\":[{\"colorbar\":{\"outlinewidth\":0,\"ticks\":\"\"},\"type\":\"contourcarpet\"}],\"heatmap\":[{\"colorbar\":{\"outlinewidth\":0,\"ticks\":\"\"},\"colorscale\":[[0.0,\"#0d0887\"],[0.1111111111111111,\"#46039f\"],[0.2222222222222222,\"#7201a8\"],[0.3333333333333333,\"#9c179e\"],[0.4444444444444444,\"#bd3786\"],[0.5555555555555556,\"#d8576b\"],[0.6666666666666666,\"#ed7953\"],[0.7777777777777778,\"#fb9f3a\"],[0.8888888888888888,\"#fdca26\"],[1.0,\"#f0f921\"]],\"type\":\"heatmap\"}],\"heatmapgl\":[{\"colorbar\":{\"outlinewidth\":0,\"ticks\":\"\"},\"colorscale\":[[0.0,\"#0d0887\"],[0.1111111111111111,\"#46039f\"],[0.2222222222222222,\"#7201a8\"],[0.3333333333333333,\"#9c179e\"],[0.4444444444444444,\"#bd3786\"],[0.5555555555555556,\"#d8576b\"],[0.6666666666666666,\"#ed7953\"],[0.7777777777777778,\"#fb9f3a\"],[0.8888888888888888,\"#fdca26\"],[1.0,\"#f0f921\"]],\"type\":\"heatmapgl\"}],\"histogram\":[{\"marker\":{\"pattern\":{\"fillmode\":\"overlay\",\"size\":10,\"solidity\":0.2}},\"type\":\"histogram\"}],\"histogram2d\":[{\"colorbar\":{\"outlinewidth\":0,\"ticks\":\"\"},\"colorscale\":[[0.0,\"#0d0887\"],[0.1111111111111111,\"#46039f\"],[0.2222222222222222,\"#7201a8\"],[0.3333333333333333,\"#9c179e\"],[0.4444444444444444,\"#bd3786\"],[0.5555555555555556,\"#d8576b\"],[0.6666666666666666,\"#ed7953\"],[0.7777777777777778,\"#fb9f3a\"],[0.8888888888888888,\"#fdca26\"],[1.0,\"#f0f921\"]],\"type\":\"histogram2d\"}],\"histogram2dcontour\":[{\"colorbar\":{\"outlinewidth\":0,\"ticks\":\"\"},\"colorscale\":[[0.0,\"#0d0887\"],[0.1111111111111111,\"#46039f\"],[0.2222222222222222,\"#7201a8\"],[0.3333333333333333,\"#9c179e\"],[0.4444444444444444,\"#bd3786\"],[0.5555555555555556,\"#d8576b\"],[0.6666666666666666,\"#ed7953\"],[0.7777777777777778,\"#fb9f3a\"],[0.8888888888888888,\"#fdca26\"],[1.0,\"#f0f921\"]],\"type\":\"histogram2dcontour\"}],\"mesh3d\":[{\"colorbar\":{\"outlinewidth\":0,\"ticks\":\"\"},\"type\":\"mesh3d\"}],\"parcoords\":[{\"line\":{\"colorbar\":{\"outlinewidth\":0,\"ticks\":\"\"}},\"type\":\"parcoords\"}],\"pie\":[{\"automargin\":true,\"type\":\"pie\"}],\"scatter\":[{\"marker\":{\"colorbar\":{\"outlinewidth\":0,\"ticks\":\"\"}},\"type\":\"scatter\"}],\"scatter3d\":[{\"line\":{\"colorbar\":{\"outlinewidth\":0,\"ticks\":\"\"}},\"marker\":{\"colorbar\":{\"outlinewidth\":0,\"ticks\":\"\"}},\"type\":\"scatter3d\"}],\"scattercarpet\":[{\"marker\":{\"colorbar\":{\"outlinewidth\":0,\"ticks\":\"\"}},\"type\":\"scattercarpet\"}],\"scattergeo\":[{\"marker\":{\"colorbar\":{\"outlinewidth\":0,\"ticks\":\"\"}},\"type\":\"scattergeo\"}],\"scattergl\":[{\"marker\":{\"colorbar\":{\"outlinewidth\":0,\"ticks\":\"\"}},\"type\":\"scattergl\"}],\"scattermapbox\":[{\"marker\":{\"colorbar\":{\"outlinewidth\":0,\"ticks\":\"\"}},\"type\":\"scattermapbox\"}],\"scatterpolar\":[{\"marker\":{\"colorbar\":{\"outlinewidth\":0,\"ticks\":\"\"}},\"type\":\"scatterpolar\"}],\"scatterpolargl\":[{\"marker\":{\"colorbar\":{\"outlinewidth\":0,\"ticks\":\"\"}},\"type\":\"scatterpolargl\"}],\"scatterternary\":[{\"marker\":{\"colorbar\":{\"outlinewidth\":0,\"ticks\":\"\"}},\"type\":\"scatterternary\"}],\"surface\":[{\"colorbar\":{\"outlinewidth\":0,\"ticks\":\"\"},\"colorscale\":[[0.0,\"#0d0887\"],[0.1111111111111111,\"#46039f\"],[0.2222222222222222,\"#7201a8\"],[0.3333333333333333,\"#9c179e\"],[0.4444444444444444,\"#bd3786\"],[0.5555555555555556,\"#d8576b\"],[0.6666666666666666,\"#ed7953\"],[0.7777777777777778,\"#fb9f3a\"],[0.8888888888888888,\"#fdca26\"],[1.0,\"#f0f921\"]],\"type\":\"surface\"}],\"table\":[{\"cells\":{\"fill\":{\"color\":\"#EBF0F8\"},\"line\":{\"color\":\"white\"}},\"header\":{\"fill\":{\"color\":\"#C8D4E3\"},\"line\":{\"color\":\"white\"}},\"type\":\"table\"}]},\"layout\":{\"annotationdefaults\":{\"arrowcolor\":\"#2a3f5f\",\"arrowhead\":0,\"arrowwidth\":1},\"autotypenumbers\":\"strict\",\"coloraxis\":{\"colorbar\":{\"outlinewidth\":0,\"ticks\":\"\"}},\"colorscale\":{\"diverging\":[[0,\"#8e0152\"],[0.1,\"#c51b7d\"],[0.2,\"#de77ae\"],[0.3,\"#f1b6da\"],[0.4,\"#fde0ef\"],[0.5,\"#f7f7f7\"],[0.6,\"#e6f5d0\"],[0.7,\"#b8e186\"],[0.8,\"#7fbc41\"],[0.9,\"#4d9221\"],[1,\"#276419\"]],\"sequential\":[[0.0,\"#0d0887\"],[0.1111111111111111,\"#46039f\"],[0.2222222222222222,\"#7201a8\"],[0.3333333333333333,\"#9c179e\"],[0.4444444444444444,\"#bd3786\"],[0.5555555555555556,\"#d8576b\"],[0.6666666666666666,\"#ed7953\"],[0.7777777777777778,\"#fb9f3a\"],[0.8888888888888888,\"#fdca26\"],[1.0,\"#f0f921\"]],\"sequentialminus\":[[0.0,\"#0d0887\"],[0.1111111111111111,\"#46039f\"],[0.2222222222222222,\"#7201a8\"],[0.3333333333333333,\"#9c179e\"],[0.4444444444444444,\"#bd3786\"],[0.5555555555555556,\"#d8576b\"],[0.6666666666666666,\"#ed7953\"],[0.7777777777777778,\"#fb9f3a\"],[0.8888888888888888,\"#fdca26\"],[1.0,\"#f0f921\"]]},\"colorway\":[\"#636efa\",\"#EF553B\",\"#00cc96\",\"#ab63fa\",\"#FFA15A\",\"#19d3f3\",\"#FF6692\",\"#B6E880\",\"#FF97FF\",\"#FECB52\"],\"font\":{\"color\":\"#2a3f5f\"},\"geo\":{\"bgcolor\":\"white\",\"lakecolor\":\"white\",\"landcolor\":\"#E5ECF6\",\"showlakes\":true,\"showland\":true,\"subunitcolor\":\"white\"},\"hoverlabel\":{\"align\":\"left\"},\"hovermode\":\"closest\",\"mapbox\":{\"style\":\"light\"},\"paper_bgcolor\":\"white\",\"plot_bgcolor\":\"#E5ECF6\",\"polar\":{\"angularaxis\":{\"gridcolor\":\"white\",\"linecolor\":\"white\",\"ticks\":\"\"},\"bgcolor\":\"#E5ECF6\",\"radialaxis\":{\"gridcolor\":\"white\",\"linecolor\":\"white\",\"ticks\":\"\"}},\"scene\":{\"xaxis\":{\"backgroundcolor\":\"#E5ECF6\",\"gridcolor\":\"white\",\"gridwidth\":2,\"linecolor\":\"white\",\"showbackground\":true,\"ticks\":\"\",\"zerolinecolor\":\"white\"},\"yaxis\":{\"backgroundcolor\":\"#E5ECF6\",\"gridcolor\":\"white\",\"gridwidth\":2,\"linecolor\":\"white\",\"showbackground\":true,\"ticks\":\"\",\"zerolinecolor\":\"white\"},\"zaxis\":{\"backgroundcolor\":\"#E5ECF6\",\"gridcolor\":\"white\",\"gridwidth\":2,\"linecolor\":\"white\",\"showbackground\":true,\"ticks\":\"\",\"zerolinecolor\":\"white\"}},\"shapedefaults\":{\"line\":{\"color\":\"#2a3f5f\"}},\"ternary\":{\"aaxis\":{\"gridcolor\":\"white\",\"linecolor\":\"white\",\"ticks\":\"\"},\"baxis\":{\"gridcolor\":\"white\",\"linecolor\":\"white\",\"ticks\":\"\"},\"bgcolor\":\"#E5ECF6\",\"caxis\":{\"gridcolor\":\"white\",\"linecolor\":\"white\",\"ticks\":\"\"}},\"title\":{\"x\":0.05},\"xaxis\":{\"automargin\":true,\"gridcolor\":\"white\",\"linecolor\":\"white\",\"ticks\":\"\",\"title\":{\"standoff\":15},\"zerolinecolor\":\"white\",\"zerolinewidth\":2},\"yaxis\":{\"automargin\":true,\"gridcolor\":\"white\",\"linecolor\":\"white\",\"ticks\":\"\",\"title\":{\"standoff\":15},\"zerolinecolor\":\"white\",\"zerolinewidth\":2}}}},                        {\"responsive\": true}                    ).then(function(){\n",
              "                            \n",
              "var gd = document.getElementById('04eb9804-b4db-40d3-8058-664b8abd8f5f');\n",
              "var x = new MutationObserver(function (mutations, observer) {{\n",
              "        var display = window.getComputedStyle(gd).display;\n",
              "        if (!display || display === 'none') {{\n",
              "            console.log([gd, 'removed!']);\n",
              "            Plotly.purge(gd);\n",
              "            observer.disconnect();\n",
              "        }}\n",
              "}});\n",
              "\n",
              "// Listen for the removal of the full notebook cells\n",
              "var notebookContainer = gd.closest('#notebook-container');\n",
              "if (notebookContainer) {{\n",
              "    x.observe(notebookContainer, {childList: true});\n",
              "}}\n",
              "\n",
              "// Listen for the clearing of the current output cell\n",
              "var outputEl = gd.closest('.output');\n",
              "if (outputEl) {{\n",
              "    x.observe(outputEl, {childList: true});\n",
              "}}\n",
              "\n",
              "                        })                };                            </script>        </div>\n",
              "</body>\n",
              "</html>"
            ]
          },
          "metadata": {}
        }
      ]
    },
    {
      "cell_type": "markdown",
      "source": [
        "# SILHUETA KMEANS"
      ],
      "metadata": {
        "id": "_ifTxSzXcqht"
      }
    },
    {
      "cell_type": "code",
      "source": [
        "from sklearn.metrics import silhouette_score"
      ],
      "metadata": {
        "id": "MfIYlIGcZMh2"
      },
      "execution_count": null,
      "outputs": []
    },
    {
      "cell_type": "code",
      "source": [
        "faixa_n_clusters = [i for i in range (2,10)]\n",
        "print(faixa_n_clusters)"
      ],
      "metadata": {
        "colab": {
          "base_uri": "https://localhost:8080/"
        },
        "id": "t0I45A87bI7K",
        "outputId": "f3d83afa-4f3d-46e0-dbb6-c5c040551acf"
      },
      "execution_count": null,
      "outputs": [
        {
          "output_type": "stream",
          "name": "stdout",
          "text": [
            "[2, 3, 4, 5, 6, 7, 8, 9]\n"
          ]
        }
      ]
    },
    {
      "cell_type": "code",
      "source": [
        "valores_silhueta = []\n",
        "for k in faixa_n_clusters:\n",
        "  agrupador = KMeans(n_clusters = k)\n",
        "  labels = agrupador.fit_predict(dados)\n",
        "  media_silhueta = silhouette_score(dados, labels)\n",
        "  valores_silhueta.append(media_silhueta)"
      ],
      "metadata": {
        "id": "8NyIGd93bQ5B"
      },
      "execution_count": null,
      "outputs": []
    },
    {
      "cell_type": "code",
      "source": [
        "fig = go.Figure()\n",
        "fig.add_trace(go.Scatter(x = faixa_n_clusters, y = valores_silhueta))\n",
        "fig.update_layout(title = 'Valores de Silhueta Médios',\n",
        "                  xaxis_title = 'Numero de Clusters',\n",
        "                  yaxis_title = 'Valor Médio de Silhueta')"
      ],
      "metadata": {
        "colab": {
          "base_uri": "https://localhost:8080/",
          "height": 542
        },
        "id": "rQEolVykb_fr",
        "outputId": "0621d7d4-05f2-4051-b345-a53a4d958076"
      },
      "execution_count": null,
      "outputs": [
        {
          "output_type": "display_data",
          "data": {
            "text/html": [
              "<html>\n",
              "<head><meta charset=\"utf-8\" /></head>\n",
              "<body>\n",
              "    <div>            <script src=\"https://cdnjs.cloudflare.com/ajax/libs/mathjax/2.7.5/MathJax.js?config=TeX-AMS-MML_SVG\"></script><script type=\"text/javascript\">if (window.MathJax) {MathJax.Hub.Config({SVG: {font: \"STIX-Web\"}});}</script>                <script type=\"text/javascript\">window.PlotlyConfig = {MathJaxConfig: 'local'};</script>\n",
              "        <script src=\"https://cdn.plot.ly/plotly-2.8.3.min.js\"></script>                <div id=\"18f90193-d057-4342-8dd7-e14803127461\" class=\"plotly-graph-div\" style=\"height:525px; width:100%;\"></div>            <script type=\"text/javascript\">                                    window.PLOTLYENV=window.PLOTLYENV || {};                                    if (document.getElementById(\"18f90193-d057-4342-8dd7-e14803127461\")) {                    Plotly.newPlot(                        \"18f90193-d057-4342-8dd7-e14803127461\",                        [{\"x\":[2,3,4,5,6,7,8,9],\"y\":[0.3450438553643069,0.36950618492736303,0.3045648004609688,0.24113522169296578,0.2344818087874374,0.2381694949709425,0.16608097977228695,0.12821542379435197],\"type\":\"scatter\"}],                        {\"template\":{\"data\":{\"bar\":[{\"error_x\":{\"color\":\"#2a3f5f\"},\"error_y\":{\"color\":\"#2a3f5f\"},\"marker\":{\"line\":{\"color\":\"#E5ECF6\",\"width\":0.5},\"pattern\":{\"fillmode\":\"overlay\",\"size\":10,\"solidity\":0.2}},\"type\":\"bar\"}],\"barpolar\":[{\"marker\":{\"line\":{\"color\":\"#E5ECF6\",\"width\":0.5},\"pattern\":{\"fillmode\":\"overlay\",\"size\":10,\"solidity\":0.2}},\"type\":\"barpolar\"}],\"carpet\":[{\"aaxis\":{\"endlinecolor\":\"#2a3f5f\",\"gridcolor\":\"white\",\"linecolor\":\"white\",\"minorgridcolor\":\"white\",\"startlinecolor\":\"#2a3f5f\"},\"baxis\":{\"endlinecolor\":\"#2a3f5f\",\"gridcolor\":\"white\",\"linecolor\":\"white\",\"minorgridcolor\":\"white\",\"startlinecolor\":\"#2a3f5f\"},\"type\":\"carpet\"}],\"choropleth\":[{\"colorbar\":{\"outlinewidth\":0,\"ticks\":\"\"},\"type\":\"choropleth\"}],\"contour\":[{\"colorbar\":{\"outlinewidth\":0,\"ticks\":\"\"},\"colorscale\":[[0.0,\"#0d0887\"],[0.1111111111111111,\"#46039f\"],[0.2222222222222222,\"#7201a8\"],[0.3333333333333333,\"#9c179e\"],[0.4444444444444444,\"#bd3786\"],[0.5555555555555556,\"#d8576b\"],[0.6666666666666666,\"#ed7953\"],[0.7777777777777778,\"#fb9f3a\"],[0.8888888888888888,\"#fdca26\"],[1.0,\"#f0f921\"]],\"type\":\"contour\"}],\"contourcarpet\":[{\"colorbar\":{\"outlinewidth\":0,\"ticks\":\"\"},\"type\":\"contourcarpet\"}],\"heatmap\":[{\"colorbar\":{\"outlinewidth\":0,\"ticks\":\"\"},\"colorscale\":[[0.0,\"#0d0887\"],[0.1111111111111111,\"#46039f\"],[0.2222222222222222,\"#7201a8\"],[0.3333333333333333,\"#9c179e\"],[0.4444444444444444,\"#bd3786\"],[0.5555555555555556,\"#d8576b\"],[0.6666666666666666,\"#ed7953\"],[0.7777777777777778,\"#fb9f3a\"],[0.8888888888888888,\"#fdca26\"],[1.0,\"#f0f921\"]],\"type\":\"heatmap\"}],\"heatmapgl\":[{\"colorbar\":{\"outlinewidth\":0,\"ticks\":\"\"},\"colorscale\":[[0.0,\"#0d0887\"],[0.1111111111111111,\"#46039f\"],[0.2222222222222222,\"#7201a8\"],[0.3333333333333333,\"#9c179e\"],[0.4444444444444444,\"#bd3786\"],[0.5555555555555556,\"#d8576b\"],[0.6666666666666666,\"#ed7953\"],[0.7777777777777778,\"#fb9f3a\"],[0.8888888888888888,\"#fdca26\"],[1.0,\"#f0f921\"]],\"type\":\"heatmapgl\"}],\"histogram\":[{\"marker\":{\"pattern\":{\"fillmode\":\"overlay\",\"size\":10,\"solidity\":0.2}},\"type\":\"histogram\"}],\"histogram2d\":[{\"colorbar\":{\"outlinewidth\":0,\"ticks\":\"\"},\"colorscale\":[[0.0,\"#0d0887\"],[0.1111111111111111,\"#46039f\"],[0.2222222222222222,\"#7201a8\"],[0.3333333333333333,\"#9c179e\"],[0.4444444444444444,\"#bd3786\"],[0.5555555555555556,\"#d8576b\"],[0.6666666666666666,\"#ed7953\"],[0.7777777777777778,\"#fb9f3a\"],[0.8888888888888888,\"#fdca26\"],[1.0,\"#f0f921\"]],\"type\":\"histogram2d\"}],\"histogram2dcontour\":[{\"colorbar\":{\"outlinewidth\":0,\"ticks\":\"\"},\"colorscale\":[[0.0,\"#0d0887\"],[0.1111111111111111,\"#46039f\"],[0.2222222222222222,\"#7201a8\"],[0.3333333333333333,\"#9c179e\"],[0.4444444444444444,\"#bd3786\"],[0.5555555555555556,\"#d8576b\"],[0.6666666666666666,\"#ed7953\"],[0.7777777777777778,\"#fb9f3a\"],[0.8888888888888888,\"#fdca26\"],[1.0,\"#f0f921\"]],\"type\":\"histogram2dcontour\"}],\"mesh3d\":[{\"colorbar\":{\"outlinewidth\":0,\"ticks\":\"\"},\"type\":\"mesh3d\"}],\"parcoords\":[{\"line\":{\"colorbar\":{\"outlinewidth\":0,\"ticks\":\"\"}},\"type\":\"parcoords\"}],\"pie\":[{\"automargin\":true,\"type\":\"pie\"}],\"scatter\":[{\"marker\":{\"colorbar\":{\"outlinewidth\":0,\"ticks\":\"\"}},\"type\":\"scatter\"}],\"scatter3d\":[{\"line\":{\"colorbar\":{\"outlinewidth\":0,\"ticks\":\"\"}},\"marker\":{\"colorbar\":{\"outlinewidth\":0,\"ticks\":\"\"}},\"type\":\"scatter3d\"}],\"scattercarpet\":[{\"marker\":{\"colorbar\":{\"outlinewidth\":0,\"ticks\":\"\"}},\"type\":\"scattercarpet\"}],\"scattergeo\":[{\"marker\":{\"colorbar\":{\"outlinewidth\":0,\"ticks\":\"\"}},\"type\":\"scattergeo\"}],\"scattergl\":[{\"marker\":{\"colorbar\":{\"outlinewidth\":0,\"ticks\":\"\"}},\"type\":\"scattergl\"}],\"scattermapbox\":[{\"marker\":{\"colorbar\":{\"outlinewidth\":0,\"ticks\":\"\"}},\"type\":\"scattermapbox\"}],\"scatterpolar\":[{\"marker\":{\"colorbar\":{\"outlinewidth\":0,\"ticks\":\"\"}},\"type\":\"scatterpolar\"}],\"scatterpolargl\":[{\"marker\":{\"colorbar\":{\"outlinewidth\":0,\"ticks\":\"\"}},\"type\":\"scatterpolargl\"}],\"scatterternary\":[{\"marker\":{\"colorbar\":{\"outlinewidth\":0,\"ticks\":\"\"}},\"type\":\"scatterternary\"}],\"surface\":[{\"colorbar\":{\"outlinewidth\":0,\"ticks\":\"\"},\"colorscale\":[[0.0,\"#0d0887\"],[0.1111111111111111,\"#46039f\"],[0.2222222222222222,\"#7201a8\"],[0.3333333333333333,\"#9c179e\"],[0.4444444444444444,\"#bd3786\"],[0.5555555555555556,\"#d8576b\"],[0.6666666666666666,\"#ed7953\"],[0.7777777777777778,\"#fb9f3a\"],[0.8888888888888888,\"#fdca26\"],[1.0,\"#f0f921\"]],\"type\":\"surface\"}],\"table\":[{\"cells\":{\"fill\":{\"color\":\"#EBF0F8\"},\"line\":{\"color\":\"white\"}},\"header\":{\"fill\":{\"color\":\"#C8D4E3\"},\"line\":{\"color\":\"white\"}},\"type\":\"table\"}]},\"layout\":{\"annotationdefaults\":{\"arrowcolor\":\"#2a3f5f\",\"arrowhead\":0,\"arrowwidth\":1},\"autotypenumbers\":\"strict\",\"coloraxis\":{\"colorbar\":{\"outlinewidth\":0,\"ticks\":\"\"}},\"colorscale\":{\"diverging\":[[0,\"#8e0152\"],[0.1,\"#c51b7d\"],[0.2,\"#de77ae\"],[0.3,\"#f1b6da\"],[0.4,\"#fde0ef\"],[0.5,\"#f7f7f7\"],[0.6,\"#e6f5d0\"],[0.7,\"#b8e186\"],[0.8,\"#7fbc41\"],[0.9,\"#4d9221\"],[1,\"#276419\"]],\"sequential\":[[0.0,\"#0d0887\"],[0.1111111111111111,\"#46039f\"],[0.2222222222222222,\"#7201a8\"],[0.3333333333333333,\"#9c179e\"],[0.4444444444444444,\"#bd3786\"],[0.5555555555555556,\"#d8576b\"],[0.6666666666666666,\"#ed7953\"],[0.7777777777777778,\"#fb9f3a\"],[0.8888888888888888,\"#fdca26\"],[1.0,\"#f0f921\"]],\"sequentialminus\":[[0.0,\"#0d0887\"],[0.1111111111111111,\"#46039f\"],[0.2222222222222222,\"#7201a8\"],[0.3333333333333333,\"#9c179e\"],[0.4444444444444444,\"#bd3786\"],[0.5555555555555556,\"#d8576b\"],[0.6666666666666666,\"#ed7953\"],[0.7777777777777778,\"#fb9f3a\"],[0.8888888888888888,\"#fdca26\"],[1.0,\"#f0f921\"]]},\"colorway\":[\"#636efa\",\"#EF553B\",\"#00cc96\",\"#ab63fa\",\"#FFA15A\",\"#19d3f3\",\"#FF6692\",\"#B6E880\",\"#FF97FF\",\"#FECB52\"],\"font\":{\"color\":\"#2a3f5f\"},\"geo\":{\"bgcolor\":\"white\",\"lakecolor\":\"white\",\"landcolor\":\"#E5ECF6\",\"showlakes\":true,\"showland\":true,\"subunitcolor\":\"white\"},\"hoverlabel\":{\"align\":\"left\"},\"hovermode\":\"closest\",\"mapbox\":{\"style\":\"light\"},\"paper_bgcolor\":\"white\",\"plot_bgcolor\":\"#E5ECF6\",\"polar\":{\"angularaxis\":{\"gridcolor\":\"white\",\"linecolor\":\"white\",\"ticks\":\"\"},\"bgcolor\":\"#E5ECF6\",\"radialaxis\":{\"gridcolor\":\"white\",\"linecolor\":\"white\",\"ticks\":\"\"}},\"scene\":{\"xaxis\":{\"backgroundcolor\":\"#E5ECF6\",\"gridcolor\":\"white\",\"gridwidth\":2,\"linecolor\":\"white\",\"showbackground\":true,\"ticks\":\"\",\"zerolinecolor\":\"white\"},\"yaxis\":{\"backgroundcolor\":\"#E5ECF6\",\"gridcolor\":\"white\",\"gridwidth\":2,\"linecolor\":\"white\",\"showbackground\":true,\"ticks\":\"\",\"zerolinecolor\":\"white\"},\"zaxis\":{\"backgroundcolor\":\"#E5ECF6\",\"gridcolor\":\"white\",\"gridwidth\":2,\"linecolor\":\"white\",\"showbackground\":true,\"ticks\":\"\",\"zerolinecolor\":\"white\"}},\"shapedefaults\":{\"line\":{\"color\":\"#2a3f5f\"}},\"ternary\":{\"aaxis\":{\"gridcolor\":\"white\",\"linecolor\":\"white\",\"ticks\":\"\"},\"baxis\":{\"gridcolor\":\"white\",\"linecolor\":\"white\",\"ticks\":\"\"},\"bgcolor\":\"#E5ECF6\",\"caxis\":{\"gridcolor\":\"white\",\"linecolor\":\"white\",\"ticks\":\"\"}},\"title\":{\"x\":0.05},\"xaxis\":{\"automargin\":true,\"gridcolor\":\"white\",\"linecolor\":\"white\",\"ticks\":\"\",\"title\":{\"standoff\":15},\"zerolinecolor\":\"white\",\"zerolinewidth\":2},\"yaxis\":{\"automargin\":true,\"gridcolor\":\"white\",\"linecolor\":\"white\",\"ticks\":\"\",\"title\":{\"standoff\":15},\"zerolinecolor\":\"white\",\"zerolinewidth\":2}}},\"title\":{\"text\":\"Valores de Silhueta M\\u00e9dios\"},\"xaxis\":{\"title\":{\"text\":\"Numero de Clusters\"}},\"yaxis\":{\"title\":{\"text\":\"Valor M\\u00e9dio de Silhueta\"}}},                        {\"responsive\": true}                    ).then(function(){\n",
              "                            \n",
              "var gd = document.getElementById('18f90193-d057-4342-8dd7-e14803127461');\n",
              "var x = new MutationObserver(function (mutations, observer) {{\n",
              "        var display = window.getComputedStyle(gd).display;\n",
              "        if (!display || display === 'none') {{\n",
              "            console.log([gd, 'removed!']);\n",
              "            Plotly.purge(gd);\n",
              "            observer.disconnect();\n",
              "        }}\n",
              "}});\n",
              "\n",
              "// Listen for the removal of the full notebook cells\n",
              "var notebookContainer = gd.closest('#notebook-container');\n",
              "if (notebookContainer) {{\n",
              "    x.observe(notebookContainer, {childList: true});\n",
              "}}\n",
              "\n",
              "// Listen for the clearing of the current output cell\n",
              "var outputEl = gd.closest('.output');\n",
              "if (outputEl) {{\n",
              "    x.observe(outputEl, {childList: true});\n",
              "}}\n",
              "\n",
              "                        })                };                            </script>        </div>\n",
              "</body>\n",
              "</html>"
            ]
          },
          "metadata": {}
        }
      ]
    },
    {
      "cell_type": "markdown",
      "source": [
        "# SILHUETA MEAN SHIFT"
      ],
      "metadata": {
        "id": "r0ghetGKc_Lo"
      }
    },
    {
      "cell_type": "code",
      "source": [
        "faixa_quantil = np.linspace(0.02, 0.5, 30)\n",
        "faixa_quantil"
      ],
      "metadata": {
        "colab": {
          "base_uri": "https://localhost:8080/"
        },
        "id": "GlNFStkacZZB",
        "outputId": "58aa9100-cab8-487c-bb4e-958fa7a8fd06"
      },
      "execution_count": null,
      "outputs": [
        {
          "output_type": "execute_result",
          "data": {
            "text/plain": [
              "array([0.02      , 0.03655172, 0.05310345, 0.06965517, 0.0862069 ,\n",
              "       0.10275862, 0.11931034, 0.13586207, 0.15241379, 0.16896552,\n",
              "       0.18551724, 0.20206897, 0.21862069, 0.23517241, 0.25172414,\n",
              "       0.26827586, 0.28482759, 0.30137931, 0.31793103, 0.33448276,\n",
              "       0.35103448, 0.36758621, 0.38413793, 0.40068966, 0.41724138,\n",
              "       0.4337931 , 0.45034483, 0.46689655, 0.48344828, 0.5       ])"
            ]
          },
          "metadata": {},
          "execution_count": 115
        }
      ]
    },
    {
      "cell_type": "code",
      "source": [
        "valores_silhueta = []\n",
        "quantil_plot = []\n",
        "\n",
        "for quantil in faixa_quantil:\n",
        "  bandwidth = estimate_bandwidth(dados, quantile = quantil)\n",
        "  agrupador = MeanShift(bandwidth = bandwidth)\n",
        "  labels = agrupador.fit_predict(dados)\n",
        "  if (len(np.unique(labels)) <  len(dados) and len(np.unique(labels)) > 1):\n",
        "    media_silhueta = silhouette_score(dados, labels)\n",
        "    valores_silhueta.append(media_silhueta)\n",
        "    quantil_plot.append(quantil)"
      ],
      "metadata": {
        "id": "vvjykh1wdHBB"
      },
      "execution_count": null,
      "outputs": []
    },
    {
      "cell_type": "code",
      "source": [
        "fig = go.Figure()\n",
        "fig.add_trace(go.Scatter(x = quantil_plot,\n",
        "                          y = valores_silhueta))\n",
        "fig.update_layout(dict(xaxis_title = 'Quantil',\n",
        "                        yaxis_title = 'Média Silhueta'))\n",
        "fig.show()"
      ],
      "metadata": {
        "colab": {
          "base_uri": "https://localhost:8080/",
          "height": 542
        },
        "id": "NPTGecoNepiL",
        "outputId": "2cc2bcc5-aabb-409e-dfff-77cb45a5e547"
      },
      "execution_count": null,
      "outputs": [
        {
          "output_type": "display_data",
          "data": {
            "text/html": [
              "<html>\n",
              "<head><meta charset=\"utf-8\" /></head>\n",
              "<body>\n",
              "    <div>            <script src=\"https://cdnjs.cloudflare.com/ajax/libs/mathjax/2.7.5/MathJax.js?config=TeX-AMS-MML_SVG\"></script><script type=\"text/javascript\">if (window.MathJax) {MathJax.Hub.Config({SVG: {font: \"STIX-Web\"}});}</script>                <script type=\"text/javascript\">window.PlotlyConfig = {MathJaxConfig: 'local'};</script>\n",
              "        <script src=\"https://cdn.plot.ly/plotly-2.8.3.min.js\"></script>                <div id=\"70f2fd36-44e2-46b3-94ba-54c3533a8172\" class=\"plotly-graph-div\" style=\"height:525px; width:100%;\"></div>            <script type=\"text/javascript\">                                    window.PLOTLYENV=window.PLOTLYENV || {};                                    if (document.getElementById(\"70f2fd36-44e2-46b3-94ba-54c3533a8172\")) {                    Plotly.newPlot(                        \"70f2fd36-44e2-46b3-94ba-54c3533a8172\",                        [{\"x\":[0.02,0.036551724137931035,0.05310344827586207,0.06965517241379311,0.08620689655172414,0.10275862068965518,0.11931034482758622,0.13586206896551725,0.15241379310344827,0.16896551724137931,0.18551724137931033,0.20206896551724138,0.21862068965517242,0.23517241379310344,0.2517241379310345,0.26827586206896553,0.2848275862068966,0.3013793103448276,0.31793103448275867],\"y\":[0.06885772218718551,0.1269573020851443,0.21222500077088086,0.2286093688267213,0.2317584058145142,0.2424007598945052,0.24150478830604155,0.2806108487403229,0.29012683820901636,0.31458072630392764,0.34482478134958616,0.3435317354353202,0.3435317354353202,0.20305945108914134,0.2279176455210266,0.30638538825691175,0.30672378482144286,0.2075835283919293,0.2075835283919293],\"type\":\"scatter\"}],                        {\"template\":{\"data\":{\"bar\":[{\"error_x\":{\"color\":\"#2a3f5f\"},\"error_y\":{\"color\":\"#2a3f5f\"},\"marker\":{\"line\":{\"color\":\"#E5ECF6\",\"width\":0.5},\"pattern\":{\"fillmode\":\"overlay\",\"size\":10,\"solidity\":0.2}},\"type\":\"bar\"}],\"barpolar\":[{\"marker\":{\"line\":{\"color\":\"#E5ECF6\",\"width\":0.5},\"pattern\":{\"fillmode\":\"overlay\",\"size\":10,\"solidity\":0.2}},\"type\":\"barpolar\"}],\"carpet\":[{\"aaxis\":{\"endlinecolor\":\"#2a3f5f\",\"gridcolor\":\"white\",\"linecolor\":\"white\",\"minorgridcolor\":\"white\",\"startlinecolor\":\"#2a3f5f\"},\"baxis\":{\"endlinecolor\":\"#2a3f5f\",\"gridcolor\":\"white\",\"linecolor\":\"white\",\"minorgridcolor\":\"white\",\"startlinecolor\":\"#2a3f5f\"},\"type\":\"carpet\"}],\"choropleth\":[{\"colorbar\":{\"outlinewidth\":0,\"ticks\":\"\"},\"type\":\"choropleth\"}],\"contour\":[{\"colorbar\":{\"outlinewidth\":0,\"ticks\":\"\"},\"colorscale\":[[0.0,\"#0d0887\"],[0.1111111111111111,\"#46039f\"],[0.2222222222222222,\"#7201a8\"],[0.3333333333333333,\"#9c179e\"],[0.4444444444444444,\"#bd3786\"],[0.5555555555555556,\"#d8576b\"],[0.6666666666666666,\"#ed7953\"],[0.7777777777777778,\"#fb9f3a\"],[0.8888888888888888,\"#fdca26\"],[1.0,\"#f0f921\"]],\"type\":\"contour\"}],\"contourcarpet\":[{\"colorbar\":{\"outlinewidth\":0,\"ticks\":\"\"},\"type\":\"contourcarpet\"}],\"heatmap\":[{\"colorbar\":{\"outlinewidth\":0,\"ticks\":\"\"},\"colorscale\":[[0.0,\"#0d0887\"],[0.1111111111111111,\"#46039f\"],[0.2222222222222222,\"#7201a8\"],[0.3333333333333333,\"#9c179e\"],[0.4444444444444444,\"#bd3786\"],[0.5555555555555556,\"#d8576b\"],[0.6666666666666666,\"#ed7953\"],[0.7777777777777778,\"#fb9f3a\"],[0.8888888888888888,\"#fdca26\"],[1.0,\"#f0f921\"]],\"type\":\"heatmap\"}],\"heatmapgl\":[{\"colorbar\":{\"outlinewidth\":0,\"ticks\":\"\"},\"colorscale\":[[0.0,\"#0d0887\"],[0.1111111111111111,\"#46039f\"],[0.2222222222222222,\"#7201a8\"],[0.3333333333333333,\"#9c179e\"],[0.4444444444444444,\"#bd3786\"],[0.5555555555555556,\"#d8576b\"],[0.6666666666666666,\"#ed7953\"],[0.7777777777777778,\"#fb9f3a\"],[0.8888888888888888,\"#fdca26\"],[1.0,\"#f0f921\"]],\"type\":\"heatmapgl\"}],\"histogram\":[{\"marker\":{\"pattern\":{\"fillmode\":\"overlay\",\"size\":10,\"solidity\":0.2}},\"type\":\"histogram\"}],\"histogram2d\":[{\"colorbar\":{\"outlinewidth\":0,\"ticks\":\"\"},\"colorscale\":[[0.0,\"#0d0887\"],[0.1111111111111111,\"#46039f\"],[0.2222222222222222,\"#7201a8\"],[0.3333333333333333,\"#9c179e\"],[0.4444444444444444,\"#bd3786\"],[0.5555555555555556,\"#d8576b\"],[0.6666666666666666,\"#ed7953\"],[0.7777777777777778,\"#fb9f3a\"],[0.8888888888888888,\"#fdca26\"],[1.0,\"#f0f921\"]],\"type\":\"histogram2d\"}],\"histogram2dcontour\":[{\"colorbar\":{\"outlinewidth\":0,\"ticks\":\"\"},\"colorscale\":[[0.0,\"#0d0887\"],[0.1111111111111111,\"#46039f\"],[0.2222222222222222,\"#7201a8\"],[0.3333333333333333,\"#9c179e\"],[0.4444444444444444,\"#bd3786\"],[0.5555555555555556,\"#d8576b\"],[0.6666666666666666,\"#ed7953\"],[0.7777777777777778,\"#fb9f3a\"],[0.8888888888888888,\"#fdca26\"],[1.0,\"#f0f921\"]],\"type\":\"histogram2dcontour\"}],\"mesh3d\":[{\"colorbar\":{\"outlinewidth\":0,\"ticks\":\"\"},\"type\":\"mesh3d\"}],\"parcoords\":[{\"line\":{\"colorbar\":{\"outlinewidth\":0,\"ticks\":\"\"}},\"type\":\"parcoords\"}],\"pie\":[{\"automargin\":true,\"type\":\"pie\"}],\"scatter\":[{\"marker\":{\"colorbar\":{\"outlinewidth\":0,\"ticks\":\"\"}},\"type\":\"scatter\"}],\"scatter3d\":[{\"line\":{\"colorbar\":{\"outlinewidth\":0,\"ticks\":\"\"}},\"marker\":{\"colorbar\":{\"outlinewidth\":0,\"ticks\":\"\"}},\"type\":\"scatter3d\"}],\"scattercarpet\":[{\"marker\":{\"colorbar\":{\"outlinewidth\":0,\"ticks\":\"\"}},\"type\":\"scattercarpet\"}],\"scattergeo\":[{\"marker\":{\"colorbar\":{\"outlinewidth\":0,\"ticks\":\"\"}},\"type\":\"scattergeo\"}],\"scattergl\":[{\"marker\":{\"colorbar\":{\"outlinewidth\":0,\"ticks\":\"\"}},\"type\":\"scattergl\"}],\"scattermapbox\":[{\"marker\":{\"colorbar\":{\"outlinewidth\":0,\"ticks\":\"\"}},\"type\":\"scattermapbox\"}],\"scatterpolar\":[{\"marker\":{\"colorbar\":{\"outlinewidth\":0,\"ticks\":\"\"}},\"type\":\"scatterpolar\"}],\"scatterpolargl\":[{\"marker\":{\"colorbar\":{\"outlinewidth\":0,\"ticks\":\"\"}},\"type\":\"scatterpolargl\"}],\"scatterternary\":[{\"marker\":{\"colorbar\":{\"outlinewidth\":0,\"ticks\":\"\"}},\"type\":\"scatterternary\"}],\"surface\":[{\"colorbar\":{\"outlinewidth\":0,\"ticks\":\"\"},\"colorscale\":[[0.0,\"#0d0887\"],[0.1111111111111111,\"#46039f\"],[0.2222222222222222,\"#7201a8\"],[0.3333333333333333,\"#9c179e\"],[0.4444444444444444,\"#bd3786\"],[0.5555555555555556,\"#d8576b\"],[0.6666666666666666,\"#ed7953\"],[0.7777777777777778,\"#fb9f3a\"],[0.8888888888888888,\"#fdca26\"],[1.0,\"#f0f921\"]],\"type\":\"surface\"}],\"table\":[{\"cells\":{\"fill\":{\"color\":\"#EBF0F8\"},\"line\":{\"color\":\"white\"}},\"header\":{\"fill\":{\"color\":\"#C8D4E3\"},\"line\":{\"color\":\"white\"}},\"type\":\"table\"}]},\"layout\":{\"annotationdefaults\":{\"arrowcolor\":\"#2a3f5f\",\"arrowhead\":0,\"arrowwidth\":1},\"autotypenumbers\":\"strict\",\"coloraxis\":{\"colorbar\":{\"outlinewidth\":0,\"ticks\":\"\"}},\"colorscale\":{\"diverging\":[[0,\"#8e0152\"],[0.1,\"#c51b7d\"],[0.2,\"#de77ae\"],[0.3,\"#f1b6da\"],[0.4,\"#fde0ef\"],[0.5,\"#f7f7f7\"],[0.6,\"#e6f5d0\"],[0.7,\"#b8e186\"],[0.8,\"#7fbc41\"],[0.9,\"#4d9221\"],[1,\"#276419\"]],\"sequential\":[[0.0,\"#0d0887\"],[0.1111111111111111,\"#46039f\"],[0.2222222222222222,\"#7201a8\"],[0.3333333333333333,\"#9c179e\"],[0.4444444444444444,\"#bd3786\"],[0.5555555555555556,\"#d8576b\"],[0.6666666666666666,\"#ed7953\"],[0.7777777777777778,\"#fb9f3a\"],[0.8888888888888888,\"#fdca26\"],[1.0,\"#f0f921\"]],\"sequentialminus\":[[0.0,\"#0d0887\"],[0.1111111111111111,\"#46039f\"],[0.2222222222222222,\"#7201a8\"],[0.3333333333333333,\"#9c179e\"],[0.4444444444444444,\"#bd3786\"],[0.5555555555555556,\"#d8576b\"],[0.6666666666666666,\"#ed7953\"],[0.7777777777777778,\"#fb9f3a\"],[0.8888888888888888,\"#fdca26\"],[1.0,\"#f0f921\"]]},\"colorway\":[\"#636efa\",\"#EF553B\",\"#00cc96\",\"#ab63fa\",\"#FFA15A\",\"#19d3f3\",\"#FF6692\",\"#B6E880\",\"#FF97FF\",\"#FECB52\"],\"font\":{\"color\":\"#2a3f5f\"},\"geo\":{\"bgcolor\":\"white\",\"lakecolor\":\"white\",\"landcolor\":\"#E5ECF6\",\"showlakes\":true,\"showland\":true,\"subunitcolor\":\"white\"},\"hoverlabel\":{\"align\":\"left\"},\"hovermode\":\"closest\",\"mapbox\":{\"style\":\"light\"},\"paper_bgcolor\":\"white\",\"plot_bgcolor\":\"#E5ECF6\",\"polar\":{\"angularaxis\":{\"gridcolor\":\"white\",\"linecolor\":\"white\",\"ticks\":\"\"},\"bgcolor\":\"#E5ECF6\",\"radialaxis\":{\"gridcolor\":\"white\",\"linecolor\":\"white\",\"ticks\":\"\"}},\"scene\":{\"xaxis\":{\"backgroundcolor\":\"#E5ECF6\",\"gridcolor\":\"white\",\"gridwidth\":2,\"linecolor\":\"white\",\"showbackground\":true,\"ticks\":\"\",\"zerolinecolor\":\"white\"},\"yaxis\":{\"backgroundcolor\":\"#E5ECF6\",\"gridcolor\":\"white\",\"gridwidth\":2,\"linecolor\":\"white\",\"showbackground\":true,\"ticks\":\"\",\"zerolinecolor\":\"white\"},\"zaxis\":{\"backgroundcolor\":\"#E5ECF6\",\"gridcolor\":\"white\",\"gridwidth\":2,\"linecolor\":\"white\",\"showbackground\":true,\"ticks\":\"\",\"zerolinecolor\":\"white\"}},\"shapedefaults\":{\"line\":{\"color\":\"#2a3f5f\"}},\"ternary\":{\"aaxis\":{\"gridcolor\":\"white\",\"linecolor\":\"white\",\"ticks\":\"\"},\"baxis\":{\"gridcolor\":\"white\",\"linecolor\":\"white\",\"ticks\":\"\"},\"bgcolor\":\"#E5ECF6\",\"caxis\":{\"gridcolor\":\"white\",\"linecolor\":\"white\",\"ticks\":\"\"}},\"title\":{\"x\":0.05},\"xaxis\":{\"automargin\":true,\"gridcolor\":\"white\",\"linecolor\":\"white\",\"ticks\":\"\",\"title\":{\"standoff\":15},\"zerolinecolor\":\"white\",\"zerolinewidth\":2},\"yaxis\":{\"automargin\":true,\"gridcolor\":\"white\",\"linecolor\":\"white\",\"ticks\":\"\",\"title\":{\"standoff\":15},\"zerolinecolor\":\"white\",\"zerolinewidth\":2}}},\"xaxis\":{\"title\":{\"text\":\"Quantil\"}},\"yaxis\":{\"title\":{\"text\":\"M\\u00e9dia Silhueta\"}}},                        {\"responsive\": true}                    ).then(function(){\n",
              "                            \n",
              "var gd = document.getElementById('70f2fd36-44e2-46b3-94ba-54c3533a8172');\n",
              "var x = new MutationObserver(function (mutations, observer) {{\n",
              "        var display = window.getComputedStyle(gd).display;\n",
              "        if (!display || display === 'none') {{\n",
              "            console.log([gd, 'removed!']);\n",
              "            Plotly.purge(gd);\n",
              "            observer.disconnect();\n",
              "        }}\n",
              "}});\n",
              "\n",
              "// Listen for the removal of the full notebook cells\n",
              "var notebookContainer = gd.closest('#notebook-container');\n",
              "if (notebookContainer) {{\n",
              "    x.observe(notebookContainer, {childList: true});\n",
              "}}\n",
              "\n",
              "// Listen for the clearing of the current output cell\n",
              "var outputEl = gd.closest('.output');\n",
              "if (outputEl) {{\n",
              "    x.observe(outputEl, {childList: true});\n",
              "}}\n",
              "\n",
              "                        })                };                            </script>        </div>\n",
              "</body>\n",
              "</html>"
            ]
          },
          "metadata": {}
        }
      ]
    },
    {
      "cell_type": "markdown",
      "source": [
        "# COMPARANDO AS SILHUETAS"
      ],
      "metadata": {
        "id": "C94xfS9pgHNH"
      }
    },
    {
      "cell_type": "code",
      "source": [
        "agrupador_kmeans = KMeans(n_clusters = 3)\n",
        "\n",
        "agrupador_dbscan = DBSCAN(eps = 2.1, min_samples = 56, metric = 'manhattan')\n",
        "\n",
        "BW = estimate_bandwidth(dados, quantile = 0.21)\n",
        "agrupador_meanshift = MeanShift(bandwidth = BW)\n",
        "\n",
        "labels_kmeans = agrupador_kmeans.fit_predict(dados)\n",
        "labels_dbscan = agrupador_dbscan.fit_predict(dados)\n",
        "labels_meanshift = agrupador_meanshift.fit_predict(dados)"
      ],
      "metadata": {
        "id": "DetbHRw0fTWa"
      },
      "execution_count": null,
      "outputs": []
    },
    {
      "cell_type": "code",
      "source": [
        "print('KMeans: ', labels_kmeans)\n",
        "print('DBSCAN: ', labels_dbscan)\n",
        "print('MeanShift: ', labels_meanshift)"
      ],
      "metadata": {
        "colab": {
          "base_uri": "https://localhost:8080/"
        },
        "id": "MUtF1PGhg779",
        "outputId": "b1b9d219-a4dd-4cdf-db73-d69bc1d496c8"
      },
      "execution_count": null,
      "outputs": [
        {
          "output_type": "stream",
          "name": "stdout",
          "text": [
            "KMeans:  [1 1 1 1 1 1 1 1 1 1 1 1 1 1 1 1 1 1 1 1 1 1 1 1 1 1 1 1 1 1 1 1 1 1 1 1 1\n",
            " 1 1 1 1 1 1 1 1 1 1 1 1 1 1 1 1 1 1 1 1 1 1 2 2 2 2 2 2 2 2 2 2 2 2 2 2 1\n",
            " 2 2 2 2 2 2 2 2 2 0 2 2 2 2 2 2 2 2 2 2 2 2 2 2 2 2 2 2 2 2 2 2 2 2 2 2 2\n",
            " 2 2 2 2 2 2 2 2 2 2 2 2 2 2 2 2 2 2 2 0 0 0 0 0 0 0 0 0 0 0 0 0 0 0 0 0 0\n",
            " 0 0 0 0 0 0 0 0 0 0 0 0 0 0 0 0 0 0 0 0 0 0 0 0 0 0 0 0 0 0]\n",
            "DBSCAN:  [ 0  0  0  0  0  0  0  0  0  0  0  0  0  0  0  0  0  0  0  0  0  0  0  0\n",
            "  0  0  0  0  0  0  0  0  0  0  0  0  0  0  0  0  0  0  0  0  0  0  0  0\n",
            "  0  0  0  0  0  0  0  0  0  0  0 -1 -1 -1  0  0 -1  0  0  0 -1 -1 -1  0\n",
            "  0 -1  0  0  0 -1 -1  0  0  0  0 -1  0  0  0  0  0  0  0  0 -1  0  0 -1\n",
            " -1  0  0 -1  0  0  0  0  0 -1  0  0  0  0 -1  0 -1  0  0 -1  0  0 -1  0\n",
            "  0 -1 -1  0 -1  0  0 -1  0 -1 -1 -1 -1 -1 -1 -1 -1 -1 -1 -1 -1 -1 -1 -1\n",
            " -1 -1 -1 -1 -1 -1 -1 -1 -1 -1 -1 -1 -1 -1 -1 -1 -1 -1 -1 -1 -1 -1 -1 -1\n",
            " -1 -1 -1 -1 -1 -1 -1 -1 -1 -1]\n",
            "MeanShift:  [1 1 1 1 1 1 1 1 1 1 1 1 1 1 1 1 1 1 1 1 1 1 1 1 1 1 1 1 1 1 1 1 1 1 1 1 1\n",
            " 1 1 1 1 1 1 1 1 1 1 1 1 1 1 1 1 1 1 1 1 1 1 0 0 0 0 0 0 0 0 0 0 3 0 0 0 4\n",
            " 0 0 0 0 3 0 0 0 0 2 0 0 0 0 0 0 0 0 0 0 0 3 0 0 0 0 0 0 0 0 0 0 0 0 0 0 0\n",
            " 0 0 0 0 0 0 0 0 0 0 5 0 0 0 0 0 0 0 0 2 2 2 2 2 2 2 2 2 2 2 2 2 2 2 2 2 2\n",
            " 2 2 2 2 2 2 2 2 2 2 2 2 2 2 2 2 2 2 2 2 2 2 2 2 2 2 2 2 2 2]\n"
          ]
        }
      ]
    },
    {
      "cell_type": "code",
      "source": [
        "print('Silhueta de KMeans é: ', silhouette_score(dados, labels_kmeans))\n",
        "print('Silhueta de DBSCAN é: ', silhouette_score(dados, labels_dbscan))\n",
        "print('Silhueta de MeanShift é: ', silhouette_score(dados, labels_meanshift))"
      ],
      "metadata": {
        "colab": {
          "base_uri": "https://localhost:8080/"
        },
        "id": "w37I-51AhIjC",
        "outputId": "27b0f3a2-bc1a-46d8-df0d-e618f7776367"
      },
      "execution_count": null,
      "outputs": [
        {
          "output_type": "stream",
          "name": "stdout",
          "text": [
            "Silhueta de KMeans é:  0.36950618492736303\n",
            "Silhueta de DBSCAN é:  0.3016232115094375\n",
            "Silhueta de MeanShift é:  0.3435317354353202\n"
          ]
        }
      ]
    }
  ]
}